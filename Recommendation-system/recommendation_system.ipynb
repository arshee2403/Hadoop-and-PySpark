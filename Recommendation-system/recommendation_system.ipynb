{
  "nbformat": 4,
  "nbformat_minor": 0,
  "metadata": {
    "accelerator": "GPU",
    "colab": {
      "name": "recommendation-system.ipynb",
      "provenance": [],
      "collapsed_sections": [],
      "toc_visible": true
    },
    "kernelspec": {
      "display_name": "Python 3",
      "name": "python3"
    }
  },
  "cells": [
    {
      "cell_type": "markdown",
      "metadata": {
        "id": "R1HLZ_WtvbPj"
      },
      "source": [
        "***Building a Recommendation Engine for Restaurants based on Yelp Reviews***"
      ]
    },
    {
      "cell_type": "markdown",
      "metadata": {
        "id": "1-Sr14FWXjmL"
      },
      "source": [
        "# *PySpark Setup*"
      ]
    },
    {
      "cell_type": "code",
      "metadata": {
        "colab": {
          "base_uri": "https://localhost:8080/"
        },
        "id": "T1NoePKJJieB",
        "outputId": "87d83131-a96f-4900-c088-093322cbb77c"
      },
      "source": [
        "#Mounting drive on Colab to access the dataset\n",
        "from google.colab import drive\n",
        "drive.mount('/content/drive')"
      ],
      "execution_count": null,
      "outputs": [
        {
          "output_type": "stream",
          "text": [
            "Mounted at /content/drive\n"
          ],
          "name": "stdout"
        }
      ]
    },
    {
      "cell_type": "code",
      "metadata": {
        "id": "f3r-pcXtJjCs",
        "colab": {
          "base_uri": "https://localhost:8080/"
        },
        "outputId": "7ae2e21f-6f73-477a-ff34-b20769b031f2"
      },
      "source": [
        "#Installing Java \n",
        "!apt-get install openjdk-8-jdk-headless -qq "
      ],
      "execution_count": null,
      "outputs": [
        {
          "output_type": "stream",
          "text": [
            "Selecting previously unselected package openjdk-8-jre-headless:amd64.\n",
            "(Reading database ... 144793 files and directories currently installed.)\n",
            "Preparing to unpack .../openjdk-8-jre-headless_8u275-b01-0ubuntu1~18.04_amd64.deb ...\n",
            "Unpacking openjdk-8-jre-headless:amd64 (8u275-b01-0ubuntu1~18.04) ...\n",
            "Selecting previously unselected package openjdk-8-jdk-headless:amd64.\n",
            "Preparing to unpack .../openjdk-8-jdk-headless_8u275-b01-0ubuntu1~18.04_amd64.deb ...\n",
            "Unpacking openjdk-8-jdk-headless:amd64 (8u275-b01-0ubuntu1~18.04) ...\n",
            "Setting up openjdk-8-jre-headless:amd64 (8u275-b01-0ubuntu1~18.04) ...\n",
            "update-alternatives: using /usr/lib/jvm/java-8-openjdk-amd64/jre/bin/orbd to provide /usr/bin/orbd (orbd) in auto mode\n",
            "update-alternatives: using /usr/lib/jvm/java-8-openjdk-amd64/jre/bin/servertool to provide /usr/bin/servertool (servertool) in auto mode\n",
            "update-alternatives: using /usr/lib/jvm/java-8-openjdk-amd64/jre/bin/tnameserv to provide /usr/bin/tnameserv (tnameserv) in auto mode\n",
            "Setting up openjdk-8-jdk-headless:amd64 (8u275-b01-0ubuntu1~18.04) ...\n",
            "update-alternatives: using /usr/lib/jvm/java-8-openjdk-amd64/bin/idlj to provide /usr/bin/idlj (idlj) in auto mode\n",
            "update-alternatives: using /usr/lib/jvm/java-8-openjdk-amd64/bin/wsimport to provide /usr/bin/wsimport (wsimport) in auto mode\n",
            "update-alternatives: using /usr/lib/jvm/java-8-openjdk-amd64/bin/jsadebugd to provide /usr/bin/jsadebugd (jsadebugd) in auto mode\n",
            "update-alternatives: using /usr/lib/jvm/java-8-openjdk-amd64/bin/native2ascii to provide /usr/bin/native2ascii (native2ascii) in auto mode\n",
            "update-alternatives: using /usr/lib/jvm/java-8-openjdk-amd64/bin/javah to provide /usr/bin/javah (javah) in auto mode\n",
            "update-alternatives: using /usr/lib/jvm/java-8-openjdk-amd64/bin/clhsdb to provide /usr/bin/clhsdb (clhsdb) in auto mode\n",
            "update-alternatives: using /usr/lib/jvm/java-8-openjdk-amd64/bin/xjc to provide /usr/bin/xjc (xjc) in auto mode\n",
            "update-alternatives: using /usr/lib/jvm/java-8-openjdk-amd64/bin/hsdb to provide /usr/bin/hsdb (hsdb) in auto mode\n",
            "update-alternatives: using /usr/lib/jvm/java-8-openjdk-amd64/bin/schemagen to provide /usr/bin/schemagen (schemagen) in auto mode\n",
            "update-alternatives: using /usr/lib/jvm/java-8-openjdk-amd64/bin/extcheck to provide /usr/bin/extcheck (extcheck) in auto mode\n",
            "update-alternatives: using /usr/lib/jvm/java-8-openjdk-amd64/bin/jhat to provide /usr/bin/jhat (jhat) in auto mode\n",
            "update-alternatives: using /usr/lib/jvm/java-8-openjdk-amd64/bin/wsgen to provide /usr/bin/wsgen (wsgen) in auto mode\n"
          ],
          "name": "stdout"
        }
      ]
    },
    {
      "cell_type": "code",
      "metadata": {
        "colab": {
          "base_uri": "https://localhost:8080/"
        },
        "id": "pPe7nLLHJtHE",
        "outputId": "1f842f44-4dff-4f77-a896-9266024424dc"
      },
      "source": [
        "#Installing Spark\n",
        "!wget https://mirrors.estointernet.in/apache/spark/spark-2.4.7/spark-2.4.7-bin-hadoop2.7.tgz"
      ],
      "execution_count": null,
      "outputs": [
        {
          "output_type": "stream",
          "text": [
            "--2020-12-03 14:19:03--  https://mirrors.estointernet.in/apache/spark/spark-2.4.7/spark-2.4.7-bin-hadoop2.7.tgz\n",
            "Resolving mirrors.estointernet.in (mirrors.estointernet.in)... 43.255.166.254, 2403:8940:3:1::f\n",
            "Connecting to mirrors.estointernet.in (mirrors.estointernet.in)|43.255.166.254|:443... connected.\n",
            "HTTP request sent, awaiting response... 200 OK\n",
            "Length: 233333392 (223M) [application/octet-stream]\n",
            "Saving to: ‘spark-2.4.7-bin-hadoop2.7.tgz’\n",
            "\n",
            "spark-2.4.7-bin-had 100%[===================>] 222.52M  7.99MB/s    in 38s     \n",
            "\n",
            "2020-12-03 14:19:42 (5.86 MB/s) - ‘spark-2.4.7-bin-hadoop2.7.tgz’ saved [233333392/233333392]\n",
            "\n"
          ],
          "name": "stdout"
        }
      ]
    },
    {
      "cell_type": "code",
      "metadata": {
        "id": "1LhQlL9NJxqF"
      },
      "source": [
        "#Extracting the tar file\n",
        "!tar xf spark-2.4.7-bin-hadoop2.7.tgz"
      ],
      "execution_count": null,
      "outputs": []
    },
    {
      "cell_type": "code",
      "metadata": {
        "id": "DT0c7ctwJ0vJ"
      },
      "source": [
        "#Setting environment variables path\n",
        "import os\n",
        "#os.environ() works as a mapping object that represents user's environmental variables\n",
        "os.environ[\"JAVA_HOME\"] = \"/usr/lib/jvm/java-8-openjdk-amd64\" #Mapping JAVA environment\n",
        "os.environ[\"SPARK_HOME\"] = \"/content/spark-2.4.7-bin-hadoop2.7\" #Mapping Spark environment"
      ],
      "execution_count": null,
      "outputs": []
    },
    {
      "cell_type": "code",
      "metadata": {
        "id": "qyq0VpJCJzU3"
      },
      "source": [
        "!pip install -q findspark"
      ],
      "execution_count": null,
      "outputs": []
    },
    {
      "cell_type": "code",
      "metadata": {
        "id": "Zt0QfOpLJ2A7"
      },
      "source": [
        "#Initializing Pyspark\n",
        "import findspark\n",
        "findspark.init() #Helps us by making pyspark as importable library"
      ],
      "execution_count": null,
      "outputs": []
    },
    {
      "cell_type": "code",
      "metadata": {
        "id": "fpZlY_7XJ4fn"
      },
      "source": [
        "#Importing libraries\n",
        "import pyspark\n",
        "from pyspark import SparkContext, SparkConf \n",
        "#SparkContext - Main entry point for Spark functionality \n",
        "#SparkConf - For configuring spark\n",
        "from pyspark.sql import SparkSession \n",
        "#SparkSession - Main entry point for SQL functionality. It can be used to create dataframes.\n",
        "#SparkSession was introduced in version 2.0. \n",
        "#It is an entry point to underlying Spark functionality in order to programmatically create Spark RDD, DataFrame and DataSet."
      ],
      "execution_count": null,
      "outputs": []
    },
    {
      "cell_type": "code",
      "metadata": {
        "id": "U5hcdncRmqMd"
      },
      "source": [
        "spark = SparkSession.builder.config(\"spark.sql.codegen\",value=False).getOrCreate()\n",
        "#spark.sql.codegen - It asks SparkSQL to compile each query to Java byte code before executing it. \n",
        "#The codegen option helps run long and repeated queries substantially faster.\n",
        "#The getOrCreate() function gets an existing Spark session or creates a new one"
      ],
      "execution_count": null,
      "outputs": []
    },
    {
      "cell_type": "code",
      "metadata": {
        "id": "IN6j-Q2MOLf6"
      },
      "source": [
        "#Importing libararies for SQL functions\n",
        "from pyspark.sql.functions import *\n",
        "from pyspark.sql import functions as F"
      ],
      "execution_count": null,
      "outputs": []
    },
    {
      "cell_type": "markdown",
      "metadata": {
        "id": "3_nmJrwAzHrV"
      },
      "source": [
        "# *Extracting Data from Drive and Basic Preparation*"
      ]
    },
    {
      "cell_type": "markdown",
      "metadata": {
        "id": "33uR5oQgf0qL"
      },
      "source": [
        "**Reviews Dataset**"
      ]
    },
    {
      "cell_type": "code",
      "metadata": {
        "id": "7QRjZi04MsfU"
      },
      "source": [
        "#Reading the json file\n",
        "sample_reviews = spark.read.json('/content/drive/Shareddrives/Yelp - JSON/part-00000-237dfcd0-e706-483a-acfc-5f73ab35f25d-c000.json')"
      ],
      "execution_count": null,
      "outputs": []
    },
    {
      "cell_type": "markdown",
      "metadata": {
        "id": "-GJvGdXGfR9x"
      },
      "source": [
        "Actions and transformations are 2 operations. Transformations create a new dataset from an existing one and actions return a value to the driver program after running a computation on the dataset. \n",
        "\n",
        "Example:\n",
        "\n",
        "Map is a transformation that passes each dataset element through a function and returns a new RDD representing the results. On the other hand, reduce is an action that aggregates all the elements of the RDD using some function and returns the final result to the driver program\n",
        "\n",
        "You should consider caching/persisting when:\n",
        "* you want to use an RDD many times\n",
        "* you want to perform multiple actions on the same RDD\n",
        "* you want to create a long chain of (or very expensive) transformations\n",
        "\n",
        "Spark automatically monitors cache usage on each node and drops out old data partitions in a least-recently-used (LRU) fashion. If you would like to manually remove an RDD instead of waiting for it to fall out of the cache, use the RDD.unpersist() method."
      ]
    },
    {
      "cell_type": "code",
      "metadata": {
        "colab": {
          "base_uri": "https://localhost:8080/"
        },
        "id": "iZ88vt2LYN24",
        "outputId": "05aa1ca9-0604-43e1-87ce-6763def933c0"
      },
      "source": [
        "sample_reviews.persist()"
      ],
      "execution_count": null,
      "outputs": [
        {
          "output_type": "execute_result",
          "data": {
            "text/plain": [
              "DataFrame[business_id: string, cool: bigint, date: string, funny: bigint, review_id: string, stars: double, text: string, useful: bigint, user_id: string]"
            ]
          },
          "metadata": {
            "tags": []
          },
          "execution_count": 12
        }
      ]
    },
    {
      "cell_type": "code",
      "metadata": {
        "colab": {
          "base_uri": "https://localhost:8080/"
        },
        "id": "4-HaluP6N_tl",
        "outputId": "ada9bf17-11d2-464a-8cbb-581209ce2006"
      },
      "source": [
        "sample_reviews.show() #show(n) - prints first n rows"
      ],
      "execution_count": null,
      "outputs": [
        {
          "output_type": "stream",
          "text": [
            "+--------------------+----+-------------------+-----+--------------------+-----+--------------------+------+--------------------+\n",
            "|         business_id|cool|               date|funny|           review_id|stars|                text|useful|             user_id|\n",
            "+--------------------+----+-------------------+-----+--------------------+-----+--------------------+------+--------------------+\n",
            "|-MhfebM0QIsKt87iD...|   0|2015-04-15 05:21:16|    0|xQY8N_XvtGbearJ5X...|  2.0|As someone who ha...|     5|OwjRMXRC0KyPrIlcj...|\n",
            "|lbrU8StCq3yDfr-QM...|   0|2013-12-07 03:16:52|    1|UmFMZ8PyXZTY2Qcwz...|  1.0|I am actually hor...|     1|nIJD_7ZXHq-FX8byP...|\n",
            "|HQl28KMwrEKHqhFrr...|   0|2015-12-05 03:18:11|    0|LG2ZaYiOgpr2DK_90...|  5.0|I love Deagan's. ...|     1|V34qejxNsCbcgD8C0...|\n",
            "|5JxlZaqCnk1MnbgRi...|   0|2011-05-27 05:30:52|    0|i6g_oA9Yf9Y31qt0w...|  1.0|Dismal, lukewarm,...|     0|ofKDkJKXSKZXu5xJN...|\n",
            "|IS4cv902ykd8wj1TR...|   0|2017-01-14 21:56:57|    0|6TdNDKywdbjoTkize...|  4.0|Oh happy day, fin...|     0|UgMW8bLE0QMJDCkQ1...|\n",
            "|nlxHRv1zXGT0c0K51...|   0|2013-05-07 07:25:25|    0|L2O_INwlrRuoX05KS...|  5.0|This is definitel...|     2|5vD2kmE25YBrbayKh...|\n",
            "|Pthe4qk5xh4n-ef-9...|   0|2015-11-05 23:11:05|    0|ZayJ1zWyWgY9S_TRL...|  5.0|Really good place...|     1|aq_ZxGHiri48TUXJl...|\n",
            "|FNCJpSn0tL9iqoY3J...|   0|2017-07-18 18:31:54|    0|lpFIJYpsvDxyph-kP...|  5.0|Awesome office an...|     0|dsd-KNYKMpx6ma_sR...|\n",
            "|e_BiI4ej1CW1F0EyV...|   0|2015-02-16 06:48:47|    0|JA-xnyHytKiOIHl_z...|  5.0|Most delicious au...|     0|P6apihD4ASf1vpPxH...|\n",
            "|Ws8V970-mQt2X9CwC...|   1|2009-10-13 04:16:41|    0|z4BCgTkfNtCu4XY5L...|  4.0|I have been here ...|     3|jOERvhmK6_lo_XGUB...|\n",
            "|PA61Rwk3AMwOEXHev...|   0|2013-12-28 21:02:55|    0|TfVth7UNfgilv4J3e...|  5.0|Maria is VERY goo...|     0|s5j_CRBWDCCMDJ6r7...|\n",
            "|l-nL4BmhzpZjcavoo...|   1|2015-10-17 01:38:13|    1|Tyx7AxYQfSRnBFUIX...|  4.0|ORDER In (Deliver...|     2|HJECayULRM-6xh2GC...|\n",
            "|Naa6E0YU0Wr7jCuCE...|   0|2015-07-03 21:48:51|    0|wJMjt5C2y1RKgY0Xb...|  5.0|We purchased new ...|     3|1YIQGP-a534nyksaw...|\n",
            "|Ns4tjgLfqR1qawGlN...|   0|2016-06-11 22:00:11|    0|QCxPzh7cuxJrLd6A_...|  5.0|Everything that m...|     0|qftVgPj_kRTildMDj...|\n",
            "|ZlCSsWS07JulSBIQl...|   0|2015-05-26 10:36:47|    0|qWHp2l2lysENZObh6...|  5.0|Called for a 5:15...|     1|5lb0POg2t-AkMFx66...|\n",
            "|7Ka9Pd8X9SRHs1D5E...|   0|2017-08-07 21:36:36|    0|mjbs5CL4eMu4o6_Vt...|  1.0|If I could give l...|     0|TF4C-F5iqavACQgKT...|\n",
            "|d4qwVw4PcN-_2mK2o...|   0|2015-02-02 06:28:00|    0|bVTjZgRNq8Toxzvti...|  1.0|10pm on a super b...|     0|2hRe26HSCAWbFRn5W...|\n",
            "|oVuZtlCFg_zF090Nh...|   1|2018-02-01 19:15:00|    0|Ne_2CSfcKIqXHmv_K...|  4.0|A close friend wa...|     3|6sJN_HlM_uwpfLJ1p...|\n",
            "|_iGvLfEsqDwPUxRUA...|   0|2017-06-28 00:39:18|    0|Hy-gUXQh3RVhE8FLH...|  1.0|Tried to have my ...|     0|kMkWON2lmw0s-M-fw...|\n",
            "|poSV39UqEg-gpESXa...|   0|2018-03-04 01:03:53|    0|UGErdm6bt48SXTVwJ...|  3.0|My husband and I ...|     0|QodunSzok4nIYFNrT...|\n",
            "+--------------------+----+-------------------+-----+--------------------+-----+--------------------+------+--------------------+\n",
            "only showing top 20 rows\n",
            "\n"
          ],
          "name": "stdout"
        }
      ]
    },
    {
      "cell_type": "code",
      "metadata": {
        "colab": {
          "base_uri": "https://localhost:8080/"
        },
        "id": "LazqMMqYB9Me",
        "outputId": "5a74a060-10d1-419b-abe6-a66eb161b1cf"
      },
      "source": [
        "sample_reviews.count() #count() - returns the number of rows in the dataframe"
      ],
      "execution_count": null,
      "outputs": [
        {
          "output_type": "execute_result",
          "data": {
            "text/plain": [
              "10000"
            ]
          },
          "metadata": {
            "tags": []
          },
          "execution_count": 14
        }
      ]
    },
    {
      "cell_type": "code",
      "metadata": {
        "id": "IO2QMJL0RC2v"
      },
      "source": [
        "#Creating a function to check for null values\n",
        "def check_for_null_values(df):\n",
        "  '''This function is used to check the null values in each column'''\n",
        "  '''Parameter : dataframe'''\n",
        "  for i in df.columns:\n",
        "    print('---'+i+'---')\n",
        "    print(df.where(col(i).isNull()).show())  #isNull() - Returns true if the value is null"
      ],
      "execution_count": null,
      "outputs": []
    },
    {
      "cell_type": "code",
      "metadata": {
        "colab": {
          "base_uri": "https://localhost:8080/"
        },
        "id": "f8BxbCmfSBDZ",
        "outputId": "06cfbdf9-ee30-4bc4-8b6c-662027b7ec78"
      },
      "source": [
        "#Checking for null values\n",
        "check_for_null_values(sample_reviews.select(['business_id','text']))"
      ],
      "execution_count": null,
      "outputs": [
        {
          "output_type": "stream",
          "text": [
            "---business_id---\n",
            "+-----------+----+\n",
            "|business_id|text|\n",
            "+-----------+----+\n",
            "+-----------+----+\n",
            "\n",
            "None\n",
            "---text---\n",
            "+-----------+----+\n",
            "|business_id|text|\n",
            "+-----------+----+\n",
            "+-----------+----+\n",
            "\n",
            "None\n"
          ],
          "name": "stdout"
        }
      ]
    },
    {
      "cell_type": "code",
      "metadata": {
        "id": "7aqMbZyMPrZX"
      },
      "source": [
        "#Removing all null values\n",
        "sample_reviews = sample_reviews.na.drop()"
      ],
      "execution_count": null,
      "outputs": []
    },
    {
      "cell_type": "code",
      "metadata": {
        "colab": {
          "base_uri": "https://localhost:8080/"
        },
        "id": "Keq1JrQcPtpW",
        "outputId": "b9a34311-a913-45f3-e3d8-85d44e7058bf"
      },
      "source": [
        "#Count after removing values\n",
        "sample_reviews.count()"
      ],
      "execution_count": null,
      "outputs": [
        {
          "output_type": "execute_result",
          "data": {
            "text/plain": [
              "10000"
            ]
          },
          "metadata": {
            "tags": []
          },
          "execution_count": 18
        }
      ]
    },
    {
      "cell_type": "code",
      "metadata": {
        "id": "rSzpsE39QmFj"
      },
      "source": [
        "#Grouping all the reviews together on the basis of business id \n",
        "reviews = sample_reviews.select('business_id','text').groupby('business_id').agg(F.collect_list(\"text\")).sort('business_id')"
      ],
      "execution_count": null,
      "outputs": []
    },
    {
      "cell_type": "code",
      "metadata": {
        "colab": {
          "base_uri": "https://localhost:8080/"
        },
        "id": "cN14u1UyYqR2",
        "outputId": "0a9cf464-71c0-4f27-aca0-3bd3bd47cc30"
      },
      "source": [
        "reviews.persist()"
      ],
      "execution_count": null,
      "outputs": [
        {
          "output_type": "execute_result",
          "data": {
            "text/plain": [
              "DataFrame[business_id: string, collect_list(text): array<string>]"
            ]
          },
          "metadata": {
            "tags": []
          },
          "execution_count": 20
        }
      ]
    },
    {
      "cell_type": "code",
      "metadata": {
        "colab": {
          "base_uri": "https://localhost:8080/"
        },
        "id": "yMJz5VQivGBF",
        "outputId": "507f54e4-693b-4d24-e803-cf737af73e73"
      },
      "source": [
        "reviews.show() #shows all the reviews for a each business grouped together"
      ],
      "execution_count": null,
      "outputs": [
        {
          "output_type": "stream",
          "text": [
            "+--------------------+--------------------+\n",
            "|         business_id|  collect_list(text)|\n",
            "+--------------------+--------------------+\n",
            "|-0LPtgJC31FWMrMv3...|[After some chang...|\n",
            "|-2ToCaDFpTNmmg3QF...|[horrible.   Neve...|\n",
            "|-2X9U7v-Avoib-ki0...|[Would Highly Rec...|\n",
            "|-4_n--u4Z_SBbgz1z...|[Five stars all t...|\n",
            "|-5L8zOxibac-vBrsY...|[I had the pleasu...|\n",
            "|-7-uHFjQLH_uxPauY...|[Great Italian fo...|\n",
            "|-74zTQjLpOTzgvPTs...|[I'm very upset w...|\n",
            "|-8F04F54iDT6VgWPC...|[Super cute place...|\n",
            "|-9Ff8WEoiFsw_mfmJ...|[The smoked meat ...|\n",
            "|-A6iU1EJdtDr-APcJ...|[First visit here...|\n",
            "|-BbnAc9YEO6pjvJGE...|[Um it's pretty a...|\n",
            "|-BmqghX1sv7sgsxOI...|[Was a little ske...|\n",
            "|-CbDQXiuKzPQ0_jiU...|[OMG, this place ...|\n",
            "|-D2vGSq_SvuCmHdqs...|[I recently answe...|\n",
            "|-DHKF52ALa4B2ls1V...|[I was sent to Vi...|\n",
            "|-DcE_4T0_iRKGLARm...|[It's tough to me...|\n",
            "|-EohS3nXZGl6odE9L...|[This place sucks...|\n",
            "|-FNquqGseSCVMWo7K...|[The food isn't g...|\n",
            "|-FtngCwHCD2tRlH8j...|[For father's day...|\n",
            "|-H3hHmLfDmXQyuAlb...|[This place is aw...|\n",
            "+--------------------+--------------------+\n",
            "only showing top 20 rows\n",
            "\n"
          ],
          "name": "stdout"
        }
      ]
    },
    {
      "cell_type": "code",
      "metadata": {
        "colab": {
          "base_uri": "https://localhost:8080/"
        },
        "id": "VgWOnHu1Qp_p",
        "outputId": "e5ac36e7-c2fc-4489-876f-e5e9e5ca584a"
      },
      "source": [
        "reviews.count()"
      ],
      "execution_count": null,
      "outputs": [
        {
          "output_type": "execute_result",
          "data": {
            "text/plain": [
              "4398"
            ]
          },
          "metadata": {
            "tags": []
          },
          "execution_count": 22
        }
      ]
    },
    {
      "cell_type": "markdown",
      "metadata": {
        "id": "eYeah5khOOfi"
      },
      "source": [
        "Spark automatically persists some intermediate data in shuffle operations (e.g. reduceByKey), even without users calling persist.\n",
        "\n",
        "Spark automatically monitors every persist() and cache() calls you make and it checks usage on each node and drops persisted data if not used or by using least-recently-used (LRU) algorithm. You can also manually remove using unpersist() method. unpersist() marks the Dataset as non-persistent, and remove all blocks for it from memory and disk."
      ]
    },
    {
      "cell_type": "code",
      "metadata": {
        "id": "SrbWr663Y5Sa"
      },
      "source": [
        "# sample_reviews.unpersist() \n",
        "#unpersist() - makes the dataframe non persistent and removes all the memory and disk"
      ],
      "execution_count": null,
      "outputs": []
    },
    {
      "cell_type": "markdown",
      "metadata": {
        "id": "Cd9Hp4t01Cr5"
      },
      "source": [
        "*Since RDD and all of its dependencies are recomputed each time an action is called on the RDD, we unpersist() dataframes for computation ease.*"
      ]
    },
    {
      "cell_type": "markdown",
      "metadata": {
        "id": "nGea0fFbCLf_"
      },
      "source": [
        "**Business Dataset**"
      ]
    },
    {
      "cell_type": "code",
      "metadata": {
        "id": "FTK2TbZKQSAp"
      },
      "source": [
        "#Reading the json file\n",
        "business = spark.read.json('/content/drive/Shareddrives/Yelp - JSON/yelp_academic_dataset_business.json')"
      ],
      "execution_count": null,
      "outputs": []
    },
    {
      "cell_type": "code",
      "metadata": {
        "colab": {
          "base_uri": "https://localhost:8080/"
        },
        "id": "qOD9StjUZOO8",
        "outputId": "6a556af9-26ff-416e-8ddd-f16f09b2d291"
      },
      "source": [
        "business.persist()"
      ],
      "execution_count": null,
      "outputs": [
        {
          "output_type": "execute_result",
          "data": {
            "text/plain": [
              "DataFrame[address: string, attributes: struct<AcceptsInsurance:string,AgesAllowed:string,Alcohol:string,Ambience:string,BYOB:string,BYOBCorkage:string,BestNights:string,BikeParking:string,BusinessAcceptsBitcoin:string,BusinessAcceptsCreditCards:string,BusinessParking:string,ByAppointmentOnly:string,Caters:string,CoatCheck:string,Corkage:string,DietaryRestrictions:string,DogsAllowed:string,DriveThru:string,GoodForDancing:string,GoodForKids:string,GoodForMeal:string,HairSpecializesIn:string,HappyHour:string,HasTV:string,Music:string,NoiseLevel:string,Open24Hours:string,OutdoorSeating:string,RestaurantsAttire:string,RestaurantsCounterService:string,RestaurantsDelivery:string,RestaurantsGoodForGroups:string,RestaurantsPriceRange2:string,RestaurantsReservations:string,RestaurantsTableService:string,RestaurantsTakeOut:string,Smoking:string,WheelchairAccessible:string,WiFi:string>, business_id: string, categories: string, city: string, hours: struct<Friday:string,Monday:string,Saturday:string,Sunday:string,Thursday:string,Tuesday:string,Wednesday:string>, is_open: bigint, latitude: double, longitude: double, name: string, postal_code: string, review_count: bigint, stars: double, state: string]"
            ]
          },
          "metadata": {
            "tags": []
          },
          "execution_count": 25
        }
      ]
    },
    {
      "cell_type": "code",
      "metadata": {
        "colab": {
          "base_uri": "https://localhost:8080/"
        },
        "id": "4WfWCdJfS6rK",
        "outputId": "fd8f8620-62fd-47b6-9f89-d27e9c8d98d4"
      },
      "source": [
        "business.show()"
      ],
      "execution_count": null,
      "outputs": [
        {
          "output_type": "stream",
          "text": [
            "+--------------------+--------------------+--------------------+--------------------+---------------+--------------------+-------+-------------+---------------+--------------------+-----------+------------+-----+-----+\n",
            "|             address|          attributes|         business_id|          categories|           city|               hours|is_open|     latitude|      longitude|                name|postal_code|review_count|stars|state|\n",
            "+--------------------+--------------------+--------------------+--------------------+---------------+--------------------+-------+-------------+---------------+--------------------+-----------+------------+-----+-----+\n",
            "|     10913 Bailey Rd|[,,,,,,, True,, T...|f9NumwFMBDn751xgF...|Active Life, Gun/...|      Cornelius|[11:0-20:0, 10:0-...|      1|   35.4627242|    -80.8526119|The Range At Lake...|      28031|          36|  3.5|   NC|\n",
            "|8880 E Via Linda,...|[,,,,,,,,,,, True...|Yzvjg0SayhoZgCljU...|Health & Medical,...|     Scottsdale|                null|      1|   33.5694041|   -111.8902637|   Carlos Santo, NMD|      85258|           4|  5.0|   AZ|\n",
            "|3554 Rue Notre-Da...|                null|XNoUzKckATkOD1hP6...|Pets, Pet Service...|       Montreal|                null|      1|    45.479984|      -73.58007|             Felinus|    H4C 1P4|           5|  5.0|   QC|\n",
            "|      1015 Sharp Cir|[,,,,,,, True,, T...|6OAZjbxqM5ol29BuH...|Hardware Stores, ...|North Las Vegas|[7:0-16:0, 7:0-16...|      0|   36.2197281|   -115.1277255|Nevada House of Hose|      89030|           3|  2.5|   NV|\n",
            "|  4827 E Downing Cir|[,,,,,,,,, True,,...|51M2Kk903DFYI6gnB...|Home Services, Pl...|           Mesa|[9:0-16:0, 0:0-0:...|      1|   33.4280652|   -111.7266485|USE MY GUY SERVIC...|      85205|          26|  4.5|   AZ|\n",
            "|1720 W Elliot Rd,...|[,,,,,,,,, True,,...|cKyLV5oWZJ2NudWgq...|Auto Repair, Auto...|        Gilbert|[7:0-18:0, 7:0-18...|      1|   33.3503993|   -111.8271417|Oasis Auto Center...|      85233|          38|  4.5|   AZ|\n",
            "|6870 S Rainbow Bl...|[,,,,,,, True,, T...|oiAlXZPIFm2nBCt0D...|Dry Cleaning & La...|      Las Vegas|[7:0-19:0, 7:0-19...|      1|   36.0639767|    -115.241463|Green World Cleaners|      89118|          81|  3.5|   NV|\n",
            "| 6910 E Southern Ave|[,,,,,,,,, True,,...|ScYkbYNkDgCneBrD9...|Auto Repair, Oil ...|           Mesa|[7:30-17:0, 7:30-...|      1|   33.3938847|   -111.6822257|Junction Tire & A...|      85209|          18|  5.0|   AZ|\n",
            "|      404 E Green St|[,, 'none',,,,, F...|pQeaRpvuhoEqudo3u...|Ethnic Food, Food...|      Champaign|[11:30-14:30, 11:...|      1|   40.1104457|    -88.2330726| The Empanadas House|      61820|           5|  4.5|   IL|\n",
            "|700 Kipling Avenu...|[,,,,,,, False,,,...|EosRKXIGeSWFYWwpk...|Martial Arts, Gym...|        Toronto|[5:30-23:0, 5:30-...|      1|43.6245394916| -79.5291079302|      Xtreme Couture|    M8Z 5G3|          16|  3.0|   ON|\n",
            "|                    |                null|MbZMmwo-eL0Jnm_Yb...|Contractors, Land...|        Calgary|[7:0-17:0, 7:0-17...|      1|   50.9459599|   -114.0372072|Chinook Landscapi...|    T2J 2P2|           3|  5.0|   AB|\n",
            "|1110 Saw Mill Run...|[,,,,,,,,, True,,...|7Dv4_HAxsxvadEsT5...|Automotive, Auto ...|     Pittsburgh|[8:0-17:0, 8:0-17...|      1|   40.4066674|    -80.0044502|Dependable Brakes...|      15226|           5|  5.0|   PA|\n",
            "|   2831 Parmenter St|[,,,,,,, True,, T...|M_guz7Dj7hX0evS67...|Desserts, Food, I...|      Middleton|[11:0-22:0, 0:0-0...|      1|43.1053100891| -89.5101417974|Chocolate Shoppe ...|      53562|           6|  3.5|   WI|\n",
            "|116 N Roosevelt A...|[,,,,,,,,, True,,...|JjJs3o60uQCfctDjs...|Contractors, Home...|       Chandler|[9:0-16:0, 9:0-16...|      1|   33.3038687|   -111.9516598|        Convertabath|      85226|          10|  2.5|   AZ|\n",
            "|     5465 Simmons St|[,,,,,,,,, True, ...|kOICO53wbOiOJcKuC...|Beauty & Spas, Ta...|North Las Vegas|[8:0-21:0, 8:0-21...|      0|    36.263362|   -115.1798386|       Tan Las Vegas|      89031|           5|  3.5|   NV|\n",
            "|     2402 Atchley Dr|[,,,,,,,,, True,,...|rqcOZePlVvJP9Etzl...|Local Services, S...|      Henderson|[8:0-18:0, 8:0-18...|      0|   35.9520457|   -115.0934834|      Desert Storage|      89052|           5|  5.0|   NV|\n",
            "| 3131 Las Vegas Blvd|[,,,,,,, True,, T...|uZuh51lXu7tsrC8RA...|Shopping, Shoe St...|      Las Vegas|                null|      0|36.1257322229|-115.1676084101|      Manolo Blahnik|      89109|          32|  4.5|   NV|\n",
            "|2115 E Cedar St, ...|[,,,,,,,,, True,,...|nIEhsGbw0vJuYl05b...|Event Planning & ...|          Tempe|                null|      1|   33.4115139|   -111.8953784|   Bloom & Blueprint|      85281|           7|  4.5|   AZ|\n",
            "|      2915 Cherry Rd|[,,,,,,,,, True,,...|edQoeeBFUTYGwnUSE...|Auto Customizatio...|      Rock Hill|[8:0-18:0, 8:0-18...|      1|   34.9811205|    -80.9790228|            Car Guyz|      29730|          10|  4.5|   SC|\n",
            "|     5229 S Power Rd|[False,,,,,,, Tru...|Vwo64kNYDjKi98gUU...|Weight Loss Cente...|           Mesa|[5:30-20:0, 5:30-...|      1|   33.3207235|   -111.6858686|Gateway Fit Body ...|      85212|          16|  4.5|   AZ|\n",
            "+--------------------+--------------------+--------------------+--------------------+---------------+--------------------+-------+-------------+---------------+--------------------+-----------+------------+-----+-----+\n",
            "only showing top 20 rows\n",
            "\n"
          ],
          "name": "stdout"
        }
      ]
    },
    {
      "cell_type": "code",
      "metadata": {
        "colab": {
          "base_uri": "https://localhost:8080/"
        },
        "id": "gwTqrUMDQYsx",
        "outputId": "898515da-9eec-4c4e-81dd-3c33599546e1"
      },
      "source": [
        "business.count()"
      ],
      "execution_count": null,
      "outputs": [
        {
          "output_type": "execute_result",
          "data": {
            "text/plain": [
              "209393"
            ]
          },
          "metadata": {
            "tags": []
          },
          "execution_count": 27
        }
      ]
    },
    {
      "cell_type": "markdown",
      "metadata": {
        "id": "T3tjJPZLyrrP"
      },
      "source": [
        "*Note:*\n",
        "* The 'business' dataframe contains information about different businesses like restaurants, pet shops, hardware stores etc. \n",
        "\n",
        "* Since we are interested only in restaurants, we are extracting the data pertaining to restaurants here. We do this by filtering the businesses that contain 'Restaurant' in their 'categories' column."
      ]
    },
    {
      "cell_type": "code",
      "metadata": {
        "id": "GPTKXogdQcd4"
      },
      "source": [
        "#Filtering the business dataset for Restaurants\n",
        "rests = business.filter(business['categories'].contains('Restaurant')).select('business_id','categories','name','stars').sort('business_id')"
      ],
      "execution_count": null,
      "outputs": []
    },
    {
      "cell_type": "code",
      "metadata": {
        "colab": {
          "base_uri": "https://localhost:8080/"
        },
        "id": "_OAECNXyZVHS",
        "outputId": "2a5ecebb-a351-4af1-ae3b-42e1351e9f9d"
      },
      "source": [
        "rests.persist()"
      ],
      "execution_count": null,
      "outputs": [
        {
          "output_type": "execute_result",
          "data": {
            "text/plain": [
              "DataFrame[business_id: string, categories: string, name: string, stars: double]"
            ]
          },
          "metadata": {
            "tags": []
          },
          "execution_count": 29
        }
      ]
    },
    {
      "cell_type": "code",
      "metadata": {
        "colab": {
          "base_uri": "https://localhost:8080/"
        },
        "id": "pvT15pZASNHV",
        "outputId": "f12cc4da-3d86-4fd7-d3cd-86a2e560f1b9"
      },
      "source": [
        "rests.count()"
      ],
      "execution_count": null,
      "outputs": [
        {
          "output_type": "execute_result",
          "data": {
            "text/plain": [
              "63961"
            ]
          },
          "metadata": {
            "tags": []
          },
          "execution_count": 30
        }
      ]
    },
    {
      "cell_type": "markdown",
      "metadata": {
        "id": "yk8T9CniT9k6"
      },
      "source": [
        "*Note:* Here, we are checking the uniqueness of the business_id and ensuring that no restaurant is given the same id i.e. no two restaurants should have the same business id."
      ]
    },
    {
      "cell_type": "code",
      "metadata": {
        "colab": {
          "base_uri": "https://localhost:8080/"
        },
        "id": "R475aeSjSOJo",
        "outputId": "e853cfcb-7314-483f-c4d1-013892f78bc8"
      },
      "source": [
        "#Checking for Duplicate values\n",
        "rests.dropDuplicates(['business_id']).count() "
      ],
      "execution_count": null,
      "outputs": [
        {
          "output_type": "execute_result",
          "data": {
            "text/plain": [
              "63961"
            ]
          },
          "metadata": {
            "tags": []
          },
          "execution_count": 31
        }
      ]
    },
    {
      "cell_type": "code",
      "metadata": {
        "colab": {
          "base_uri": "https://localhost:8080/"
        },
        "id": "uCu_uqouSn2E",
        "outputId": "221ddf4e-8283-4948-c1bd-cbe4984fbf9b"
      },
      "source": [
        "rests.show()"
      ],
      "execution_count": null,
      "outputs": [
        {
          "output_type": "stream",
          "text": [
            "+--------------------+--------------------+--------------------+-----+\n",
            "|         business_id|          categories|                name|stars|\n",
            "+--------------------+--------------------+--------------------+-----+\n",
            "|--1UhMGODdWsrMast...|Restaurants, Mexican|    The Spicy Amigos|  4.0|\n",
            "|--6MefnULPED_I942...|Chinese, Restaurants|John's Chinese BB...|  3.0|\n",
            "|--9e1ONYQuAa-CB_R...|Seafood, Cajun/Cr...|Delmonico Steakhouse|  4.0|\n",
            "|--DaPTJW3-tB1vP-P...|Restaurants, Brea...|     Sunnyside Grill|  4.0|\n",
            "|--FBCX-N37CMYDfs7...|American (New), N...|The Bar At Bermud...|  4.0|\n",
            "|--FnvijzY20d1nk9H...|Restaurants, Mexican|Mr. Pancho Mexica...|  4.5|\n",
            "|--GM_ORV2cYS-h38D...|Restaurants, Sala...|         Mm Mm Pizza|  4.0|\n",
            "|--I7YYLada0tSLkOR...|Bars, Nightlife, ...|Happy Moose Bar a...|  3.5|\n",
            "|--KCl2FvVQpvjzmZS...|Sandwiches, Resta...|Hungry Howie's Pizza|  3.0|\n",
            "|--Ni3oJ4VOqfOEu7S...|Restaurants, Chic...|                 KFC|  1.5|\n",
            "|--S62v0QgkqQaVUhF...|American (Traditi...|             Denny's|  2.0|\n",
            "|--SrzpvFLwP_YFwB_...|Restaurants, Chinese|Keung Kee Restaurant|  3.5|\n",
            "|--U98MNlDym2cLn36...|  Restaurants, Pizza|        Pronto Pizza|  2.5|\n",
            "|--cZ6Hhc9F7VkKXxH...|Restaurants, Span...|             Pio Pio|  4.0|\n",
            "|--g-a85VwrdZJNf0R...|Mediterranean, Re...|         Kabab House|  4.5|\n",
            "|--lZAZSwpP_axKoL4...|Sandwiches, Delis...|            C Market|  4.5|\n",
            "|--q7kSBRb0vWC8lSk...|Pizza, Restaurant...|Double Play Sport...|  4.0|\n",
            "|--ujyvoQlwVoBgMYt...|Restaurants, Sand...|       Primanti Bros|  3.5|\n",
            "|-01XupAWZEXbdNbxN...|Restaurants, Nigh...|          18 Degrees|  3.5|\n",
            "|-050d_XIor1NpCuWk...|Restaurants, Brea...|Matt's Big Breakfast|  4.0|\n",
            "+--------------------+--------------------+--------------------+-----+\n",
            "only showing top 20 rows\n",
            "\n"
          ],
          "name": "stdout"
        }
      ]
    },
    {
      "cell_type": "code",
      "metadata": {
        "colab": {
          "base_uri": "https://localhost:8080/"
        },
        "id": "dxN0XcOMSomL",
        "outputId": "9c3cf9ed-0db3-4107-88de-a1007f028e4e"
      },
      "source": [
        "#Checking for null values\n",
        "check_for_null_values(rests)"
      ],
      "execution_count": null,
      "outputs": [
        {
          "output_type": "stream",
          "text": [
            "---business_id---\n",
            "+-----------+----------+----+-----+\n",
            "|business_id|categories|name|stars|\n",
            "+-----------+----------+----+-----+\n",
            "+-----------+----------+----+-----+\n",
            "\n",
            "None\n",
            "---categories---\n",
            "+-----------+----------+----+-----+\n",
            "|business_id|categories|name|stars|\n",
            "+-----------+----------+----+-----+\n",
            "+-----------+----------+----+-----+\n",
            "\n",
            "None\n",
            "---name---\n",
            "+-----------+----------+----+-----+\n",
            "|business_id|categories|name|stars|\n",
            "+-----------+----------+----+-----+\n",
            "+-----------+----------+----+-----+\n",
            "\n",
            "None\n",
            "---stars---\n",
            "+-----------+----------+----+-----+\n",
            "|business_id|categories|name|stars|\n",
            "+-----------+----------+----+-----+\n",
            "+-----------+----------+----+-----+\n",
            "\n",
            "None\n"
          ],
          "name": "stdout"
        }
      ]
    },
    {
      "cell_type": "markdown",
      "metadata": {
        "id": "lLeJrkamcNET"
      },
      "source": [
        "Since the sample reviews generated contains reviews from all different businesses, we apply a inner join on 'reviews' and 'rests' to extract reviews of only Restaurants.\n",
        "\n",
        "*Remember, we are considering only a subset of reviews, there is a possibility that we don't have reviews for a bunch of restaurant. Applying an inner join ensures that we retain only those 'Restaurants' which have reviews.*"
      ]
    },
    {
      "cell_type": "code",
      "metadata": {
        "id": "8oNVH8Z7TBJf"
      },
      "source": [
        "#Applying Inner Join\n",
        "rests_reviews = reviews.join(rests,on=['business_id'],how='inner') "
      ],
      "execution_count": null,
      "outputs": []
    },
    {
      "cell_type": "code",
      "metadata": {
        "colab": {
          "base_uri": "https://localhost:8080/"
        },
        "id": "5k6G6U7STJF1",
        "outputId": "bec986a0-a3bf-42cb-c115-68ad42368e2f"
      },
      "source": [
        "rests_reviews.show() "
      ],
      "execution_count": null,
      "outputs": [
        {
          "output_type": "stream",
          "text": [
            "+--------------------+--------------------+--------------------+--------------------+-----+\n",
            "|         business_id|  collect_list(text)|          categories|                name|stars|\n",
            "+--------------------+--------------------+--------------------+--------------------+-----+\n",
            "|-5L8zOxibac-vBrsY...|[I had the pleasu...|Nightlife, Americ...|         Ed's Tavern|  3.5|\n",
            "|-7-uHFjQLH_uxPauY...|[Great Italian fo...|Wine Bars, Bars, ...|Prego Cucina Ital...|  3.5|\n",
            "|-8F04F54iDT6VgWPC...|[Super cute place...|Coffee & Tea, Res...|    Ineffable Ca Phe|  4.5|\n",
            "|-BbnAc9YEO6pjvJGE...|[Um it's pretty a...|Noodles, Ramen, J...|            Sansotei|  4.0|\n",
            "|-BmqghX1sv7sgsxOI...|[Was a little ske...|Restaurants, Ethi...|Merkato Ethiopian...|  4.0|\n",
            "|-CbDQXiuKzPQ0_jiU...|[OMG, this place ...|Restaurants, Thai...|Taiga Modern Japa...|  4.0|\n",
            "|-D2vGSq_SvuCmHdqs...|[I recently answe...|Restaurants, Italian|   Sugo Caffe Italia|  3.5|\n",
            "|-DcE_4T0_iRKGLARm...|[It's tough to me...|Nightlife, Mexica...|El Ranchero Of Tr...|  4.0|\n",
            "|-EohS3nXZGl6odE9L...|[This place sucks...|Event Planning & ...|       Panda Express|  1.5|\n",
            "|-FNquqGseSCVMWo7K...|[The food isn't g...|Restaurants, Mexi...|Chipotle Mexican ...|  3.5|\n",
            "|-FtngCwHCD2tRlH8j...|[For father's day...|Breakfast & Brunc...|  Hash House A Go Go|  3.5|\n",
            "|-H3hHmLfDmXQyuAlb...|[This place is aw...|Indonesian, Resta...|Ohiyo 68 Asian Cu...|  4.0|\n",
            "|-JKp9ykFyhswkIQ6X...|[Here's how I jus...|African, Bars, Ni...|Teranga African B...|  3.0|\n",
            "|-Jhlh8Scjy669NdtC...|[Went with big gr...|Wine Bars, Event ...|           V Picasso|  3.5|\n",
            "|-MC7EFxTsyKMKB3ze...|[This is an aweso...|Donuts, Fast Food...|Stownut Donut & D...|  4.0|\n",
            "|-PGsEXB6DFTVKa1eD...|[MINDY MINDY MIND...|Breakfast & Brunc...|    Black Bear Diner|  3.5|\n",
            "|-QC71Wuh0TyJI0RAZ...|[I was very disap...|Mexican, Restaura...|Chipotle Mexican ...|  2.5|\n",
            "|-RIWE3MU3GCHM5KIW...|[On each of our v...|Restaurants, Bars...|Polo's Italian Cu...|  4.0|\n",
            "|-TVXOYL6kvKP1uW6N...|[Waited 3 years t...|Fast Food, Restau...|         Whataburger|  2.5|\n",
            "|-U0liwRSHGYBEMYVj...|[One of my favori...|American (New), S...|      Mickey & Mooch|  3.0|\n",
            "+--------------------+--------------------+--------------------+--------------------+-----+\n",
            "only showing top 20 rows\n",
            "\n"
          ],
          "name": "stdout"
        }
      ]
    },
    {
      "cell_type": "markdown",
      "metadata": {
        "id": "YT8Ds8zy2Lg3"
      },
      "source": [
        "# *Preprocessing the data*"
      ]
    },
    {
      "cell_type": "code",
      "metadata": {
        "colab": {
          "base_uri": "https://localhost:8080/"
        },
        "id": "av2rHg0OTPBW",
        "outputId": "4b4a6cb7-c31b-48cb-9d01-f3542d035192"
      },
      "source": [
        "#Importing libraries \n",
        "import fileinput,re\n",
        "import os\n",
        "import nltk\n",
        "from nltk.corpus import stopwords\n",
        "nltk.download('stopwords')\n",
        "sw = stopwords.words('english') "
      ],
      "execution_count": null,
      "outputs": [
        {
          "output_type": "stream",
          "text": [
            "[nltk_data] Downloading package stopwords to /root/nltk_data...\n",
            "[nltk_data]   Unzipping corpora/stopwords.zip.\n"
          ],
          "name": "stdout"
        }
      ]
    },
    {
      "cell_type": "code",
      "metadata": {
        "id": "4Rs4ZYvbTSP4"
      },
      "source": [
        "#Removing stopwords\n",
        "def remove_stopwords(text):\n",
        "  filtered_words = [w for w in text.split()  if ((not w in sw) and (len(w)>1))]\n",
        "  return \" \".join(filtered_words)"
      ],
      "execution_count": null,
      "outputs": []
    },
    {
      "cell_type": "markdown",
      "metadata": {
        "id": "4DB4j-bEY8eZ"
      },
      "source": [
        "Why are we using Stemming instead of Lemmatisation?\n",
        "\n",
        "=>  Stemming takes a best guess of where to snip a word based on how it looks, while lemmatization is a more calculated process. Lemmatisation is computationally expensive and much more intensive than Stemming. Hence we thought it would be appropriate to use Stemming instead of Lemmatisation given our limited resources."
      ]
    },
    {
      "cell_type": "code",
      "metadata": {
        "id": "RgFF7s2aTToO"
      },
      "source": [
        "#Stemming\n",
        "from nltk.stem import SnowballStemmer\n",
        "snowball = SnowballStemmer('english')\n",
        "Stem1 = lambda x:snowball.stem(x)\n",
        "def stem2(x):\n",
        "  return ' '.join(list(map(Stem1,x.split())))"
      ],
      "execution_count": null,
      "outputs": []
    },
    {
      "cell_type": "code",
      "metadata": {
        "id": "1YaS780NTYad"
      },
      "source": [
        "#Creating a function for preprocessing and cleaning the data\n",
        "import string\n",
        "def preprocess(x):\n",
        "  x = x.lower()\n",
        "  x = x.strip()\n",
        "  x = x.replace(\"\\n\", \" \")\n",
        "  x = re.sub(\"[^a-z]\", \" \",x)\n",
        "  x = remove_stopwords(x)\n",
        "  x = ' '.join(list(map(Stem1,x.split())))\n",
        "  return x"
      ],
      "execution_count": null,
      "outputs": []
    },
    {
      "cell_type": "markdown",
      "metadata": {
        "id": "zFdF8nZOaWBi"
      },
      "source": [
        "*Note:*\n",
        "\n",
        "map() transformation takes in a function and applies it to each element in the RDD and the result of the function is a new value of each element in the resulting RDD.\n",
        "mapValues is only applicable for PairRDDs, meaning RDDs of the form RDD[(A, B)]. \n",
        "In that case, mapValues operates on the value only (the second part of the tuple),while map operates on the entire record (tuple of key and value).\n",
        "\n",
        "Here, we are first mapping the review, category, restaurant name and star to business id and then preprocessing using the mapvalues() function.\n",
        "\n",
        "Final Output: (business_id, (review, category, name, stars))"
      ]
    },
    {
      "cell_type": "code",
      "metadata": {
        "id": "I01dle8TTZZU"
      },
      "source": [
        "#Appling map to preprocess the data\n",
        "data = rests_reviews.rdd.map(lambda x: (x[0],(' '.join(x[1]),x[2],x[3],x[4]))).mapValues(lambda x: (preprocess(x[0]),x[1],x[2].lower(),x[3]))"
      ],
      "execution_count": null,
      "outputs": []
    },
    {
      "cell_type": "code",
      "metadata": {
        "colab": {
          "base_uri": "https://localhost:8080/"
        },
        "id": "ibl_m-yibJrt",
        "outputId": "34e89af2-35b1-40ef-e1af-633df6dafeed"
      },
      "source": [
        "data.persist()"
      ],
      "execution_count": null,
      "outputs": [
        {
          "output_type": "execute_result",
          "data": {
            "text/plain": [
              "PythonRDD[171] at RDD at PythonRDD.scala:53"
            ]
          },
          "metadata": {
            "tags": []
          },
          "execution_count": 41
        }
      ]
    },
    {
      "cell_type": "code",
      "metadata": {
        "colab": {
          "base_uri": "https://localhost:8080/"
        },
        "id": "OrLq943b7XJX",
        "outputId": "6761d9ab-85f5-4ea9-9ec2-716a710d99fd"
      },
      "source": [
        "data.take(5) "
      ],
      "execution_count": null,
      "outputs": [
        {
          "output_type": "execute_result",
          "data": {
            "text/plain": [
              "[('-5L8zOxibac-vBrsYtxXbQ',\n",
              "  ('pleasur host cd releas parti ed week definit made right choic select ed number charlott venu consid start finish good experi mani folk attend concert comment good servic staff help friend effici ed lot space insid mani tvs expans deck back great place relax outsid ed comfort fun place definit recommend visit soon okay star bar atmospher star food food good bar food great bar food rate first need understand bar tuck neat edg dilworth walkabl mani surround home thus make easi choic anyon need late night grub comraderi read peopl mingl open late plus pool tabl also plus like pick music touch tune devic decent beer select tap beer snob go somewher els like beer serv bucket mayb star ed fun locat great expect new patio popular warmer month',\n",
              "   'Nightlife, American (Traditional), Burgers, Bars, Restaurants, Sports Bars',\n",
              "   \"ed's tavern\",\n",
              "   3.5)),\n",
              " ('-7-uHFjQLH_uxPauYtd8iA',\n",
              "  ('great italian food tuck away top eau clair mall noth bad could say restaur except quit expens although worth receiv great servic throughout meal receiv food quick food except get enough almost wish order two dish could take one home later like italian food neighbourhood check place',\n",
              "   'Wine Bars, Bars, Nightlife, Restaurants, Italian',\n",
              "   'prego cucina italiana',\n",
              "   3.5)),\n",
              " ('-8F04F54iDT6VgWPCgybug',\n",
              "  ('super cute place quit spacious open feel feel like cram coffe shop chicken sandwich realli tasti bubbl tea got favorit bad either definit go futur beauti function space good food drink friend servic high recommend concur prior review pros tasti bahn mi reason price spacious like return date book wish extens select lunch current sandwich pork chicken tofu great boba collect like back look forward offer',\n",
              "   'Coffee & Tea, Restaurants, Food, Vietnamese, Breakfast & Brunch',\n",
              "   'ineffable ca phe',\n",
              "   4.5)),\n",
              " ('-BbnAc9YEO6pjvJGEtFbVQ',\n",
              "  ('um pretti averag ramen see hype back great par tast good ramen place better price top place decent varieti quick scare line great servic alway fast alway friend order tonkotsu black ramen far soup base tast great find salti black garlic oil add nice flavour high recommend get pork littl bland like decent portion alreadi soup bother get extra honest know lot peopl love place soup base way salti understand palat littl bland sometim howev ask friend normal eat salti food even found salti burn tongu person take friend brought week ago ramen rampag spici tan tan amaz sooth cold night love much came back next night friend unfortun tan tan tri tonkatsu black also got tast friend miso black tomato complex flavour hard fulli describ noth short foodgasm back often possibl',\n",
              "   'Noodles, Ramen, Japanese, Restaurants',\n",
              "   'sansotei',\n",
              "   4.0)),\n",
              " ('-BmqghX1sv7sgsxOIS2yAg',\n",
              "  ('littl skeptic first time came updat review back multipl time ethiopian food soo point redicul good servic ultra casual chill place far favorit ethiopian restaraunt high reccomend spice perfect raw beef delici worth hard earn wife say loov cabag dish first ethiopian food experi bad one food decent servic ok ask water given bottl water charg us assum vega water garbag anyway probabl better receiv bottl water howev notic charg would nice averag expier decent food',\n",
              "   'Restaurants, Ethiopian, Vegetarian, Cafes',\n",
              "   'merkato ethiopian cafe',\n",
              "   4.0))]"
            ]
          },
          "metadata": {
            "tags": []
          },
          "execution_count": 42
        }
      ]
    },
    {
      "cell_type": "markdown",
      "metadata": {
        "id": "6iw9NhxHbg_X"
      },
      "source": [
        "toDF - Returns a new dataframe with new specified column names"
      ]
    },
    {
      "cell_type": "code",
      "metadata": {
        "id": "5qzCTquwTd-Q"
      },
      "source": [
        "#Applying map and converting it to a Dataframe\n",
        "main_df = data.map(lambda x: (x[0],x[1][0],x[1][1],x[1][2],x[1][3])).toDF(['business_id','review','categories','name','ratings'])"
      ],
      "execution_count": null,
      "outputs": []
    },
    {
      "cell_type": "code",
      "metadata": {
        "colab": {
          "base_uri": "https://localhost:8080/"
        },
        "id": "bQY9R7vLbVYD",
        "outputId": "100a80e7-1785-4bf3-922b-d79991544855"
      },
      "source": [
        "main_df.persist()"
      ],
      "execution_count": null,
      "outputs": [
        {
          "output_type": "execute_result",
          "data": {
            "text/plain": [
              "DataFrame[business_id: string, review: string, categories: string, name: string, ratings: double]"
            ]
          },
          "metadata": {
            "tags": []
          },
          "execution_count": 44
        }
      ]
    },
    {
      "cell_type": "code",
      "metadata": {
        "colab": {
          "base_uri": "https://localhost:8080/"
        },
        "id": "LbV95zo8VgRc",
        "outputId": "fb0f8ca1-5291-42b2-d03b-598deae883bb"
      },
      "source": [
        "main_df.show()"
      ],
      "execution_count": null,
      "outputs": [
        {
          "output_type": "stream",
          "text": [
            "+--------------------+--------------------+--------------------+--------------------+-------+\n",
            "|         business_id|              review|          categories|                name|ratings|\n",
            "+--------------------+--------------------+--------------------+--------------------+-------+\n",
            "|-5L8zOxibac-vBrsY...|pleasur host cd r...|Nightlife, Americ...|         ed's tavern|    3.5|\n",
            "|-7-uHFjQLH_uxPauY...|great italian foo...|Wine Bars, Bars, ...|prego cucina ital...|    3.5|\n",
            "|-8F04F54iDT6VgWPC...|super cute place ...|Coffee & Tea, Res...|    ineffable ca phe|    4.5|\n",
            "|-BbnAc9YEO6pjvJGE...|um pretti averag ...|Noodles, Ramen, J...|            sansotei|    4.0|\n",
            "|-BmqghX1sv7sgsxOI...|littl skeptic fir...|Restaurants, Ethi...|merkato ethiopian...|    4.0|\n",
            "|-CbDQXiuKzPQ0_jiU...|omg place fabul g...|Restaurants, Thai...|taiga modern japa...|    4.0|\n",
            "|-D2vGSq_SvuCmHdqs...|recent answer job...|Restaurants, Italian|   sugo caffe italia|    3.5|\n",
            "|-DcE_4T0_iRKGLARm...|tough measur mexi...|Nightlife, Mexica...|el ranchero of tr...|    4.0|\n",
            "|-EohS3nXZGl6odE9L...|place suck employ...|Event Planning & ...|       panda express|    1.5|\n",
            "|-FNquqGseSCVMWo7K...|food great franch...|Restaurants, Mexi...|chipotle mexican ...|    3.5|\n",
            "|-FtngCwHCD2tRlH8j...|father day sister...|Breakfast & Brunc...|  hash house a go go|    3.5|\n",
            "|-H3hHmLfDmXQyuAlb...|place awesom tuna...|Indonesian, Resta...|ohiyo 68 asian cu...|    4.0|\n",
            "|-JKp9ykFyhswkIQ6X...|justifi four star...|African, Bars, Ni...|teranga african b...|    3.0|\n",
            "|-Jhlh8Scjy669NdtC...|went big group tw...|Wine Bars, Event ...|           v picasso|    3.5|\n",
            "|-MC7EFxTsyKMKB3ze...|awesom cheap fami...|Donuts, Fast Food...|stownut donut & d...|    4.0|\n",
            "|-PGsEXB6DFTVKa1eD...|mindi mindi mindi...|Breakfast & Brunc...|    black bear diner|    3.5|\n",
            "|-QC71Wuh0TyJI0RAZ...|disappoint overal...|Mexican, Restaura...|chipotle mexican ...|    2.5|\n",
            "|-RIWE3MU3GCHM5KIW...|vacat wife spend ...|Restaurants, Bars...|polo's italian cu...|    4.0|\n",
            "|-TVXOYL6kvKP1uW6N...|wait year get wha...|Fast Food, Restau...|         whataburger|    2.5|\n",
            "|-U0liwRSHGYBEMYVj...|one favorit place...|American (New), S...|      mickey & mooch|    3.0|\n",
            "+--------------------+--------------------+--------------------+--------------------+-------+\n",
            "only showing top 20 rows\n",
            "\n"
          ],
          "name": "stdout"
        }
      ]
    },
    {
      "cell_type": "code",
      "metadata": {
        "colab": {
          "base_uri": "https://localhost:8080/"
        },
        "id": "0by3CVv7ThYD",
        "outputId": "cea30c7f-90ac-42d0-b76e-54b993a0fc98"
      },
      "source": [
        "#Checking for presence of empty reviews\n",
        "main_df.filter(main_df['review']=='').show()"
      ],
      "execution_count": null,
      "outputs": [
        {
          "output_type": "stream",
          "text": [
            "+--------------------+------+--------------------+---------------------+-------+\n",
            "|         business_id|review|          categories|                 name|ratings|\n",
            "+--------------------+------+--------------------+---------------------+-------+\n",
            "|x-H-2BYL2XoDDLiub...|      |Szechuan, Chinese...|xiang wei xuan-湘味轩|    4.5|\n",
            "+--------------------+------+--------------------+---------------------+-------+\n",
            "\n"
          ],
          "name": "stdout"
        }
      ]
    },
    {
      "cell_type": "code",
      "metadata": {
        "colab": {
          "base_uri": "https://localhost:8080/"
        },
        "id": "cnVdZ2Q4EXT0",
        "outputId": "3b892dea-f365-4bba-cb60-f9051d8d6680"
      },
      "source": [
        "main_df.count()"
      ],
      "execution_count": null,
      "outputs": [
        {
          "output_type": "execute_result",
          "data": {
            "text/plain": [
              "2281"
            ]
          },
          "metadata": {
            "tags": []
          },
          "execution_count": 47
        }
      ]
    },
    {
      "cell_type": "code",
      "metadata": {
        "id": "JEl4Sz2kEOAY"
      },
      "source": [
        "#Filtering the dataset for non empty reviews\n",
        "main_df = main_df.filter(main_df['review']!='')"
      ],
      "execution_count": null,
      "outputs": []
    },
    {
      "cell_type": "code",
      "metadata": {
        "colab": {
          "base_uri": "https://localhost:8080/"
        },
        "id": "nbLXAMo7D6s4",
        "outputId": "d59b6451-2b94-4110-951b-8fd2900809c5"
      },
      "source": [
        "main_df.count()"
      ],
      "execution_count": null,
      "outputs": [
        {
          "output_type": "execute_result",
          "data": {
            "text/plain": [
              "2280"
            ]
          },
          "metadata": {
            "tags": []
          },
          "execution_count": 49
        }
      ]
    },
    {
      "cell_type": "markdown",
      "metadata": {
        "id": "lwRuM9gRhxA8"
      },
      "source": [
        "# *Calculating similarity between two restaurants based on their reviews*"
      ]
    },
    {
      "cell_type": "markdown",
      "metadata": {
        "id": "ivzj-DpigDrt"
      },
      "source": [
        "### *Calculating TF-IDF values*"
      ]
    },
    {
      "cell_type": "code",
      "metadata": {
        "id": "l8q9E_b1ThhF"
      },
      "source": [
        "#Importing Libraries\n",
        "import math\n",
        "from pyspark.sql.functions import *"
      ],
      "execution_count": null,
      "outputs": []
    },
    {
      "cell_type": "markdown",
      "metadata": {
        "id": "at1fnwUTb2kc"
      },
      "source": [
        "*Note:*\n",
        "\n",
        "reduceByKey() - reduces the value for each key\n",
        "\n",
        "flatMap() - applies the function to all the elements in the RDD and flattens the results"
      ]
    },
    {
      "cell_type": "markdown",
      "metadata": {
        "id": "aYQUgo4mcTWG"
      },
      "source": [
        "FORMULA FOR TERM FREQUENCY:\n",
        "![image.png](data:image/png;base64,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)"
      ]
    },
    {
      "cell_type": "code",
      "metadata": {
        "id": "EbNTfdd3ToFg"
      },
      "source": [
        "#For calculating term frequency\n",
        "tf_1 = main_df.rdd.map(lambda x:(x[0],x[1])).flatMap(lambda x: [((x[0],i),1) for i in x[1].split()]).reduceByKey(lambda x,y:x+y)  #((business_id,word),count)\n",
        "tf_2 = tf_1.map(lambda x: (x[0][0],(x[0][1],x[1])))  #(business_id,(word,count))\n",
        "tf_3 = main_df.rdd.map(lambda x: (x[0],len(x[1].split()))) #(business_id,number of terms in the document)\n",
        "tf_4 = tf_2.join(tf_3)  #(business_id,((word,number of time that words has appeared in the document),len of the document))\n",
        "final_tf = tf_4.map(lambda x:(x[1][0][0],(x[0],x[1][0][1]/x[1][1]))) #(word,(business_id,tf)) "
      ],
      "execution_count": null,
      "outputs": []
    },
    {
      "cell_type": "code",
      "metadata": {
        "colab": {
          "base_uri": "https://localhost:8080/"
        },
        "id": "Fiw_1kB4cdA_",
        "outputId": "4f7c2194-6c8c-403d-9793-e69b1273409f"
      },
      "source": [
        "final_tf.persist()"
      ],
      "execution_count": null,
      "outputs": [
        {
          "output_type": "execute_result",
          "data": {
            "text/plain": [
              "PythonRDD[226] at RDD at PythonRDD.scala:53"
            ]
          },
          "metadata": {
            "tags": []
          },
          "execution_count": 52
        }
      ]
    },
    {
      "cell_type": "code",
      "metadata": {
        "colab": {
          "base_uri": "https://localhost:8080/"
        },
        "id": "FYssQnucfZL8",
        "outputId": "cd3a4fa2-c8b1-4352-f1ef-ee76d19f6a81"
      },
      "source": [
        "#For reference we print tf_1, tf_2, tf_3, tf_4 and final_tf\n",
        "tf_1.take(5) #((business_id,word),count)"
      ],
      "execution_count": null,
      "outputs": [
        {
          "output_type": "execute_result",
          "data": {
            "text/plain": [
              "[(('-5L8zOxibac-vBrsYtxXbQ', 'charlott'), 1),\n",
              " (('-CbDQXiuKzPQ0_jiUz03aw', 'basil'), 1),\n",
              " (('-CbDQXiuKzPQ0_jiUz03aw', 'date'), 1),\n",
              " (('-D2vGSq_SvuCmHdqsDxzeA', 'averag'), 1),\n",
              " (('-FtngCwHCD2tRlH8jpj_Ag', 'chosen'), 1)]"
            ]
          },
          "metadata": {
            "tags": []
          },
          "execution_count": 53
        }
      ]
    },
    {
      "cell_type": "code",
      "metadata": {
        "colab": {
          "base_uri": "https://localhost:8080/"
        },
        "id": "6n0ovi4kgEiN",
        "outputId": "f9507e02-ede3-4a0e-c805-8133d1a5b0e5"
      },
      "source": [
        "tf_2.take(5) #(business_id,(word,count))"
      ],
      "execution_count": null,
      "outputs": [
        {
          "output_type": "execute_result",
          "data": {
            "text/plain": [
              "[('-5L8zOxibac-vBrsYtxXbQ', ('charlott', 1)),\n",
              " ('-CbDQXiuKzPQ0_jiUz03aw', ('basil', 1)),\n",
              " ('-CbDQXiuKzPQ0_jiUz03aw', ('date', 1)),\n",
              " ('-D2vGSq_SvuCmHdqsDxzeA', ('averag', 1)),\n",
              " ('-FtngCwHCD2tRlH8jpj_Ag', ('chosen', 1))]"
            ]
          },
          "metadata": {
            "tags": []
          },
          "execution_count": 54
        }
      ]
    },
    {
      "cell_type": "code",
      "metadata": {
        "colab": {
          "base_uri": "https://localhost:8080/"
        },
        "id": "o0KrCUqHgpNl",
        "outputId": "4b3229ee-dd17-4004-d49f-e3d8f2c23f80"
      },
      "source": [
        "tf_3.take(5) #(business_id,number of terms in the document)"
      ],
      "execution_count": null,
      "outputs": [
        {
          "output_type": "execute_result",
          "data": {
            "text/plain": [
              "[('-5L8zOxibac-vBrsYtxXbQ', 130),\n",
              " ('-7-uHFjQLH_uxPauYtd8iA', 47),\n",
              " ('-8F04F54iDT6VgWPCgybug', 66),\n",
              " ('-BbnAc9YEO6pjvJGEtFbVQ', 132),\n",
              " ('-BmqghX1sv7sgsxOIS2yAg', 76)]"
            ]
          },
          "metadata": {
            "tags": []
          },
          "execution_count": 55
        }
      ]
    },
    {
      "cell_type": "code",
      "metadata": {
        "colab": {
          "base_uri": "https://localhost:8080/"
        },
        "id": "WeSjSBpng0Np",
        "outputId": "e5a3c020-ec4d-449c-8eab-919cb94102ca"
      },
      "source": [
        "tf_4.take(5) #(business_id,((word,number of time that words has appeared in the document),len of the document))"
      ],
      "execution_count": null,
      "outputs": [
        {
          "output_type": "execute_result",
          "data": {
            "text/plain": [
              "[('JZEw18_OhSzFj0IfXF6v6Q', (('eighth', 1), 78)),\n",
              " ('JZEw18_OhSzFj0IfXF6v6Q', (('pie', 6), 78)),\n",
              " ('JZEw18_OhSzFj0IfXF6v6Q', (('someth', 1), 78)),\n",
              " ('JZEw18_OhSzFj0IfXF6v6Q', (('hope', 1), 78)),\n",
              " ('JZEw18_OhSzFj0IfXF6v6Q', (('portion', 1), 78))]"
            ]
          },
          "metadata": {
            "tags": []
          },
          "execution_count": 56
        }
      ]
    },
    {
      "cell_type": "code",
      "metadata": {
        "colab": {
          "base_uri": "https://localhost:8080/"
        },
        "id": "D0VFUu2chI_k",
        "outputId": "a1b0c67a-5ac9-4298-f9d2-5a1d5b20f741"
      },
      "source": [
        "final_tf.take(5) #(word,(business_id,tf)) "
      ],
      "execution_count": null,
      "outputs": [
        {
          "output_type": "execute_result",
          "data": {
            "text/plain": [
              "[('eighth', ('JZEw18_OhSzFj0IfXF6v6Q', 0.01282051282051282)),\n",
              " ('pie', ('JZEw18_OhSzFj0IfXF6v6Q', 0.07692307692307693)),\n",
              " ('someth', ('JZEw18_OhSzFj0IfXF6v6Q', 0.01282051282051282)),\n",
              " ('hope', ('JZEw18_OhSzFj0IfXF6v6Q', 0.01282051282051282)),\n",
              " ('portion', ('JZEw18_OhSzFj0IfXF6v6Q', 0.01282051282051282))]"
            ]
          },
          "metadata": {
            "tags": []
          },
          "execution_count": 57
        }
      ]
    },
    {
      "cell_type": "code",
      "metadata": {
        "id": "D_QgmdoQPwgc"
      },
      "source": [
        "data_count = main_df.count()"
      ],
      "execution_count": null,
      "outputs": []
    },
    {
      "cell_type": "code",
      "metadata": {
        "colab": {
          "base_uri": "https://localhost:8080/"
        },
        "id": "QhXZHBDBPxXB",
        "outputId": "d4d70bbc-a2f2-46fc-dd29-ed4f2c203111"
      },
      "source": [
        "data_count"
      ],
      "execution_count": null,
      "outputs": [
        {
          "output_type": "execute_result",
          "data": {
            "text/plain": [
              "2280"
            ]
          },
          "metadata": {
            "tags": []
          },
          "execution_count": 59
        }
      ]
    },
    {
      "cell_type": "markdown",
      "metadata": {
        "id": "4xbFWm05c4HI"
      },
      "source": [
        "FORMULA FOR INVERSE DOCUMENT FREQUENCY:\n",
        "![image.png](data:image/png;base64,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)"
      ]
    },
    {
      "cell_type": "code",
      "metadata": {
        "id": "_OlJ6nPfTp1I"
      },
      "source": [
        "idf_1 = final_tf.map(lambda x: (x[0],(x[1][0],x[1][1],1))).map(lambda x:(x[0],x[1][2])).reduceByKey(lambda x,y:x+y)  #(word,(business_id,tf,1)) #(word,1) #(word,number of documents in which the word has appeared)\n",
        "final_idf = idf_1.map(lambda x: (x[0],math.log10(data_count/x[1]))) #calculating idf"
      ],
      "execution_count": null,
      "outputs": []
    },
    {
      "cell_type": "code",
      "metadata": {
        "colab": {
          "base_uri": "https://localhost:8080/"
        },
        "id": "2dUQHEJ_h_bU",
        "outputId": "f5c0d33b-7c3d-42fc-d4fb-b5ed020f1176"
      },
      "source": [
        "#For reference, we print idf_1, final_idf\n",
        "idf_1.take(5) #(word,number of documents in which the word has appeared)"
      ],
      "execution_count": null,
      "outputs": [
        {
          "output_type": "execute_result",
          "data": {
            "text/plain": [
              "[('ladi', 102), ('mayb', 237), ('greaterthan', 1), ('caus', 61), ('step', 51)]"
            ]
          },
          "metadata": {
            "tags": []
          },
          "execution_count": 61
        }
      ]
    },
    {
      "cell_type": "code",
      "metadata": {
        "colab": {
          "base_uri": "https://localhost:8080/"
        },
        "id": "VUcg8Lcikh9w",
        "outputId": "3e9038ab-36b4-427a-aa48-2aafced40ec3"
      },
      "source": [
        "final_idf.take(5) #(word,idf)"
      ],
      "execution_count": null,
      "outputs": [
        {
          "output_type": "execute_result",
          "data": {
            "text/plain": [
              "[('ladi', 1.3493346752385362),\n",
              " ('mayb', 0.9831865009903499),\n",
              " ('greaterthan', 3.357934847000454),\n",
              " ('caus', 1.5726050119896868),\n",
              " ('step', 1.6503646709025173)]"
            ]
          },
          "metadata": {
            "tags": []
          },
          "execution_count": 62
        }
      ]
    },
    {
      "cell_type": "code",
      "metadata": {
        "id": "_1_Vg3BXTsHV"
      },
      "source": [
        "#Merging tf and idf values\n",
        "tf_idf = final_tf.join(final_idf) "
      ],
      "execution_count": null,
      "outputs": []
    },
    {
      "cell_type": "code",
      "metadata": {
        "colab": {
          "base_uri": "https://localhost:8080/"
        },
        "id": "wTOSstFBksGj",
        "outputId": "84f9fbfc-9719-41a1-a94a-0dfd6537505d"
      },
      "source": [
        "tf_idf.take(5) #(word,((business_id,tf value),idf_value)))"
      ],
      "execution_count": null,
      "outputs": [
        {
          "output_type": "execute_result",
          "data": {
            "text/plain": [
              "[('ladi',\n",
              "  (('yNS9sDkxDGP9DQV7ilS0NQ', 0.021739130434782608), 1.3493346752385362)),\n",
              " ('ladi',\n",
              "  (('x5iQFVJkFl7fSXC6uVjwPw', 0.011428571428571429), 1.3493346752385362)),\n",
              " ('ladi',\n",
              "  (('Ns20WGWn6s6niKAGIQB4UQ', 0.002053388090349076), 1.3493346752385362)),\n",
              " ('ladi',\n",
              "  (('yBxzqKXHhvNVaFnEOd4f7Q', 0.08333333333333333), 1.3493346752385362)),\n",
              " ('ladi',\n",
              "  (('3IY-JtcZHBOSzFD53SSXLA', 0.01098901098901099), 1.3493346752385362))]"
            ]
          },
          "metadata": {
            "tags": []
          },
          "execution_count": 64
        }
      ]
    },
    {
      "cell_type": "markdown",
      "metadata": {
        "id": "cuOnqVbvdblk"
      },
      "source": [
        "FORMULA FOR TF-IDF: ![image.png](data:image/png;base64,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)"
      ]
    },
    {
      "cell_type": "code",
      "metadata": {
        "id": "Z_uj492TURfe"
      },
      "source": [
        "#Calculating tf-idf\n",
        "final_tfidf = tf_idf.map(lambda x: (x[1][0][0],(x[0],x[1][0][1],x[1][1],x[1][0][1]*x[1][1]))).sortByKey() #(business_id,(word,tf,idf,tf*idf))"
      ],
      "execution_count": null,
      "outputs": []
    },
    {
      "cell_type": "code",
      "metadata": {
        "colab": {
          "base_uri": "https://localhost:8080/"
        },
        "id": "6eR8TSkncySJ",
        "outputId": "ae6ad52f-9182-4856-d47a-3b7e0f8eab16"
      },
      "source": [
        "final_tfidf.persist()"
      ],
      "execution_count": null,
      "outputs": [
        {
          "output_type": "execute_result",
          "data": {
            "text/plain": [
              "PythonRDD[260] at RDD at PythonRDD.scala:53"
            ]
          },
          "metadata": {
            "tags": []
          },
          "execution_count": 66
        }
      ]
    },
    {
      "cell_type": "code",
      "metadata": {
        "colab": {
          "base_uri": "https://localhost:8080/"
        },
        "id": "CVA7nERimv71",
        "outputId": "2f64bc5c-5dd6-425f-a5a2-86e9cb50a5cb"
      },
      "source": [
        "final_tfidf.take(5) #(business_id,(word,tf,idf,tf*idf))"
      ],
      "execution_count": null,
      "outputs": [
        {
          "output_type": "execute_result",
          "data": {
            "text/plain": [
              "[('-5L8zOxibac-vBrsYtxXbQ',\n",
              "  ('insid', 0.007692307692307693, 1.0057523288890913, 0.007736556376069933)),\n",
              " ('-5L8zOxibac-vBrsYtxXbQ',\n",
              "  ('week', 0.007692307692307693, 1.0336523917027611, 0.007951172243867394)),\n",
              " ('-5L8zOxibac-vBrsYtxXbQ',\n",
              "  ('food', 0.03076923076923077, 0.16508873181161213, 0.005079653286511143)),\n",
              " ('-5L8zOxibac-vBrsYtxXbQ',\n",
              "  ('made', 0.007692307692307693, 0.6369491028467147, 0.004899608483436267)),\n",
              " ('-5L8zOxibac-vBrsYtxXbQ',\n",
              "  ('night', 0.007692307692307693, 0.7254775548157295, 0.005580596575505612))]"
            ]
          },
          "metadata": {
            "tags": []
          },
          "execution_count": 67
        }
      ]
    },
    {
      "cell_type": "markdown",
      "metadata": {
        "id": "o7galdputF0y"
      },
      "source": [
        "*Bag of words:* All the unique words in all our reviews"
      ]
    },
    {
      "cell_type": "code",
      "metadata": {
        "id": "PRmGNxPBTtQS"
      },
      "source": [
        "#Extracting all the words present in the review to form bag of words\n",
        "bow = final_tfidf.map(lambda x : (x[1][0])).distinct().collect()"
      ],
      "execution_count": null,
      "outputs": []
    },
    {
      "cell_type": "code",
      "metadata": {
        "colab": {
          "base_uri": "https://localhost:8080/"
        },
        "id": "-CnxNSI6otnu",
        "outputId": "71960097-8d91-4cd1-fd60-ec314501f7a1"
      },
      "source": [
        "#Printing some of the distinct words present\n",
        "bow[0:5]"
      ],
      "execution_count": null,
      "outputs": [
        {
          "output_type": "execute_result",
          "data": {
            "text/plain": [
              "['step', 'ladi', 'caus', 'chiliquia', 'gobbl']"
            ]
          },
          "metadata": {
            "tags": []
          },
          "execution_count": 69
        }
      ]
    },
    {
      "cell_type": "code",
      "metadata": {
        "colab": {
          "base_uri": "https://localhost:8080/"
        },
        "id": "h-RpbbAGTu3D",
        "outputId": "c85d2ffc-90ab-4b9b-ab2b-97016323500c"
      },
      "source": [
        "len(bow)"
      ],
      "execution_count": null,
      "outputs": [
        {
          "output_type": "execute_result",
          "data": {
            "text/plain": [
              "13260"
            ]
          },
          "metadata": {
            "tags": []
          },
          "execution_count": 70
        }
      ]
    },
    {
      "cell_type": "code",
      "metadata": {
        "id": "JScHjRiUTwC7"
      },
      "source": [
        "#Creating a function to extract the index position of each word\n",
        "def find_word(l,word):\n",
        "  if word in l:\n",
        "    return l.index(word)\n",
        "  else:\n",
        "    return 0"
      ],
      "execution_count": null,
      "outputs": []
    },
    {
      "cell_type": "code",
      "metadata": {
        "colab": {
          "base_uri": "https://localhost:8080/"
        },
        "id": "_74xVzhbTxTk",
        "outputId": "55459950-d95d-4c29-ba6b-401a033f255f"
      },
      "source": [
        "find_word(bow,'best')"
      ],
      "execution_count": null,
      "outputs": [
        {
          "output_type": "execute_result",
          "data": {
            "text/plain": [
              "495"
            ]
          },
          "metadata": {
            "tags": []
          },
          "execution_count": 72
        }
      ]
    },
    {
      "cell_type": "markdown",
      "metadata": {
        "id": "jtaQRhZpeV6k"
      },
      "source": [
        "collect_list() - returns a list of objects\n",
        "\n",
        "Recall, schema of final_tfidf - (business_id, (word, tf, idf, tf*idf))"
      ]
    },
    {
      "cell_type": "code",
      "metadata": {
        "id": "bLbN4oIOTzG0"
      },
      "source": [
        "#Finding index value of each word and storing the final_tfidf into a Dataframe by grouping on the basis of business id\n",
        "df = final_tfidf.map(lambda x: (x[0],x[1][0],x[1][3],find_word(bow,x[1][0]))).toDF([\"business_id\",\"Token\",\"TF-IDF\",\"index\"]).groupby('business_id').agg(F.collect_list(\"Token\"),F.collect_list(\"TF-IDF\"),F.collect_list(\"index\"))"
      ],
      "execution_count": null,
      "outputs": []
    },
    {
      "cell_type": "code",
      "metadata": {
        "colab": {
          "base_uri": "https://localhost:8080/"
        },
        "id": "r5G6E-zN0qql",
        "outputId": "a1dab01d-6f32-4df4-ea05-42c24c7c155e"
      },
      "source": [
        "df.persist()"
      ],
      "execution_count": null,
      "outputs": [
        {
          "output_type": "execute_result",
          "data": {
            "text/plain": [
              "DataFrame[business_id: string, collect_list(Token): array<string>, collect_list(TF-IDF): array<double>, collect_list(index): array<bigint>]"
            ]
          },
          "metadata": {
            "tags": []
          },
          "execution_count": 74
        }
      ]
    },
    {
      "cell_type": "code",
      "metadata": {
        "colab": {
          "base_uri": "https://localhost:8080/"
        },
        "id": "MTywVOZlT0dP",
        "outputId": "6d347984-198e-469d-b554-4453a8b48ac7"
      },
      "source": [
        "df.show()"
      ],
      "execution_count": null,
      "outputs": [
        {
          "output_type": "stream",
          "text": [
            "+--------------------+--------------------+--------------------+--------------------+\n",
            "|         business_id| collect_list(Token)|collect_list(TF-IDF)| collect_list(index)|\n",
            "+--------------------+--------------------+--------------------+--------------------+\n",
            "|4lCTd6-EzOuKl4YbH...|[insid, night, ta...|[0.02578852125356...|[204, 664, 789, 1...|\n",
            "|4x8W4quFhhuTZlsoU...|[servic, thru, ei...|[0.05575072019056...|[1491, 2156, 2482...|\n",
            "|ATeOjZzE3VOI-RW7F...|[equal, burger, b...|[0.00692976558221...|[115, 224, 256, 2...|\n",
            "|RMjCnixEY5i12Ciqn...|[write, food, far...|[0.00593782862583...|[223, 437, 552, 5...|\n",
            "|VHsNB3pdGVcRgs6C3...|[step, unimpress,...|[0.01279352458063...|[0, 388, 437, 495...|\n",
            "|_Wyo52ijeq3QgcmkI...|[food, noodl, cri...|[0.00971110187127...|[437, 511, 921, 3...|\n",
            "|ipFreSFhjClfNETuM...|[food, sport, ser...|[0.00868888062166...|[437, 1237, 1491,...|\n",
            "|vbUABNAQI2iwN7v0x...|[room, insid, din...|[0.01905151664921...|[41, 204, 340, 47...|\n",
            "|x1fx7C_tc064cFATj...|[food, best, leag...|[0.00825443659058...|[437, 495, 711, 7...|\n",
            "|A4aU9qMO4yxv4q3dq...|[leav, food, sorr...|[0.04031941075286...|[242, 437, 1163, ...|\n",
            "|IfUkm42SB9D0m_Zbk...|[burger, hit, foo...|[0.00866367503780...|[224, 350, 437, 4...|\n",
            "|PhrTUiNQVA_XsK43O...|[ladi, probabl, e...|[0.01261060444148...|[1, 380, 401, 437...|\n",
            "|bftSQN9eaE5EQBe3Z...|[room, dine, woul...|[0.04396503842125...|[41, 340, 696, 16...|\n",
            "|gpY1RzC3aAPTqsx27...|[sont, est, soup,...|[0.01465786134441...|[311, 453, 606, 6...|\n",
            "|iuya9nmV6ievrTNSO...|[varieti, noth, f...|[0.02100096138964...|[95, 164, 437, 12...|\n",
            "|nY2oBwH3s5sKox1mE...|[grand, size, bur...|[0.00793457487508...|[40, 72, 224, 257...|\n",
            "|tI81vezqt-Mi8nsEB...|[hard, need, mahi...|[0.03234410684519...|[510, 841, 846, 1...|\n",
            "|ta8x5JgBJnKaDWfYv...|[noth, compar, fo...|[0.02673461646925...|[164, 398, 437, 4...|\n",
            "|A-ToCCe7d2lWM2uXG...|[noth, mex, food,...|[0.01645207167338...|[164, 383, 437, 5...|\n",
            "|CotnZvwxCubcWqsG2...|[attract, food, s...|[0.06654023369942...|[399, 437, 1491, ...|\n",
            "+--------------------+--------------------+--------------------+--------------------+\n",
            "only showing top 20 rows\n",
            "\n"
          ],
          "name": "stdout"
        }
      ]
    },
    {
      "cell_type": "code",
      "metadata": {
        "id": "Idzaxicnsg2g",
        "colab": {
          "base_uri": "https://localhost:8080/"
        },
        "outputId": "fdfc674d-48b0-4c03-d9a7-c61b6f36fc2d"
      },
      "source": [
        "df.count()"
      ],
      "execution_count": null,
      "outputs": [
        {
          "output_type": "execute_result",
          "data": {
            "text/plain": [
              "2280"
            ]
          },
          "metadata": {
            "tags": []
          },
          "execution_count": 76
        }
      ]
    },
    {
      "cell_type": "code",
      "metadata": {
        "id": "2PUTR3czlc1O"
      },
      "source": [
        "#Sorting the dataframes on the basis of business_id\n",
        "df = df.sort('business_id')\n",
        "main_df = main_df.sort('business_id')"
      ],
      "execution_count": null,
      "outputs": []
    },
    {
      "cell_type": "code",
      "metadata": {
        "id": "4f1BkgKgchuy"
      },
      "source": [
        "#Joining the dataframes on the basis of business_id\n",
        "intermediate_df_1 = df.join(main_df,on='business_id',how='inner')"
      ],
      "execution_count": null,
      "outputs": []
    },
    {
      "cell_type": "code",
      "metadata": {
        "colab": {
          "base_uri": "https://localhost:8080/"
        },
        "id": "3orSD_imeLmq",
        "outputId": "1be31a22-a79c-43a1-9676-e3fb7f42f355"
      },
      "source": [
        "intermediate_df_1.persist()"
      ],
      "execution_count": null,
      "outputs": [
        {
          "output_type": "execute_result",
          "data": {
            "text/plain": [
              "DataFrame[business_id: string, collect_list(Token): array<string>, collect_list(TF-IDF): array<double>, collect_list(index): array<bigint>, review: string, categories: string, name: string, ratings: double]"
            ]
          },
          "metadata": {
            "tags": []
          },
          "execution_count": 79
        }
      ]
    },
    {
      "cell_type": "code",
      "metadata": {
        "colab": {
          "base_uri": "https://localhost:8080/"
        },
        "id": "IG1kO--22nx9",
        "outputId": "237900e2-a69d-4068-a4da-0568e55019ee"
      },
      "source": [
        "intermediate_df_1.count()"
      ],
      "execution_count": null,
      "outputs": [
        {
          "output_type": "execute_result",
          "data": {
            "text/plain": [
              "2280"
            ]
          },
          "metadata": {
            "tags": []
          },
          "execution_count": 80
        }
      ]
    },
    {
      "cell_type": "code",
      "metadata": {
        "colab": {
          "base_uri": "https://localhost:8080/"
        },
        "id": "4DbcTFY8ltmU",
        "outputId": "98b40509-0cd6-42d1-bc31-9cf33065a9b0"
      },
      "source": [
        "intermediate_df_1.show(10,False)"
      ],
      "execution_count": null,
      "outputs": [
        {
          "output_type": "stream",
          "text": [
            "+----------------------+---------------------------------------------------------------------------------------------------------------------------------------------------------------------------------------------------------------------------------------------------------------------------------------------------------------------------------------------------------------------------------------------------------------------------------------------------------------------------------------------------------------------------------------------------------------------------------------------------------------------------------------------------------------------------------------------------------------------------------------------------------------------------------------------------------------------------------------------------------------------------------------------------------------------------------------------------------------------------------------------------------------------------------------------------------------------------------------------------------------------------------------------------------------------------------------------------------------+-----------------------------------------------------------------------------------------------------------------------------------------------------------------------------------------------------------------------------------------------------------------------------------------------------------------------------------------------------------------------------------------------------------------------------------------------------------------------------------------------------------------------------------------------------------------------------------------------------------------------------------------------------------------------------------------------------------------------------------------------------------------------------------------------------------------------------------------------------------------------------------------------------------------------------------------------------------------------------------------------------------------------------------------------------------------------------------------------------------------------------------------------------------------------------------------------------------------------------------------------------------------------------------------------------------------------------------------------------------------------------------------------------------------------------------------------------------------------------------------------------------------------------------------------------------------------------------------------------------------------------------------------------------------------------------------------------------------------------------------------------------------------------------------------------------------------------------------------------------------------------------------------------------------------------------------------------------------------------------------------------------------------------------------------------------------------------------------------------------------------------------------------------------------------------------------------------------------------------------------------------------------------------------------------------------------------------------------------------------------------------------------------------------------------------------------------------------------------------------------------------------------------------------------------------------------------------------------------------------------------------------------------------------------------------------------------------------------------------------------------------------------------------------------------------------------------------------------------------------------------------------------------------------------------------------------------------------------------------------------------------------------------------------------------------------------------------------------------------------------------------------------------------------------------------------------------------------------------------------------------------------------------------------------------------------------------------------------------------------------------------------------------------------------------------------------------------------------------------------------------------------------------------------------------------------------------------------------------------------------+------------------------------------------------------------------------------------------------------------------------------------------------------------------------------------------------------------------------------------------------------------------------------------------------------------------------------------------------------------------------------------------------------------------------------------------------------------------------------------------------------------------------------------------------------------------------------------------------------------------------------------------------------------------------------------------------------------------------------------------------------------------------------------------------------------------------------------------------------------------------------------------------------------------------------------------------------------------------------------------------------------------+----------------------------------------------------------------------------------------------------------------------------------------------------------------------------------------------------------------------------------------------------------------------------------------------------------------------------------------------------------------------------------------------------------------------------------------------------------------------------------------------------------------------------------------------------------------------------------------------------------------------------------------------------------------------------------------------------------------------------------------------------------------------------------------------------------------------------------------------------------------------------------------------------------------------------------------------------------------------------------------------------------------------------------------------------------------------------------------------------------------------------------------------------------------------------------------------------+--------------------------------------------------------------------------+---------------------------------------+-------+\n",
            "|business_id           |collect_list(Token)                                                                                                                                                                                                                                                                                                                                                                                                                                                                                                                                                                                                                                                                                                                                                                                                                                                                                                                                                                                                                                                                                                                                                                                            |collect_list(TF-IDF)                                                                                                                                                                                                                                                                                                                                                                                                                                                                                                                                                                                                                                                                                                                                                                                                                                                                                                                                                                                                                                                                                                                                                                                                                                                                                                                                                                                                                                                                                                                                                                                                                                                                                                                                                                                                                                                                                                                                                                                                                                                                                                                                                                                                                                                                                                                                                                                                                                                                                                                                                                                                                                                                                                                                                                                                                                                                                                                                                                                                                                                                                                                                                                                                                                                                                                                                                                                                                                                                                                                                                                                             |collect_list(index)                                                                                                                                                                                                                                                                                                                                                                                                                                                                                                                                                                                                                                                                                                                                                                                                                                                                                                                                                                                               |review                                                                                                                                                                                                                                                                                                                                                                                                                                                                                                                                                                                                                                                                                                                                                                                                                                                                                                                                                                                                                                                                                                                                                                                              |categories                                                                |name                                   |ratings|\n",
            "+----------------------+---------------------------------------------------------------------------------------------------------------------------------------------------------------------------------------------------------------------------------------------------------------------------------------------------------------------------------------------------------------------------------------------------------------------------------------------------------------------------------------------------------------------------------------------------------------------------------------------------------------------------------------------------------------------------------------------------------------------------------------------------------------------------------------------------------------------------------------------------------------------------------------------------------------------------------------------------------------------------------------------------------------------------------------------------------------------------------------------------------------------------------------------------------------------------------------------------------------+-----------------------------------------------------------------------------------------------------------------------------------------------------------------------------------------------------------------------------------------------------------------------------------------------------------------------------------------------------------------------------------------------------------------------------------------------------------------------------------------------------------------------------------------------------------------------------------------------------------------------------------------------------------------------------------------------------------------------------------------------------------------------------------------------------------------------------------------------------------------------------------------------------------------------------------------------------------------------------------------------------------------------------------------------------------------------------------------------------------------------------------------------------------------------------------------------------------------------------------------------------------------------------------------------------------------------------------------------------------------------------------------------------------------------------------------------------------------------------------------------------------------------------------------------------------------------------------------------------------------------------------------------------------------------------------------------------------------------------------------------------------------------------------------------------------------------------------------------------------------------------------------------------------------------------------------------------------------------------------------------------------------------------------------------------------------------------------------------------------------------------------------------------------------------------------------------------------------------------------------------------------------------------------------------------------------------------------------------------------------------------------------------------------------------------------------------------------------------------------------------------------------------------------------------------------------------------------------------------------------------------------------------------------------------------------------------------------------------------------------------------------------------------------------------------------------------------------------------------------------------------------------------------------------------------------------------------------------------------------------------------------------------------------------------------------------------------------------------------------------------------------------------------------------------------------------------------------------------------------------------------------------------------------------------------------------------------------------------------------------------------------------------------------------------------------------------------------------------------------------------------------------------------------------------------------------------------------------------------------------+------------------------------------------------------------------------------------------------------------------------------------------------------------------------------------------------------------------------------------------------------------------------------------------------------------------------------------------------------------------------------------------------------------------------------------------------------------------------------------------------------------------------------------------------------------------------------------------------------------------------------------------------------------------------------------------------------------------------------------------------------------------------------------------------------------------------------------------------------------------------------------------------------------------------------------------------------------------------------------------------------------------+----------------------------------------------------------------------------------------------------------------------------------------------------------------------------------------------------------------------------------------------------------------------------------------------------------------------------------------------------------------------------------------------------------------------------------------------------------------------------------------------------------------------------------------------------------------------------------------------------------------------------------------------------------------------------------------------------------------------------------------------------------------------------------------------------------------------------------------------------------------------------------------------------------------------------------------------------------------------------------------------------------------------------------------------------------------------------------------------------------------------------------------------------------------------------------------------------+--------------------------------------------------------------------------+---------------------------------------+-------+\n",
            "|-5L8zOxibac-vBrsYtxXbQ|[insid, week, food, made, night, tabl, need, mani, servic, first, dilworth, visit, home, snob, tune, cd, easi, bucket, lot, music, walkabl, make, recommend, okay, pleasur, peopl, great, popular, select, anyon, serv, warmer, star, consid, releas, back, like, finish, edg, outsid, experi, concert, tuck, mayb, also, els, definit, start, ed, new, attend, touch, somewher, expect, place, comraderi, good, help, space, tvs, understand, locat, month, bar, soon, plus, surround, folk, pool, go, rate, right, friend, read, relax, thus, devic, late, comfort, patio, venu, expans, charlott, host, pick, mingl, atmospher, grub, choic, neat, number, beer, parti, fun, deck, decent, open, comment, staff, tap, effici]                                                                                                                                                                                                                                                                                                                                                                                                                                                                               |[0.007736556376069933, 0.007951172243867394, 0.005079653286511143, 0.004899608483436267, 0.005580596575505612, 0.005035718991398403, 0.011612161144311869, 0.01830620267880841, 0.002144258468867915, 0.004590454106497865, 0.025830268053849647, 0.005604040368444115, 0.006580828669354009, 0.01701389854863243, 0.01701389854863243, 0.025830268053849647, 0.01044565266923426, 0.01701389854863243, 0.005473316313672187, 0.00911345060452446, 0.025830268053849647, 0.004259964728193104, 0.00469036015380195, 0.008732449045022081, 0.016174325706901135, 0.005009362035874578, 0.006955641298185079, 0.012828759745938001, 0.014455900856626283, 0.009274203866287672, 0.00543582179232546, 0.017261473036104747, 0.015999066264099884, 0.010037356950131032, 0.02216010455600609, 0.002872365643512779, 0.0050172703949243605, 0.008875498956496378, 0.014945857684843354, 0.00790400825885587, 0.005254413125097249, 0.016365276350939845, 0.015503939739832672, 0.007562973084541153, 0.0036833766730798544, 0.007424906874929139, 0.008722251875563662, 0.0069585885150262785, 0.08087162853450568, 0.005968242185298039, 0.014581052685396136, 0.010724207843499221, 0.01188478069505845, 0.006347542061599662, 0.0032062743576323992, 0.025830268053849647, 0.005134249561267846, 0.0072407256897090225, 0.010617009551627738, 0.01656780664880407, 0.00980884212833849, 0.005723792500956806, 0.009274203866287672, 0.024299480705644888, 0.009227479653116957, 0.01770936878413237, 0.014467796863698396, 0.013858710355639743, 0.01507688337175705, 0.0025713148369435413, 0.009467923451043433, 0.005398743422981707, 0.0030282708984892687, 0.009518160890727724, 0.01154309500437835, 0.015993701892674038, 0.02216010455600609, 0.018271894332392253, 0.010250992167197567, 0.010067052494848249, 0.013858710355639743, 0.02045357571280335, 0.013343735050788872, 0.012042639673093845, 0.0080638821505735, 0.02045357571280335, 0.0061203229426459935, 0.016365276350939845, 0.01476915135889871, 0.014698283197371036, 0.011406719873913491, 0.022479680331231287, 0.008614528799012757, 0.017114187372096985, 0.01701389854863243, 0.007041962137969271, 0.006580828669354009, 0.01256660751845896, 0.004487829855937725, 0.013265126087852826, 0.012152181512437002]                                                                                                                                                                                                                                                                                                                                                                                                                                                                                                                                                                                                                                                                                                                                                                                                                                                                                                                                                                                                                                                                                                                                                                                                                                                                                                                    |[204, 273, 437, 471, 664, 789, 841, 1229, 1491, 1620, 1727, 1761, 1840, 1841, 1938, 1939, 2171, 2346, 2420, 2432, 2850, 2883, 3289, 3437, 3458, 3535, 3621, 3985, 4187, 4984, 5118, 5175, 5254, 5338, 5411, 5526, 5541, 5677, 5794, 5816, 5842, 5950, 6033, 6598, 6649, 6740, 6822, 6858, 6859, 6973, 7145, 7315, 7365, 7494, 7535, 7604, 7699, 7788, 7812, 8024, 8228, 8240, 8287, 8599, 8773, 9237, 9307, 9737, 10025, 10126, 10221, 10252, 10313, 10685, 10739, 10756, 10853, 10898, 10949, 10987, 10988, 11003, 11149, 11260, 11412, 11611, 11793, 11821, 11876, 11994, 12036, 12216, 12233, 12281, 12561, 12572, 12723, 12736, 12878, 12988, 13223]                                                                                                                                                                                                                                                                                                                                                          |pleasur host cd releas parti ed week definit made right choic select ed number charlott venu consid start finish good experi mani folk attend concert comment good servic staff help friend effici ed lot space insid mani tvs expans deck back great place relax outsid ed comfort fun place definit recommend visit soon okay star bar atmospher star food food good bar food great bar food rate first need understand bar tuck neat edg dilworth walkabl mani surround home thus make easi choic anyon need late night grub comraderi read peopl mingl open late plus pool tabl also plus like pick music touch tune devic decent beer select tap beer snob go somewher els like beer serv bucket mayb star ed fun locat great expect new patio popular warmer month                                                                                                                                                                                                                                                                                                                                                                                                                            |Nightlife, American (Traditional), Burgers, Bars, Restaurants, Sports Bars|ed's tavern                            |3.5    |\n",
            "|-7-uHFjQLH_uxPauYtd8iA|[noth, check, food, could, eau, throughout, expens, servic, top, home, away, take, great, receiv, get, meal, mall, neighbourhood, like, enough, tuck, except, restaur, although, wish, place, later, two, italian, dish, almost, one, worth, order, say, clair, quit, quick, bad]                                                                                                                                                                                                                                                                                                                                                                                                                                                                                                                                                                                                                                                                                                                                                                                                                                                                                                                              |[0.018202292064170664, 0.017476093711253696, 0.01405010483503082, 0.02822679353476107, 0.05863563522707429, 0.0371308721336323, 0.026257089490071658, 0.005930927679847424, 0.016340111610100978, 0.018202292064170664, 0.01937823012038797, 0.014651446094347695, 0.01282600523069589, 0.05351337454820812, 0.00808960088748098, 0.01385568222688713, 0.03361241694929383, 0.04526565799196127, 0.006938778205746455, 0.018557732351465402, 0.04288323757826058, 0.05279419367424211, 0.009528602157582673, 0.024377600906308423, 0.02144014529077215, 0.004434209218002254, 0.02558720871351898, 0.01445566953107106, 0.06078791154409196, 0.015478871744158082, 0.02103657424660236, 0.00790661850956784, 0.017584168722514865, 0.006372528139222306, 0.013587309787589938, 0.05346461291459994, 0.020315198421800764, 0.01713333257209065, 0.015922136973941143]                                                                                                                                                                                                                                                                                                                                                                                                                                                                                                                                                                                                                                                                                                                                                                                                                                                                                                                                                                                                                                                                                                                                                                                                                                                                                                                                                                                                                                                                                                                                                                                                                                                                                                                                                                                                                                                                                                                                                                                                                                                                                                                                                                                                                                                                                                                                                                                                                                                                                                                                                                                                                                                                                                                                             |[164, 421, 437, 808, 1022, 1230, 1472, 1491, 1778, 1840, 2347, 3088, 3621, 4224, 5353, 5446, 5485, 5505, 5541, 5817, 6033, 6161, 6629, 6630, 7160, 7535, 8270, 8600, 8800, 8981, 9308, 9530, 9721, 9882, 10515, 11698, 11762, 11949, 12459]                                                                                                                                                                                                                                                                                                                                                                                                                                                                                                                                                                                                                                                                                                                                                                       |great italian food tuck away top eau clair mall noth bad could say restaur except quit expens although worth receiv great servic throughout meal receiv food quick food except get enough almost wish order two dish could take one home later like italian food neighbourhood check place                                                                                                                                                                                                                                                                                                                                                                                                                                                                                                                                                                                                                                                                                                                                                                                                                                                                                                          |Wine Bars, Bars, Nightlife, Restaurants, Italian                          |prego cucina italiana                  |3.5    |\n",
            "|-8F04F54iDT6VgWPCgybug|[beauti, food, servic, cram, date, prior, either, coffe, extens, bahn, recommend, book, current, futur, great, concur, chicken, mi, select, spacious, feel, bubbl, sandwich, return, back, like, boba, tasti, pork, offer, high, definit, forward, realli, wish, look, pros, place, collect, good, space, price, cute, shop, favorit, got, go, tofu, friend, lunch, super, function, tea, review, quit, drink, bad, reason, open]                                                                                                                                                                                                                                                                                                                                                                                                                                                                                                                                                                                                                                                                                                                                                                              |[0.018648940130843127, 0.0025013444213880624, 0.004223539408376196, 0.04028734610097629, 0.019054004573983194, 0.028281411411608805, 0.016526713918143032, 0.01649124095125057, 0.02628311449397808, 0.0436486907921332, 0.009238588181731112, 0.023827348666510408, 0.027870013744281306, 0.026441681670919974, 0.004566835195778082, 0.0436486907921332, 0.01799268832151888, 0.031165225020249588, 0.014236872055768308, 0.05790232774721923, 0.025278435763299675, 0.02996550917104315, 0.027788659543492, 0.01431265277150306, 0.005657689903888807, 0.014823753439549246, 0.03509912366427619, 0.023754653917355605, 0.015724069104384845, 0.014063372227243118, 0.011322343695614755, 0.008590096544115727, 0.02134158849023547, 0.006594081651624148, 0.01526798225251956, 0.008484472776716025, 0.029438810591358118, 0.003157694443122817, 0.03351222441397297, 0.0033709719341657573, 0.02091229154108494, 0.007369119870523865, 0.021052301491613922, 0.018221194083869578, 0.011912515381693427, 0.007903192898389425, 0.0050647110424645505, 0.025684500232104238, 0.005964776012175832, 0.010692250090865616, 0.012293820962459437, 0.0436486907921332, 0.018175338710684913, 0.011452649328371083, 0.014466883724615695, 0.00970097490906351, 0.011338491481442935, 0.012331315191669367, 0.012962238288121533]                                                                                                                                                                                                                                                                                                                                                                                                                                                                                                                                                                                                                                                                                                                                                                                                                                                                                                                                                                                                                                                                                                                                                                                                                                                                                                                                                                                                                                                                                                                                                                                                                                                                                                                                                                                                                                                                                                                                                                                                                                                                                                                                                                                                                                                                                  |[256, 437, 1491, 2172, 2305, 2306, 2482, 2525, 2834, 3126, 3289, 3459, 3460, 3500, 3621, 3641, 3801, 3860, 4187, 4188, 4928, 4941, 5302, 5319, 5526, 5541, 5818, 6162, 6296, 6454, 6767, 6822, 6918, 6974, 7160, 7437, 7438, 7535, 7684, 7699, 7812, 8826, 9002, 9150, 9894, 9980, 10126, 10208, 10313, 10565, 11189, 11514, 11552, 11587, 11762, 11811, 12459, 12586, 12723]                                                                                                                                                                                                                                                                                                                                                                                                                                                                                                                                                                                                                                     |super cute place quit spacious open feel feel like cram coffe shop chicken sandwich realli tasti bubbl tea got favorit bad either definit go futur beauti function space good food drink friend servic high recommend concur prior review pros tasti bahn mi reason price spacious like return date book wish extens select lunch current sandwich pork chicken tofu great boba collect like back look forward offer                                                                                                                                                                                                                                                                                                                                                                                                                                                                                                                                                                                                                                                                                                                                                                                |Coffee & Tea, Restaurants, Food, Vietnamese, Breakfast & Brunch           |ineffable ca phe                       |4.5    |\n",
            "|-BbnAc9YEO6pjvJGEtFbVQ|[varieti, noth, week, way, food, hard, complex, far, ask, soup, amaz, night, sooth, ramen, averag, alreadi, servic, extra, nice, top, found, garlic, oil, know, brought, lot, unfortun, often, littl, take, person, recommend, peopl, see, great, alway, tongu, love, par, bother, foodgasm, get, eat, salti, back, flavour, like, tri, next, ago, pork, also, howev, high, tonkatsu, describ, much, place, tast, good, came, add, um, tonkotsu, fulli, understand, portion, tomato, normal, bland, price, sometim, tan, short, order, spici, got, pretti, friend, scare, possibl, honest, even, rampag, miso, hype, burn, quick, find, line, cold, better, black, decent, fast, palat, base]                                                                                                                                                                                                                                                                                                                                                                                                                                                                                                                  |[0.009227695156054677, 0.006481119144060766, 0.00783069993714213, 0.00521680277601774, 0.0012506722106940312, 0.007105902261444666, 0.016756112206986484, 0.007518536834163289, 0.004806660416403546, 0.0206292213336612, 0.004696572126265326, 0.010992084163874689, 0.020877839815700693, 0.05939378297964898, 0.008281189575688769, 0.009227695156054677, 0.002111769704188098, 0.00805658046090046, 0.0036059081489458584, 0.0058180700429905, 0.007285874999278162, 0.00966022330821215, 0.01102155196976144, 0.005368181729456908, 0.008580496706625688, 0.005390387278616547, 0.009606285875462545, 0.008866773683060535, 0.008568835719730302, 0.00521680277601774, 0.007118436027884154, 0.004619294090865556, 0.004933462611088599, 0.005877814273399584, 0.006850252793667124, 0.009076105372764853, 0.01631677927533734, 0.00707507954561765, 0.01165447660195898, 0.012195051666623132, 0.020877839815700693, 0.005760776389569788, 0.0039372395840365755, 0.038750109119782696, 0.00848653485583321, 0.02006834987141673, 0.0024706255732582076, 0.002996708419169945, 0.005965090205443608, 0.009324470065421564, 0.007862034552192422, 0.003627567935608947, 0.006864760693001239, 0.005661171847807378, 0.020877839815700693, 0.011913674333255204, 0.004702592456785732, 0.0047365416646842256, 0.012586259424206896, 0.0016854859670828786, 0.00426325952513659, 0.008975368019607423, 0.017263284855703248, 0.0218243453960666, 0.014360127644708317, 0.00966022330821215, 0.005835029408951078, 0.009349115197222485, 0.009827553080657895, 0.01744104501467582, 0.0036845599352619326, 0.009770825645865849, 0.07438923818207607, 0.009203939748078475, 0.0022690062313897607, 0.007143647719921484, 0.003951596449194713, 0.00482537199126299, 0.01491194003043958, 0.017263284855703248, 0.010822090312773949, 0.008997523724284065, 0.003985341459999637, 0.025438900356064047, 0.013935006872140653, 0.014036249005155665, 0.014719405295679059, 0.00610050477945652, 0.006212998120660452, 0.008522263156123484, 0.008141163774976548, 0.004837905757702478, 0.04101859009750943, 0.013870531483878868, 0.006935265741939434, 0.01631677927533734, 0.018899168737897043]                                                                                                                                                                                                                                                                                                                                                                                                                                                                                                                                                                                                                                                                                                                                                                                                                                                                                                                                                                                                                                                                                                                                                                                                                                                                                                                                                                                                              |[95, 164, 273, 397, 437, 510, 541, 552, 593, 606, 646, 664, 1023, 1143, 1191, 1256, 1491, 1621, 1634, 1778, 1779, 1940, 1954, 2020, 2251, 2420, 2433, 2446, 2647, 3088, 3222, 3289, 3535, 3596, 3621, 3665, 4351, 4635, 4700, 5196, 5320, 5353, 5460, 5486, 5526, 5527, 5541, 5885, 5886, 6113, 6296, 6649, 6722, 6767, 6938, 7439, 7463, 7535, 7643, 7699, 7700, 7823, 7990, 7991, 8217, 8228, 8715, 8716, 8774, 8783, 8826, 9309, 9458, 9753, 9882, 9925, 9980, 10010, 10313, 10706, 10784, 11041, 11341, 11612, 11644, 11686, 11933, 11949, 12070, 12131, 12264, 12282, 12382, 12572, 12671, 13071, 13241]                                                                                                                                                                                                                                                                                                                                                                                                     |um pretti averag ramen see hype back great par tast good ramen place better price top place decent varieti quick scare line great servic alway fast alway friend order tonkotsu black ramen far soup base tast great find salti black garlic oil add nice flavour high recommend get pork littl bland like decent portion alreadi soup bother get extra honest know lot peopl love place soup base way salti understand palat littl bland sometim howev ask friend normal eat salti food even found salti burn tongu person take friend brought week ago ramen rampag spici tan tan amaz sooth cold night love much came back next night friend unfortun tan tan tri tonkatsu black also got tast friend miso black tomato complex flavour hard fulli describ noth short foodgasm back often possibl                                                                                                                                                                                                                                                                                                                                                                                                |Noodles, Ramen, Japanese, Restaurants                                     |sansotei                               |4.0    |\n",
            "|-BmqghX1sv7sgsxOIS2yAg|[reccomend, probabl, vega, food, hard, far, ask, would, restaraunt, water, us, averag, servic, point, first, nice, ok, chill, raw, cabag, littl, ultra, perfect, wife, receiv, garbag, redicul, earn, back, soo, experi, casual, spice, howev, high, place, skeptic, good, came, multipl, loov, expier, notic, charg, given, dish, one, anyway, worth, beef, favorit, ethiopian, bottl, say, time, delici, review, updat, assum, better, bad, decent]                                                                                                                                                                                                                                                                                                                                                                                                                                                                                                                                                                                                                                                                                                                                                          |[0.03626151125884857, 0.012149551881134934, 0.014902967964139353, 0.008688880621663796, 0.012341830243561789, 0.013058511343546764, 0.008348410196911422, 0.005466193958320698, 0.03790544200369462, 0.05334434596396542, 0.007881880981611581, 0.014383118736722596, 0.0073356210777060235, 0.01303393323650572, 0.015704185101176903, 0.006262893100800701, 0.011783379593440758, 0.023549120038598142, 0.0211808792104507, 0.04418335325000597, 0.007441357335555261, 0.03394452100811592, 0.009694191647702874, 0.01450871502496247, 0.016546898708985406, 0.02952620387754759, 0.04022243225442727, 0.02651989692339799, 0.004913257021798174, 0.027993235863449734, 0.00898781192450845, 0.018663363083971516, 0.017427777519914527, 0.011923005414160045, 0.009832561630402286, 0.002742208332185604, 0.027666609761804573, 0.0029274229954597366, 0.007404608648921445, 0.020980353334704164, 0.04418335325000597, 0.04418335325000597, 0.01650172534269075, 0.03188965292953199, 0.017271208792286795, 0.009572460157571445, 0.004889619341443269, 0.017588757209612046, 0.01087442013102893, 0.011963533251254918, 0.010345079147260081, 0.1049591385262277, 0.037458852519918054, 0.008402678421272725, 0.008721094275714658, 0.006772395643453216, 0.00994572178516436, 0.020882668886293546, 0.02182848477190046, 0.008402678421272725, 0.009846584707568865, 0.024090923103579083]                                                                                                                                                                                                                                                                                                                                                                                                                                                                                                                                                                                                                                                                                                                                                                                                                                                                                                                                                                                                                                                                                                                                                                                                                                                                                                                                                                                                                                                                                                                                                                                                                                                                                                                                                                                                                                                                                                                                                                                                                                                                                                                                                                                                                 |[338, 380, 422, 437, 510, 552, 593, 696, 697, 967, 1041, 1191, 1491, 1570, 1620, 1634, 1780, 1888, 2173, 2323, 2647, 2902, 3905, 3917, 4224, 4440, 4477, 4636, 5526, 5795, 5842, 5901, 6264, 6722, 6767, 7535, 7627, 7699, 7700, 7701, 7741, 7854, 8025, 8241, 8585, 8981, 9530, 9638, 9721, 9722, 9894, 10209, 10271, 10515, 10529, 10686, 11587, 11613, 12164, 12282, 12459, 12572]                                                                                                                                                                                                                                                                                                                                                                                                                                                                                                                                                                                                                             |littl skeptic first time came updat review back multipl time ethiopian food soo point redicul good servic ultra casual chill place far favorit ethiopian restaraunt high reccomend spice perfect raw beef delici worth hard earn wife say loov cabag dish first ethiopian food experi bad one food decent servic ok ask water given bottl water charg us assum vega water garbag anyway probabl better receiv bottl water howev notic charg would nice averag expier decent food                                                                                                                                                                                                                                                                                                                                                                                                                                                                                                                                                                                                                                                                                                                    |Restaurants, Ethiopian, Vegetarian, Cafes                                 |merkato ethiopian cafe                 |4.0    |\n",
            "|-CbDQXiuKzPQ0_jiUz03aw|[leav, season, way, food, noodl, fact, crispi, want, salmon, servic, first, drunkin, know, date, grab, mouth, perfect, dinner, real, love, disappoint, groupon, fri, meal, back, clean, outstand, joy, soft, place, head, cash, good, omg, ad, fork, soon, quaint, dish, fabul, one, order, jump, right, ran, friend, hot, due, lunch, delici, heat, basil, review, level, quit, control, amount, expir, succul]                                                                                                                                                                                                                                                                                                                                                                                                                                                                                                                                                                                                                                                                                                                                                                                               |[0.015416245287861102, 0.016040634097021177, 0.010126734800505025, 0.0024277754678178253, 0.05252724318760049, 0.017509081062533495, 0.017170634541620034, 0.016716298083412597, 0.03860623141805283, 0.004099317661071014, 0.00877586814477533, 0.042364905768835164, 0.010420588063063408, 0.018493592674748396, 0.020297224142817732, 0.019245835651915767, 0.021669369565453483, 0.010580082206556124, 0.01661835503509971, 0.006866988970746542, 0.011212332723159994, 0.0316737480050666, 0.019228950887078076, 0.009576721539171986, 0.005491287259656783, 0.012974465568765062, 0.019597485025524757, 0.032999874921964954, 0.01854448285282937, 0.006129642154297233, 0.03872182828947732, 0.0242700686897429, 0.003271825700807941, 0.025212973095798032, 0.01869963259302508, 0.028572963221024057, 0.017640769925076533, 0.02765902341589399, 0.010698631940815146, 0.0226233957567439, 0.005464868675730712, 0.004404541507991889, 0.032526570754738464, 0.01032112713217091, 0.025663985151187032, 0.005789341423582425, 0.011579292751743474, 0.020859052858556403, 0.010377772147016627, 0.015138296144189541, 0.02155647418102902, 0.0272468363041257, 0.011115806701066051, 0.02197958804235291, 0.014041387144479939, 0.03351108236695337, 0.01654321671482794, 0.03793799406789427, 0.0361006597060075]                                                                                                                                                                                                                                                                                                                                                                                                                                                                                                                                                                                                                                                                                                                                                                                                                                                                                                                                                                                                                                                                                                                                                                                                                                                                                                                                                                                                                                                                                                                                                                                                                                                                                                                                                                                                                                                                                                                                                                                                                                                                                                                                                                                                                                                                                      |[242, 257, 397, 437, 511, 607, 921, 951, 1192, 1491, 1620, 1889, 2020, 2305, 3181, 3751, 3905, 3950, 4170, 4635, 4701, 5303, 5388, 5446, 5526, 5776, 6487, 7049, 7403, 7535, 7628, 7629, 7699, 7773, 7803, 8393, 8773, 8784, 8981, 9398, 9530, 9882, 10046, 10252, 10296, 10313, 10388, 10547, 10565, 10686, 11004, 11150, 11587, 11745, 11762, 11835, 11877, 12943, 13209]                                                                                                                                                                                                                                                                                                                                                                                                                                                                                                                                                                                                                                       |omg place fabul groupon due expir ran cash first place quit quaint clean servic outstand food delici love fact control level hot heat want meal order salmon drunkin noodl delici know one review want noodl crispi soft noodl perfect way fri basil leav ad right amount succul good dish salmon season fri perfect mouth jump joy fork grab date friend head lunch dinner disappoint head back real soon                                                                                                                                                                                                                                                                                                                                                                                                                                                                                                                                                                                                                                                                                                                                                                                          |Restaurants, Thai, Japanese                                               |taiga modern japanese & thai restaurant|4.0    |\n",
            "|-D2vGSq_SvuCmHdqsDxzeA|[th, week, way, food, tabl, could, wear, crystal, us, wise, freshest, averag, mani, pearl, ambianc, servic, first, nice, antiqu, home, jar, drip, menu, without, brought, pronounc, huge, chang, complet, box, scotch, memor, past, list, celebr, artisan, chees, artifact, felt, savour, upward, inglewood, underdress, great, mute, call, dinner, option, format, manag, state, bead, beneath, caff, appetit, curios, chandeli, raindrop, evok, star, took, shine, meal, dollar, like, finish, glasswar, clean, avenu, outsid, fine, accent, next, mini, recent, curat, ceram, chao, set, offer, outstand, restaur, decor, present, thought, answer, ampl, question, client, partner, earthi, touch, wall, look, orchestr, head, art, collect, extrem, italia, crew, sacr, artist, went, absolut, light, piec, portion, tomato, warm, desert, sugo, price, jam, dish, job, illumin, corner, titil, almost, basic, greet, one, invit, work, masterpiec, front, got, sit, simpl, unpack, say, time, ingredi, eclect, imagin, worker, co, contemporari, even, exquisit, bright, choic, quick, hang, find, reserv, line, tantal, woman, eleg, reason, craigslist, staff, impress, everi, palat, object, needless]|[0.008516908729764329, 0.0112967474503034, 0.003762939707291485, 9.021242175497931E-4, 0.003577286715201051, 0.00362475217522888, 0.010908235032693229, 0.026269861612689932, 0.0032733494787020776, 0.009315422585929562, 0.012086376018154184, 0.005973317070988619, 0.008669604183042235, 0.014529862528220958, 0.0067615350589869064, 0.0015232437210537099, 0.003260978327020341, 0.002600982927108488, 0.016704398094734823, 0.009349811224218811, 0.01148995815244343, 0.012086376018154184, 0.0030713378669747463, 0.005527769795354181, 0.0061892107392054144, 0.015059425440833286, 0.00511656240508537, 0.00589716527894877, 0.01334660415130106, 0.007567251330058772, 0.014097178123589127, 0.01019985329599006, 0.006690688189236264, 0.00645816168275832, 0.019310057267474916, 0.015059425440833286, 0.004166331285108632, 0.01834937074863636, 0.006038698448199785, 0.01834937074863636, 0.016704398094734823, 0.016704398094734823, 0.016704398094734823, 0.001647055316510128, 0.016704398094734823, 0.005037006557156818, 0.01179419000075109, 0.004689878493890983, 0.016704398094734823, 0.005002486764677624, 0.008200012844640357, 0.016704398094734823, 0.014529862528220958, 0.016704398094734823, 0.010124507479128676, 0.014529862528220958, 0.013731348672055721, 0.015742150777490662, 0.01834937074863636, 0.003788485636307805, 0.00450223355707278, 0.012086376018154184, 0.00711712638976716, 0.00826686779773878, 0.0017820905774321497, 0.006304999258713273, 0.01834937074863636, 0.004821112888940023, 0.012262248604883154, 0.005614869254924934, 0.006725847260304078, 0.01288488987431942, 0.004302688017041291, 0.009315422585929562, 0.0069680299272349925, 0.015742150777490662, 0.016704398094734823, 0.014529862528220958, 0.006816093643175982, 0.005072035885235223, 0.007282125583255102, 0.0073417098591210764, 0.0110984936194344, 0.02226122700000744, 0.005107590016741235, 0.01759286142070222, 0.011239917220417884, 0.007567251330058772, 0.012262248604883154, 0.010617275950981617, 0.014529862528220958, 0.007618289724890156, 0.007151458056449575, 0.0030599737883238126, 0.01834937074863636, 0.007194219463618737, 0.02105542167039854, 0.012086376018154184, 0.00620337910302115, 0.015059425440833286, 0.012086376018154184, 0.01834937074863636, 0.013134930806344966, 0.003256868899343851, 0.005402836008690223, 0.005960454199986011, 0.011719973092816176, 0.004208873672030286, 0.006743624076685071, 0.011998507748801956, 0.008370819914205614, 0.05504811224590908, 0.0026577153631397545, 0.010710354307805554, 0.003975447934291967, 0.01430291611289915, 0.016704398094734823, 0.00844274038446775, 0.01834937074863636, 0.005402836008690223, 0.006987724595370649, 0.007109453528218477, 0.002030661584424527, 0.009844985498541894, 0.004227342200179908, 0.014529862528220958, 0.006319878266010941, 0.0028503318649929074, 0.0051346095938836515, 0.006948497356971069, 0.015742150777490662, 0.0034896369399821155, 0.0018109376091647925, 0.006411166208649482, 0.011769480133030212, 0.00879643071035111, 0.008200012844640357, 0.009594944566516347, 0.014097178123589127, 0.005749345057048656, 0.01101372768403414, 0.009655028633737458, 0.005245873433488613, 0.004400364103214539, 0.0083356608431378, 0.004481506841132129, 0.00657157819418247, 0.006147206210974317, 0.015059425440833286, 0.00942331361432168, 0.01192264255707526, 0.004447359577323378, 0.01834937074863636, 0.003188075853944832, 0.01205095455625298, 0.008814042065875176, 0.011769480133030212, 0.014529862528220958, 0.009911840451640317]|[140, 273, 397, 437, 789, 808, 819, 1024, 1041, 1059, 1060, 1191, 1229, 1408, 1426, 1491, 1620, 1634, 1748, 1840, 1842, 1924, 1955, 1956, 2251, 2262, 2324, 2499, 2682, 2698, 2713, 2851, 2884, 2963, 2997, 2998, 3089, 3148, 3223, 3304, 3358, 3359, 3574, 3621, 3642, 3717, 3950, 4019, 4031, 4051, 4064, 4155, 4256, 4461, 4478, 4621, 5085, 5105, 5210, 5254, 5274, 5354, 5446, 5461, 5541, 5677, 5678, 5776, 5796, 5816, 5864, 5865, 5886, 5978, 6098, 6143, 6215, 6297, 6342, 6454, 6487, 6629, 6663, 6723, 6741, 6844, 6899, 7003, 7126, 7260, 7274, 7315, 7430, 7437, 7571, 7628, 7644, 7684, 7930, 7992, 8130, 8256, 8321, 8413, 8414, 8451, 8570, 8715, 8716, 8717, 8775, 8776, 8826, 8961, 8981, 9067, 9068, 9132, 9151, 9308, 9320, 9429, 9530, 9531, 9551, 9786, 9852, 9980, 10147, 10430, 10448, 10515, 10529, 10566, 10599, 10629, 10647, 10687, 11136, 11341, 11480, 11562, 11876, 11949, 12052, 12070, 12083, 12131, 12202, 12283, 12517, 12586, 12775, 12878, 12973, 12989, 13071, 13173, 13242]|recent answer job offer craigslist state chao unpack box orchestr home masterpiec quick answer got basic curat woman art sacr object artifact collect needless say memor week work imagin eclect home job finish client invit crew celebr dinner brought us restaur inglewood th avenu call sugo caff italia sit outsid sugo felt underdress co worker appetit curios manag find way restaur reserv warm greet staff decor restaur exquisit simpl clean accent contemporari earthi art piec warm mute wall jar tomato jam illumin upward mini light shine bright beneath antiqu chandeli hang drip crystal raindrop line pearl bead corner thought decor wise tabl set complet artisan ceram fine crystal glasswar averag meal dollar savour mani dish menu chang everi even mani chees option pronounc complet titil everi meal present evok artist touch freshest ingredi present front tantal palat extrem impress ampl scotch list choic huge portion desert present eleg format look like one could almost wear head piec impress sugo first time took partner celebr dinner next even absolut star without question went dinner past week food great servic outstand nice ambianc reason price|Restaurants, Italian                                                      |sugo caffe italia                      |3.5    |\n",
            "|-DcE_4T0_iRKGLARmjsjUw|[jalapeno, world, carn, food, flour, spot, origin, first, found, sauc, save, gave, chees, taco, chicken, measur, previous, tongu, tortilla, must, associ, el, tri, west, drove, ranchero, phoenix, tough, restaur, paid, sweet, banter, salad, yelp, around, emphas, order, spici, asada, milk, rice, friend, hot, time, mexican, od, bean, pick, drink, better, coast, authent]                                                                                                                                                                                                                                                                                                                                                                                                                                                                                                                                                                                                                                                                                                                                                                                                                               |[0.03149061948203791, 0.025667295297749613, 0.032427820556565366, 0.008539072335083386, 0.03868950852920029, 0.014405010577485068, 0.025872454320158368, 0.010288948859391765, 0.016581646550081333, 0.011467033236607306, 0.023796745546751825, 0.018037603205943095, 0.013145493537497924, 0.020578999848552014, 0.010237219217415916, 0.03868950852920029, 0.026638301557889627, 0.037134739040422915, 0.027363497161350163, 0.017241379310344827, 0.04144297133726084, 0.035098544004595424, 0.01364019004587699, 0.027621723988413147, 0.03409868284980772, 0.04232491137945707, 0.026191133728675837, 0.02788917512941741, 0.00772145347252389, 0.02395606721459515, 0.015161523300113972, 0.05789542839655955, 0.013164522355603916, 0.019987547587000536, 0.01261369792457606, 0.04751508371849123, 0.005163945216266352, 0.016257956879821307, 0.03149061948203791, 0.028309163851131976, 0.029547433958024217, 0.006787503737993188, 0.013575722536526832, 0.0057138203875371895, 0.06850919438862953, 0.05789542839655955, 0.020426699630830686, 0.018074218613354395, 0.011039040413761926, 0.01101040620718495, 0.03761799289559953, 0.020630462840784118]                                                                                                                                                                                                                                                                                                                                                                                                                                                                                                                                                                                                                                                                                                                                                                                                                                                                                                                                                                                                                                                                                                                                                                                                                                                                                                                                                                                                                                                                                                                                                                                                                                                                                                                                                                                                                                                                                                                                                                                                                                                                                                                                                                                                                                                                                                                                                                                                                                          |[96, 274, 322, 437, 553, 1334, 1409, 1620, 1779, 2185, 2230, 2945, 3089, 3425, 3801, 3951, 4080, 4351, 4661, 5119, 5542, 5832, 5885, 5887, 6060, 6397, 6414, 6415, 6629, 6823, 6900, 7127, 8064, 8473, 9321, 9708, 9882, 9925, 9981, 10253, 10272, 10313, 10388, 10529, 10688, 11078, 11137, 11412, 11811, 12282, 12974, 13072]                                                                                                                                                                                                                                                                                                                                                                                                                                                                                                                                                                                                                                                                                   |tough measur mexican food first time west coast friend emphas must tri mexican food phoenix drove around mexican restaur yelp banter associ found el ranchero previous origin gave tri order carn asada chicken taco sweet rice milk drink world rice bean chees salad hot sauc flour tortilla paid pick better authent spot jalapeno od spici save tongu food                                                                                                                                                                                                                                                                                                                                                                                                                                                                                                                                                                                                                                                                                                                                                                                                                                      |Nightlife, Mexican, Restaurants, Local Flavor, Bars                       |el ranchero of traditional mexican food|4.0    |\n",
            "|-EohS3nXZGl6odE9Lx5BSw|[would, could, alway, zero, star, employe, mess, give, place, your, most, order, suck, stupid, even, costum]                                                                                                                                                                                                                                                                                                                                                                                                                                                                                                                                                                                                                                                                                                                                                                                                                                                                                                                                                                                                                                                                                                   |[0.025964421302023317, 0.04145810300418032, 0.037438934662655014, 0.11579905429253423, 0.04333080446527052, 0.0794734385203566, 0.09656384314734989, 0.04190036786161371, 0.01302548957788162, 0.19105655320852954, 0.09304394545434234, 0.018719301408965525, 0.09828781324935543, 0.13461342902153306, 0.032879067044997004, 0.15705230043663732]                                                                                                                                                                                                                                                                                                                                                                                                                                                                                                                                                                                                                                                                                                                                                                                                                                                                                                                                                                                                                                                                                                                                                                                                                                                                                                                                                                                                                                                                                                                                                                                                                                                                                                                                                                                                                                                                                                                                                                                                                                                                                                                                                                                                                                                                                                                                                                                                                                                                                                                                                                                                                                                                                                                                                                                                                                                                                                                                                                                                                                                                                                                                                                                                                                                              |[696, 808, 3665, 4320, 5254, 5612, 6953, 7076, 7535, 9051, 9639, 9882, 10630, 10989, 11341, 11433]                                                                                                                                                                                                                                                                                                                                                                                                                                                                                                                                                                                                                                                                                                                                                                                                                                                                                                                |place suck employe stupid most alway mess order even your costum could would give zero star                                                                                                                                                                                                                                                                                                                                                                                                                                                                                                                                                                                                                                                                                                                                                                                                                                                                                                                                                                                                                                                                                                         |Event Planning & Services, Caterers, Chinese, Fast Food, Restaurants      |panda express                          |1.5    |\n",
            "|-FNquqGseSCVMWo7KbK-Tg|[communiti, food, extra, lot, often, forget, great, franchis, charg, uni, feed, starv, hear, student, support]                                                                                                                                                                                                                                                                                                                                                                                                                                                                                                                                                                                                                                                                                                                                                                                                                                                                                                                                                                                                                                                                                                 |[0.13296787035138624, 0.010318045738225758, 0.0664667888024288, 0.044470695048586514, 0.07315088288524942, 0.0923200784199789, 0.01883819518258459, 0.1447838851151393, 0.07573792570763849, 0.16123647478855063, 0.1247629381864288, 0.11415349562238741, 0.09416728114258616, 0.2544644440333168, 0.11942355097863966]                                                                                                                                                                                                                                                                                                                                                                                                                                                                                                                                                                                                                                                                                                                                                                                                                                                                                                                                                                                                                                                                                                                                                                                                                                                                                                                                                                                                                                                                                                                                                                                                                                                                                                                                                                                                                                                                                                                                                                                                                                                                                                                                                                                                                                                                                                                                                                                                                                                                                                                                                                                                                                                                                                                                                                                                                                                                                                                                                                                                                                                                                                                                                                                                                                                                                         |[339, 437, 1621, 2420, 2446, 2535, 3621, 5057, 8241, 10480, 10648, 10930, 11563, 12401, 13090]                                                                                                                                                                                                                                                                                                                                                                                                                                                                                                                                                                                                                                                                                                                                                                                                                                                                                                                    |food great franchis feed lot starv uni student often forget charg extra support student communiti hear                                                                                                                                                                                                                                                                                                                                                                                                                                                                                                                                                                                                                                                                                                                                                                                                                                                                                                                                                                                                                                                                                              |Restaurants, Mexican, Fast Food                                           |chipotle mexican grill                 |3.5    |\n",
            "+----------------------+---------------------------------------------------------------------------------------------------------------------------------------------------------------------------------------------------------------------------------------------------------------------------------------------------------------------------------------------------------------------------------------------------------------------------------------------------------------------------------------------------------------------------------------------------------------------------------------------------------------------------------------------------------------------------------------------------------------------------------------------------------------------------------------------------------------------------------------------------------------------------------------------------------------------------------------------------------------------------------------------------------------------------------------------------------------------------------------------------------------------------------------------------------------------------------------------------------------+-----------------------------------------------------------------------------------------------------------------------------------------------------------------------------------------------------------------------------------------------------------------------------------------------------------------------------------------------------------------------------------------------------------------------------------------------------------------------------------------------------------------------------------------------------------------------------------------------------------------------------------------------------------------------------------------------------------------------------------------------------------------------------------------------------------------------------------------------------------------------------------------------------------------------------------------------------------------------------------------------------------------------------------------------------------------------------------------------------------------------------------------------------------------------------------------------------------------------------------------------------------------------------------------------------------------------------------------------------------------------------------------------------------------------------------------------------------------------------------------------------------------------------------------------------------------------------------------------------------------------------------------------------------------------------------------------------------------------------------------------------------------------------------------------------------------------------------------------------------------------------------------------------------------------------------------------------------------------------------------------------------------------------------------------------------------------------------------------------------------------------------------------------------------------------------------------------------------------------------------------------------------------------------------------------------------------------------------------------------------------------------------------------------------------------------------------------------------------------------------------------------------------------------------------------------------------------------------------------------------------------------------------------------------------------------------------------------------------------------------------------------------------------------------------------------------------------------------------------------------------------------------------------------------------------------------------------------------------------------------------------------------------------------------------------------------------------------------------------------------------------------------------------------------------------------------------------------------------------------------------------------------------------------------------------------------------------------------------------------------------------------------------------------------------------------------------------------------------------------------------------------------------------------------------------------------------------------------------------------------+------------------------------------------------------------------------------------------------------------------------------------------------------------------------------------------------------------------------------------------------------------------------------------------------------------------------------------------------------------------------------------------------------------------------------------------------------------------------------------------------------------------------------------------------------------------------------------------------------------------------------------------------------------------------------------------------------------------------------------------------------------------------------------------------------------------------------------------------------------------------------------------------------------------------------------------------------------------------------------------------------------------+----------------------------------------------------------------------------------------------------------------------------------------------------------------------------------------------------------------------------------------------------------------------------------------------------------------------------------------------------------------------------------------------------------------------------------------------------------------------------------------------------------------------------------------------------------------------------------------------------------------------------------------------------------------------------------------------------------------------------------------------------------------------------------------------------------------------------------------------------------------------------------------------------------------------------------------------------------------------------------------------------------------------------------------------------------------------------------------------------------------------------------------------------------------------------------------------------+--------------------------------------------------------------------------+---------------------------------------+-------+\n",
            "only showing top 10 rows\n",
            "\n"
          ],
          "name": "stdout"
        }
      ]
    },
    {
      "cell_type": "markdown",
      "metadata": {
        "id": "o5ZMRwJT_O1o"
      },
      "source": [
        "zipWithIndex() : \n",
        "\n",
        "Zips the RDD with its element indices.\n",
        "The ordering is first based on the partition index and then the ordering of items within each partition. So the first item in the first partition gets index 0, and the last item in the last partition receives the largest index."
      ]
    },
    {
      "cell_type": "code",
      "metadata": {
        "id": "HPhQYi3AqahT"
      },
      "source": [
        "index_df = intermediate_df_1.rdd.map(lambda x:x[0]).zipWithIndex().toDF(['business_id','index_id'])"
      ],
      "execution_count": null,
      "outputs": []
    },
    {
      "cell_type": "code",
      "metadata": {
        "colab": {
          "base_uri": "https://localhost:8080/"
        },
        "id": "YfpDGKRvqu2o",
        "outputId": "5b3a15a0-85cd-4061-cc41-5f46b4cb14e9"
      },
      "source": [
        "index_df.show(20,False)"
      ],
      "execution_count": null,
      "outputs": [
        {
          "output_type": "stream",
          "text": [
            "+----------------------+--------+\n",
            "|business_id           |index_id|\n",
            "+----------------------+--------+\n",
            "|-5L8zOxibac-vBrsYtxXbQ|0       |\n",
            "|-7-uHFjQLH_uxPauYtd8iA|1       |\n",
            "|-8F04F54iDT6VgWPCgybug|2       |\n",
            "|-BbnAc9YEO6pjvJGEtFbVQ|3       |\n",
            "|-BmqghX1sv7sgsxOIS2yAg|4       |\n",
            "|-CbDQXiuKzPQ0_jiUz03aw|5       |\n",
            "|-D2vGSq_SvuCmHdqsDxzeA|6       |\n",
            "|-DcE_4T0_iRKGLARmjsjUw|7       |\n",
            "|-EohS3nXZGl6odE9Lx5BSw|8       |\n",
            "|-FNquqGseSCVMWo7KbK-Tg|9       |\n",
            "|-FtngCwHCD2tRlH8jpj_Ag|10      |\n",
            "|-H3hHmLfDmXQyuAlb3qFfg|11      |\n",
            "|-JKp9ykFyhswkIQ6XhhJOQ|12      |\n",
            "|-Jhlh8Scjy669NdtCfKSSg|13      |\n",
            "|-MC7EFxTsyKMKB3zeP_FIQ|14      |\n",
            "|-PGsEXB6DFTVKa1eDOlzWA|15      |\n",
            "|-QC71Wuh0TyJI0RAZ3d0Iw|16      |\n",
            "|-RIWE3MU3GCHM5KIW7PLww|17      |\n",
            "|-TVXOYL6kvKP1uW6ND9PIg|18      |\n",
            "|-U0liwRSHGYBEMYVj8kFmQ|19      |\n",
            "+----------------------+--------+\n",
            "only showing top 20 rows\n",
            "\n"
          ],
          "name": "stdout"
        }
      ]
    },
    {
      "cell_type": "code",
      "metadata": {
        "id": "zs0gUl43q0ze"
      },
      "source": [
        "intermediate_df_2 = index_df.join(intermediate_df_1,on='business_id',how='inner')"
      ],
      "execution_count": null,
      "outputs": []
    },
    {
      "cell_type": "code",
      "metadata": {
        "colab": {
          "base_uri": "https://localhost:8080/"
        },
        "id": "dBVmqFpars05",
        "outputId": "da93ce0c-d766-4ad6-f15e-fa5b103ec89d"
      },
      "source": [
        "intermediate_df_2.show()"
      ],
      "execution_count": null,
      "outputs": [
        {
          "output_type": "stream",
          "text": [
            "+--------------------+--------+--------------------+--------------------+--------------------+--------------------+--------------------+--------------------+-------+\n",
            "|         business_id|index_id| collect_list(Token)|collect_list(TF-IDF)| collect_list(index)|              review|          categories|                name|ratings|\n",
            "+--------------------+--------+--------------------+--------------------+--------------------+--------------------+--------------------+--------------------+-------+\n",
            "|-5L8zOxibac-vBrsY...|       0|[insid, week, foo...|[0.00773655637606...|[204, 273, 437, 4...|pleasur host cd r...|Nightlife, Americ...|         ed's tavern|    3.5|\n",
            "|-7-uHFjQLH_uxPauY...|       1|[noth, check, foo...|[0.01820229206417...|[164, 421, 437, 8...|great italian foo...|Wine Bars, Bars, ...|prego cucina ital...|    3.5|\n",
            "|-8F04F54iDT6VgWPC...|       2|[beauti, food, se...|[0.01864894013084...|[256, 437, 1491, ...|super cute place ...|Coffee & Tea, Res...|    ineffable ca phe|    4.5|\n",
            "|-BbnAc9YEO6pjvJGE...|       3|[varieti, noth, w...|[0.00922769515605...|[95, 164, 273, 39...|um pretti averag ...|Noodles, Ramen, J...|            sansotei|    4.0|\n",
            "|-BmqghX1sv7sgsxOI...|       4|[reccomend, proba...|[0.03626151125884...|[338, 380, 422, 4...|littl skeptic fir...|Restaurants, Ethi...|merkato ethiopian...|    4.0|\n",
            "|-CbDQXiuKzPQ0_jiU...|       5|[leav, season, wa...|[0.01541624528786...|[242, 257, 397, 4...|omg place fabul g...|Restaurants, Thai...|taiga modern japa...|    4.0|\n",
            "|-D2vGSq_SvuCmHdqs...|       6|[th, week, way, f...|[0.00851690872976...|[140, 273, 397, 4...|recent answer job...|Restaurants, Italian|   sugo caffe italia|    3.5|\n",
            "|-DcE_4T0_iRKGLARm...|       7|[jalapeno, world,...|[0.03149061948203...|[96, 274, 322, 43...|tough measur mexi...|Nightlife, Mexica...|el ranchero of tr...|    4.0|\n",
            "|-EohS3nXZGl6odE9L...|       8|[would, could, al...|[0.02596442130202...|[696, 808, 3665, ...|place suck employ...|Event Planning & ...|       panda express|    1.5|\n",
            "|-FNquqGseSCVMWo7K...|       9|[communiti, food,...|[0.13296787035138...|[339, 437, 1621, ...|food great franch...|Restaurants, Mexi...|chipotle mexican ...|    3.5|\n",
            "|-FtngCwHCD2tRlH8j...|      10|[twice, size, hos...|[0.00334458590926...|[59, 72, 97, 98, ...|father day sister...|Breakfast & Brunc...|  hash house a go go|    3.5|\n",
            "|-H3hHmLfDmXQyuAlb...|      11|[soup, amaz, indo...|[0.06483469562007...|[606, 646, 1446, ...|place awesom tuna...|Indonesian, Resta...|ohiyo 68 asian cu...|    4.0|\n",
            "|-JKp9ykFyhswkIQ6X...|      12|[twice, size, sys...|[0.01699411218760...|[59, 72, 141, 398...|justifi four star...|African, Bars, Ni...|teranga african b...|    3.0|\n",
            "|-Jhlh8Scjy669NdtC...|      13|[huff, size, brai...|[0.00948569165819...|[39, 72, 186, 222...|went big group tw...|Wine Bars, Event ...|           v picasso|    3.5|\n",
            "|-MC7EFxTsyKMKB3ze...|      14|[food, soup, free...|[0.00562802494812...|[437, 606, 698, 9...|awesom cheap fami...|Donuts, Fast Food...|stownut donut & d...|    4.0|\n",
            "|-PGsEXB6DFTVKa1eD...|      15|[step, decaf, not...|[0.00260721117046...|[0, 114, 164, 187...|mindi mindi mindi...|Breakfast & Brunc...|    black bear diner|    3.5|\n",
            "|-QC71Wuh0TyJI0RAZ...|      16|[system, cleanli,...|[0.03015376674351...|[141, 205, 437, 6...|disappoint overal...|Mexican, Restaura...|chipotle mexican ...|    2.5|\n",
            "|-RIWE3MU3GCHM5KIW...|      17|[size, probabl, w...|[0.02814350982943...|[72, 380, 397, 43...|vacat wife spend ...|Restaurants, Bars...|polo's italian cu...|    4.0|\n",
            "|-TVXOYL6kvKP1uW6N...|      18|[food, tabl, arri...|[0.00569271489005...|[437, 789, 1749, ...|wait year get wha...|Fast Food, Restau...|         whataburger|    2.5|\n",
            "|-U0liwRSHGYBEMYVj...|      19|[burger, week, pa...|[0.01361434648798...|[224, 273, 400, 4...|one favorit place...|American (New), S...|      mickey & mooch|    3.0|\n",
            "+--------------------+--------+--------------------+--------------------+--------------------+--------------------+--------------------+--------------------+-------+\n",
            "only showing top 20 rows\n",
            "\n"
          ],
          "name": "stdout"
        }
      ]
    },
    {
      "cell_type": "markdown",
      "metadata": {
        "id": "T7g98GWitOba"
      },
      "source": [
        "### *Sparse Matrix for TF-IDF*"
      ]
    },
    {
      "cell_type": "code",
      "metadata": {
        "id": "XQ4P-m0GXVCi"
      },
      "source": [
        "#Defining a function to fill values at a particular index position\n",
        "import numpy as np\n",
        "m=np.zeros(len(bow)) #generating an array containing only 0 \n",
        "def fill(m,i,v):\n",
        "  '''this function is used to fill values at a particular index'''\n",
        "  '''parameter \n",
        "  m : numpy array\n",
        "  i : indexes\n",
        "  v : values'''\n",
        "  m[i]=v\n",
        "  return m"
      ],
      "execution_count": null,
      "outputs": []
    },
    {
      "cell_type": "code",
      "metadata": {
        "id": "LoGDjprrXWdO"
      },
      "source": [
        "#Filling the array with tfidf values at respective indexes\n",
        "array_tfidf = intermediate_df_2.rdd.map(lambda x: fill(m,x[4],x[3])) \n",
        "array_tfidf = array_tfidf.collect()"
      ],
      "execution_count": null,
      "outputs": []
    },
    {
      "cell_type": "code",
      "metadata": {
        "colab": {
          "base_uri": "https://localhost:8080/"
        },
        "id": "PxOyBIskabPr",
        "outputId": "053e323b-7449-4ffb-880f-2272665590f6"
      },
      "source": [
        "type(array_tfidf)"
      ],
      "execution_count": null,
      "outputs": [
        {
          "output_type": "execute_result",
          "data": {
            "text/plain": [
              "list"
            ]
          },
          "metadata": {
            "tags": []
          },
          "execution_count": 88
        }
      ]
    },
    {
      "cell_type": "code",
      "metadata": {
        "colab": {
          "base_uri": "https://localhost:8080/"
        },
        "id": "y2NAZNikucbX",
        "outputId": "0f82e1e1-a117-4005-eb3b-cfb207293c93"
      },
      "source": [
        "array_tfidf[0:5]"
      ],
      "execution_count": null,
      "outputs": [
        {
          "output_type": "execute_result",
          "data": {
            "text/plain": [
              "[array([0., 0., 0., ..., 0., 0., 0.]),\n",
              " array([0., 0., 0., ..., 0., 0., 0.]),\n",
              " array([0., 0., 0., ..., 0., 0., 0.]),\n",
              " array([0., 0., 0., ..., 0., 0., 0.]),\n",
              " array([0., 0., 0., ..., 0., 0., 0.])]"
            ]
          },
          "metadata": {
            "tags": []
          },
          "execution_count": 89
        }
      ]
    },
    {
      "cell_type": "markdown",
      "metadata": {
        "id": "BZefp3k-twoy"
      },
      "source": [
        "A sparse matrix is a matrix that is usually comprised of 0 values.\n",
        "\n",
        "csr_matrix() - helps to convert into sparse matrix"
      ]
    },
    {
      "cell_type": "code",
      "metadata": {
        "id": "wSOxiTl8XcQp"
      },
      "source": [
        "#Sparse matrix\n",
        "from scipy import sparse\n",
        "A_sparse = sparse.csr_matrix(array_tfidf)"
      ],
      "execution_count": null,
      "outputs": []
    },
    {
      "cell_type": "code",
      "metadata": {
        "colab": {
          "base_uri": "https://localhost:8080/"
        },
        "id": "jFV5ChFPvebn",
        "outputId": "6c8639b7-516b-49cc-d9e1-83f2bf786c84"
      },
      "source": [
        "type(A_sparse)"
      ],
      "execution_count": null,
      "outputs": [
        {
          "output_type": "execute_result",
          "data": {
            "text/plain": [
              "scipy.sparse.csr.csr_matrix"
            ]
          },
          "metadata": {
            "tags": []
          },
          "execution_count": 91
        }
      ]
    },
    {
      "cell_type": "code",
      "metadata": {
        "colab": {
          "base_uri": "https://localhost:8080/"
        },
        "id": "BqZ220FYXqfT",
        "outputId": "13fd1524-79f4-417a-94f8-adba475f8f13"
      },
      "source": [
        "A_sparse.shape"
      ],
      "execution_count": null,
      "outputs": [
        {
          "output_type": "execute_result",
          "data": {
            "text/plain": [
              "(2280, 13260)"
            ]
          },
          "metadata": {
            "tags": []
          },
          "execution_count": 92
        }
      ]
    },
    {
      "cell_type": "markdown",
      "metadata": {
        "id": "3yB8zeOFuSJy"
      },
      "source": [
        "### *Calculating cosine similarity for TF-IDF*"
      ]
    },
    {
      "cell_type": "markdown",
      "metadata": {
        "id": "Y36gcZCKumwc"
      },
      "source": [
        "Cosine similarity measures the similarity between two vectors of an inner product space."
      ]
    },
    {
      "cell_type": "code",
      "metadata": {
        "id": "QLOE59_MXmLc"
      },
      "source": [
        "#Finding Cosine Similarities between each business\n",
        "from sklearn.metrics.pairwise import cosine_similarity\n",
        "similarities = cosine_similarity(A_sparse)\n",
        "#cosine_similarity - computes cosine similarity "
      ],
      "execution_count": null,
      "outputs": []
    },
    {
      "cell_type": "code",
      "metadata": {
        "colab": {
          "base_uri": "https://localhost:8080/"
        },
        "id": "2HZEdOntXr_l",
        "outputId": "304553bb-5aae-4bec-c492-6ba5c091a5cd"
      },
      "source": [
        "similarities.shape"
      ],
      "execution_count": null,
      "outputs": [
        {
          "output_type": "execute_result",
          "data": {
            "text/plain": [
              "(2280, 2280)"
            ]
          },
          "metadata": {
            "tags": []
          },
          "execution_count": 94
        }
      ]
    },
    {
      "cell_type": "markdown",
      "metadata": {
        "id": "oDwj0_FifhrZ"
      },
      "source": [
        "# *Calculating the similarity between two restaurant based on their categories*"
      ]
    },
    {
      "cell_type": "markdown",
      "metadata": {
        "id": "wjgruV0qgRfh"
      },
      "source": [
        "### *One Hot encoding for categories*"
      ]
    },
    {
      "cell_type": "code",
      "metadata": {
        "id": "imvf03NRUIrg"
      },
      "source": [
        "#Extracting categories of each business id\n",
        "categories_df = intermediate_df_2.select(['business_id','categories'])"
      ],
      "execution_count": null,
      "outputs": []
    },
    {
      "cell_type": "code",
      "metadata": {
        "colab": {
          "base_uri": "https://localhost:8080/"
        },
        "id": "QelwhFmseWFM",
        "outputId": "b52ba43e-20bb-4942-ff42-4be725c36b57"
      },
      "source": [
        "categories_df.persist()"
      ],
      "execution_count": null,
      "outputs": [
        {
          "output_type": "execute_result",
          "data": {
            "text/plain": [
              "DataFrame[business_id: string, categories: string]"
            ]
          },
          "metadata": {
            "tags": []
          },
          "execution_count": 96
        }
      ]
    },
    {
      "cell_type": "code",
      "metadata": {
        "colab": {
          "base_uri": "https://localhost:8080/"
        },
        "id": "NmIknWG65rOe",
        "outputId": "52187731-6f4f-4689-927b-0806ebeb2ed5"
      },
      "source": [
        "categories_df.show()"
      ],
      "execution_count": null,
      "outputs": [
        {
          "output_type": "stream",
          "text": [
            "+--------------------+--------------------+\n",
            "|         business_id|          categories|\n",
            "+--------------------+--------------------+\n",
            "|-5L8zOxibac-vBrsY...|Nightlife, Americ...|\n",
            "|-7-uHFjQLH_uxPauY...|Wine Bars, Bars, ...|\n",
            "|-8F04F54iDT6VgWPC...|Coffee & Tea, Res...|\n",
            "|-BbnAc9YEO6pjvJGE...|Noodles, Ramen, J...|\n",
            "|-BmqghX1sv7sgsxOI...|Restaurants, Ethi...|\n",
            "|-CbDQXiuKzPQ0_jiU...|Restaurants, Thai...|\n",
            "|-D2vGSq_SvuCmHdqs...|Restaurants, Italian|\n",
            "|-DcE_4T0_iRKGLARm...|Nightlife, Mexica...|\n",
            "|-EohS3nXZGl6odE9L...|Event Planning & ...|\n",
            "|-FNquqGseSCVMWo7K...|Restaurants, Mexi...|\n",
            "|-FtngCwHCD2tRlH8j...|Breakfast & Brunc...|\n",
            "|-H3hHmLfDmXQyuAlb...|Indonesian, Resta...|\n",
            "|-JKp9ykFyhswkIQ6X...|African, Bars, Ni...|\n",
            "|-Jhlh8Scjy669NdtC...|Wine Bars, Event ...|\n",
            "|-MC7EFxTsyKMKB3ze...|Donuts, Fast Food...|\n",
            "|-PGsEXB6DFTVKa1eD...|Breakfast & Brunc...|\n",
            "|-QC71Wuh0TyJI0RAZ...|Mexican, Restaura...|\n",
            "|-RIWE3MU3GCHM5KIW...|Restaurants, Bars...|\n",
            "|-TVXOYL6kvKP1uW6N...|Fast Food, Restau...|\n",
            "|-U0liwRSHGYBEMYVj...|American (New), S...|\n",
            "+--------------------+--------------------+\n",
            "only showing top 20 rows\n",
            "\n"
          ],
          "name": "stdout"
        }
      ]
    },
    {
      "cell_type": "markdown",
      "metadata": {
        "id": "1hNgNMmdgYBR"
      },
      "source": [
        "collect() - returns a list with all the elements"
      ]
    },
    {
      "cell_type": "code",
      "metadata": {
        "id": "po-7clTEUIu7"
      },
      "source": [
        "#Creating a list of distinct restaurant categories\n",
        "dis_categories = categories_df.rdd.flatMap(lambda x: [i.strip() for i in x[1].split(',')]).distinct().collect()"
      ],
      "execution_count": null,
      "outputs": []
    },
    {
      "cell_type": "code",
      "metadata": {
        "colab": {
          "base_uri": "https://localhost:8080/"
        },
        "id": "ikwQrkum7veh",
        "outputId": "c46e3be5-1a89-4956-d8d6-2fb97c2df9a0"
      },
      "source": [
        "dis_categories[0:5]"
      ],
      "execution_count": null,
      "outputs": [
        {
          "output_type": "execute_result",
          "data": {
            "text/plain": [
              "['Whiskey Bars', 'Hungarian', 'Seafood', 'Donairs', 'Singaporean']"
            ]
          },
          "metadata": {
            "tags": []
          },
          "execution_count": 99
        }
      ]
    },
    {
      "cell_type": "code",
      "metadata": {
        "id": "FdaSMm09uejM"
      },
      "source": [
        "#Removing the redundant category - Restaurants\n",
        "dis_categories.remove('Restaurants')"
      ],
      "execution_count": null,
      "outputs": []
    },
    {
      "cell_type": "code",
      "metadata": {
        "id": "2L8_-_FdX2Pk"
      },
      "source": [
        "#Finding the index position of each category and converting it into a dataframe\n",
        "new_categories_df = categories_df.rdd.flatMap(lambda x: [(x[0],i.strip()) for i in x[1].split(',')]).map(lambda x: (x[0],x[1],find_word(dis_categories,x[1]))).toDF([\"business_id\",\"cat_list\",\"cat_encode\"]).groupby('business_id').agg(F.collect_list(\"cat_list\"),F.collect_list(\"cat_encode\"))"
      ],
      "execution_count": null,
      "outputs": []
    },
    {
      "cell_type": "code",
      "metadata": {
        "colab": {
          "base_uri": "https://localhost:8080/"
        },
        "id": "fM064e7d8Pl8",
        "outputId": "68891890-9fbb-4dd4-bfc6-28b95175ca12"
      },
      "source": [
        "new_categories_df.show(5)"
      ],
      "execution_count": null,
      "outputs": [
        {
          "output_type": "stream",
          "text": [
            "+--------------------+----------------------+------------------------+\n",
            "|         business_id|collect_list(cat_list)|collect_list(cat_encode)|\n",
            "+--------------------+----------------------+------------------------+\n",
            "|4lCTd6-EzOuKl4YbH...|  [Bars, American (...|    [225, 108, 60, 42...|\n",
            "|4x8W4quFhhuTZlsoU...|  [Fast Food, Resta...|    [80, 0, 262, 141,...|\n",
            "|ATeOjZzE3VOI-RW7F...|  [Cocktail Bars, B...|    [85, 297, 108, 0,...|\n",
            "|RMjCnixEY5i12Ciqn...|  [Restaurants, Sus...|           [0, 196, 118]|\n",
            "|VHsNB3pdGVcRgs6C3...|  [Restaurants, Irish]|                 [0, 98]|\n",
            "+--------------------+----------------------+------------------------+\n",
            "only showing top 5 rows\n",
            "\n"
          ],
          "name": "stdout"
        }
      ]
    },
    {
      "cell_type": "markdown",
      "metadata": {
        "id": "pqzSARfB9adC"
      },
      "source": [
        "Here we are replacing the values with 1 if that category is present, or else the value is 0."
      ]
    },
    {
      "cell_type": "code",
      "metadata": {
        "id": "AAEFZL9yX51-"
      },
      "source": [
        "#One hot encoding for categories \n",
        "m=np.zeros(len(dis_categories))\n",
        "new_cat_mat = new_categories_df.rdd.map(lambda x: fill(m,x[2],1)).collect()"
      ],
      "execution_count": null,
      "outputs": []
    },
    {
      "cell_type": "code",
      "metadata": {
        "colab": {
          "base_uri": "https://localhost:8080/"
        },
        "id": "sUo-AlKI9GhA",
        "outputId": "9d9a636e-a3fd-4a8f-e1b5-d907be00050f"
      },
      "source": [
        "new_cat_mat[0:2]"
      ],
      "execution_count": null,
      "outputs": [
        {
          "output_type": "execute_result",
          "data": {
            "text/plain": [
              "[array([1., 0., 0., 0., 0., 0., 0., 0., 0., 0., 0., 0., 0., 0., 0., 0., 0.,\n",
              "        0., 0., 0., 0., 0., 0., 0., 0., 0., 0., 0., 0., 0., 0., 0., 0., 0.,\n",
              "        0., 0., 0., 0., 0., 0., 0., 0., 1., 0., 0., 0., 0., 0., 0., 0., 0.,\n",
              "        0., 0., 0., 0., 0., 0., 0., 0., 0., 1., 0., 0., 0., 0., 0., 0., 0.,\n",
              "        0., 0., 0., 0., 0., 0., 0., 0., 0., 0., 0., 0., 0., 0., 0., 0., 0.,\n",
              "        0., 0., 0., 0., 0., 0., 0., 0., 0., 0., 0., 0., 0., 0., 0., 0., 0.,\n",
              "        0., 0., 0., 0., 0., 0., 1., 0., 0., 0., 0., 0., 0., 0., 0., 0., 0.,\n",
              "        0., 0., 0., 0., 0., 0., 0., 1., 0., 0., 0., 0., 0., 0., 0., 0., 0.,\n",
              "        0., 0., 0., 0., 0., 1., 0., 0., 0., 0., 0., 0., 0., 0., 0., 0., 0.,\n",
              "        0., 0., 0., 0., 0., 0., 0., 0., 1., 0., 0., 0., 0., 0., 0., 0., 0.,\n",
              "        0., 0., 0., 0., 0., 0., 0., 0., 0., 0., 0., 0., 0., 0., 0., 0., 0.,\n",
              "        0., 0., 0., 0., 0., 0., 0., 0., 0., 0., 0., 0., 0., 0., 0., 0., 0.,\n",
              "        0., 0., 0., 0., 0., 0., 0., 0., 0., 0., 0., 0., 0., 0., 0., 0., 0.,\n",
              "        0., 0., 0., 0., 1., 0., 0., 0., 0., 0., 0., 0., 0., 0., 0., 0., 0.,\n",
              "        0., 0., 0., 0., 0., 0., 0., 0., 0., 0., 0., 0., 0., 0., 0., 0., 0.,\n",
              "        0., 0., 0., 0., 0., 0., 0., 0., 0., 0., 0., 0., 0., 0., 0., 0., 0.,\n",
              "        0., 0., 0., 0., 0., 0., 0., 0., 0., 0., 0., 0., 0., 0., 0., 0., 0.,\n",
              "        0., 0., 0., 0., 0., 0., 0., 0., 0., 0., 0., 0., 0., 0., 0., 0., 0.,\n",
              "        0., 0.]),\n",
              " array([1., 0., 0., 0., 0., 0., 0., 0., 0., 0., 0., 0., 0., 0., 0., 0., 0.,\n",
              "        0., 0., 0., 0., 0., 0., 0., 0., 0., 0., 0., 0., 0., 0., 0., 0., 0.,\n",
              "        0., 0., 0., 0., 0., 0., 0., 0., 1., 0., 0., 0., 0., 0., 0., 0., 0.,\n",
              "        0., 0., 0., 0., 0., 0., 0., 0., 0., 1., 0., 0., 0., 0., 0., 0., 0.,\n",
              "        0., 0., 0., 0., 0., 1., 0., 0., 0., 0., 0., 0., 1., 0., 0., 0., 0.,\n",
              "        1., 0., 0., 0., 0., 0., 0., 0., 0., 0., 0., 0., 0., 0., 0., 0., 0.,\n",
              "        0., 0., 0., 0., 0., 0., 1., 0., 0., 0., 0., 0., 0., 0., 0., 0., 0.,\n",
              "        0., 0., 0., 0., 0., 0., 0., 1., 0., 0., 0., 0., 0., 0., 0., 0., 0.,\n",
              "        0., 0., 0., 0., 0., 1., 0., 0., 0., 0., 0., 0., 0., 0., 0., 0., 0.,\n",
              "        0., 0., 0., 0., 0., 0., 0., 0., 1., 0., 0., 0., 0., 0., 0., 0., 0.,\n",
              "        0., 0., 0., 0., 0., 0., 0., 0., 0., 0., 0., 0., 0., 0., 0., 0., 0.,\n",
              "        0., 0., 0., 0., 0., 0., 0., 0., 0., 0., 0., 0., 0., 0., 0., 0., 0.,\n",
              "        0., 0., 0., 0., 0., 0., 0., 0., 0., 0., 0., 0., 0., 0., 0., 0., 0.,\n",
              "        0., 0., 0., 0., 1., 0., 0., 0., 0., 0., 0., 0., 0., 0., 0., 0., 0.,\n",
              "        0., 0., 0., 0., 0., 0., 0., 0., 0., 0., 0., 0., 0., 0., 0., 0., 0.,\n",
              "        0., 0., 0., 0., 0., 0., 0., 1., 0., 0., 0., 0., 0., 0., 0., 0., 0.,\n",
              "        0., 0., 0., 0., 0., 0., 0., 0., 0., 0., 0., 0., 0., 0., 0., 0., 0.,\n",
              "        0., 0., 0., 0., 0., 0., 0., 0., 1., 0., 0., 0., 0., 0., 0., 0., 0.,\n",
              "        0., 0.])]"
            ]
          },
          "metadata": {
            "tags": []
          },
          "execution_count": 104
        }
      ]
    },
    {
      "cell_type": "markdown",
      "metadata": {
        "id": "5421JuZbgkgu"
      },
      "source": [
        "### *Sparse matrix for categories*"
      ]
    },
    {
      "cell_type": "code",
      "metadata": {
        "colab": {
          "base_uri": "https://localhost:8080/"
        },
        "id": "bs_uwZTCX7Hy",
        "outputId": "29a7d36d-b1a3-4f30-8270-3576083ddd9c"
      },
      "source": [
        "#Sparse matrix\n",
        "cat_sparse = sparse.csr_matrix(new_cat_mat)\n",
        "cat_sparse.shape"
      ],
      "execution_count": null,
      "outputs": [
        {
          "output_type": "execute_result",
          "data": {
            "text/plain": [
              "(2280, 308)"
            ]
          },
          "metadata": {
            "tags": []
          },
          "execution_count": 105
        }
      ]
    },
    {
      "cell_type": "markdown",
      "metadata": {
        "id": "bKARYm4kgphf"
      },
      "source": [
        "### *Calculating cosine similarity for categories*"
      ]
    },
    {
      "cell_type": "code",
      "metadata": {
        "colab": {
          "base_uri": "https://localhost:8080/"
        },
        "id": "oCZafX3xX8ZF",
        "outputId": "67208775-3ad0-4d1f-a454-bc7c9e2431a6"
      },
      "source": [
        "#Cosine similarity\n",
        "cat_similarities = cosine_similarity(cat_sparse)\n",
        "cat_similarities.shape"
      ],
      "execution_count": null,
      "outputs": [
        {
          "output_type": "execute_result",
          "data": {
            "text/plain": [
              "(2280, 2280)"
            ]
          },
          "metadata": {
            "tags": []
          },
          "execution_count": 106
        }
      ]
    },
    {
      "cell_type": "markdown",
      "metadata": {
        "id": "v7_7pllk-L1g"
      },
      "source": [
        "# *Calculating Average Score between two restaurants*\n",
        "\n",
        "Generating a score by taking average of both cosine similarities"
      ]
    },
    {
      "cell_type": "code",
      "metadata": {
        "id": "oGen5jqbX-LY"
      },
      "source": [
        "#Calculating the average score\n",
        "score = ((similarities) + (cat_similarities))/2"
      ],
      "execution_count": null,
      "outputs": []
    },
    {
      "cell_type": "code",
      "metadata": {
        "colab": {
          "base_uri": "https://localhost:8080/"
        },
        "id": "q3yqfW9yWW32",
        "outputId": "132149ae-f344-4599-e0ca-e3b3dfb5219f"
      },
      "source": [
        "score"
      ],
      "execution_count": null,
      "outputs": [
        {
          "output_type": "execute_result",
          "data": {
            "text/plain": [
              "array([[1.        , 0.72915379, 0.66828466, ..., 0.26089638, 0.25954259,\n",
              "        0.26137718],\n",
              "       [0.72915379, 1.        , 0.90511961, ..., 0.24180665, 0.24084318,\n",
              "        0.24260809],\n",
              "       [0.66828466, 0.90511961, 1.        , ..., 0.25609303, 0.25511432,\n",
              "        0.25674272],\n",
              "       ...,\n",
              "       [0.26089638, 0.24180665, 0.25609303, ..., 1.        , 0.99067221,\n",
              "        0.98432404],\n",
              "       [0.25954259, 0.24084318, 0.25511432, ..., 0.99067221, 1.        ,\n",
              "        0.99157044],\n",
              "       [0.26137718, 0.24260809, 0.25674272, ..., 0.98432404, 0.99157044,\n",
              "        1.        ]])"
            ]
          },
          "metadata": {
            "tags": []
          },
          "execution_count": 108
        }
      ]
    },
    {
      "cell_type": "markdown",
      "metadata": {
        "id": "LYnoMNUGFbMQ"
      },
      "source": [
        "# *Generating Top 5 Similar Restaurants*"
      ]
    },
    {
      "cell_type": "code",
      "metadata": {
        "colab": {
          "base_uri": "https://localhost:8080/"
        },
        "id": "N5P_tuCfyCjR",
        "outputId": "de6a70a9-d7d2-4ca4-e9b4-bced7aec0a4b"
      },
      "source": [
        "intermediate_df_2.columns"
      ],
      "execution_count": null,
      "outputs": [
        {
          "output_type": "execute_result",
          "data": {
            "text/plain": [
              "['business_id',\n",
              " 'index_id',\n",
              " 'collect_list(Token)',\n",
              " 'collect_list(TF-IDF)',\n",
              " 'collect_list(index)',\n",
              " 'review',\n",
              " 'categories',\n",
              " 'name',\n",
              " 'ratings']"
            ]
          },
          "metadata": {
            "tags": []
          },
          "execution_count": 109
        }
      ]
    },
    {
      "cell_type": "code",
      "metadata": {
        "id": "bIX_Mw18x8nX"
      },
      "source": [
        "final_df = intermediate_df_2.select('index_id','business_id','review','categories','name','ratings')"
      ],
      "execution_count": null,
      "outputs": []
    },
    {
      "cell_type": "code",
      "metadata": {
        "colab": {
          "base_uri": "https://localhost:8080/"
        },
        "id": "KglibZ2SyEQN",
        "outputId": "e85e855f-8b17-4b5b-edb2-344fbee8a1a8"
      },
      "source": [
        "final_df.show()"
      ],
      "execution_count": null,
      "outputs": [
        {
          "output_type": "stream",
          "text": [
            "+--------+--------------------+--------------------+--------------------+--------------------+-------+\n",
            "|index_id|         business_id|              review|          categories|                name|ratings|\n",
            "+--------+--------------------+--------------------+--------------------+--------------------+-------+\n",
            "|       0|-5L8zOxibac-vBrsY...|pleasur host cd r...|Nightlife, Americ...|         ed's tavern|    3.5|\n",
            "|       1|-7-uHFjQLH_uxPauY...|great italian foo...|Wine Bars, Bars, ...|prego cucina ital...|    3.5|\n",
            "|       2|-8F04F54iDT6VgWPC...|super cute place ...|Coffee & Tea, Res...|    ineffable ca phe|    4.5|\n",
            "|       3|-BbnAc9YEO6pjvJGE...|um pretti averag ...|Noodles, Ramen, J...|            sansotei|    4.0|\n",
            "|       4|-BmqghX1sv7sgsxOI...|littl skeptic fir...|Restaurants, Ethi...|merkato ethiopian...|    4.0|\n",
            "|       5|-CbDQXiuKzPQ0_jiU...|omg place fabul g...|Restaurants, Thai...|taiga modern japa...|    4.0|\n",
            "|       6|-D2vGSq_SvuCmHdqs...|recent answer job...|Restaurants, Italian|   sugo caffe italia|    3.5|\n",
            "|       7|-DcE_4T0_iRKGLARm...|tough measur mexi...|Nightlife, Mexica...|el ranchero of tr...|    4.0|\n",
            "|       8|-EohS3nXZGl6odE9L...|place suck employ...|Event Planning & ...|       panda express|    1.5|\n",
            "|       9|-FNquqGseSCVMWo7K...|food great franch...|Restaurants, Mexi...|chipotle mexican ...|    3.5|\n",
            "|      10|-FtngCwHCD2tRlH8j...|father day sister...|Breakfast & Brunc...|  hash house a go go|    3.5|\n",
            "|      11|-H3hHmLfDmXQyuAlb...|place awesom tuna...|Indonesian, Resta...|ohiyo 68 asian cu...|    4.0|\n",
            "|      12|-JKp9ykFyhswkIQ6X...|justifi four star...|African, Bars, Ni...|teranga african b...|    3.0|\n",
            "|      13|-Jhlh8Scjy669NdtC...|went big group tw...|Wine Bars, Event ...|           v picasso|    3.5|\n",
            "|      14|-MC7EFxTsyKMKB3ze...|awesom cheap fami...|Donuts, Fast Food...|stownut donut & d...|    4.0|\n",
            "|      15|-PGsEXB6DFTVKa1eD...|mindi mindi mindi...|Breakfast & Brunc...|    black bear diner|    3.5|\n",
            "|      16|-QC71Wuh0TyJI0RAZ...|disappoint overal...|Mexican, Restaura...|chipotle mexican ...|    2.5|\n",
            "|      17|-RIWE3MU3GCHM5KIW...|vacat wife spend ...|Restaurants, Bars...|polo's italian cu...|    4.0|\n",
            "|      18|-TVXOYL6kvKP1uW6N...|wait year get wha...|Fast Food, Restau...|         whataburger|    2.5|\n",
            "|      19|-U0liwRSHGYBEMYVj...|one favorit place...|American (New), S...|      mickey & mooch|    3.0|\n",
            "+--------+--------------------+--------------------+--------------------+--------------------+-------+\n",
            "only showing top 20 rows\n",
            "\n"
          ],
          "name": "stdout"
        }
      ]
    },
    {
      "cell_type": "markdown",
      "metadata": {
        "id": "xx1PgCWahV76"
      },
      "source": [
        "pickle file - Any object in Python can be pickled so that it can be saved on disk."
      ]
    },
    {
      "cell_type": "code",
      "metadata": {
        "id": "NtUOk_YZfxUy"
      },
      "source": [
        "#Storing the scores as a pickle file\n",
        "import pickle\n",
        "with open('score.pkl','wb') as f:\n",
        "  pickle.dump(score, f)"
      ],
      "execution_count": null,
      "outputs": []
    },
    {
      "cell_type": "markdown",
      "metadata": {
        "id": "GOfDc6fmhLfR"
      },
      "source": [
        "coalesce() - Returns a new RDD with reduced into specified partitions\n",
        "\n",
        "parquet - Apache Parquet is an open source file format available to any project in the Hadoop ecosystem.Parquet can only read the needed columns therefore greatly minimizing the IO."
      ]
    },
    {
      "cell_type": "code",
      "metadata": {
        "id": "g84b6PHbf5x2"
      },
      "source": [
        "#Coalescing the dataframe into 1 partition and writing in parquet format \n",
        "final_df.coalesce(1).write.format(\"parquet\").mode(\"append\").save(\"final_df.parquet\")"
      ],
      "execution_count": null,
      "outputs": []
    },
    {
      "cell_type": "code",
      "metadata": {
        "id": "9Ecjqou0s1mw"
      },
      "source": [
        "#To remove all the tables/dfs from in-memory cache\n",
        "spark.catalog.clearCache()"
      ],
      "execution_count": null,
      "outputs": []
    },
    {
      "cell_type": "code",
      "metadata": {
        "colab": {
          "base_uri": "https://localhost:8080/"
        },
        "id": "yyId1lT_5B1b",
        "outputId": "13e8b7e6-d4e9-42e8-c377-65e34ea4e355"
      },
      "source": [
        "with open('/content/score.pkl','rb') as f:\n",
        "  score = pickle.load(f)\n",
        "  print(score.shape)"
      ],
      "execution_count": null,
      "outputs": [
        {
          "output_type": "stream",
          "text": [
            "(2280, 2280)\n"
          ],
          "name": "stdout"
        }
      ]
    },
    {
      "cell_type": "code",
      "metadata": {
        "id": "XTiyASJI5ANx"
      },
      "source": [
        "final_df = spark.read.parquet('/content/final_df.parquet')"
      ],
      "execution_count": null,
      "outputs": []
    },
    {
      "cell_type": "code",
      "metadata": {
        "colab": {
          "base_uri": "https://localhost:8080/"
        },
        "id": "LnH6H9bhvqsx",
        "outputId": "dc71bdfa-0c3e-4322-a480-a20b47cb54ec"
      },
      "source": [
        "final_df.count()"
      ],
      "execution_count": null,
      "outputs": [
        {
          "output_type": "execute_result",
          "data": {
            "text/plain": [
              "2280"
            ]
          },
          "metadata": {
            "tags": []
          },
          "execution_count": 117
        }
      ]
    },
    {
      "cell_type": "code",
      "metadata": {
        "colab": {
          "base_uri": "https://localhost:8080/"
        },
        "id": "a6BdtXP15e9c",
        "outputId": "780e83c2-1db9-46ae-b279-4fd067e2a707"
      },
      "source": [
        "final_df.show()"
      ],
      "execution_count": null,
      "outputs": [
        {
          "output_type": "stream",
          "text": [
            "+--------+--------------------+--------------------+--------------------+--------------------+-------+\n",
            "|index_id|         business_id|              review|          categories|                name|ratings|\n",
            "+--------+--------------------+--------------------+--------------------+--------------------+-------+\n",
            "|       0|-5L8zOxibac-vBrsY...|pleasur host cd r...|Nightlife, Americ...|         ed's tavern|    3.5|\n",
            "|       1|-7-uHFjQLH_uxPauY...|great italian foo...|Wine Bars, Bars, ...|prego cucina ital...|    3.5|\n",
            "|       2|-8F04F54iDT6VgWPC...|super cute place ...|Coffee & Tea, Res...|    ineffable ca phe|    4.5|\n",
            "|       3|-BbnAc9YEO6pjvJGE...|um pretti averag ...|Noodles, Ramen, J...|            sansotei|    4.0|\n",
            "|       4|-BmqghX1sv7sgsxOI...|littl skeptic fir...|Restaurants, Ethi...|merkato ethiopian...|    4.0|\n",
            "|       5|-CbDQXiuKzPQ0_jiU...|omg place fabul g...|Restaurants, Thai...|taiga modern japa...|    4.0|\n",
            "|       6|-D2vGSq_SvuCmHdqs...|recent answer job...|Restaurants, Italian|   sugo caffe italia|    3.5|\n",
            "|       7|-DcE_4T0_iRKGLARm...|tough measur mexi...|Nightlife, Mexica...|el ranchero of tr...|    4.0|\n",
            "|       8|-EohS3nXZGl6odE9L...|place suck employ...|Event Planning & ...|       panda express|    1.5|\n",
            "|       9|-FNquqGseSCVMWo7K...|food great franch...|Restaurants, Mexi...|chipotle mexican ...|    3.5|\n",
            "|      10|-FtngCwHCD2tRlH8j...|father day sister...|Breakfast & Brunc...|  hash house a go go|    3.5|\n",
            "|      11|-H3hHmLfDmXQyuAlb...|place awesom tuna...|Indonesian, Resta...|ohiyo 68 asian cu...|    4.0|\n",
            "|      12|-JKp9ykFyhswkIQ6X...|justifi four star...|African, Bars, Ni...|teranga african b...|    3.0|\n",
            "|      13|-Jhlh8Scjy669NdtC...|went big group tw...|Wine Bars, Event ...|           v picasso|    3.5|\n",
            "|      14|-MC7EFxTsyKMKB3ze...|awesom cheap fami...|Donuts, Fast Food...|stownut donut & d...|    4.0|\n",
            "|      15|-PGsEXB6DFTVKa1eD...|mindi mindi mindi...|Breakfast & Brunc...|    black bear diner|    3.5|\n",
            "|      16|-QC71Wuh0TyJI0RAZ...|disappoint overal...|Mexican, Restaura...|chipotle mexican ...|    2.5|\n",
            "|      17|-RIWE3MU3GCHM5KIW...|vacat wife spend ...|Restaurants, Bars...|polo's italian cu...|    4.0|\n",
            "|      18|-TVXOYL6kvKP1uW6N...|wait year get wha...|Fast Food, Restau...|         whataburger|    2.5|\n",
            "|      19|-U0liwRSHGYBEMYVj...|one favorit place...|American (New), S...|      mickey & mooch|    3.0|\n",
            "+--------+--------------------+--------------------+--------------------+--------------------+-------+\n",
            "only showing top 20 rows\n",
            "\n"
          ],
          "name": "stdout"
        }
      ]
    },
    {
      "cell_type": "code",
      "metadata": {
        "id": "FMpCTaLQcoYp"
      },
      "source": [
        "#Defining a function to generate top 5\n",
        "def top5_rest(id):\n",
        "  num = final_df.filter(final_df.business_id==id).select('index_id').collect()[0]\n",
        "  num = num.asDict()['index_id']\n",
        "  top5 = list(score[num].argsort()[::-1][:6])\n",
        "  top5.remove(num)\n",
        "  bids = final_df.filter(final_df.index_id.isin(list(map(str,top5)))).select('business_id')\n",
        "  list_ids = list(map(lambda row: row.asDict(), bids.collect()))\n",
        "  top_5_bids = [p['business_id'] for p in list_ids]\n",
        "  f = final_df.filter(final_df.business_id.isin(top_5_bids)).select('name','categories','ratings').show(20,False)\n",
        "  return f"
      ],
      "execution_count": null,
      "outputs": []
    },
    {
      "cell_type": "code",
      "metadata": {
        "id": "it_MQviZcqbG"
      },
      "source": [
        "#All the restaurants in the final dataframe\n",
        "rest_row = final_df.select('name')\n",
        "list_dict_rest = list(map(lambda row: row.asDict(), rest_row.collect()))\n",
        "all_rests = [p['name'] for p in list_dict_rest]"
      ],
      "execution_count": null,
      "outputs": []
    },
    {
      "cell_type": "code",
      "metadata": {
        "colab": {
          "base_uri": "https://localhost:8080/"
        },
        "id": "kwbX3e22cs95",
        "outputId": "99deddfa-2733-4954-eea7-0215faaaa79a"
      },
      "source": [
        "all_rests"
      ],
      "execution_count": null,
      "outputs": [
        {
          "output_type": "execute_result",
          "data": {
            "text/plain": [
              "[\"ed's tavern\",\n",
              " 'prego cucina italiana',\n",
              " 'ineffable ca phe',\n",
              " 'sansotei',\n",
              " 'merkato ethiopian cafe',\n",
              " 'taiga modern japanese & thai restaurant',\n",
              " 'sugo caffe italia',\n",
              " 'el ranchero of traditional mexican food',\n",
              " 'panda express',\n",
              " 'chipotle mexican grill',\n",
              " 'hash house a go go',\n",
              " 'ohiyo 68 asian cuisine',\n",
              " 'teranga african bar & restaurant',\n",
              " 'v picasso',\n",
              " 'stownut donut & diner',\n",
              " 'black bear diner',\n",
              " 'chipotle mexican grill',\n",
              " \"polo's italian cuisine\",\n",
              " 'whataburger',\n",
              " 'mickey & mooch',\n",
              " 'teriyaki madness',\n",
              " 'savoy',\n",
              " 'asian taste restaurant',\n",
              " \"roberto's taco shop\",\n",
              " \"jason's deli\",\n",
              " 'beer park',\n",
              " 'mcdonalds',\n",
              " 'destihl restaurant & brew works',\n",
              " \"mushkaki's\",\n",
              " 'two hippies breakfast joint',\n",
              " 'pho tan thanh',\n",
              " \"jason's deli\",\n",
              " \"jimmy's backyard bbq\",\n",
              " \"pete's fish & chips\",\n",
              " 'maya day and nightclub',\n",
              " 'little house of kebob',\n",
              " 'yummy grill & sushi',\n",
              " 'milestones restaurants',\n",
              " 'the owl of minerva',\n",
              " \"ming's restaurant\",\n",
              " \"winchell's pub & grill\",\n",
              " 'rose garden chinese restaurant',\n",
              " 'matsuda japanese cuisine',\n",
              " 'pollos lachuya',\n",
              " 'pressley park restaurant',\n",
              " \"cheffini's hot dogs\",\n",
              " 'skillets',\n",
              " 'the prime chinese restaurant',\n",
              " 'woo che',\n",
              " 'firehouse subs',\n",
              " 'irish republic',\n",
              " \"luci's at the orchard\",\n",
              " 'james cheese back ribs',\n",
              " 'blue line grille',\n",
              " \"joe's farm grill\",\n",
              " 'sprouts cafe',\n",
              " 'thai on yonge',\n",
              " 'pho metro',\n",
              " 'chuck e. cheese',\n",
              " \"dunkin'\",\n",
              " 'kneaders bakery & cafe',\n",
              " 'meskerem',\n",
              " 'miro spanish grill',\n",
              " \"ritter's diner\",\n",
              " 'mi mi restaurant',\n",
              " 'café lalibela',\n",
              " 'florida really greek tavern bar',\n",
              " 'thai delight',\n",
              " 'stella mia ristorante',\n",
              " 'pho bistro',\n",
              " 'coffee pub',\n",
              " 'boca loca',\n",
              " 'irie food joint',\n",
              " \"habib's persian cuisine\",\n",
              " 'mariscos la lomita de culiacan',\n",
              " 'india garden',\n",
              " 'panera bread',\n",
              " 'chopstick express',\n",
              " 'bouddha bouddha restaurant',\n",
              " \"moreno's mexican grill\",\n",
              " \"marinelli's pasta bar\",\n",
              " 'el hefe',\n",
              " 'main street pub & grill',\n",
              " 'sushi plus',\n",
              " 'fatburger',\n",
              " \"hank's fine steaks & martinis\",\n",
              " 'fish king grill',\n",
              " \"j j's pizza\",\n",
              " '100th bomb group',\n",
              " 'kohinoor cuisine of india',\n",
              " 'pallucci',\n",
              " 'senor taco',\n",
              " \"rider's inn\",\n",
              " 'dos juevos cantina',\n",
              " 'carniceria sonora',\n",
              " 'sunset grill',\n",
              " 'fine asian bowl',\n",
              " 'dairy queen grill & chill',\n",
              " 'pizza nova',\n",
              " 'red white & brew',\n",
              " 'wingstop',\n",
              " 'wingporium',\n",
              " 'the simple kitchen',\n",
              " 'akahana asian bistro',\n",
              " 'bites and brews',\n",
              " 'zuzu cafe & market',\n",
              " 'caramba mexican food',\n",
              " 'hermanos mexican grill',\n",
              " 'jackalope jacks',\n",
              " 'sano sushi',\n",
              " 'cowboy ciao',\n",
              " 'qdoba mexican grill',\n",
              " 'soho chicken + whiskey',\n",
              " 'maki sushi',\n",
              " 'empire pizza - rock hill',\n",
              " '7th heaven eatery',\n",
              " 'guirei japanese restaurant',\n",
              " 'juma gallery',\n",
              " 'fatburger',\n",
              " 'blasted barley beer company',\n",
              " 'jds lounge',\n",
              " 'sweetie fry',\n",
              " 'prohibition gastrohouse - queen',\n",
              " 'the dizzy',\n",
              " 'the main dish',\n",
              " 'royal caribbean',\n",
              " 'chipotle mexican grill',\n",
              " 'tryst cafe - phoenix',\n",
              " 'haji-baba',\n",
              " 'home of hot taste',\n",
              " \"hamburger hut 'n' market\",\n",
              " 'chipotle mexican grill',\n",
              " 'sambuca grill',\n",
              " \"le p'tit plateau\",\n",
              " \"chili's\",\n",
              " \"mcdonald's\",\n",
              " 'leoné café',\n",
              " 'sonic drive-in',\n",
              " 'lula',\n",
              " 'la pasadita hot dogs',\n",
              " 'moose & bear, american grill & pub',\n",
              " 'restaurant houston steaks et cotes levees',\n",
              " \"nam's noodle\",\n",
              " 'pho 88',\n",
              " \"abuelo's mexican restaurant\",\n",
              " 'avenue café + bistro',\n",
              " 'acropolis cafe & grill',\n",
              " \"mcdonald's\",\n",
              " 'muramoto hilldale',\n",
              " 'craft dogs',\n",
              " 'pizza sola',\n",
              " 'fired up',\n",
              " 'hiro sushi restaurant',\n",
              " 'lunch box',\n",
              " 'the jersey giant',\n",
              " 'tin tin box & noodles',\n",
              " 'edulis',\n",
              " 'pizza hut',\n",
              " 'juliette & chocolat',\n",
              " \"bodrick's bar-b-q rib tips\",\n",
              " 'chili man',\n",
              " 'izakaya cocokala',\n",
              " 'us fries tempe',\n",
              " \"tony's ice cream company\",\n",
              " 'wild ginger asian bistro',\n",
              " 'bueno burger mex american grill',\n",
              " 'poke guys',\n",
              " 'beavertails',\n",
              " 'pho king phonomenal noodle lab & grill',\n",
              " 'monona bakery and eatery',\n",
              " 'sbarro',\n",
              " 'knife & fork',\n",
              " 'johnny smalls',\n",
              " 'angry crab shack',\n",
              " 'phusion cafe',\n",
              " 'mcknight kitchen',\n",
              " 'star of india',\n",
              " 'first watch',\n",
              " \"majerle's\",\n",
              " \"papa murphy's\",\n",
              " 'mr. falafel',\n",
              " 'flavors on the vine family restaurant',\n",
              " 'spoon & fork thai & vietnamese cuisine',\n",
              " 'ginseng 3',\n",
              " \"grimaldi's pizzeria\",\n",
              " 'flavors of louisiana',\n",
              " \"gio rana's really really nice restaurant\",\n",
              " 'phnom penh',\n",
              " 'the otheroom',\n",
              " 'mojo morning joint',\n",
              " 'munch',\n",
              " 'the breakaway bar and grill',\n",
              " 'sonic drive-in',\n",
              " 'restaurant ruby rouge',\n",
              " 'taco bell',\n",
              " 'happy’s grill',\n",
              " 'wraps on the go',\n",
              " \"it's a bao time\",\n",
              " 'verona pizza',\n",
              " 'burger mania',\n",
              " 'olive & gourmando',\n",
              " 'spice affair',\n",
              " 'villa madina',\n",
              " 'cook out',\n",
              " \"flancer's\",\n",
              " 'chick-fil-a',\n",
              " \"fuzzy's taco shop\",\n",
              " 'pizza hut',\n",
              " 'daybreak',\n",
              " 'vesta coffee roasters',\n",
              " \"honest john's bar & restaurant\",\n",
              " 'harbour 60',\n",
              " 'barley house',\n",
              " 'popeyes louisiana kitchen',\n",
              " 'grotto noodle house',\n",
              " \"smith's\",\n",
              " \"alexander's pizza\",\n",
              " 'the tamale store',\n",
              " 'flor de sal',\n",
              " 'element 41',\n",
              " 'primo veal',\n",
              " 'shinbay',\n",
              " 'kfc',\n",
              " 'cocina economica',\n",
              " 'the detroiter',\n",
              " 'patria',\n",
              " 'egg works',\n",
              " 'gogi',\n",
              " 'khotan',\n",
              " 'thai basil signature',\n",
              " 'major milliken pub & eatery',\n",
              " \"mcdonald's\",\n",
              " 'double topping',\n",
              " 'le cartet',\n",
              " 'sip coffee & beer garage',\n",
              " 'krung siam thai restaurant & bar',\n",
              " 'nami',\n",
              " 'einstein bros bagels',\n",
              " 'leslie cafe',\n",
              " \"keung's restaurant\",\n",
              " 'jack in the box',\n",
              " 'skippa',\n",
              " \"denny's\",\n",
              " 'cabo mexican restaurant',\n",
              " 'suliko restaurant',\n",
              " 'casa de plata',\n",
              " 'native new yorker restaurant',\n",
              " \"li's house 1988\",\n",
              " 'barista craft',\n",
              " 'cherry berries',\n",
              " \"eazer's restaurant & deli\",\n",
              " 'blimpie',\n",
              " 'firecreek coffee',\n",
              " \"denny's\",\n",
              " 'armaan taste of india',\n",
              " 'the great greek',\n",
              " \"milano's pizza & pasta\",\n",
              " \"dunkin'\",\n",
              " 'starbucks',\n",
              " 'sauce pizza & wine',\n",
              " 'the alcove',\n",
              " 'la casona bar & grill',\n",
              " 'panera bread',\n",
              " 'bar tepo',\n",
              " \"sofia's pizza\",\n",
              " 'downtown kabob grill house',\n",
              " 'café bricco',\n",
              " 'rice paper',\n",
              " \"long wong's north phoenix\",\n",
              " 'asian legend',\n",
              " 'tailgaters and il primo',\n",
              " \"rania's kabob grill\",\n",
              " 'hanabi sushi',\n",
              " 'yogis grill',\n",
              " 'chicago’s home of chicken & waffles',\n",
              " 'verrazano pizza',\n",
              " 'sandwich sam',\n",
              " 'hooters restaurant',\n",
              " 'monkey pants bar & grill',\n",
              " \"lee's sandwiches\",\n",
              " 'kfc',\n",
              " 'algoberto’s',\n",
              " \"max & erma's\",\n",
              " 'green valley ranch resort spa and casino',\n",
              " 'taco shack',\n",
              " 'sushi on bloor',\n",
              " 'island flavor',\n",
              " 'ichi ban japanese restaurant',\n",
              " 'fair trade coffee house',\n",
              " \"carl's jr of las vegas\",\n",
              " 'tupelo honey teas',\n",
              " 'mai mai restaurant',\n",
              " 'tailgaters and il primo pizza & wings',\n",
              " 'china express chinese restaurant',\n",
              " 'bask on seaboard',\n",
              " 'lil joe cucina & bar',\n",
              " \"song cook's\",\n",
              " 'dirty south',\n",
              " \"duke's upper deck cafe\",\n",
              " 'corner market buffet',\n",
              " \"let's meat kbbq\",\n",
              " 'chiado',\n",
              " 'the chickery',\n",
              " \"mcdonald's\",\n",
              " 'dish osteria and bar',\n",
              " 'the coffee pot',\n",
              " \"smoke's weinerie\",\n",
              " 'warraich meats',\n",
              " 'mediterrano',\n",
              " 'cibo wine bar',\n",
              " \"ditka's restaurant - wexford\",\n",
              " 'the baked bear',\n",
              " 'jerusalem shawarma',\n",
              " 'patois jamaican food restaurant',\n",
              " 'sakana',\n",
              " 'old school',\n",
              " 'other mama',\n",
              " 'aroma fine indian cuisine',\n",
              " \"anthony's coal fired pizza\",\n",
              " 'fire grill',\n",
              " 'morcilla',\n",
              " 'samba brazilian grill',\n",
              " 'allegria',\n",
              " 'five guys',\n",
              " 'pho little saigon',\n",
              " \"famous ray's pizza\",\n",
              " 'cafe momoko',\n",
              " \"mcdonald's\",\n",
              " 'buffalo chip saloon & steakhouse',\n",
              " 'tzatziki',\n",
              " 'sushi and rolls',\n",
              " 'zaytoon kabob bistro',\n",
              " 'plentea',\n",
              " 'outback steakhouse',\n",
              " 'sukhothai bistro',\n",
              " 'nani restaurant',\n",
              " \"aladdin's eatery\",\n",
              " 'redz urban table',\n",
              " 'amaya express',\n",
              " 'benihana',\n",
              " 'la mai thai cuisine',\n",
              " \"bush's chicken\",\n",
              " \"denny's\",\n",
              " 'sugar bowl',\n",
              " 'the mad greek cafe',\n",
              " 'boteco',\n",
              " 'olive garden italian restaurant',\n",
              " 'tgi fridays',\n",
              " \"mcdonald's\",\n",
              " \"happy joes's pizza & ice cream\",\n",
              " 'imperial super buffet',\n",
              " 'tropical smoothie cafe',\n",
              " 'orange & brew',\n",
              " 'scaddabush italian kitchen & bar',\n",
              " \"freddy's frozen custard & steakburgers\",\n",
              " 'golden turtle - pho rua vang restaurant',\n",
              " \"coconut's fish cafe\",\n",
              " 'fresca pizza & pasta',\n",
              " 'black dog smoke & ale house',\n",
              " \"mamma toledo's the pie hole\",\n",
              " 'the crêpe',\n",
              " 'ohjah japanese steakhouse',\n",
              " 'mr. cooks chinese cuisine',\n",
              " \"rooney's market\",\n",
              " 'bomba tacos & rum',\n",
              " \"melanie's bistro & patisserie\",\n",
              " 'china pearl chinese restaurant',\n",
              " \"manuel's mexican restaurant & cantina\",\n",
              " 'silver mine subs',\n",
              " 'yumei sushi',\n",
              " 'sakura japanese steakhouse + sushi',\n",
              " 'pat dees pub & eatery',\n",
              " 'firefly seafood & steak house',\n",
              " 'burrito shop',\n",
              " 'the shack chagrin',\n",
              " 'antonios pizza',\n",
              " 'pagaille café',\n",
              " 'buca',\n",
              " 'dal italia',\n",
              " 'olio',\n",
              " 'pamier kabob',\n",
              " \"menchie's frozen yogurt\",\n",
              " 'savor cafe & catering',\n",
              " \"barro's pizza\",\n",
              " 'bar louie - tempe marketplace',\n",
              " 'wilensky',\n",
              " 'crave',\n",
              " 'noodles ranch',\n",
              " 'los olivos ristorante',\n",
              " 'pacific east japanese restaurant',\n",
              " 'toucheh',\n",
              " 'el veracruz mexican restaurant',\n",
              " 'sushi + sake',\n",
              " 'one red door',\n",
              " 'taiwan cafe',\n",
              " \"atria's restaurant\",\n",
              " 'chipotle mexican grill',\n",
              " 'california pizza kitchen at chandler',\n",
              " \"wendy's\",\n",
              " 'sushi house',\n",
              " 'libertine social',\n",
              " \"east side mario's\",\n",
              " 'stackers restaurant',\n",
              " \"lydiah's coffee house\",\n",
              " 'the bread company',\n",
              " 'mandarin restaurant - mississauga',\n",
              " 'sushi plus',\n",
              " 'glutenzero',\n",
              " \"singapore sam's\",\n",
              " 'veggie house',\n",
              " \"david's diner\",\n",
              " 'okra cookhouse & cocktails',\n",
              " \"original joe's restaurant & bar\",\n",
              " 'beach club grill',\n",
              " 'bandera',\n",
              " 'chef panda',\n",
              " 'konbea belt sushi',\n",
              " 'chef on call',\n",
              " 'yokohama ramen',\n",
              " 'shakes and franks',\n",
              " 'shabu & congbul',\n",
              " \"original tommy's hamburgers\",\n",
              " 'peter piper pizza',\n",
              " 'pita land',\n",
              " 'china star buffet',\n",
              " 'elixir - a local lounge',\n",
              " 'nobu tei',\n",
              " 'sweet pea cafe',\n",
              " 'uncle louie the restaurant',\n",
              " 'sweet tomatoes field kitchen',\n",
              " \"tony's pizza\",\n",
              " 'saryo cafe',\n",
              " \"z's cream & bean\",\n",
              " 'bevvy uptown',\n",
              " 'slice on broadway',\n",
              " 'blt steak, scottsdale',\n",
              " \"bruno's pizza\",\n",
              " 'lago east bank',\n",
              " \"og original geno's\",\n",
              " 'bistro 24',\n",
              " \"tj's butcher block & deli\",\n",
              " \"d'angelo's italian ristorante\",\n",
              " 'caramba mexican food',\n",
              " \"joe's philly steak & more\",\n",
              " 'kookminhakgyo',\n",
              " 'rawlicious',\n",
              " 'dairy lane café',\n",
              " \"d's six pax & dogz\",\n",
              " 'kneaders bakery and cafe - tempe',\n",
              " \"ann's chophouse\",\n",
              " 'johnny rockets',\n",
              " 'china cafe',\n",
              " 'top saigon restaurant',\n",
              " 'giggling tomatoes restaurant',\n",
              " \"maria's frybread & mexican food\",\n",
              " 'thai orchid garden restaurant',\n",
              " 'hong kong asian diner',\n",
              " 'custom built pizza',\n",
              " 'kinka izakaya north  york',\n",
              " \"east side mario's\",\n",
              " 'world of beer',\n",
              " 'pizza di roma west',\n",
              " \"harvey's\",\n",
              " 'huntersville family restaurant',\n",
              " 'perla restaurant',\n",
              " 'the city cafe',\n",
              " 'glass nickel pizza - madison west',\n",
              " 'thai long-an',\n",
              " 'middle east deli',\n",
              " 'oriental gourmet house',\n",
              " 'bombay buffet indian cuisine',\n",
              " 'state 48 brewery',\n",
              " \"mark rich's new york pizza & pasta\",\n",
              " 'swiss chalet rotisserie & grill',\n",
              " 'johnny rockets',\n",
              " 'chef burger',\n",
              " 'hachi',\n",
              " \"chelsea's kitchen\",\n",
              " 'cuisine malaya',\n",
              " 'five guys',\n",
              " 'yagyu yakiniku',\n",
              " 'little caesars pizza',\n",
              " '5 saisons sushi',\n",
              " 'noodles & company',\n",
              " 'madisons new york bar & grill',\n",
              " 'henderson restaurant supply',\n",
              " 'lucky boy burger shop',\n",
              " \"bob's diner\",\n",
              " \"marcello's pasta grill\",\n",
              " 'chick-fil-a',\n",
              " 'home plate grill & bar',\n",
              " \"dave & buster's\",\n",
              " 'mr souvlaki',\n",
              " 'panda express',\n",
              " 'avenue club and the bubble up bar',\n",
              " 'tadka restaurant',\n",
              " \"bombay's chutney\",\n",
              " 'sushi & rolls',\n",
              " 'café zupas',\n",
              " 'pei wei',\n",
              " 'bahama breeze',\n",
              " 'native grill & wings',\n",
              " 'nuit social',\n",
              " 'rebozos college',\n",
              " 'brazwells pub',\n",
              " 'the campus grille',\n",
              " 'anjappar chettinad restaurant',\n",
              " 'samosa factory',\n",
              " \"mcdonald's\",\n",
              " 'pizza pizza',\n",
              " 'byte cafe',\n",
              " \"hakka bro's\",\n",
              " \"lucy's sea cove & oyster bar\",\n",
              " 'arizona charlies decatur',\n",
              " 'stingray sushi',\n",
              " 'happy lamb hot pot',\n",
              " 'the habit burger grill',\n",
              " 'café fiesta',\n",
              " 'le bocage',\n",
              " 'clifton martini & wine bar',\n",
              " \"papa john's pizza\",\n",
              " 'empire bagels',\n",
              " \"nando's\",\n",
              " 'meet fresh',\n",
              " 'thai pepper',\n",
              " 'everyday cafe',\n",
              " 'pizza rustica',\n",
              " 'redheads japa cafe',\n",
              " 'pizza e pazzi',\n",
              " 'rock bottom restaurant & brewery',\n",
              " 'tortas ahogadas guadalajara',\n",
              " 'giant rustic pizza',\n",
              " \"giuseppe's on 28th\",\n",
              " 'islamorada fish company restaurant',\n",
              " 'hen house family restaurant',\n",
              " 'workshop kitchen + culture',\n",
              " 'paparazzi pizzeria',\n",
              " 'hayden block smoke & whiskey',\n",
              " 'tacos sahuaro',\n",
              " 'stone bowl korean cuisine',\n",
              " 'district one',\n",
              " 'tapino kitchen & wine bar',\n",
              " '8oz korean steak house',\n",
              " 'kabob n more',\n",
              " '3030',\n",
              " 'wraps & jerk',\n",
              " 'bandito latin kitchen & cantina',\n",
              " \"happy's pizza\",\n",
              " 'vino rosso bar & restaurant',\n",
              " 'fix8 protein grill',\n",
              " 'dairy queen',\n",
              " 'zenshin asian restaurant',\n",
              " 'peppermint thai cuisine',\n",
              " 'pittsburgh rare',\n",
              " 'watan kabob',\n",
              " 'pizza pit extreme',\n",
              " 'rasta pasta',\n",
              " 'sa bai on the fly',\n",
              " 'momocho',\n",
              " 'tnt dynamite pizza & hoagies',\n",
              " 'kami chinese and sushi',\n",
              " \"danny's pizza\",\n",
              " 'riddle room',\n",
              " 'desi masala',\n",
              " 'makino',\n",
              " 'kickstand burgers & bar',\n",
              " \"peppi's\",\n",
              " 'fancy franks',\n",
              " \"sharky's woodfired mexican grill\",\n",
              " 'all american modern sports grill',\n",
              " 'bona terra restaurant',\n",
              " 'sushi wow',\n",
              " 'st-viateur bagel',\n",
              " 'new orleans sno ball',\n",
              " 'lemon falls',\n",
              " 'salsa blanca',\n",
              " 'fruits and roots',\n",
              " 'the vig uptown',\n",
              " \"canter's delicatessen\",\n",
              " 'waffallonia',\n",
              " 'luna rossa',\n",
              " 'krazy buffet',\n",
              " 'silver dragon restaurant',\n",
              " 'porter house',\n",
              " 'rubalcabas taco shop',\n",
              " \"gilley's\",\n",
              " 'outback steakhouse',\n",
              " 'mi casa grill cantina',\n",
              " 'jalsa ice cream and bakery',\n",
              " 'pizzeria enzo restaurant',\n",
              " 'kings',\n",
              " 'black rock pizza',\n",
              " 'twisted cactus brew & bbq',\n",
              " 'mixteca mexican food',\n",
              " '37 sol southwest kitchen and tequila bar',\n",
              " 'westgate entertainment district',\n",
              " 'barbary coast hotel & casino',\n",
              " \"mastro's ocean club\",\n",
              " 'nuro bistro',\n",
              " 'the greenhouse tavern',\n",
              " 'gyro house',\n",
              " 'sababa restaurant',\n",
              " 'panda express',\n",
              " 'tacos kissi',\n",
              " 'la cubana',\n",
              " \"rocco's ny pizzeria\",\n",
              " \"q's diner\",\n",
              " 'les héritiers',\n",
              " 'wing wing restaurant',\n",
              " 'akko cake house',\n",
              " \"morrissey's irish pub\",\n",
              " 'quidleys delight',\n",
              " 'chipotle mexican grill',\n",
              " \"padre's modern mexican cuisine\",\n",
              " 'johnny vegas grill',\n",
              " 'salt & lime modern mexican grill',\n",
              " \"corrado's\",\n",
              " 'miega restaurant',\n",
              " 'chick-fil-a',\n",
              " 'banh mi thai tai',\n",
              " \"steve's gyros\",\n",
              " 'yama sushi & grill',\n",
              " 'gus',\n",
              " 'thai hana',\n",
              " \"applebee's grill + bar\",\n",
              " 'taiyo japanese',\n",
              " \"max & erma's\",\n",
              " '168 sushi japan buffet',\n",
              " 'mr pollo',\n",
              " 'mekong palace',\n",
              " 'viking fish & chips',\n",
              " \"mcdonald's\",\n",
              " \"spee-d-tee's bbq & subs\",\n",
              " \"filiberto's mexican food\",\n",
              " 'burrito boyz',\n",
              " \"deagan's kitchen & bar\",\n",
              " 'jim chai kee',\n",
              " 'musa caribbean / cajun fare',\n",
              " \"swig n' sweets\",\n",
              " 'stone & vine urban italian',\n",
              " 'gateway bar and grill',\n",
              " 'cenacolo restaurant',\n",
              " \"caplansky's delicatessen\",\n",
              " 'ventura grill',\n",
              " 'kultura',\n",
              " \"garcia's\",\n",
              " 'deejai  noodle bar',\n",
              " 'bannock',\n",
              " 'hanabi sushi and rolls',\n",
              " 'thai nong khai',\n",
              " 'home team sports',\n",
              " \"khoury's mediterranean restaurant\",\n",
              " \"bing's burgers\",\n",
              " 'yo amo tacos',\n",
              " 'lao laan-xang',\n",
              " \"beef 'o' brady's\",\n",
              " 'nimman thai cuisine',\n",
              " 'alfa',\n",
              " 'haru sushi & grill',\n",
              " 'holler & dash biscuit house',\n",
              " 'b2 burgers & brews',\n",
              " 'marvellous edibles',\n",
              " 'tavern grille scottsdale',\n",
              " 'sushi 999',\n",
              " 'ilios noche',\n",
              " \"metcalfe's market\",\n",
              " 'anime ramen & teriyaki',\n",
              " \"shorty's sandwich shop\",\n",
              " 'maskadores taco shop',\n",
              " 'el pollo loco',\n",
              " \"chef ching's kitchen\",\n",
              " 'copper modern indian cuisine',\n",
              " 'la comida',\n",
              " 'grill city',\n",
              " 'sushi san',\n",
              " 'lan sushi',\n",
              " 'arriba mexican grill',\n",
              " \"tommy's drive-in\",\n",
              " 'splitsville woodbridge',\n",
              " \"raising cane's chicken fingers\",\n",
              " 'piccolo pizza n ice',\n",
              " 'mwc bistro',\n",
              " 'pizza hut',\n",
              " 'j&m fish market',\n",
              " 'mr mesquite taqueria',\n",
              " 'the fish store & sandwiches',\n",
              " 'tacos huicho',\n",
              " 'brew tea bar',\n",
              " \"rudy's mexican grill\",\n",
              " 'top this pizza',\n",
              " 'tempe meadows',\n",
              " 'the village mediterranean grill',\n",
              " 'blended',\n",
              " 'humble pie',\n",
              " 'mto café',\n",
              " 'teriyaki madness',\n",
              " 'wild wings',\n",
              " 'ml tavern',\n",
              " 'poros',\n",
              " 'cafe south',\n",
              " 'yoko fast food',\n",
              " 'original hot dog shop',\n",
              " \"shark's fin city\",\n",
              " 'bean curd chinese restaurant',\n",
              " 'east west pizzeria',\n",
              " \"mcdonald's\",\n",
              " 'jack-in-the box drive thru',\n",
              " 'allô! mon coco',\n",
              " 'xaviers casa reynoso',\n",
              " 'steak ’n shake',\n",
              " 'america',\n",
              " 'i and j fountain restaurant',\n",
              " '88 china bistro',\n",
              " \"kelsey's 1066\",\n",
              " \"spring 'n fresh rolls\",\n",
              " 'bella notte',\n",
              " 'izumi japanese restaurant',\n",
              " 'gangnam street',\n",
              " 'long life vege restaurant',\n",
              " \"domino's pizza\",\n",
              " \"alex's corner pizza shop\",\n",
              " \"zuppa's deli\",\n",
              " \"mcdonald's\",\n",
              " 'tres potrillos',\n",
              " \"marco's pizza\",\n",
              " 'ferris steak house',\n",
              " 'chinato',\n",
              " 'olive garden italian restaurant',\n",
              " 'swigs pub & grill',\n",
              " 'bistro honda',\n",
              " 'mata petisco bar',\n",
              " 'char pizzeria napoletana',\n",
              " 'cabo wabo cantina',\n",
              " 'right by nature hometown market',\n",
              " 'restaurant chez o',\n",
              " 'koffie cafe',\n",
              " 'akira back',\n",
              " 'shake shack',\n",
              " \"l'académie\",\n",
              " \"johnny's bar\",\n",
              " 'shangri-la banquet hall & convention centre',\n",
              " 'wasabi japanese steak house',\n",
              " 'the green mango noodle hut',\n",
              " \"church's chicken\",\n",
              " 'provisions 1268',\n",
              " 'la fontana',\n",
              " 'super pizza',\n",
              " 'kabob oasis',\n",
              " 'cadence coffee',\n",
              " 'olive garden italian restaurant',\n",
              " 'joey crowfoot',\n",
              " 'le cagibi',\n",
              " 'sushi 930',\n",
              " 'el santo cantina + patio bar + restaurant',\n",
              " 'burgatory',\n",
              " \"famous dave's bar-b-que\",\n",
              " 'grand chinese cuisine',\n",
              " 'jack in the box',\n",
              " 'marché bacchus',\n",
              " 'touch of thai',\n",
              " \"ray's pizza\",\n",
              " 'china wan wan',\n",
              " 'flour & barley',\n",
              " \"oak's diner & flapjacks\",\n",
              " 'phoenix children’s hospital',\n",
              " 'the firm',\n",
              " 'super taste chinese cuisine',\n",
              " \"annie's gourmet italian\",\n",
              " 'the parma tavern',\n",
              " 'china house',\n",
              " \"zella's pizza and cheesesteaks\",\n",
              " 'my friends deli & restaurant',\n",
              " 'pita land',\n",
              " 'chef kennys asian vegan restaurant',\n",
              " 'something sweet 4 u',\n",
              " 'panera bread',\n",
              " 'pho ginseng',\n",
              " 'fajitas a sizzlin celebration',\n",
              " 'eggspectation',\n",
              " \"fellini's ristorante\",\n",
              " 'olde village bistro',\n",
              " \"brazwell's premium pub\",\n",
              " \"sunny's chicken & fish\",\n",
              " 'michi ramen',\n",
              " 'los olivos norte',\n",
              " 'cracker barrel old country store',\n",
              " 'lvh - las vegas hotel & casino',\n",
              " \"emiliano's\",\n",
              " 'thirsty parrot',\n",
              " 'tacos n more 2',\n",
              " 'crossroads restaurant & bar - las vegas',\n",
              " 'sushi xtra',\n",
              " 'pnpk neighborhood kitchen & bar',\n",
              " 'golden gate chinese restaurant',\n",
              " \"amélie's french bakery & café\",\n",
              " 'freshii',\n",
              " 'luckys pizza',\n",
              " 'izakaya ju',\n",
              " 'ladybug house of sandwiches',\n",
              " 'sweet daddy cupcakes',\n",
              " 'five guys',\n",
              " 'georges brasserie',\n",
              " 'tavern americana',\n",
              " \"dave & buster's\",\n",
              " 'little spice',\n",
              " \"chicago joe's\",\n",
              " \"mango's caribbean restaurant\",\n",
              " 'wooden vine wine bar & bistro',\n",
              " \"andrew blair's\",\n",
              " 'oregano pizza & pasta',\n",
              " 'bombay palace',\n",
              " \"moishe's steakhouse\",\n",
              " 'starbucks',\n",
              " 'del taco',\n",
              " 'china aaa',\n",
              " \"diana's oyster bar and grill\",\n",
              " 'pizza by the slice',\n",
              " 'yours truly restaurants',\n",
              " 'zoup!',\n",
              " \"rizzo's spaghetti house\",\n",
              " 'jackie bee boba express',\n",
              " 'harlem underground',\n",
              " 'port of subs',\n",
              " 'taxco mexican grill',\n",
              " 'kofusion',\n",
              " 'ninja teriyaki - sushi 2 go',\n",
              " \"double d's\",\n",
              " 'soul gastrolounge',\n",
              " 'canyon creek chophouse',\n",
              " 'shamrock burgers',\n",
              " \"fiddler's dream coffee house\",\n",
              " 'zav coffee shop & gallery',\n",
              " 'panda express',\n",
              " 'rocky river brewing company',\n",
              " 'the haymaker restaurant',\n",
              " \"hungry howie's pizza\",\n",
              " \"jason's deli\",\n",
              " 'city smoke',\n",
              " 'comptoir 21',\n",
              " 'palazzo ristorante',\n",
              " 'aux derniers humains',\n",
              " 'aft kitchen & bar',\n",
              " 'crescent ballroom',\n",
              " 'sn pacific rim asian kitchen',\n",
              " 'einstein bros bagels',\n",
              " 'colossus greek taverna',\n",
              " 'xe lua restaurant',\n",
              " 'jamba juice',\n",
              " 'einstein bros bagels',\n",
              " \"eddie merlot's\",\n",
              " 'ladonia cafe',\n",
              " 'panda express',\n",
              " 'brick & barley',\n",
              " 'cafe de japon',\n",
              " 'bosa donuts',\n",
              " 'cocos locos',\n",
              " 'republic kitchen & bar',\n",
              " 'rouge',\n",
              " 'maskadores taco shop',\n",
              " 'red robin gourmet burgers and brews',\n",
              " 'mallorca restaurant',\n",
              " 'vieux-port steakhouse',\n",
              " 'the jackman bar & restaurant',\n",
              " 'chipotle mexican grill',\n",
              " '24 carrots juice bar & cafe',\n",
              " 'i love sushi',\n",
              " 'yamaza sushi',\n",
              " 'coach house restaurant',\n",
              " 'blue agave',\n",
              " \"m&j's eastside deli\",\n",
              " 'the coffee bean & tea leaf',\n",
              " 'samurai ramen and sushi',\n",
              " 'blue ocean cafe',\n",
              " 'wings restaurants',\n",
              " 'sonic drive-in',\n",
              " 'north mountain grille',\n",
              " 'the distillery public house',\n",
              " 'yama',\n",
              " 'artigiani pizzeria & cucina',\n",
              " 'jamburritos cajun grille - express',\n",
              " 'la capital tacos',\n",
              " 'athens restaurant',\n",
              " 'sidewalk cafe euclid',\n",
              " 'desert roots kitchen',\n",
              " 'candide',\n",
              " 'island style restaurant',\n",
              " 'flo bar & lounge',\n",
              " 'margaritas grill',\n",
              " \"church's chicken\",\n",
              " 'sam jung',\n",
              " 'pita delites',\n",
              " 'tsing tao chinese cuisine',\n",
              " 'hunan chinese restaurant',\n",
              " 'los taquitos',\n",
              " \"it's greek to me\",\n",
              " 'istanbul sofra',\n",
              " 'fudao noodle house',\n",
              " \"mcdonald's\",\n",
              " 'koi sakana ramen house',\n",
              " \"mcdonald's\",\n",
              " 'swensons drive-in',\n",
              " \"alexi's family restaurant\",\n",
              " 'sawasdee thai & sushi',\n",
              " 'donut tyme',\n",
              " \"letty's\",\n",
              " 'kintaro sushi & hot pot',\n",
              " 'kumi by chef akira back',\n",
              " 'seido sushi',\n",
              " 'shabu grill',\n",
              " 'faryab kabab',\n",
              " 'gordon biersch',\n",
              " \"cynthia's chinese restaurant\",\n",
              " 'panera bread',\n",
              " 'sourdough cafe',\n",
              " \"checker's\",\n",
              " 'five guys',\n",
              " 'waffle love - gilbert',\n",
              " 'thai d togo',\n",
              " 'capitano burgers & gelato',\n",
              " 'lee cafe',\n",
              " 'tim hortons',\n",
              " 'bowl of greens fine salads',\n",
              " 'mad hatter brew pub',\n",
              " \"dunkin'\",\n",
              " 'chon thai food',\n",
              " 'egg works',\n",
              " 'little caesars pizza',\n",
              " 'starlite bbq',\n",
              " 'nook kitchen',\n",
              " 'maharaja restaurant',\n",
              " 'home tasting room',\n",
              " \"east side mario's\",\n",
              " 'shawarma xpress',\n",
              " 'kum hong bbq restaurant',\n",
              " 'jugo juice',\n",
              " 'charcoal kebab house',\n",
              " \"mama roberto's\",\n",
              " \"dressler's - charlotte\",\n",
              " 'searsucker',\n",
              " \"esther's kitchen\",\n",
              " 'diamond restaurant',\n",
              " 'nu jewish bistro',\n",
              " 'opa restaurant',\n",
              " 'tj buffet sushi and grill',\n",
              " 'ace hotel pittsburgh',\n",
              " 'brasserie',\n",
              " 'kingyo',\n",
              " 'wild sage',\n",
              " \"duff's famous wings\",\n",
              " 'cherry street bar-b-que',\n",
              " \"mcdonald's\",\n",
              " 'kulinarya express filipino kitchen',\n",
              " 'szechwan palace',\n",
              " 'helbachs coffee house',\n",
              " 'shore grill and grotto',\n",
              " 'deq terrace & lounge',\n",
              " 'café gentile',\n",
              " 'kanda house',\n",
              " 'streets on carson',\n",
              " 'streets of new york',\n",
              " 'el pollo loco',\n",
              " \"herb 'n twine\",\n",
              " 'cuttlefish',\n",
              " 'dos gringos',\n",
              " 'pizza hut',\n",
              " \"bobo's bbq\",\n",
              " \"carbonara's restaurant\",\n",
              " 'corner bakery cafe',\n",
              " 'brampton tandoori restaurant',\n",
              " 'the original hoagie shop',\n",
              " \"jimmy john's\",\n",
              " \"pancho & lefty's\",\n",
              " 'china garden restaurant',\n",
              " 'four star sushi',\n",
              " \"lawry's the prime rib\",\n",
              " 'aguamenti',\n",
              " 'la campagna',\n",
              " 'sambucas on church',\n",
              " \"roberto's taco shop\",\n",
              " 'white oaks',\n",
              " 'kahunaville island restaurant',\n",
              " \"kennedy's premium bar and grill\",\n",
              " 'el mesquite cocina mexicana',\n",
              " \"capriotti's sandwich shop\",\n",
              " \"arby's roast town\",\n",
              " \"harlow's cafe\",\n",
              " 'burrito boyz',\n",
              " 'el pollo mobile',\n",
              " 'papa luigi',\n",
              " 'the construction site',\n",
              " 'piccadilly pizza fremont',\n",
              " \"the sow's ear\",\n",
              " 'sports deli',\n",
              " 'penn station',\n",
              " 'istanbul grille',\n",
              " 'la mexicana',\n",
              " 'inside the bungalow',\n",
              " 'peking express',\n",
              " 'milestones restaurants',\n",
              " 'crisp',\n",
              " ...]"
            ]
          },
          "metadata": {
            "tags": []
          },
          "execution_count": 121
        }
      ]
    },
    {
      "cell_type": "code",
      "metadata": {
        "colab": {
          "base_uri": "https://localhost:8080/"
        },
        "id": "zbrkcnV9cvG4",
        "outputId": "e5e8321d-b02f-4053-b90e-9f7ffa8a113a"
      },
      "source": [
        "len(all_rests)"
      ],
      "execution_count": null,
      "outputs": [
        {
          "output_type": "execute_result",
          "data": {
            "text/plain": [
              "2280"
            ]
          },
          "metadata": {
            "tags": []
          },
          "execution_count": 122
        }
      ]
    },
    {
      "cell_type": "code",
      "metadata": {
        "id": "FoU21ShxVCp-"
      },
      "source": [
        "#@title Search restaurants... \n",
        "name = 'italian' #@param {type:\"string\"}\n",
        "name ='%'+name+'%'"
      ],
      "execution_count": null,
      "outputs": []
    },
    {
      "cell_type": "code",
      "metadata": {
        "id": "esUaJXT-2CaM"
      },
      "source": [
        "selected_rests = final_df.select('name','business_id','categories').where(col('name').like(name)).rdd.map(lambda x:x).zipWithIndex().toDF(['name','index_id'])"
      ],
      "execution_count": null,
      "outputs": []
    },
    {
      "cell_type": "code",
      "metadata": {
        "id": "N3OOZK6OVCxp"
      },
      "source": [
        "selected_rests = selected_rests.rdd.map(lambda x:(x[1],list(x[0])[0],list(x[0])[2],list(x[0])[1])).toDF(['index_id','name','categories','business_id'])"
      ],
      "execution_count": null,
      "outputs": []
    },
    {
      "cell_type": "code",
      "metadata": {
        "colab": {
          "base_uri": "https://localhost:8080/"
        },
        "id": "j7qsRgej50sq",
        "outputId": "79bda973-ddf2-47e3-dffe-bfccd08fabb3"
      },
      "source": [
        "selected_rests.show(20,False)"
      ],
      "execution_count": null,
      "outputs": [
        {
          "output_type": "stream",
          "text": [
            "+--------+--------------------------------------------+-------------------------------------------------------------------------------------------------------------------------------------------------------------------+----------------------+\n",
            "|index_id|name                                        |categories                                                                                                                                                         |business_id           |\n",
            "+--------+--------------------------------------------+-------------------------------------------------------------------------------------------------------------------------------------------------------------------+----------------------+\n",
            "|0       |prego cucina italiana                       |Wine Bars, Bars, Nightlife, Restaurants, Italian                                                                                                                   |-7-uHFjQLH_uxPauYtd8iA|\n",
            "|1       |polo's italian cuisine                      |Restaurants, Bars, Wine Bars, Italian, Nightlife                                                                                                                   |-RIWE3MU3GCHM5KIW7PLww|\n",
            "|2       |olive garden italian restaurant             |Salad, Bars, Restaurants, Nightlife, Wine Bars, Italian, Soup                                                                                                      |8un5h1h8NXs0hzeVraaPbA|\n",
            "|3       |scaddabush italian kitchen & bar            |Wine Bars, Nightlife, Restaurants, Bars, Beer, Wine & Spirits, Italian, Food, Specialty Food                                                                       |9Eghhu_LzEJgDKNgisf3rg|\n",
            "|4       |d'angelo's italian ristorante               |Restaurants, Caterers, Event Planning & Services, Italian, Venues & Event Spaces                                                                                   |BzerEVgnPcQPr0iFzIO8Aw|\n",
            "|5       |stone & vine urban italian                  |Pizza, Restaurants, Italian, Wine Bars, Bars, Nightlife                                                                                                            |HYhbeLznSWEl6JIYTllVUA|\n",
            "|6       |olive garden italian restaurant             |Bars, Wine Bars, Italian, Salad, Nightlife, Restaurants, Soup                                                                                                      |JlMYSLiLnpWiihmzZkQS-w|\n",
            "|7       |olive garden italian restaurant             |Bars, Salad, Wine Bars, Nightlife, Italian, Restaurants, Soup                                                                                                      |KMnFlu3SifyKWKVeMX1UFg|\n",
            "|8       |annie's gourmet italian                     |Bars, Nightlife, Venues & Event Spaces, Local Services, Restaurants, Couriers & Delivery Services, Event Planning & Services, Italian, Salad, Sports Bars, Caterers|KqxJcRmPEdiUTXHwsZcOZw|\n",
            "|9       |rinaldi's italian deli - scottsdale         |Restaurants, Italian, Delis                                                                                                                                        |UkqdcwYv6_c-yW1JPCKlUA|\n",
            "|10      |buca di beppo italian restaurant            |Food, Caterers, Italian, Event Planning & Services, Pizza, Restaurants                                                                                             |XPLSNGSClW8gR5BTcvyOhQ|\n",
            "|11      |times square neighborhood italian restaurant|Italian, Restaurants                                                                                                                                               |YOD9dXrnpu8HTRILpF0onw|\n",
            "|12      |crust simply italian                        |Food, Pizza, Caterers, Italian, Restaurants, Beer, Wine & Spirits, Event Planning & Services, Breakfast & Brunch                                                   |YXvXE2p6xeg6a11SMIjQ3w|\n",
            "|13      |la tavola italiana                          |Italian, Restaurants, Pizza                                                                                                                                        |eU_713ec6fTGNO4BegRaww|\n",
            "|14      |stancato's italian restaurant               |Restaurants, Pizza, Caterers, Event Planning & Services, Italian                                                                                                   |r2BP0Irh63hqYUDSZd0ijQ|\n",
            "|15      |olive garden italian restaurant             |Italian, Restaurants, Nightlife, Wine Bars, Salad, Bars, Soup                                                                                                      |viji5rHhNlsy9w-JmUhyaw|\n",
            "|16      |miele's italian and banquet hall            |Restaurants, Event Planning & Services, Italian, Food, Desserts, Venues & Event Spaces, Pizza, Buffets, Sandwiches                                                 |xTW5PkLEdMBs2f2W8RGy0g|\n",
            "|17      |fanucce's italian imports and pizzeria      |Pizza, Restaurants, Italian                                                                                                                                        |xXZw2v10FbaqRiibXhAhlg|\n",
            "|18      |sauce italian bistro & bar                  |Restaurants, Food, Food Delivery Services, Nightlife, Bars, Italian, Sports Bars, Pizza                                                                            |zYb4kj2R54R2YPeNm829BA|\n",
            "+--------+--------------------------------------------+-------------------------------------------------------------------------------------------------------------------------------------------------------------------+----------------------+\n",
            "\n"
          ],
          "name": "stdout"
        }
      ]
    },
    {
      "cell_type": "code",
      "metadata": {
        "id": "Yb_kXWE8VC2h"
      },
      "source": [
        "#@title Select the index_id... \n",
        "id = 6 #@param {type:\"raw\"}"
      ],
      "execution_count": null,
      "outputs": []
    },
    {
      "cell_type": "code",
      "metadata": {
        "id": "IGNGqqXaVC6w"
      },
      "source": [
        "final_business_id = selected_rests.filter(selected_rests.index_id==id).select('business_id').collect()[0].asDict()['business_id']"
      ],
      "execution_count": null,
      "outputs": []
    },
    {
      "cell_type": "code",
      "metadata": {
        "colab": {
          "base_uri": "https://localhost:8080/"
        },
        "id": "ouzfr8M9U4_F",
        "outputId": "30dcd7fc-fea2-495f-c17c-248816b03341"
      },
      "source": [
        "final_df.filter(final_df.business_id==final_business_id ).select('name','categories','ratings').show(20,False)"
      ],
      "execution_count": null,
      "outputs": [
        {
          "output_type": "stream",
          "text": [
            "+-------------------------------+-------------------------------------------------------------+-------+\n",
            "|name                           |categories                                                   |ratings|\n",
            "+-------------------------------+-------------------------------------------------------------+-------+\n",
            "|olive garden italian restaurant|Bars, Wine Bars, Italian, Salad, Nightlife, Restaurants, Soup|2.5    |\n",
            "+-------------------------------+-------------------------------------------------------------+-------+\n",
            "\n"
          ],
          "name": "stdout"
        }
      ]
    },
    {
      "cell_type": "code",
      "metadata": {
        "colab": {
          "base_uri": "https://localhost:8080/"
        },
        "id": "-FV6wmKZUC3Q",
        "outputId": "18fa857c-123a-4148-ddf9-abbb28adcd75"
      },
      "source": [
        "top5_rest(final_business_id)"
      ],
      "execution_count": null,
      "outputs": [
        {
          "output_type": "stream",
          "text": [
            "+------------------+--------------------------------------------------------------------------------------+-------+\n",
            "|name              |categories                                                                            |ratings|\n",
            "+------------------+--------------------------------------------------------------------------------------+-------+\n",
            "|marco's pizza     |Restaurants, Pizza                                                                    |3.5    |\n",
            "|ferris steak house|Steakhouses, Restaurants                                                              |3.5    |\n",
            "|chinato           |Italian, Restaurants                                                                  |4.0    |\n",
            "|swigs pub & grill |American (Traditional), Chicken Wings, Restaurants, Nightlife, Pubs, Sports Bars, Bars|2.5    |\n",
            "|bistro honda      |Japanese, Restaurants                                                                 |4.0    |\n",
            "+------------------+--------------------------------------------------------------------------------------+-------+\n",
            "\n"
          ],
          "name": "stdout"
        }
      ]
    },
    {
      "cell_type": "code",
      "metadata": {
        "id": "_qVn_d0tgqE8"
      },
      "source": [
        ""
      ],
      "execution_count": null,
      "outputs": []
    }
  ]
}