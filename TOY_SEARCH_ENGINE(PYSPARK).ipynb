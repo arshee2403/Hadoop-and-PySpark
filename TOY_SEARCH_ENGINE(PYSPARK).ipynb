{
  "nbformat": 4,
  "nbformat_minor": 0,
  "metadata": {
    "colab": {
      "name": "TOY SEARCH ENGINE(PYSPARK).ipynb",
      "provenance": [],
      "collapsed_sections": []
    },
    "kernelspec": {
      "name": "python3",
      "display_name": "Python 3"
    }
  },
  "cells": [
    {
      "cell_type": "markdown",
      "metadata": {
        "id": "v3wntL8QyXQc"
      },
      "source": [
        "#Setup Java and Spark"
      ]
    },
    {
      "cell_type": "markdown",
      "metadata": {
        "id": "Yg9bFUhoxzd7"
      },
      "source": [
        "Get Java"
      ]
    },
    {
      "cell_type": "code",
      "metadata": {
        "id": "OGcGAzckE4Si",
        "outputId": "45c141b3-94ec-46be-c605-7baa2e5040dc",
        "colab": {
          "base_uri": "https://localhost:8080/"
        }
      },
      "source": [
        "!apt-get install openjdk-8-jdk-headless -qq "
      ],
      "execution_count": 1,
      "outputs": [
        {
          "output_type": "stream",
          "text": [
            "Selecting previously unselected package openjdk-8-jre-headless:amd64.\n",
            "(Reading database ... 144628 files and directories currently installed.)\n",
            "Preparing to unpack .../openjdk-8-jre-headless_8u272-b10-0ubuntu1~18.04_amd64.deb ...\n",
            "Unpacking openjdk-8-jre-headless:amd64 (8u272-b10-0ubuntu1~18.04) ...\n",
            "Selecting previously unselected package openjdk-8-jdk-headless:amd64.\n",
            "Preparing to unpack .../openjdk-8-jdk-headless_8u272-b10-0ubuntu1~18.04_amd64.deb ...\n",
            "Unpacking openjdk-8-jdk-headless:amd64 (8u272-b10-0ubuntu1~18.04) ...\n",
            "Setting up openjdk-8-jre-headless:amd64 (8u272-b10-0ubuntu1~18.04) ...\n",
            "update-alternatives: using /usr/lib/jvm/java-8-openjdk-amd64/jre/bin/orbd to provide /usr/bin/orbd (orbd) in auto mode\n",
            "update-alternatives: using /usr/lib/jvm/java-8-openjdk-amd64/jre/bin/servertool to provide /usr/bin/servertool (servertool) in auto mode\n",
            "update-alternatives: using /usr/lib/jvm/java-8-openjdk-amd64/jre/bin/tnameserv to provide /usr/bin/tnameserv (tnameserv) in auto mode\n",
            "Setting up openjdk-8-jdk-headless:amd64 (8u272-b10-0ubuntu1~18.04) ...\n",
            "update-alternatives: using /usr/lib/jvm/java-8-openjdk-amd64/bin/idlj to provide /usr/bin/idlj (idlj) in auto mode\n",
            "update-alternatives: using /usr/lib/jvm/java-8-openjdk-amd64/bin/wsimport to provide /usr/bin/wsimport (wsimport) in auto mode\n",
            "update-alternatives: using /usr/lib/jvm/java-8-openjdk-amd64/bin/jsadebugd to provide /usr/bin/jsadebugd (jsadebugd) in auto mode\n",
            "update-alternatives: using /usr/lib/jvm/java-8-openjdk-amd64/bin/native2ascii to provide /usr/bin/native2ascii (native2ascii) in auto mode\n",
            "update-alternatives: using /usr/lib/jvm/java-8-openjdk-amd64/bin/javah to provide /usr/bin/javah (javah) in auto mode\n",
            "update-alternatives: using /usr/lib/jvm/java-8-openjdk-amd64/bin/clhsdb to provide /usr/bin/clhsdb (clhsdb) in auto mode\n",
            "update-alternatives: using /usr/lib/jvm/java-8-openjdk-amd64/bin/jhat to provide /usr/bin/jhat (jhat) in auto mode\n",
            "update-alternatives: using /usr/lib/jvm/java-8-openjdk-amd64/bin/extcheck to provide /usr/bin/extcheck (extcheck) in auto mode\n",
            "update-alternatives: using /usr/lib/jvm/java-8-openjdk-amd64/bin/hsdb to provide /usr/bin/hsdb (hsdb) in auto mode\n",
            "update-alternatives: using /usr/lib/jvm/java-8-openjdk-amd64/bin/schemagen to provide /usr/bin/schemagen (schemagen) in auto mode\n",
            "update-alternatives: using /usr/lib/jvm/java-8-openjdk-amd64/bin/xjc to provide /usr/bin/xjc (xjc) in auto mode\n",
            "update-alternatives: using /usr/lib/jvm/java-8-openjdk-amd64/bin/wsgen to provide /usr/bin/wsgen (wsgen) in auto mode\n"
          ],
          "name": "stdout"
        }
      ]
    },
    {
      "cell_type": "markdown",
      "metadata": {
        "id": "qN1aA-AWx303"
      },
      "source": [
        "Get Spark"
      ]
    },
    {
      "cell_type": "code",
      "metadata": {
        "id": "Z4tdW4XhoHg2",
        "outputId": "78befefa-628f-4e8e-fd45-e7cea7cdc7b1",
        "colab": {
          "base_uri": "https://localhost:8080/"
        }
      },
      "source": [
        "!wget https://mirrors.estointernet.in/apache/spark/spark-3.0.1/spark-3.0.1-bin-hadoop2.7.tgz "
      ],
      "execution_count": 2,
      "outputs": [
        {
          "output_type": "stream",
          "text": [
            "--2020-11-04 10:29:57--  https://mirrors.estointernet.in/apache/spark/spark-3.0.1/spark-3.0.1-bin-hadoop2.7.tgz\n",
            "Resolving mirrors.estointernet.in (mirrors.estointernet.in)... 43.255.166.254, 2403:8940:3:1::f\n",
            "Connecting to mirrors.estointernet.in (mirrors.estointernet.in)|43.255.166.254|:443... connected.\n",
            "HTTP request sent, awaiting response... 200 OK\n",
            "Length: 219929956 (210M) [application/octet-stream]\n",
            "Saving to: ‘spark-3.0.1-bin-hadoop2.7.tgz’\n",
            "\n",
            "spark-3.0.1-bin-had 100%[===================>] 209.74M  8.87MB/s    in 35s     \n",
            "\n",
            "2020-11-04 10:30:33 (5.94 MB/s) - ‘spark-3.0.1-bin-hadoop2.7.tgz’ saved [219929956/219929956]\n",
            "\n"
          ],
          "name": "stdout"
        }
      ]
    },
    {
      "cell_type": "markdown",
      "metadata": {
        "id": "bDWZ0GiLx7M6"
      },
      "source": [
        "Extract the zip file(Spark)"
      ]
    },
    {
      "cell_type": "code",
      "metadata": {
        "id": "ek4bY2AOoJCB"
      },
      "source": [
        "!tar xf spark-3.0.1-bin-hadoop2.7.tgz"
      ],
      "execution_count": 3,
      "outputs": []
    },
    {
      "cell_type": "markdown",
      "metadata": {
        "id": "GPHYjaOAyCdw"
      },
      "source": [
        "Install FindSpark for notebook"
      ]
    },
    {
      "cell_type": "code",
      "metadata": {
        "id": "cwfDMlWWoKbG"
      },
      "source": [
        "!pip install -q findspark"
      ],
      "execution_count": 4,
      "outputs": []
    },
    {
      "cell_type": "markdown",
      "metadata": {
        "id": "V_piMiSyyHio"
      },
      "source": [
        "Set Env(path) for Java and Spark"
      ]
    },
    {
      "cell_type": "code",
      "metadata": {
        "id": "v2Ba1d5zoLuu"
      },
      "source": [
        "import os\n",
        "os.environ[\"JAVA_HOME\"] = \"/usr/lib/jvm/java-8-openjdk-amd64\"\n",
        "os.environ[\"SPARK_HOME\"] = \"/content/spark-3.0.1-bin-hadoop2.7\""
      ],
      "execution_count": 5,
      "outputs": []
    },
    {
      "cell_type": "code",
      "metadata": {
        "id": "aTrsjpDloNbh"
      },
      "source": [
        "#run findspark\n",
        "#initialize pyspark\n",
        "import findspark\n",
        "findspark.init()"
      ],
      "execution_count": 6,
      "outputs": []
    },
    {
      "cell_type": "code",
      "metadata": {
        "id": "hZVYke-zoRVK"
      },
      "source": [
        "import pyspark\n",
        "from pyspark import SparkContext, SparkConf\n",
        "from pyspark.sql import SparkSession"
      ],
      "execution_count": 7,
      "outputs": []
    },
    {
      "cell_type": "code",
      "metadata": {
        "id": "hfcGDhv3oRov"
      },
      "source": [
        "# create the session\n",
        "conf = SparkConf()\n",
        "\n",
        "# create the context\n",
        "sc = SparkContext(conf=conf)\n",
        "spark = SparkSession.builder.getOrCreate()"
      ],
      "execution_count": 8,
      "outputs": []
    },
    {
      "cell_type": "markdown",
      "metadata": {
        "id": "kE1pUL4hykm9"
      },
      "source": [
        "#Get the data"
      ]
    },
    {
      "cell_type": "code",
      "metadata": {
        "id": "9RydYhrpoTH0",
        "outputId": "8d953e93-2aa4-422c-e0ef-433a6585940a",
        "colab": {
          "base_uri": "https://localhost:8080/"
        }
      },
      "source": [
        "#get 20newbytes\n",
        "!wget http://qwone.com/~jason/20Newsgroups/20news-18828.tar.gz"
      ],
      "execution_count": 9,
      "outputs": [
        {
          "output_type": "stream",
          "text": [
            "--2020-11-04 10:30:47--  http://qwone.com/~jason/20Newsgroups/20news-18828.tar.gz\n",
            "Resolving qwone.com (qwone.com)... 173.48.209.137\n",
            "Connecting to qwone.com (qwone.com)|173.48.209.137|:80... connected.\n",
            "HTTP request sent, awaiting response... 200 OK\n",
            "Length: 14666916 (14M) [application/x-gzip]\n",
            "Saving to: ‘20news-18828.tar.gz’\n",
            "\n",
            "20news-18828.tar.gz 100%[===================>]  13.99M  10.1MB/s    in 1.4s    \n",
            "\n",
            "2020-11-04 10:30:48 (10.1 MB/s) - ‘20news-18828.tar.gz’ saved [14666916/14666916]\n",
            "\n"
          ],
          "name": "stdout"
        }
      ]
    },
    {
      "cell_type": "code",
      "metadata": {
        "id": "a_N38kaGoVCV"
      },
      "source": [
        "#extract 20newsbytes\n",
        "!tar xzf 20news-18828.tar.gz"
      ],
      "execution_count": 10,
      "outputs": []
    },
    {
      "cell_type": "code",
      "metadata": {
        "id": "Ge5t9235pQxc"
      },
      "source": [
        "s = sc.wholeTextFiles('/content/20news-18828/*/*')"
      ],
      "execution_count": 11,
      "outputs": []
    },
    {
      "cell_type": "markdown",
      "metadata": {
        "id": "SyKSSvw5pEbR"
      },
      "source": [
        "#Preprocess the data\n",
        "\n"
      ]
    },
    {
      "cell_type": "code",
      "metadata": {
        "id": "skumfHZEoZ4U"
      },
      "source": [
        "import fileinput,re\n",
        "from contextlib import redirect_stdout\n",
        "import os\n",
        "import nltk\n",
        "from nltk.corpus import stopwords\n",
        "with redirect_stdout(open(os.devnull, \"w\")): #suppress the output\n",
        "    nltk.download('stopwords')\n",
        "sw = stopwords.words('english') "
      ],
      "execution_count": 12,
      "outputs": []
    },
    {
      "cell_type": "code",
      "metadata": {
        "id": "lr-JphgapKHR"
      },
      "source": [
        "def remove_stopwords(text):\n",
        "  filtered_words = [w for w in text.split()  if ((not w in sw) and (len(w)>1))]\n",
        "  return \" \".join(filtered_words)"
      ],
      "execution_count": 13,
      "outputs": []
    },
    {
      "cell_type": "code",
      "metadata": {
        "id": "nesY53D6pLQq"
      },
      "source": [
        "from nltk.stem import SnowballStemmer\n",
        "snowball = SnowballStemmer('english')\n",
        "Stem1 = lambda x:snowball.stem(x)\n",
        "def stem2(x):\n",
        "  return ' '.join(list(map(Stem1,x.split())))"
      ],
      "execution_count": 14,
      "outputs": []
    },
    {
      "cell_type": "code",
      "metadata": {
        "id": "O8_h-HFQt1jV"
      },
      "source": [
        "import string\n",
        "def preprocess(x):\n",
        "  x = x.lower()\n",
        "  x = x.strip()\n",
        "  x = x.replace(\"\\n\", \" \")\n",
        "  x = re.sub(\"[^a-z]\", \" \",x)\n",
        "  x = remove_stopwords(x)\n",
        "  x = ' '.join(list(map(Stem1,x.split())))\n",
        "  return x"
      ],
      "execution_count": 15,
      "outputs": []
    },
    {
      "cell_type": "code",
      "metadata": {
        "id": "_P2lzo3cpQ_I",
        "outputId": "5ac5aca3-2b6a-4909-c7d4-4fb23ba8878a",
        "colab": {
          "base_uri": "https://localhost:8080/"
        }
      },
      "source": [
        "s.map(lambda x: x[1]).take(10)"
      ],
      "execution_count": 16,
      "outputs": [
        {
          "output_type": "execute_result",
          "data": {
            "text/plain": [
              "[\"From: feustel@netcom.com (David Feustel)\\nSubject: Re: We knew it would happen\\n\\nGod forgive me for being an American who pays taxes to a government\\nthat commits atrocities like the Waco Massacre of 1993.\\n-- \\nDave Feustel N9MYI <feustel@netcom.com>\\n\\nI'm beginning to look forward to reaching the %100 allocation of taxes\\nto pay for the interest on the national debt. At that point the\\nfederal government will be will go out of business for lack of funds.\\n\",\n",
              " \"From: hallam@dscomsa.desy.de (Phill Hallam-Baker)\\nSubject: Re: Hallam-Baker bashes tpgers (was Re: Welcome to Police State USA)\\n\\n\\nIn article <1993Apr22.041542.11054@a.cs.okstate.edu>, kennejs@a.cs.okstate.edu (KENNEDY JAMES SCOT) writes:\\n\\n|>From article <C5t9IA.6F9@dscomsa.desy.de>, by hallam@dscomsa.desy.de (Phill Hallam-Baker):\\n\\n|>> If anyone wants to understand the paranoid mindset of Koresh I offer you\\n|>> talk.politics.guns. There you can dredge the sewers of minds so hung\\n|>> up on power and ego trips that they bend reality arround their own\\n|>> particular set of beleifs.\\n|>\\n|>Just what the hell do you base that ludicrous claim on?  There are \\n|>*plenty* of fine, decent people people who read/post to t.p.g.  If\\n|>any of these people are paranoid it is because of people like you.\\n\\nHey dude you are making me paranoid! What an argument!!!\\n\\n\\n|>> I long ago gave up arguing the case for arms control directly. Instead\\n|>> I invite people to ask themselves, would you want to be in a room full\\n|>> of the occupants of talk.politics.guns, their personal armouries and\\n|>> attempt to enter a discussion with them?\\n|>\\n|>I'd have a spot of tea with them. :)  You probably gave up on arguing the\\n|>case for arms control directly long ago because posters who *know*\\n|>what they are talking about (e.g., Frank Crary) disproved all your\\n|>arguments for why more gun control is needed.  So, you gave up because\\n|>you know they are right and you couldn't refute their answers.\\n\\nNo, Frank Crary's arguments are based on the assumption that most people\\nare sane, normal people. tpg disproves this of gun owners. USEnet as a whole\\ndisproves it of humanity as a whole.\\n\\nWe now have proof positive that guns don't make you safer. Buy a lot of\\nguns and you either get shot in the no knock raid or get the FBI to burn\\ndown your house. See even in the paranoid mindset of tpg there are good reasons\\nto support gun control.\\n\\n\\nCuddles 'n kisses\\n\\nPhill \\n\",\n",
              " \"From: fbrown@seaway.ssd.kodak.com (Frank Brown 726-0415)\\nSubject: Re: ATF BURNS DIVIDIAN RANCH! NO SURVIVORS!!!\\n\\nIn article <1r75n1INN97g@clem.handheld.com> jmd@cube.handheld.com (Jim De Arras) writes:\\n>In article <dusek.735489223@shale> dusek@rtsg.mot.com (James P. Dusek) writes:\\n>> ccdarg@dct.ac.uk (Alan Greig) writes:\\n>> >or the cultists...) I think I'll quote the BBC quoting (actually voice\\n>> >interview) one of the two British survivors. He claimed that the fire\\n>> >started when the tanks caused an internal wooden wall/roof to collapse\\n>> >knocking over kerosene lamps and that they had no suicide plan.\\n>> \\n>> \\tIf the FBI started the fire, why didn`t people flee the\\n>> burning building?\\n>> \\n>I don't know, why?\\n>\\nThis is the AP story from Fri morning.\\n\\nAs the walls came tumbling down and tear gas filled the air, cult leader\\nDavid Koresh sprang into action. He left his third-floor bedroom and began\\nlooking around the house, making sure women and children were secure and \\nchecking that everyone had their gas masks on properly. Within hours, the    \\ncompound became an inferno. Nine Branch Davidians excaped.\\n   This is their story, gleaned from lawyers who spoke with six of them\\nwho are jailed on charges that include conspiracy and murder. That day the \\nsix said a portable radio offered the only contact with the outside world    \\nsince Koresh's right-hand man, Steve Schneider, ripped out the compounds's \\nphone line after FBI agents called before dawn Monday saying this was the\\ncults last chance: Come out or prepare to get forced out.\\n    They kept their word. By dawn, tanks were battering the Mount Carmel\\ncompound, punching for hours to creat holes for tear gas to enter. The BD\\nmeanwhile proceeded with their daily routines. Strapped into gas masks, the\\nwomen did laundry. Others read Bibles in their rooms. The 17 children, all\\nunder 10, remained by their mothers' sides. Still, it was hard to ignore what    \\nwas happening around them. Each time a tank rammed the poorly-constructed building\\nit shook violently. Cult members dodges falling gypsum wallboard and doors.\\nHundreds of gas canisters hurled in from the armored vehicles were filling\\nthe air with noxious fumes. The flying canisters were more frightening than\\nthe tanks. At least one man was hit in the face. The gas began filling the air,\\ndriven by heavy gusts of wind coming through windows and the holes the tanks\\nmade. Scattered throughout the house, the cult members made no efforts to\\ngather. Then the FBI sent in its biggest weapon -- a massive armored vehicle\\nheaded for a chamber, lined with cinder blocks, where authorities hoped to \\nfind Koresh and Schneider and fire tear gas directly at them.\\n  Here the cult members' story diverges from the government's version. The\\nFBI says cult members set fires in three places. But each of the six cult\\nmembers, in separate discussions with lawyers, consistently gave versions\\nat odds with the FBI's account. They say the tank flattened a barrel of \\npropane, spilling its contents. And as the tank thundered through the house,\\nit tipped over lit lanterns, spitting flames that ignited the propane and\\nother flammables. The home of used lumber, plywood, and wallboard tacked \\ntogether with tar paper was vulnerable. The building erupted. Nine BD's\\nescaped jumping through windows and dashing through other openings. Others\\ndied groping in the blackness.\\n\\nFrank\\n\\n\\n\\n\",\n",
              " 'From: jmd@cube.handheld.com (Jim De Arras)\\nSubject: Re: guns in backcountry? no thanks\\n\\nIn article <0096B294.AAD9C1E0@uinpla.npl.uiuc.edu> reimer@uinpla.npl.uiuc.edu  \\n(Paul E. Reimer) writes:\\n> In article <1qkftjINNoij@cronkite.cisco.com>, pitargue@cisco.com (Marciano  \\nPitargue) writes:\\n> \\n> [stuff deleted about causes of people in ER]\\n> \\n> >and your factoid about shooting victims in the ER.  count how many come in\\n> >due to automobile accidents and automobile crimes.  maybe we should outlaw\\n> >cars.\\n> >marciano pitargue@cisco.com\\n> \\n> There are a lot of automobile accidents, but atleast there is some\\n> regulation to try to combat this.  \\n\\nSuch as?  Drunk drivers get back on the road in no time, to kill again.  Seems  \\nthe driver\\'s license process does not work for this.\\n\\n> When I got my drivers license, I HAD\\n> to take a drivers safety class.  \\n\\nBecause you wanted one while you were underage.\\n\\n> I HAVE to be licensed to drive.  \\n\\nOnly on public roads.\\n\\n> My car\\n> MUST be registered.  \\n\\nOnly if it is to be driven on public roads, other than between segments of my  \\nproperty.\\n\\n> I MUST (at least where I live) have liability\\n> insurance on both myself driving and my car (if someone else had an\\n> accident with it).  \\n\\nOnly on public roads.\\n\\n> Hmm, wouldn\\'t manditory saftey classes, registration\\n> of both the owner and gun, and manditory liability insurance be nice for\\n> gun owners.\\n\\nPerhaps, if it gave them permission to shoot in public roads and parks. :-)\\n\\n> \\n> Paul Reimer\\n> reimer@uinpluxa.npl.uiuc.edu\\n\\nJim\\n\\n--\\njmd@handheld.com\\n-------------------------------------------------------------------------------\\n\"I\\'m always rethinking that.  There\\'s never been a day when I haven\\'t rethought  \\nthat.  But I can\\'t do that by myself.\"  Bill Clinton  6 April 93\\n\"If I were an American, as I am an Englishman, while a foreign troop was landed  \\nin my country, I never would lay down my arms,-never--never--never!\"\\nWILLIAM PITT, EARL OF CHATHAM 1708-1778 18 Nov. 1777\\n',\n",
              " 'From: hays@ssd.intel.com (Kirk Hays)\\nSubject: Re: Govs. Florio, Wilder Hit Airwaves In Support of Brady Bill\\n\\nIn article <1993Apr5.015209.29431@ucsu.Colorado.EDU>, fcrary@ucsu.Colorado.EDU (Frank Crary) writes:\\n|> In article <1993Apr2.231109.23378@msc.cornell.edu> srussell@msc.cornell.edu (Stephen Russell) writes:\\n|> >ObGuns:  I\\'m moving to Arizona; everyone carries guns there.  If I don\\'t, what\\n|> >are the approximate probabilities that I\\'ll get shot by the end of six months?\\n|> \\n|> Under 1 in 20,000 assuming FBI statistics are meaningfull.\\n\\nOf course, if you\\'re a criminal, or hang around with criminals, or\\nflash large wads of cash in the wilder parts of town, or utter verbal\\nbigotry in the right public places, your chances of being shot are much\\nhigher.\\n\\nAvoiding these behaviors, on the other hand, decreases your chances of\\nbeing shot.\\n\\nSomething like 60% of all murders are criminals killing criminals. \\nOver 90% of murders are committed by people with a prior *known*\\nhistory of violence.\\n\\nSimplistic moral, suitable for my three year old, and most inane\\nposters:  \"Bad people do bad things - repeatedly.\"\\n\\n-- \\nKirk Hays - NRA Life, seventh generation.\\n\"The only thing necessary for the triumph of evil is for good men to\\ndo nothing.\"  -- Edmund Burke (1729-1797)\\n',\n",
              " 'From: scottj@magic.dml.georgetown.edu (John L. Scott)\\nSubject: Re: That silly outdated Bill (was Re: Koresh and Miranda)\\n\\nI wrote :\\n  Nice strawman indeed.  The discussion is not about whether there were\\ntanks\\n  used in sixties riots; instead, it is about whether those tanks fired\\ntheir\\n  main guns in one of those riots.  You claim they did.  That claim is\\n  ludicrous.\\n\\nAwesley replied:\\n     I repeated what I had been told, under what context I had heard it,\\n  supporting the claim that tanks were indeed used in Detroit in 67.\\n\\nThe issue has never been whether tanks were used in Detroit in 1967.  It\\nhas been whether they fired their main guns.  You did not merely claim that\\ntanks were used--you claimed that they fired their main guns to suppress\\nsniper fire and that they were \"quite\" effective at this.  You continue to\\nback away from this claim and defend something else that nobody is\\ndisputing.\\n\\nAwesley went on:\\n  I\\n  spent a few minutes in a library today -- found their computer was\\n  down and they don\\'t have a card catalog.  Anyway, it took about 10\\n  minutes to find this in _Nightmare in Detroit, A Rebellion and It\\'s\\n  Victims_ by Sauter and Hines, on page 133, telling of the death of\\n  Tonia Blanding, age 4.\\n   \\n        \"When the tank was fired upon by snipers it turned in the direction\\n  the shots came from. [...] the fifty-caliber machine gun mounted on the\\n  tank belched fire into the buildings.  After a short round into the front\\n  of the buildings, the tank guns spit again, tearing apart huge holes out\\n  of the side of the apartment.\"\\n  \\n       Well, it\\'s not the main gun.  \\n\\n\"Well, it\\'s not the main gun.\"  Gee, that\\'s only the entire point.  Are you\\nnow going to admit that you were wrong?\\n\\nI wrote:\\n  will I see any pictures of tanks firing their main\\n  guns?  Will I see pictures of buildings damaged by the shells?  Will I\\nread\\n  the reports of the tank fire?  I\\'ll bet you dollar to doughnuts I won\\'t. \\n  It will take more than second-hand accounts from a few old National Guard\\n  sergeants shooting the shit to convince me that tanks shelled American\\n  cities in the Sixties.\\n\\nAwesley replied:\\n    Well, if you bothered to read them, it wouldn\\'t take long at all to\\n  find reports of tank * fire * -- although not necessarily of the main\\n  guns.\\n\\nI will never read of tanks firing their main guns in Detroit in the \\'67\\nriots.  There is simply no way that such an event could have taken place\\nwithout it being common knowledge even 26 years later.  The American\\nmilitary firing shells from tanks in American cities on blacks would have\\nbeen *big* news.\\n\\nAwesley goes on:\\n  You can also read of the troops using grenade launchers.\\n\\nTo fire fragmentary grenades?  I doubt that as well.  To fire concussion\\ngrenades?  Perhaps.  To fire tear gas?  Certainly.  But you would be\\nperfectly willing to let us believe they fired frags, wouldn\\'t you, since\\nit makes your other claim seem more plausible.\\n\\nAnd on:\\n  I don\\'t\\n  expect to convince you; you\\'ll have to open your mind and eyes and\\nactually\\n  do a little research to be convinced one way or the other.  Let me know\\n  what you find.\\n\\nI already know what you found: nothing.  If I claimed that the Marines used\\nF-4s to launch rockets at buildings in Trenton, New Jersey would you\\nbelieve me?  Would you suspend judgment until you had a chance to research\\nit?  Or would your bullshit filters kick in?\\n\\nIf tanks had fired their main guns in Detroit, people would have been\\nscreaming about it for the past two and half decades.  I would know about\\nit.  Unless you also claim that the National Guard managed to cover it up. \\nIf your mind is open enough to believe that, well, good for you.  I prefer\\nto live in reality.   And here in reality, I find it hard to believe that\\nthose tanks even had any shells, much less fired them.\\n\\n--John L. Scott\\n',\n",
              " 'From: jmd@cube.handheld.com (Jim De Arras)\\nSubject: Re: FYI - BATF reply on Waco\\n\\nIn article <C5L480.K7u@elite.intel.com> dgw@elite.intel.com (Dennis Willson)  \\nwrites:\\n[..]\\n> \\n> On February 28, 1993, the special agents attempting to serve the\\n> Federal search warrant were all dressed in apparel clearly identified\\n> with the letters \"ATF\" and a highly visible police-type badge.\\n> Additionally, the special agents announced who they were and their\\n> purpose for being at the compound.\\n> \\n> Immediately following this announcement, gunfire erupted from the\\n> compound, resulting in the deaths of four ATF special agents and the\\n> wounding of several others.  Through no fault of ATF, the element of\\n> surprise was lost, which caused the tragedy.  \\n\\nThis statement simply amazes me!  \"Through no fault of ATF, the element of  \\nsurprise was lost\"!  What element of surprise?  In the paragraph preceding this  \\none, he said \"... the special agents announced who they were and their purpose  \\nfor being at the compound\", which was to serve the federal warrant.  No element  \\nof surprise was even needed for that.  \\n\\nNo, the element of surprise that they lost was that needed for a preemptive  \\nfirst strike, without warning.  \\n\\n> Inasmuch as the warrants\\n> remain sealed by a U.S. magistrate, and the investigation remains in an\\n> active ongoung status, we are prohibited from disclosing any further\\n> information at this time.\\n> \\n\\nRead: They need to wait until they see how it comes out before they fabricate  \\nanymore, which could get disproven.\\n\\n> We hope we have been responsive to your letter.  Please let us know\\n> whenever we may be of service.\\n> \\n>                           Sincerely yours,\\n> \\n>                           Daniel M. H??l??tt  [can\\'t make out signature]\\n>                           Deputy Director\\n\\nAs always, no facts, just my opinions/observations.\\n\\nJim\\n--\\njmd@handheld.com\\n-------------------------------------------------------------------------------\\n\"I\\'m always rethinking that.  There\\'s never been a day when I haven\\'t rethought  \\nthat.  But I can\\'t do that by myself.\"  Bill Clinton  6 April 93\\n\"If I were an American, as I am an Englishman, while a foreign troop was landed  \\nin my country, I never would lay down my arms,-never--never--never!\"\\nWILLIAM PITT, EARL OF CHATHAM 1708-1778 18 Nov. 1777\\n',\n",
              " 'From: HADCRJAM@admin.uh.edu (MILLER, JIMMY A.)\\nSubject: Re: ATF BURNS DIVIDIAN RANCH! NO SURVIVORS!!!\\n\\nIn <1r600fINNdlu@cronkite.Central.Sun.COM> dbernard@clesun.Central.Sun.COM writes:\\n\\n> In article 5589@news.eng.convex.com, gardner@convex.com (Steve Gardner) writes:\\n> >In article <1r3j2k$da2@menudo.uh.edu> HADCRJAM@admin.uh.edu (MILLER, JIMMY A.) writes:\\n> >>  Minor quibble:  The assualt (and it was one) began near dawn.  The fire did\\n> >>not break out for several hours.  \\n> >\\tMinor quibble back at you.  I am in the same general area as\\n> >\\tthe Koresh compound and I can tell you that the air was quite\\n> >\\tchilly that morning, especially with the high winds that\\n> >\\twere blowing. (Of course the swiss cheese walls made it\\n> >\\teven worse. ;-)\\n\\n  You are correct WRT the idea of some heating being nice that morning.  But \\npart of that line was also for the guy who said \"minutes later, the fires\\nstarted\".  I did forget how cool it was that day.\\n\\n> Those choppers flying around didn\\'t make the wind any more still, either.\\n\\n  When you got 30-40 mph winds swinging across the Texas plain, a couple of\\nHueys don\\'t add one whole hell of a lot.\\n\\nsemper fi,\\n\\nJammer Jim Miller \\nTexas A&M University \\'89 and \\'91\\n________________________________________________________________________________\\n I don\\'t speak for UH, which is too bad, because they could use the help.     \\n\"Become one with the Student Billing System. *BE* the Student Billing System.\"\\n \"Power finds its way to those who take a stand.  Stand up, Ordinary Man.\"    \\n      ---Rik Emmet, Gil Moore, Mike Levine: Triumph \\t\\t              \\n',\n",
              " 'From: \"Paul Hager\" <hagerp@cs.indiana.edu>\\nSubject: Re: BATF/FBI Murders Almost Everyone in Waco Today! 4/19\\n\\nroby@chopin.udel.edu (Scott W Roby) writes:\\n\\n>In article <C5rrot.MMM@rice.edu> fontenot@ravl.rice.edu (Dwayne Jacques Fontenot) writes:\\n>>In article <C5rpoJ.IJv@news.udel.edu> roby@chopin.udel.edu (Scott W Roby) writes:\\n>>>In article <1993Apr19.184303.6205@stortek.com> vojak@icebucket.stortek.com (Bill Vojak) writes:\\n>>>>\\n>>>  [...]\\n>>>> 5) Point out that even if the fire was set by someone inside of the\\n>>>>    building, it came as a direct result of the actions of the FBI/BATF.\\n>>>>    And the people inside (including 17 children) deserved a trial, instead\\n>>>>    of this.\\n>>>\\n>>>Well they had over 40 days to come out with their hands up on national tv \\n>>>to get the trial they deserved.  Instead they chose to set fire to their \\n>>>compund hours after the tanks dropped off the tear gas.\\n>>\\n>>Correction: The FBI says that the Davidians set fire to their buildings.\\n\\n>And I suppose the FBI also prevented them from coming out with their \\n>hands up while national tv cameras watch.\\n\\nWell the attorneys of the Davidians reported on Larry King that\\nthe tanks had actually damaged the structure to the extent that\\neffectuating egress from the building was difficult at best.\\nWith a rapidly spreading fire and large amounts of smoke and\\ntear gas, finding the right exits, or acceptible holes in the walls\\nwere nearly impossible.  I find this explanation to be completely \\nplausible.  Doesn\\'t mean that it\\'s true, but I don\\'t find it\\nintrinsically less believable than the government stories.\\n\\n>>The FBI also said that the Davidians had a methanphetamine lab in their\\n>>basement and that the Davidians had .50 cal machine guns.\\n>>\\n>>Do you believe everything the FBI says? \\n\\n>Do you disbelieve everything the FBI says?\\n>I balance my gut reaction to question authority together with the \\n>independent facts as I see them on video.  I usually adopt the \\n>scenario that is simplest and most plausible.  I do not generally \\n>believe in conspiracy theories that involve complicated and unlikely \\n>scenarios.\\n\\nI concur.\\n\\n>The BATF is by no means devoid of fault in the handling of this affair.\\n>But to suggest that they may have intentionally started the fire is \\n>ludicrous.\\n\\nIndeed.  According to the lawyers, the Davidian survivors say that\\nlanterns were knocked over during the \"probing\" and that\\'s how\\nthe fire started.  A tragic accident, if true.\\n\\n>>Do you trust that snivelling little\\n>>piece of sh*t special agent Ricks? He seems to think he is a comedian, and\\n>>the media who laugh at his sick jokes are just as guilty as he, IMHO.\\n>>\\n>>>Up until now the BATF had been making me sick.  Today the people inside \\n>>>the compound who set the fire made me sick.  Keeping the children inside \\n>>>the compund when they should have been released earlier with the other \\n>>>people weeks ago is absolutely inexcuseable.  Not releasing them before \\n>>>deciding to set the place afire is the work of madmen.\\n>>>\\n>>>Two of the nine who escaped the compound said the fire was deliberately set \\n>>>by cult members.\\n>>\\n>>Correction: The FBI says that two of the nine said the fire was deliberately\\n>>set by the sect members.\\n\\n>If the fire were set by accident or by people outside the compound, I would \\n>have expected far more cult members to flee the compound.  Or at least come \\n>out shooting.\\n\\nSee above.  This one is going to be thoroughly investigated.  Maybe\\nwe\\'ll eventually get some idea of what happened.  My view is that,\\nfrom beginning to end, this operation was a botch and that it is\\ncompletely possible that nut cases who were otherwise law-abiding\\ncitizens were victims of a bureaucratic execution.\\n-- \\npaul hager\\t\\thagerp@moose.cs.indiana.edu\\n\\n\"I would give the Devil benefit of the law for my own safety\\'s sake.\"\\n                       --from _A_Man_for_All_Seasons_ by Robert Bolt\\n',\n",
              " \"From: gt6511a@prism.gatech.EDU (COCHRANE,JAMES SHAPLEIGH)\\nSubject: Re: Blast them next time\\n\\nIn article <1r19l9$7dv@usenet.INS.CWRU.Edu> oldham@ces.cwru.edu (Daniel Oldham) writes:\\n:What happened in Waco is not the fault of the BATF. If they would of\\n:had the proper equipment and personal then they could of captured the\\n:\\n:With the WoD and the increased crime in the streets the BATF is needed\\n:more now then ever. If they blast away a few good fokes then that is\\n:\\n:With the arms build up in Waco they needed to hit that compound with\\n:mega fire power. They could of gone in there blasting and killed a few\\n\\nI hope this is a joke... if not, here's my response:\\n\\nThe BATF has a history of no-knock raids with poor evidence, often resulting in\\ninnocent people being killed or suffering injury to person or property.  I will\\nNOT support the BATF until they clean up their act... Maybe...  As to equipment,\\nthe BATF has damn near anything it wants...  Their faults were in intelligence\\n(military and civilian definitions apply), tactics (attacking during DAYLIGHT??), methodology (the FBI stated that it is against government policy to assault\\na position where there are non-combatants/potential hostages without attempting\\nnegotiations first), and legality.  The BATF's jurisdiction is TAXES on firearms\\nand tobacco.  They are a branch of the department of the treasury.  They have\\nvery curiously backed away from their claims of illegal weaponry to push the\\nchild-abuse charges... The BATF has no jurisdiction over non-firearms/tobacco\\nissues! And the charges of child-abuse had been investigated in the past with\\nno violence and no validation.  This was a clear case of first the BATF, then\\nthe FBI, having watched too many Rambo movies...  My opinion is that the agent\\nin charge should be charged with executing an illegal raid, criminal negligence,\\nmurder, civil rights violations, and breaking his/her oath to uphold and defend\\nthe Constitution of the US.  The warrant should be unsealed to reveal to the \\npublic what justification the BATF thought it had in committing an armed assault\\non American citizens.  And while on the issue of investigating this issue,\\nthe Randy Weaver case and the Johnny Lawmaster case should be investigated for\\nBATF wrongdoing.\\n\\nJames\\n\\nbtw, if the BATF came busting in my windows with concussion grenades, you could damn well bet I would return fire to the utmost of my ability.\\n\\n\\n\\n-- \\n********************************************************************************\\nJames S. Cochrane        *  When in danger, or in doubt, run in * This space \\ngt6511a@prism.gatech.edu *  circles, scream and shout.          * for rent\\n********************************************************************************\\n\"]"
            ]
          },
          "metadata": {
            "tags": []
          },
          "execution_count": 16
        }
      ]
    },
    {
      "cell_type": "code",
      "metadata": {
        "id": "7mCdFCdQpSVp"
      },
      "source": [
        "cleaned = s.map(lambda x: x[1]).map(lambda x:x.lower()).map(lambda x:x.strip()).map(lambda x :x.replace(\"\\n\", \" \")).map(lambda x: re.sub(\"[^a-z]\", \" \",x)).map(remove_stopwords).map(stem2)"
      ],
      "execution_count": 17,
      "outputs": []
    },
    {
      "cell_type": "code",
      "metadata": {
        "id": "DVKU0uOnpTfY",
        "outputId": "d84337f4-0d46-40a5-e3b1-f874c0ee8d8c",
        "colab": {
          "base_uri": "https://localhost:8080/"
        }
      },
      "source": [
        "cleaned.take(10)"
      ],
      "execution_count": 18,
      "outputs": [
        {
          "output_type": "execute_result",
          "data": {
            "text/plain": [
              "['feustel netcom com david feustel subject knew would happen god forgiv american pay tax govern commit atroc like waco massacr dave feustel myi feustel netcom com begin look forward reach alloc tax pay interest nation debt point feder govern go busi lack fund',\n",
              " 'hallam dscomsa desi de phill hallam baker subject hallam baker bash tpger welcom polic state usa articl apr cs okstat edu kennej cs okstat edu kennedi jame scot write articl ia dscomsa desi de hallam dscomsa desi de phill hallam baker anyon want understand paranoid mindset koresh offer talk polit gun dredg sewer mind hung power ego trip bend realiti arround particular set beleif hell base ludicr claim plenti fine decent peopl peopl read post peopl paranoid peopl like hey dude make paranoid argument long ago gave argu case arm control direct instead invit peopl ask would want room full occup talk polit gun person armouri attempt enter discuss spot tea probabl gave argu case arm control direct long ago poster know talk frank crari disprov argument gun control need gave know right refut answer frank crari argument base assumpt peopl sane normal peopl tpg disprov gun owner usenet whole disprov human whole proof posit gun make safer buy lot gun either get shot knock raid get fbi burn hous see even paranoid mindset tpg good reason support gun control cuddl kiss phill',\n",
              " 'fbrown seaway ssd kodak com frank brown subject atf burn dividian ranch survivor articl inn clem handheld com jmd cube handheld com jim de arra write articl dusek shale dusek rtsg mot com jame dusek write ccdarg dct ac uk alan greig write cultist think quot bbc quot actual voic interview one two british survivor claim fire start tank caus intern wooden wall roof collaps knock kerosen lamp suicid plan fbi start fire peopl flee burn build know ap stori fri morn wall came tumbl tear gas fill air cult leader david koresh sprang action left third floor bedroom began look around hous make sure women children secur check everyon gas mask proper within hour compound becam inferno nine branch davidian excap stori glean lawyer spoke six jail charg includ conspiraci murder day six said portabl radio offer contact outsid world sinc koresh right hand man steve schneider rip compound phone line fbi agent call dawn monday say cult last chanc come prepar get forc kept word dawn tank batter mount carmel compound punch hour creat hole tear gas enter bd meanwhil proceed daili routin strap gas mask women laundri other read bibl room children remain mother side still hard ignor happen around time tank ram poor construct build shook violent cult member dodg fall gypsum wallboard door hundr gas canist hurl armor vehicl fill air noxious fume fli canist frighten tank least one man hit face gas began fill air driven heavi gust wind come window hole tank made scatter throughout hous cult member made effort gather fbi sent biggest weapon massiv armor vehicl head chamber line cinder block author hope find koresh schneider fire tear gas direct cult member stori diverg govern version fbi say cult member set fire three place six cult member separ discuss lawyer consist gave version odd fbi account say tank flatten barrel propan spill content tank thunder hous tip lit lantern spit flame ignit propan flammabl home use lumber plywood wallboard tack togeth tar paper vulner build erupt nine bd escap jump window dash open other die grope black frank',\n",
              " 'jmd cube handheld com jim de arra subject gun backcountri thank articl aad uinpla npl uiuc edu reimer uinpla npl uiuc edu paul reimer write articl qkftjinnoij cronkit cisco com pitargu cisco com marciano pitargu write stuff delet caus peopl er factoid shoot victim er count mani come due automobil accid automobil crime mayb outlaw car marciano pitargu cisco com lot automobil accid atleast regul tri combat drunk driver get back road time kill seem driver licens process work got driver licens take driver safeti class want one underag licens drive public road car must regist driven public road segment properti must least live liabil insur drive car someon els accid public road hmm manditori saftey class registr owner gun manditori liabil insur nice gun owner perhap gave permiss shoot public road park paul reimer reimer uinpluxa npl uiuc edu jim jmd handheld com alway rethink never day rethought bill clinton april american englishman foreign troop land countri never would lay arm never never never william pitt earl chatham nov',\n",
              " 'hay ssd intel com kirk hay subject gov florio wilder hit airwav support bradi bill articl apr ucsu colorado edu fcrari ucsu colorado edu frank crari write articl apr msc cornel edu srussel msc cornel edu stephen russel write obgun move arizona everyon carri gun approxim probabl get shot end six month assum fbi statist meaningful cours crimin hang around crimin flash larg wad cash wilder part town utter verbal bigotri right public place chanc shot much higher avoid behavior hand decreas chanc shot someth like murder crimin kill crimin murder commit peopl prior known histori violenc simplist moral suitabl three year old inan poster bad peopl bad thing repeat kirk hay nra life seventh generat thing necessari triumph evil good men noth edmund burk',\n",
              " 'scottj magic dml georgetown edu john scott subject silli outdat bill koresh miranda wrote nice strawman inde discuss whether tank use sixti riot instead whether tank fire main gun one riot claim claim ludicr awesley repli repeat told context heard support claim tank inde use detroit issu never whether tank use detroit whether fire main gun mere claim tank use claim fire main gun suppress sniper fire quit effect continu back away claim defend someth els nobodi disput awesley went spent minut librari today found comput card catalog anyway took minut find nightmar detroit rebellion victim sauter hine page tell death tonia bland age tank fire upon sniper turn direct shot came fifti calib machin gun mount tank belch fire build short round front build tank gun spit tear apart huge hole side apart well main gun well main gun gee entir point go admit wrong wrote see pictur tank fire main gun see pictur build damag shell read report tank fire bet dollar doughnut take second hand account old nation guard sergeant shoot shit convinc tank shell american citi sixti awesley repli well bother read take long find report tank fire although necessarili main gun never read tank fire main gun detroit riot simpli way event could taken place without common knowledg even year later american militari fire shell tank american citi black would big news awesley goe also read troop use grenad launcher fire fragmentari grenad doubt well fire concuss grenad perhap fire tear gas certain would perfect will let us believ fire frag sinc make claim seem plausibl expect convinc open mind eye actual littl research convinc one way let know find alreadi know found noth claim marin use launch rocket build trenton new jersey would believ would suspend judgment chanc research would bullshit filter kick tank fire main gun detroit peopl would scream past two half decad would know unless also claim nation guard manag cover mind open enough believ well good prefer live realiti realiti find hard believ tank even shell much less fire john scott',\n",
              " 'jmd cube handheld com jim de arra subject fyi batf repli waco articl elit intel com dgw elit intel com denni willson write februari special agent attempt serv feder search warrant dress apparel clear identifi letter atf high visibl polic type badg addit special agent announc purpos compound immedi follow announc gunfir erupt compound result death four atf special agent wound sever other fault atf element surpris lost caus tragedi statement simpli amaz fault atf element surpris lost element surpris paragraph preced one said special agent announc purpos compound serv feder warrant element surpris even need element surpris lost need preemptiv first strike without warn inasmuch warrant remain seal magistr investig remain activ ongoung status prohibit disclos inform time read need wait see come fabric anymor could get disproven hope respons letter pleas let us know whenev may servic sincer daniel tt make signatur deputi director alway fact opinion observ jim jmd handheld com alway rethink never day rethought bill clinton april american englishman foreign troop land countri never would lay arm never never never william pitt earl chatham nov',\n",
              " 'hadcrjam admin uh edu miller jimmi subject atf burn dividian ranch survivor finndlu cronkit central sun com dbernard clesun central sun com write articl news eng convex com gardner convex com steve gardner write articl da menudo uh edu hadcrjam admin uh edu miller jimmi write minor quibbl assualt one began near dawn fire break sever hour minor quibbl back general area koresh compound tell air quit chilli morn especi high wind blow cours swiss chees wall made even wors correct wrt idea heat nice morn part line also guy said minut later fire start forget cool day chopper fli around make wind still either got mph wind swing across texa plain coupl huey add one whole hell lot semper fi jammer jim miller texa univers speak uh bad could use help becom one student bill system student bill system power find way take stand stand ordinari man rik emmet gil moor mike levin triumph',\n",
              " 'paul hager hagerp cs indiana edu subject batf fbi murder almost everyon waco today robi chopin udel edu scott robi write articl rrot mmm rice edu fontenot ravl rice edu dwayn jacqu fontenot write articl rpoj ijv news udel edu robi chopin udel edu scott robi write articl apr stortek com vojak icebucket stortek com bill vojak write point even fire set someon insid build came direct result action fbi batf peopl insid includ children deserv trial instead well day come hand nation tv get trial deserv instead chose set fire compund hour tank drop tear gas correct fbi say davidian set fire build suppos fbi also prevent come hand nation tv camera watch well attorney davidian report larri king tank actual damag structur extent effectu egress build difficult best rapid spread fire larg amount smoke tear gas find right exit accept hole wall near imposs find explan complet plausibl mean true find intrins less believ govern stori fbi also said davidian methanphetamin lab basement davidian cal machin gun believ everyth fbi say disbeliev everyth fbi say balanc gut reaction question author togeth independ fact see video usual adopt scenario simplest plausibl general believ conspiraci theori involv complic unlik scenario concur batf mean devoid fault handl affair suggest may intent start fire ludicr inde accord lawyer davidian survivor say lantern knock probe fire start tragic accid true trust snivel littl piec sh special agent rick seem think comedian media laugh sick joke guilti imho batf make sick today peopl insid compound set fire made sick keep children insid compund releas earlier peopl week ago absolut inexcus releas decid set place afir work madmen two nine escap compound said fire deliber set cult member correct fbi say two nine said fire deliber set sect member fire set accid peopl outsid compound would expect far cult member flee compound least come shoot see one go thorough investig mayb eventu get idea happen view begin end oper botch complet possibl nut case otherwis law abid citizen victim bureaucrat execut paul hager hagerp moos cs indiana edu would give devil benefit law safeti sake man season robert bolt',\n",
              " 'gt prism gatech edu cochran jame shapleigh subject blast next time articl dv usenet in cwru edu oldham ces cwru edu daniel oldham write happen waco fault batf would proper equip person could captur wod increas crime street batf need ever blast away good foke arm build waco need hit compound mega fire power could gone blast kill hope joke respons batf histori knock raid poor evid often result innoc peopl kill suffer injuri person properti support batf clean act mayb equip batf damn near anyth want fault intellig militari civilian definit appli tactic attack daylight methodolog fbi state govern polici assault posit non combat potenti hostag without attempt negoti first legal batf jurisdict tax firearm tobacco branch depart treasuri curious back away claim illeg weaponri push child abus charg batf jurisdict non firearm tobacco issu charg child abus investig past violenc valid clear case first batf fbi watch mani rambo movi opinion agent charg charg execut illeg raid crimin neglig murder civil right violat break oath uphold defend constitut us warrant unseal reveal public justif batf thought commit arm assault american citizen issu investig issu randi weaver case johnni lawmast case investig batf wrongdo jame btw batf came bust window concuss grenad could damn well bet would return fire utmost abil jame cochran danger doubt run space gt prism gatech edu circl scream shout rent']"
            ]
          },
          "metadata": {
            "tags": []
          },
          "execution_count": 18
        }
      ]
    },
    {
      "cell_type": "markdown",
      "metadata": {
        "id": "CyBJ84PFysa3"
      },
      "source": [
        "#Mapper"
      ]
    },
    {
      "cell_type": "code",
      "metadata": {
        "id": "Bi5JyjsNpUyi"
      },
      "source": [
        "mapped = s.mapValues(lambda x:x.lower()).mapValues(lambda x:x.strip()).mapValues(lambda x :x.replace(\"\\n\", \" \")).mapValues(lambda x: re.sub(\"[^a-z]\", \" \",x)).mapValues(remove_stopwords).mapValues(stem2).flatMapValues(lambda word:word.split(\" \")).map(lambda x:(x,1))"
      ],
      "execution_count": 19,
      "outputs": []
    },
    {
      "cell_type": "code",
      "metadata": {
        "id": "P_YWQrbhpXcQ",
        "outputId": "ac8fb9bb-1da3-4bcd-f614-cb9961c9412c",
        "colab": {
          "base_uri": "https://localhost:8080/"
        }
      },
      "source": [
        "mapped.take(10)"
      ],
      "execution_count": 20,
      "outputs": [
        {
          "output_type": "execute_result",
          "data": {
            "text/plain": [
              "[(('file:/content/20news-18828/talk.politics.guns/54514', 'feustel'), 1),\n",
              " (('file:/content/20news-18828/talk.politics.guns/54514', 'netcom'), 1),\n",
              " (('file:/content/20news-18828/talk.politics.guns/54514', 'com'), 1),\n",
              " (('file:/content/20news-18828/talk.politics.guns/54514', 'david'), 1),\n",
              " (('file:/content/20news-18828/talk.politics.guns/54514', 'feustel'), 1),\n",
              " (('file:/content/20news-18828/talk.politics.guns/54514', 'subject'), 1),\n",
              " (('file:/content/20news-18828/talk.politics.guns/54514', 'knew'), 1),\n",
              " (('file:/content/20news-18828/talk.politics.guns/54514', 'would'), 1),\n",
              " (('file:/content/20news-18828/talk.politics.guns/54514', 'happen'), 1),\n",
              " (('file:/content/20news-18828/talk.politics.guns/54514', 'god'), 1)]"
            ]
          },
          "metadata": {
            "tags": []
          },
          "execution_count": 20
        }
      ]
    },
    {
      "cell_type": "markdown",
      "metadata": {
        "id": "ABQroESlyxLO"
      },
      "source": [
        "#Reducer"
      ]
    },
    {
      "cell_type": "code",
      "metadata": {
        "id": "dDbC8Xiaph0z"
      },
      "source": [
        "reduced = mapped.reduceByKey(lambda x, y: (x+y))"
      ],
      "execution_count": 21,
      "outputs": []
    },
    {
      "cell_type": "code",
      "metadata": {
        "id": "H5aQqoQPpjph",
        "outputId": "b26b9082-9edc-4453-fbc8-0140f9097c7a",
        "colab": {
          "base_uri": "https://localhost:8080/"
        }
      },
      "source": [
        "reduced.take(10)"
      ],
      "execution_count": 22,
      "outputs": [
        {
          "output_type": "execute_result",
          "data": {
            "text/plain": [
              "[(('file:/content/20news-18828/talk.politics.guns/54514', 'netcom'), 2),\n",
              " (('file:/content/20news-18828/talk.politics.guns/54514', 'com'), 2),\n",
              " (('file:/content/20news-18828/talk.politics.guns/54514', 'david'), 1),\n",
              " (('file:/content/20news-18828/talk.politics.guns/54514', 'knew'), 1),\n",
              " (('file:/content/20news-18828/talk.politics.guns/54514', 'god'), 1),\n",
              " (('file:/content/20news-18828/talk.politics.guns/54514', 'forgiv'), 1),\n",
              " (('file:/content/20news-18828/talk.politics.guns/54514', 'american'), 1),\n",
              " (('file:/content/20news-18828/talk.politics.guns/54514', 'waco'), 1),\n",
              " (('file:/content/20news-18828/talk.politics.guns/54514', 'myi'), 1),\n",
              " (('file:/content/20news-18828/talk.politics.guns/54514', 'begin'), 1)]"
            ]
          },
          "metadata": {
            "tags": []
          },
          "execution_count": 22
        }
      ]
    },
    {
      "cell_type": "markdown",
      "metadata": {
        "id": "50lTyz8kyz7t"
      },
      "source": [
        "#Create a dataframe "
      ]
    },
    {
      "cell_type": "code",
      "metadata": {
        "id": "q4LrdQ1QplWQ"
      },
      "source": [
        "df = spark.createDataFrame(reduced.map(lambda x:(x[0][0],x[0][1],x[1])))"
      ],
      "execution_count": 23,
      "outputs": []
    },
    {
      "cell_type": "code",
      "metadata": {
        "id": "7hSDsKNqpoqC",
        "outputId": "77a2c76e-4c70-41bc-f49a-cfed31d06607",
        "colab": {
          "base_uri": "https://localhost:8080/"
        }
      },
      "source": [
        "df.show()"
      ],
      "execution_count": 24,
      "outputs": [
        {
          "output_type": "stream",
          "text": [
            "+--------------------+--------+---+\n",
            "|                  _1|      _2| _3|\n",
            "+--------------------+--------+---+\n",
            "|file:/content/20n...|  netcom|  2|\n",
            "|file:/content/20n...|     com|  2|\n",
            "|file:/content/20n...|   david|  1|\n",
            "|file:/content/20n...|    knew|  1|\n",
            "|file:/content/20n...|     god|  1|\n",
            "|file:/content/20n...|  forgiv|  1|\n",
            "|file:/content/20n...|american|  1|\n",
            "|file:/content/20n...|    waco|  1|\n",
            "|file:/content/20n...|     myi|  1|\n",
            "|file:/content/20n...|   begin|  1|\n",
            "|file:/content/20n...| forward|  1|\n",
            "|file:/content/20n...|   reach|  1|\n",
            "|file:/content/20n...|   alloc|  1|\n",
            "|file:/content/20n...|    debt|  1|\n",
            "|file:/content/20n...|   feder|  1|\n",
            "|file:/content/20n...|    fund|  1|\n",
            "|file:/content/20n...|      de|  3|\n",
            "|file:/content/20n...|   phill|  3|\n",
            "|file:/content/20n...|   baker|  3|\n",
            "|file:/content/20n...|    bash|  1|\n",
            "+--------------------+--------+---+\n",
            "only showing top 20 rows\n",
            "\n"
          ],
          "name": "stdout"
        }
      ]
    },
    {
      "cell_type": "code",
      "metadata": {
        "id": "GM9zriNhpp8M"
      },
      "source": [
        "columns = ['filename','word','count']\n",
        "df = df.toDF(*columns)"
      ],
      "execution_count": 25,
      "outputs": []
    },
    {
      "cell_type": "code",
      "metadata": {
        "id": "TwdCKWa1pwxh",
        "outputId": "b33da847-9bd7-4d07-8255-6c9bf268d4d1",
        "colab": {
          "base_uri": "https://localhost:8080/"
        }
      },
      "source": [
        "df.show()"
      ],
      "execution_count": 26,
      "outputs": [
        {
          "output_type": "stream",
          "text": [
            "+--------------------+--------+-----+\n",
            "|            filename|    word|count|\n",
            "+--------------------+--------+-----+\n",
            "|file:/content/20n...|  netcom|    2|\n",
            "|file:/content/20n...|     com|    2|\n",
            "|file:/content/20n...|   david|    1|\n",
            "|file:/content/20n...|    knew|    1|\n",
            "|file:/content/20n...|     god|    1|\n",
            "|file:/content/20n...|  forgiv|    1|\n",
            "|file:/content/20n...|american|    1|\n",
            "|file:/content/20n...|    waco|    1|\n",
            "|file:/content/20n...|     myi|    1|\n",
            "|file:/content/20n...|   begin|    1|\n",
            "|file:/content/20n...| forward|    1|\n",
            "|file:/content/20n...|   reach|    1|\n",
            "|file:/content/20n...|   alloc|    1|\n",
            "|file:/content/20n...|    debt|    1|\n",
            "|file:/content/20n...|   feder|    1|\n",
            "|file:/content/20n...|    fund|    1|\n",
            "|file:/content/20n...|      de|    3|\n",
            "|file:/content/20n...|   phill|    3|\n",
            "|file:/content/20n...|   baker|    3|\n",
            "|file:/content/20n...|    bash|    1|\n",
            "+--------------------+--------+-----+\n",
            "only showing top 20 rows\n",
            "\n"
          ],
          "name": "stdout"
        }
      ]
    },
    {
      "cell_type": "code",
      "metadata": {
        "id": "anWTNaRepzJ3"
      },
      "source": [
        "from pyspark.sql import functions as func\n",
        "from pyspark.sql.functions import col"
      ],
      "execution_count": 27,
      "outputs": []
    },
    {
      "cell_type": "markdown",
      "metadata": {
        "id": "IfYtBS5VzBd4"
      },
      "source": [
        "create a function for highlighting"
      ]
    },
    {
      "cell_type": "code",
      "metadata": {
        "id": "BjAqcF-1qNCF"
      },
      "source": [
        "from termcolor import colored\n",
        "def highlight(dicts, text):\n",
        "  text = text.lower()\n",
        "  regex = re.compile(\"(%s)\" % \"|\".join( dicts.keys()))\n",
        "  return regex.sub(lambda x: dicts[x.string[x.start():x.end()]], text) "
      ],
      "execution_count": 29,
      "outputs": []
    },
    {
      "cell_type": "markdown",
      "metadata": {
        "id": "7vuzwJyXzMxc"
      },
      "source": [
        "Enter a query"
      ]
    },
    {
      "cell_type": "code",
      "metadata": {
        "id": "aKMwtxssqoiE",
        "outputId": "7586ba2b-eff0-444d-bd0b-d6fc618f6549",
        "colab": {
          "base_uri": "https://localhost:8080/"
        }
      },
      "source": [
        "#@title What would you like to search? \n",
        "#amusing atheists and agnostics organization\n",
        "original_query = 'accounts of anti-armenian human right violatins' #@param {type:\"string\"}\n",
        "processed_query = preprocess(original_query).split()\n",
        "dicts = {}\n",
        "for i in original_query.lower().split():\n",
        "    dicts[i] = colored(i, 'white', 'on_blue')\n",
        "print(dicts)"
      ],
      "execution_count": 30,
      "outputs": [
        {
          "output_type": "stream",
          "text": [
            "{'accounts': '\\x1b[44m\\x1b[37maccounts\\x1b[0m', 'of': '\\x1b[44m\\x1b[37mof\\x1b[0m', 'anti-armenian': '\\x1b[44m\\x1b[37manti-armenian\\x1b[0m', 'human': '\\x1b[44m\\x1b[37mhuman\\x1b[0m', 'right': '\\x1b[44m\\x1b[37mright\\x1b[0m', 'violatins': '\\x1b[44m\\x1b[37mviolatins\\x1b[0m'}\n"
          ],
          "name": "stdout"
        }
      ]
    },
    {
      "cell_type": "markdown",
      "metadata": {
        "id": "RPm0v0pSzQCx"
      },
      "source": [
        "#get the top 3 docs"
      ]
    },
    {
      "cell_type": "code",
      "metadata": {
        "id": "EHpdyXYrp69z"
      },
      "source": [
        "top_3 = df.filter(df.word.isin(processed_query)).groupby('filename').agg(func.sum(\"count\")).sort(col(\"sum(count)\").desc()).select('filename').head(3)\n"
      ],
      "execution_count": 31,
      "outputs": []
    },
    {
      "cell_type": "code",
      "metadata": {
        "id": "jgNccgQgqv4n",
        "outputId": "888a0e66-4c80-42c5-a026-d858f097c067",
        "colab": {
          "base_uri": "https://localhost:8080/"
        }
      },
      "source": [
        "top_3"
      ],
      "execution_count": 32,
      "outputs": [
        {
          "output_type": "execute_result",
          "data": {
            "text/plain": [
              "[Row(filename='file:/content/20news-18828/talk.politics.mideast/76479'),\n",
              " Row(filename='file:/content/20news-18828/talk.politics.mideast/76392'),\n",
              " Row(filename='file:/content/20news-18828/talk.politics.mideast/77257')]"
            ]
          },
          "metadata": {
            "tags": []
          },
          "execution_count": 32
        }
      ]
    },
    {
      "cell_type": "code",
      "metadata": {
        "id": "Fi-JTEyrrSUp"
      },
      "source": [
        "lines = []\n",
        "for i in range(3):\n",
        "  line = sc.textFile(top_3[i][0])\n",
        "  lines.append(line.collect())\n",
        "  "
      ],
      "execution_count": 33,
      "outputs": []
    },
    {
      "cell_type": "markdown",
      "metadata": {
        "id": "Q3UeVNlvzakV"
      },
      "source": [
        "Output"
      ]
    },
    {
      "cell_type": "code",
      "metadata": {
        "id": "HSI7VcRYrFgJ",
        "outputId": "1036af9b-1c04-4d9f-d9d7-4c62624ac581",
        "colab": {
          "base_uri": "https://localhost:8080/"
        }
      },
      "source": [
        "import textwrap\n",
        "for i in range(len(lines)):\n",
        "  print('\\n'+'='*80+'DOCUMENT '+str(i+1)+'='*80+'\\n')\n",
        "  print(textwrap.fill(highlight(dicts,' '.join(lines[i])),200))"
      ],
      "execution_count": 35,
      "outputs": [
        {
          "output_type": "stream",
          "text": [
            "\n",
            "================================================================================DOCUMENT 1================================================================================\n",
            "\n",
            "from: dbd@urartu.sdpa.org (david davidian) subject: \u001b[44m\u001b[37maccounts\u001b[0m \u001b[44m\u001b[37mof\u001b[0m \u001b[44m\u001b[37manti-armenian\u001b[0m \u001b[44m\u001b[37mhuman\u001b[0m \u001b[44m\u001b[37mright\u001b[0m violations in azerbaijan #015\n",
            "\u001b[44m\u001b[37maccounts\u001b[0m \u001b[44m\u001b[37mof\u001b[0m \u001b[44m\u001b[37manti-armenian\u001b[0m \u001b[44m\u001b[37mhuman\u001b[0m \u001b[44m\u001b[37mright\u001b[0m violations in azerbaijan #015                  prelude to current events in nagorno-karabakh\n",
            "+-----------------------------------------------------------+          |                                                           |          | . . . they beat up the husband, dragged the wife\n",
            "outside, |          | and stood her naked next to our burning things; her       |           | husband was lying at her feet on the ground. the crowd    |          | shouted, \"look at the naked\n",
            "armenian!\" they were going to |          | throw the poor woman into the fire...mamma wouldn't allow |          | it but i went to the window and saw her standing there,   |          | and they took\n",
            "skewers that had been heated in the fire    |          | and stuck them into her body.                             |          |                                                           |\n",
            "+-----------------------------------------------------------+  depositions \u001b[44m\u001b[37mof\u001b[0m:  zinaida poghosovna hakopian     born 1937    dispatcher    kavkazenergoremont electric booster station\n",
            "her daughters  gayane (gaya) vazgenovna hakopian    born 1970    orderly    sumgait municipal hospital no. 1  diana vazgenovna hakopian    born 1978    second-year student    sumgait secondary school\n",
            "no. 13     residents at building 21/31, apartment 47    microdistrict no. 3    sumgait [azerbaijan]   -zinaida: on march 20 we arrived in yerevan, and the next day they registered us at the train\n",
            "station and took us to the boarding house. the conditions were wonderful, thanks to our armenians, who received us. but it's not relaxing all the same. i don't know how everyone else feels about it,\n",
            "but for me it's  torture. we don't have a place to call our own. i had a two bedroom apartment  in sumgait, my children went to school and we lived well, in friendship. it's  painful that in our\n",
            "times, in 1988, in the soviet period, people can break  into our apartment and try to kill me and my children, in whom i've put all my efforts and my whole youth. everything was going well for us: my\n",
            "older  daughter was studying at the institute, the middle one was preparing to enter  medical school and was interning as an orderly, and my youngest had been sick  for a long time, but had returned\n",
            "to health. i have been though a lot in my  life: it's been seven years since i lost my husband, i raised my children by  myself. lots \u001b[44m\u001b[37mof\u001b[0m women have similar fates, but there's nothing to\n",
            "be done about it. but i can't control myself when i remember what happened in sumgait on  february 27, 28, and 29, it was just a horror, it's indescribable.  on february 27 our relative, ira, came to\n",
            "visit us. she's better friends with my oldest daughter, and so \u001b[44m\u001b[37mright\u001b[0m away she asked, \"where's vika?\" i say, \"vika's \u001b[44m\u001b[37mof\u001b[0mf in pirkuli on a trip for three days, she's supposed\n",
            "to come back tomorrow.\" my middle daughter, gaya, had baked a cake and we sat there talking and laughing, drinking tea. then gaya and diana went to walk ira home.  they left and a few minutes went by;\n",
            "suddenly i hear noise. i raced out to the balcony--our balcony is \u001b[44m\u001b[37mright\u001b[0m across from the bus station, we live at the corner \u001b[44m\u001b[37mof\u001b[0m mir and druzhba streets--i look and see that\n",
            "there are hoards \u001b[44m\u001b[37mof\u001b[0m people near the bus station and they're all shouting something. what they're shouting i can't understand. our neighbor is standing on his balcony, too. i ask, \"nufar,\n",
            "what's happened?\" he says, \"i don't know, i can't figure it out either.\" i got scared--the kids had gone outside, and i wanted to run after them, but then there was a knock at the door. i open the\n",
            "door and it's the kids. \"mamma,\" says gayane, \"you'll never believe what's going on out there!  it's awful!\" ira says, \"aunt zina, they're shouting, 'karabagh! karabagh!  karabagh is ours!' we didn't\n",
            "know what was going on. they're threatening to  drive out the armenians and slaughter them.\"  i called my brother, and his wife answered the phone. i said, \"aunt tamara,  don't worry, ira is staying\n",
            "here with us, and we'll see her home later.\" i  couldn't shut my eyes all night long, even until morning. i was worried about vika. my god, what was going on, what had happened?!  -gayane: that day,\n",
            "on the 27th, we stood on the balcony and observed what was  happening, although mamma wouldn't allow us to watch all \u001b[44m\u001b[37mof\u001b[0m it. there weren't  50 yards between our building and the bus\n",
            "station. we could see and hear  everything perfectly. they were stopping buses, dragging people out, leading  all the passengers out, looking for armenians. if they found an armenian on  the bus, then\n",
            "it started . . .i don't know what to call it . . .  -zinaida: it's called slaughter.  -gayane: the mob would descend on people and beat them. i don't know if they  were killing them or not, but when\n",
            "they left them, they lay still, not moving, as though nothing was left \u001b[44m\u001b[37mof\u001b[0m them. one person was lying there and they  started dragging him. the police were standing \u001b[44m\u001b[37mright\u001b[0m\n",
            "there, to the side, not  doing anything, they didn't take any steps to calm that mob.  it was awful to stand there and watch it all from the balcony. and you  couldn't go anywhere, somehow . . . you\n",
            "wanted to be able to see everything so as to tell \u001b[44m\u001b[37mof\u001b[0m it later. we wanted to leave sumgait that day. what kept us was the idea that we live in the soviet union, and that something would\n",
            "be done about it. where in the world was our government?!  -zinaida: we couldn't leave town, \u001b[44m\u001b[37mof\u001b[0m course, because our older daughter wasn't home. and at the same time i was terrified for\n",
            "gaya and diana. on sunday  morning when i went to see ira home, our neighbor said, \"zin', you know they  went into valodya's house and smashed everything he had. they murdered his  father and two\n",
            "sons.\" valodya is our neighbor, he's an armenian, he lives on  the first floor. i think, my god, what is happening?! and in broad daylight!  i saw ira home and when on the way back i came across a mob\n",
            "shouting \"slay the armenians! karabagh is ours!\" this was at 12 o'clock in the afternoon. on the  way i stopped into a bread store and the saleswoman says, \"they beat our store manager, they thought\n",
            "he was an armenian and they beat him, but he was an  azerbaijani.\" and i asked, \"did they kill him?\" she says, \"no, he's in serious condition.\" i left there and started to walk home on that same\n",
            "street, but the mob started moving in my direction. i turned \u001b[44m\u001b[37mof\u001b[0mf the street and went down the  little way that goes toward the sputnik store. there i met another crowd, but  these\n",
            "weren't bandits, these were our people from sumgait. i was so f\u001b[44m\u001b[37mright\u001b[0mened that i walked without knowing where was going, i couldn't feel my legs or the  ground under my feet. i was\n",
            "walking and there was a boy standing before my  eyes. this was on the 27th, around evening time. he ran under our balcony, and the mob surged toward him shouting, \"he's an armenian, get him!\" he wore\n",
            "a  black coat. they grabbed him, that boy, near the bus stop, i saw it. they  grabbed him by the legs and struck his head on the asphalt.  i made it home but i just couldn't calm down. my oldest\n",
            "daughter was in my  thoughts. i was thinking, my daughter's coming home now, they'll stop her bus  and she'll be gone. there's no police, no protection, nothing. it's like they  had all died, there's\n",
            "no one, nothing, no authorities whatsoever. i can't even find the words for it! i look and see an ikarus arriving. before going to the  bus station they stop near our place, across from the kosmos\n",
            "movie theater. so this ikarus stops  there and the gang is yelling, the azerbaijanis are running toward it yelling, \"armenians out!\" and i see them take the armenians and beat them, killing them. i\n",
            "can't watch it any more. it was a nightmare. i just  couldn't watch it. but gaya was standing there watching it, and i scolded her. she says, \"mamma, i have to see it, i have to know what's happening,\n",
            "i have to see it with my own eyes so i can tell our people \u001b[44m\u001b[37mof\u001b[0m it later. so our children  will know.\"  gayane: we saw a great deal on the 27th. they caught no less than 20 people before\n",
            "my eyes. i can't say for sure if they killed them or not . . .  -zinaida: there were too many people there, the mob was too big. you couldn't  make anything out. but i saw that boy in the black coat\n",
            "with my own eyes. he was 18 or 19 years old.  -gayane: i think he was older, probably, about 22. a tall fellow, a big guy,  in a coat. he was walking quickly, but when they shouted that he was an\n",
            "armenian, he tore \u001b[44m\u001b[37mof\u001b[0mf running. and the mob went after him. they caught him  \u001b[44m\u001b[37mright\u001b[0m under our balcony. i don't know. i don't think there could have been  much left\n",
            "\u001b[44m\u001b[37mof\u001b[0m him after that. you can imagine what happens when a crowd attacks one person. it was a mob, big, angry, and featureless. you know, there was a  similarity in the way they were\n",
            "dressed, mostly they were wearing long black  coats. you couldn't even tell them apart, they were all wearing black and they all looked alike.  -zinaida: when they picked up that boy and struck him\n",
            "against the asphalt and  he cried \"mamma!\" i ran into the room. i couldn't watch any longer. an awful  lot was going on \u001b[44m\u001b[37mright\u001b[0m then, in various places, it wasn't only that boy,  several\n",
            "people were being beaten up. you couldn't see all \u001b[44m\u001b[37mof\u001b[0m it at once, but  when that boy cried \"mamma!\" i immediately started watching only him.  -gayane: on that first day it went on from\n",
            "about six in the morning until twelve at night. at midnight they dispersed and the police took their place. they were scattered about in all districts. but how can you explain the fact that by\n",
            "morning, when it had already started getting light, around seven o'clock, our police were gone? the police disappeared and yielded their positions to the bandits. in the morning they started gathering\n",
            "at our inter- section again, at the bus station and at the entrance to downtown. from morning on all the roads and mass transit stops were covered, and by nine o'clock you couldn't even see the\n",
            "ground. there were thousands \u001b[44m\u001b[37mof\u001b[0m people in the crowd. again they began stopping vehicles and checking for armenians.  -zinaida: they had signals. i realized that when i noticed that they\n",
            "made a  cross with their arms, they crossed their arms over their heads. the cross, evidently, meant that the vehicle had armenians in it. they let the azerbaijani cars through, and they stopped the\n",
            "armenian ones and started their pogrom.  -gayane: they stopped a white zhiguli and asked the driver what his  nationality was. he got out and said they were from baku. \"but what is your nationality?\"\n",
            "he says armenian. they immediately start shouting, \"ermeni, ermeni!\" and he says, \"what's going on? i'm coming from baku. i don't live in sumgait.\" \"doesn't matter, who cares if you're from baku or\n",
            "sumgait.\" anyway the crowd pounced on him and started beating him, and they dragged a  woman--his wife, probably--out \u001b[44m\u001b[37mof\u001b[0m the car. at this point the police came and  took the two and led\n",
            "them away. then the mob started smashing the car, and  then burned it. the flames blazed . . . it was a horrible fire! then everyone  ran away, they thought the car was going to explode. about 20\n",
            "minutes later  another car comes along, a green moskvich. they ran up shouting \"ermeni!  ermeni!\" but this time they didn't pull the people out \u001b[44m\u001b[37mof\u001b[0m the car, they didn't beat them. maybe\n",
            "they burned them along with the car, because no one emerged  from the flames. the neighbor boy vakhit was standing on the balcony too,  acquaintances \u001b[44m\u001b[37mof\u001b[0m his walked by below, and he asked\n",
            "them and they said, \"yes,  they burned them along with the car.\" about two hours later a whole wedding  procession came by, and there was a doll on the first car. we thought they  were armenians, but\n",
            "the cars started to honk loudly. they were azerbaijanis,  and they were immediately allowed through.  -zinaida: the driver waved his hand as if to say 'get out \u001b[44m\u001b[37mof\u001b[0m the way.' the whole\n",
            "crowd parted and the procession passed through freely.  -gayane: by the way, at the marriage hall, which is \u001b[44m\u001b[37mright\u001b[0m in the courtyard \u001b[44m\u001b[37mof\u001b[0m our building, there was a wedding that\n",
            "day. the azerbaijanis were cele- brating and dancing. on the streets there was grief and death, people were being killed, and people were celebrating the whole time.  -zinaida: before the apartment\n",
            "itself was attacked i asked gaya to call and  find out when the tourist bus was supposed to arrive. she went to her  girlfriend's in the building, she lives in the first entryway, on the third  floor.\n",
            "gaya came back and said, \"mamma, the bus is supposed to come around eight, after eight.\" you can imagine what i was feeling, how hard it was: vika knew nothing about what was happening and was coming\n",
            "to meet her death.  then i heard shouting. i raced to the window and see that the belongings \u001b[44m\u001b[37mof\u001b[0m  our neighbors from the second entryway are being thrown outdoors. they were  thrashing\n",
            "about with the pillows and the feathers were lying like snow. i  started to cry. i am walking around the room, crying, wailing: vika's not  here, what will come \u001b[44m\u001b[37mof\u001b[0m her . . . gaya,\n",
            "\u001b[44m\u001b[37mof\u001b[0m course, was consoling me: \"mamma,  nothing will happen to her, don't worry, calm down, she's in good company,  they'll look out for her.\"  diana: i saw the green car burn. the car was\n",
            "burning when we went out onto the balcony. gaya pushed me away, telling me to get \u001b[44m\u001b[37mof\u001b[0mf the balcony. i left. then  they came up to the balcony and asked if there were any armenians here.\n",
            "-zinaida: you're \u001b[44m\u001b[37mright\u001b[0m, i forgot about that, that was on the 27th.  diana: there's a small, grassy area in front \u001b[44m\u001b[37mof\u001b[0m our balcony; there are trees planted there. the mob\n",
            "asked if there were any armenians in the building. all the neighbors said, no, there are no armenians here. there weren't a lot \u001b[44m\u001b[37mof\u001b[0m armenians in our building, but there weren't just a few\n",
            "armenian families,  either.  -gayane: they fell upon the apartments on the 28th. there were terribly many  \u001b[44m\u001b[37mof\u001b[0m them. our courtyard is huge, and it was completely filled with them.\n",
            "-zinaida: katusev had made an appearance on television earlier. he said that  two people, azerbaijanis, had been killed in karabagh. and when he said that  . . . you know how bees sound, have you\n",
            "heard how they buzz? it was like the  buzzing \u001b[44m\u001b[37mof\u001b[0m millions \u001b[44m\u001b[37mof\u001b[0m bees . . . and with this buzzing they flew into our  courtyard, howling and shouting. i don't know how to\n",
            "describe it. by this  point we were afraid to watch from the balcony, but when i looked out \u001b[44m\u001b[37mof\u001b[0m the  bedroom window--the znaniye bookstore is down there, and armenians live on the  second\n",
            "and fourth floors--i saw their things being thrown out the windows. i  realized that they would be upon us any minute. i shouted to gayane, \"gaya,  hide the gold.\" that's honestly what i told my\n",
            "child. i grabbed diana. i  didn't know what to do! vika still wasn't home, and it was already getting  dark. i was afraid to look at the time because i was already horrified as it  was.  -gayane: just\n",
            "in case, we changed the television channel from the moscow  station to the azerbaijani one.  -zinaida: and turned it up loud.  -gayane: we never listened to azerbaijani music. it just didn't do much\n",
            "for  us. in all those years we almost never listened to it. but sometimes we would watch some entertainment show or film on azerbaijani television. and that was  it. and here we had it turned up full\n",
            "blast. so they would think we were  azerbaijanis.  -zinaida: well you can imagine, they're slaughtering armenians, robbing them,  and we're listening to this concert music from baku. our azerbaijani\n",
            "neighbors suggested we do it, they knocked on the door and told gaya to turn on  azerbaijani music. but we already had it on anyway. turn on the lights, they  told us, so they will think you're not\n",
            "armenians. they're saying the armenians are afraid to turn on their lights, they're hiding.  -gayane: apparently there was some kind \u001b[44m\u001b[37mof\u001b[0m arrangement, because we noticed  that the lights\n",
            "were \u001b[44m\u001b[37mof\u001b[0mf only in armenian apartments, that is, the  azerbaijanis were warned, and every last one \u001b[44m\u001b[37mof\u001b[0m them had their lights on. when we turned the lights \u001b[44m\u001b[37mof\u001b[0mf\n",
            "two \u001b[44m\u001b[37mof\u001b[0m our neighbors came immediately, and later, another one. \"turn on the lights,\" they told us, \"please. nothing will happen. be calm. nothing will happen.\"  -zinaida: \"we won't allow\n",
            "them to come into your apartment.\"  -gayane: we believed those people. we had never done anything bad to them.    -zinaida: after the whole nightmare, about march 15, before we left for armenia, when\n",
            "i was coming into the building they were all crying. the azerbaijanis were crying, saying, \"can it be there is no god? how could they raise their hands against your family? you never did anyone any\n",
            "harm, you never refused anyone anything, not in hard times, or in time \u001b[44m\u001b[37mof\u001b[0m fortune, or in time \u001b[44m\u001b[37mof\u001b[0m mourning. how could they give you away? how could they sell you  down the\n",
            "river?\" they really had given us away. some \u001b[44m\u001b[37mof\u001b[0m them protected us, but others gave us away. they sold us down the river.  -gayane: i was wearing slacks that day, and when it all began i\n",
            "became  cautious for some reason and i changed my clothes. azerbaijani women don't  wear pants. young armenian and russian girls in sumgait wore pants, but the  azerbaijanis found that very strange.\n",
            "and i thought i better put on a skirt,  otherwise they won't believe me if i told them we were azerbaijanis. there was nothing else we could do. no other way out. i was forced to turn myself into  god\n",
            "knows who. i let my hair down, tousled it, and threw a scarf over my head.  -zinaida: and she told me, \"mamma, you hide. take diana and go into the other  room. you two look more like armenians.\n",
            "they'll figure out that we're  armenians \u001b[44m\u001b[37mright\u001b[0m away.\" but how could i go away and leave her there?!  -gayane: i went out onto the balcony. it worked out better that way. we were  the\n",
            "only armenian family in the fourth entryway. this gave us hope: we were  the only ones, the neighbors wouldn't let them in. they, the azerbaijanis,  would fear for themselves and for their children. i\n",
            "looked and saw someone  crawling up on the balcony from below, it was easy to get up onto our balcony. when we would lose the keys the neighbors would let up into their places and  we would crawl\n",
            "across onto our balcony and get in that way. so i turned around and saw a guy with a knife on our balcony. he looks at me and shouts, \"what  nationality are you here?\"  -zinaida: at the same time they\n",
            "were knocking on the door.  -gayane: \"what nationality are you?\" he's shouting. well at first i was f\u001b[44m\u001b[37mright\u001b[0mened, but then i got control \u001b[44m\u001b[37mof\u001b[0m myself and answered in perfect\n",
            "azerbaijani, \"you should be ashamed \u001b[44m\u001b[37mof\u001b[0m yourself, asking a question like that. can't you see i'm an azerbaijani? if i were an armenian would i come out to  meet you face to face and look\n",
            "you in the eyes?\" he looks at me and tells the people with him, \"yes, azerbaijanis live here.\" from below they tell him, \"check it out, it can't be, they have to be armenians.\" and he asks me again,\n",
            "\"what nationality are you?\" i say, \"can't you see?\" i started fuming. i could not say anything else. \"you're blind, that's for sure! you can yell all you want, but that won't make us armenians.\" i\n",
            "hear them breaking down our door, and mamma went toward the door. i say, \"i don't have time to deal with you, they're breaking down our door.\" 1 go to the door and ask, \"who is it?\" they answer, \"open\n",
            "up!\" i say, \"wait, why are you breaking the door? what's going on? i'm opening up.\" we never locked the lower lock, it was broken, but now they had locked it out \u001b[44m\u001b[37mof\u001b[0m fear, and i couldn't\n",
            "get it open. i say wait, i'm looking for the key. i opened the door--it was almost broken down already. i opened the door and they burst in. i say, \"what's going on? why are you breaking down our\n",
            "door?\"  -zinaida: then they started climbing in from the balcony. they're shouting,  \"why don't you open the door?\" and i say, \"well you've already come in the  balcony.\" then diana sees their knives,\n",
            "runs into the bathroom, and closes the door. gaya cries out, \"mamma, diana ran into the bathroom!\" i ran to the door  and forgot that we were pretending to be azerbaijanis, and said in armenian:\n",
            "\"diana, open the door!\" gaya tried to calm them down, and i'm shouting with tears in my eyes for diana to open the door.  -diana i was sitting on the couch with my doll, little red riding hood. that\n",
            "guy climbed in from the balcony with a big knife with a yellow handle. they  put it up to mamma's stomach. i ran to the bathroom, opened the door, and  slammed it behind me. i was\n",
            "f\u001b[44m\u001b[37mright\u001b[0mened, and started to cry. i shouted, \"mamma, they want to kill you!\" and then . . . then they started shouting, \"give us  your passports.\" and gaya says, \"what do you need\n",
            "passports for, we're  azerbaijanis.\"  -gayane: i tried to convince them that we were azerbaijanis, i was trying everything i could, i could get on my knees and plead. i could humble myself,  because\n",
            "at that moment i was worried about other lives than just my own. to be honest i didn't care about anything else, as long as my little sister would  survive, her life and health had cost us so dearly!\n",
            "i tell them, \"what, don't  you understand anything?\" they started shouting, they were tremendously  excited, shouting with terribly loud voices, saying that in stepanakert their  girls were being\n",
            "killed, raped, and tossed around with pitchforks. why  shouldn't they do the same to us? i said, \"who's doing all that? who is doing  it? some armenians! what does that have to do with us? give me the\n",
            "knife, i'll cut my own face.\" \"now you calm down,\" they tell me.  zinaida: i told them, \"why didn't you deal with them there! there, in  karabakh? nothing has happened here, no one has been fighting\n",
            "here, not we  with the armenians, nor they with us. why didn't you give it \u001b[44m\u001b[37mright\u001b[0m back to them there? what've we got to do with this?\" i got confused. i had been saying that we were\n",
            "azerbaijanis, but suddenly i started speaking as though i were an armenian, but they didn't notice. one \u001b[44m\u001b[37mof\u001b[0m them was next to me, with a knife at my breast. and he says to the others,\n",
            "\"what pretty girls.\" he meant gaya and my 10-year-old diana. i was terrified. gaya started assuring  them that we were azerbaijanis. one guy stood in the doorway and gave us bad  looks.  -gayane: he\n",
            "demanded the passports. i said, \"young man, i don't have my  passport here.\" he says, \"let's have the passport, we won't believe you without your passport.\" and one \u001b[44m\u001b[37mof\u001b[0m them started\n",
            "hurriedly searching for documents. they turned the wardrobe in the other room upside down, took the  picture \u001b[44m\u001b[37mof\u001b[0mf the wall, and started pulling the clothes \u001b[44m\u001b[37mof\u001b[0mf their hooks,\n",
            "yelling and shouting, \"passport! passport!\" they all started yelling, there was so  much noise in the apartment. they were all shouting. my hair stood on end.  suddenly i said, \"listen, my papa died,\n",
            "40 days haven't passed yet, we have a  muslim household, we're in mourning, you should be ashamed \u001b[44m\u001b[37mof\u001b[0m yourselves,  you've disgraced your honor.\" and then mamma started to cry.  -zinaida:\n",
            "i started crying: \"my husband died, 40 days haven't yet passed, aren't you ashamed \u001b[44m\u001b[37mof\u001b[0m yourselves!\" in fact my husband had died seven years earlier, in 1981. \"we're in mourning, and you\n",
            "burst in here demanding docu- ments. the documents are at the housing \u001b[44m\u001b[37mof\u001b[0mfice, i'm filing for my pension.\" well it seemed like they believed us. then one guy said, \"they're lezgins. can't\n",
            "you see, there are no men here, only women. leave.\" another fellow in the group agreed with him, he also said that we were lezgins. but a third said, \"no, they're armenians.\" well the other two\n",
            "convinced him, i don t know  how, and all the rest \u001b[44m\u001b[37mof\u001b[0m them listened to them too. there were about 50 \u001b[44m\u001b[37mof\u001b[0m  them, if not more, all in our three-room apartment, even the\n",
            "entryway was  filled. they started leaving. yes, we're lezgins, we're lezgins.\" they started leaving, and one \u001b[44m\u001b[37mof\u001b[0m them took our tape recorder with him. and the one who had  first called\n",
            "us lezgins says, \"leave that, what are you doing?\" they seemed to obey that guy.  -gayane: he was tall, wearing baggy jeans and a coat.  -zinaida: with a little moustache, i think.  -gayane: no, he\n",
            "didn't have a moustache, he was tall with brown hair, he  wasn't a bad-looking sort. he didn't have anything in his hands.  -zinaida: he stood at the threshold.  -gayane: yes, he didn't look like a\n",
            "bad guy, and you know, his face seemed  familiar to me. i had seen him somewhere. and more than once. but i can't  remember where. when he came in i was stupefied, i had a premonition that he\n",
            "wouldn't be able to remain indifferent. when he said that we were lezgins and  that they should leave, such gladness started to glow inside \u001b[44m\u001b[37mof\u001b[0m me. hope. they continued to argue on their\n",
            "way out. some said, \"they're armenians all the  same.\" and that fellow answered, \"even if they are armenians, it's shameful, the father died, they're mourning, there's nothing but women in the house,\n",
            "there's no men. we should stay out \u001b[44m\u001b[37mof\u001b[0m the apartment.\" \"what do you mean, stay  out? we can go in there!\" and he said, \"no, we should stay out, they're  lezgins, we're leaving here.\" the\n",
            "three \u001b[44m\u001b[37mof\u001b[0m them protected us.     -zinaida: no, the two \u001b[44m\u001b[37mof\u001b[0m them. the one in the short coat and the one in the grey suit, who stood at the threshold, about 19 or 20 years old.\n",
            "well they were all young really. the two \u001b[44m\u001b[37mof\u001b[0m them defended us.  -diana: three, three!  -zinaida: do you remember the third one, diana?  -diana: yes, he was wearing dark clothes.  -gayane:\n",
            "the third one was the one who came back. he wore a long brown coat.  -diana: he wore a long, darkish brown coat, and his hair was dark too. when  they left, they told him downstairs that those women\n",
            "were armenians, and ran  back and said that they were going to kill us.  -zinaida: they had all left, and we had started to calm down a little, and i closed the door. and then there is a knock. i told\n",
            "gaya, \"take diana and go into the other room.\" my daughters went into the dining room, and i opened the door. there was a guy there who said, \"run, hide! they're coming to kill you  now!\" we ran up to\n",
            "the third floor. we had some good neighbors up there, azerbaijanis. i sent the kids and stood there alone, not knowing what to do.  i was so far gone . . . out \u001b[44m\u001b[37mof\u001b[0m a whole room i couldn't\n",
            "even think \u001b[44m\u001b[37mof\u001b[0m anything  to take. i even forgot to take my work documents; at the time i had been  preparing a report to send to baku, and the documents were at home. i couldn't see\n",
            "anything . . . i could only see vika, my older daughter. i sent gaya and  diana upstairs, and stood there asking that fellow, \"should i close the door  and leave everything like this?\" he says, \"what\n",
            "do you mean, door? get out \u001b[44m\u001b[37mof\u001b[0m  here, they're coming to kill you! what are you standing there for?\" and i ran  after the children.  -gayane: we barely had time to get up to the third\n",
            "floor when they burst into  our apartment and started shouting, \"where are the armenians?\" we were already at the neighbors'. they had an infant at the time, and the neighbor said,  \"don't you worry,\n",
            "i'm not letting anyone in this apartment no matter what.\"  -zinaida: on the third floor there i started asking the folks, our neighbors, to go meet vika. the bus was due to arrive at eight o'clock. i\n",
            "dissolved in tears, gaya was soothing me, diana was next to us, she was crying too, and i'm already thinking that i've lost my older daughter, but deep in my heart i  still believe she's alive . . .\n",
            "and my tears choked me. i was going out \u001b[44m\u001b[37mof\u001b[0m my mind. but no one could leave the building, the courtyard was packed with people, swarming with them. from the balcony the neighbor in whose\n",
            "apartment  we were hiding asked the bandits, \"where are those armenians, the ones who  were at home? where did they make \u001b[44m\u001b[37mof\u001b[0mf to?\" they told him they didn't know.  they asked him where he\n",
            "lived. he answered, \"can't you see, on the third  floor.\" he asked them specially to divert attention from his own apartment. we heard them taking free reign \u001b[44m\u001b[37mof\u001b[0m our apartment, and they\n",
            "threw our color  television \u001b[44m\u001b[37mof\u001b[0mf the balcony and it exploded.  -gayane: mamma was crying the whole time. she fell into a faint and we brought her around and held her back, because the\n",
            "whole time she kept making for the  door to go outside, alternately raving and sobbing, shouting, and calling  vika. she didn't notice us, probably because we were next to her. her thoughts were only\n",
            "on vika. the neighbors who were hiding us were calming her too,  \u001b[44m\u001b[37mof\u001b[0mfering tea.  -zinaida: we are very grateful to them. thanks to them my children and i are alive, well, and unharmed.\n",
            "when they were throwing our belongings out and  burning them--the beds, the pillows, and the chairs--our neighbor came to us  and said, \"how lucky you are that it's not you standing there naked, but\n",
            "some  other woman instead. you're from our part \u001b[44m\u001b[37mof\u001b[0m the building you lost your  husband, you have children, thank god you're not in her position, we wouldn't  have been able to take it. i\n",
            "don't know what i would do.\" he \u001b[44m\u001b[37mof\u001b[0m course  wouldn't have done anything, he was just trying to calm us down. in the yard  they were torturing our neighbors, fellow armenians they lived on\n",
            "the fifth  floor, in the third entryway. a married couple, vanya and nina, and their  three children. their last name is v. they hid their two daughters, and stayed with their son to defend\n",
            "themselves, they even got boiling water ready, and an axe, and held them \u001b[44m\u001b[37mof\u001b[0mf for a long time, but the . . . they beat up the  husband, dragged the wife outside, and stood her naked next\n",
            "to our burning  things; her husband was lying at her feet on the ground. the crowd shouted,  \"look at the naked armenian!\" they were going to throw the poor woman into the fire. the neighbors came\n",
            "out, an azerbaijani woman threw her a scarf, and she  covered herself with it, and the neighbors led her \u001b[44m\u001b[37mof\u001b[0mf to their apartment.  all the neighbors saw and heard it . . .  -gayane: mamma\n",
            "wouldn't allow it but i went to the window and saw her standing there, and they took skewers that had been heated in the fire and stuck them  into her body. our neighbor, who lived in the same\n",
            "entryway as nina--she  lives with us in the same boarding house now--saw what they had done, nina  showed her, from her knees up, almost up to her neck, her whole body was  covered, riddled, with\n",
            "wounds.  -zinaida: in the morning, during the night \u001b[44m\u001b[37mof\u001b[0m the 29th, rather, after one o'clock, two buses approached the station. i wanted to run out. by then i didn't care any more if i\n",
            "lived or died, but gayane wouldn't let me go, and the neighbors said that i would bring disaster to them and they would be slain along with their children. gaya was crying and said that i forgot about\n",
            "them, my other children, but i could only think \u001b[44m\u001b[37mof\u001b[0m vika. i imagined her torn to pieces, i'm a mother, and they're just children, they don't understand i would have jumped\n",
            "\u001b[44m\u001b[37mof\u001b[0mf the balcony and run to the soldiers for help. i was going to do it but gayane wouldn't let me: \"mamma, please! mamma, i beg \u001b[44m\u001b[37mof\u001b[0m  you!\" the neighbors were sleeping and\n",
            "gayane woke them with her cries. so we  held on that way till morning.  on the morning \u001b[44m\u001b[37mof\u001b[0m the 29th i told our neighbor i was going to go downstairs to our apartment, maybe vika was lying\n",
            "there, murdered. he told me he would go  himself. he was gone for about five minutes, but it seemed like an eternity to me. he returned and said there was no one there, nothing. i went down too,\n",
            "stole down like a mouse, and slipped in everything was thrown all about. i  didn't go to the soldiers because the armored personnel carriers were far  away, farther than the bus station. i began\n",
            "looking for the briefcase with my  work in it. i was miserable because \u001b[44m\u001b[37mof\u001b[0m my daughter, and at the same time  because \u001b[44m\u001b[37mof\u001b[0m my work. my documents were there, my travel papers--\n",
            "i worked in the transport division -- and my trip sheets.  -gayane: mamma is a very responsible person, she was always ready to work  around the clock to do her job.  -zinaida: i look around and i\n",
            "can't find the briefcase. i didn't care about  the fact that everything had been stolen out \u001b[44m\u001b[37mof\u001b[0m all three \u001b[44m\u001b[37mof\u001b[0m my rooms, that everything was smashed, and the furniture was\n",
            "broken, i worried about that later, but at first i was concerned about the lost documents. i went into the kitchen. my daughter had hidden some valuables in the gas stove: my ring and  my earrings. it\n",
            "was all there. five minutes passed and gayane ran in and said, \"mamma, hurry.\" and diana came downstairs too. gayane found  her coat among  the debris, and diana found her track shoes, her coat, and\n",
            "some \u001b[44m\u001b[37mof\u001b[0m her  dresses.  -diana: immediately after we got back up to the neighbors they started  throwing things around in the apartment under us. they threw a television onto the asphalt,\n",
            "it exploded so violently it sounded like a thunderclap. then,  when vika wasn't there, i wouldn't eat, and they forced me, but i couldn't  eat. because i loved vika terribly and she and i had always\n",
            "gone to the movies and gone for walks in the park. when we went into our apartment the next day  and everything was broken, \u001b[44m\u001b[37mright\u001b[0m away i started looking for my dolls and my  books, but i\n",
            "didn't see anything. when we went back upstairs i managed to take two cups from my tea service, and gaya took vika's suit and one \u001b[44m\u001b[37mof\u001b[0m her own  dresses. my italian boots were gone, my\n",
            "brown coat, it was beautiful, there  wasn't a one \u001b[44m\u001b[37mof\u001b[0m my beautiful dolls, and my giant lion was gone too, the one  that had been on top \u001b[44m\u001b[37mof\u001b[0m the television. he was very large\n",
            "and very handsome.  i had two satchels, one for first grade and the other for second grade, one  was yellow-green with a boy and a girl on it, they're playing a drum and a  violin, and there is a dog\n",
            "sitting there closing its ears, and on the other  one were the letters a, b, c, d, e and the numbers 4+5, two girls and a boy  with their mouths open like they are singing. they were beautiful\n",
            "satchels.  they were gone too. i had many books, i collected them, they were in the  bedside tables. and a boy had given me a little apron and a headband for my  birthday, they weren't around either.\n",
            "and i had some big books, fat ones, and  they disappeared, only one was left, the malachite box. the adventures \u001b[44m\u001b[37mof\u001b[0m  karlson, pippi longstockings, and fairy tales \u001b[44m\u001b[37mof\u001b[0m the\n",
            "world were left. all the  other books were gone.  -zinaida: i continued searching for my briefcase, and then my supervisor arrived. he had waited for me until nine o'clock, but i didn't appear, and he\n",
            "thought something must have happened, so he came. he's a russian, aleksei  semyonovich lomakin. alik aliyev, the mechanic, came with him. when they saw  my wrecked apartment they were just petrified,\n",
            "they could not say a thing.  when i saw them i started crying. my azerbaijani neighbors came in. some \u001b[44m\u001b[37mof\u001b[0m  them were crying, others were helping me pick up. i go on looking for my\n",
            "documents and at the same time put things into the wardrobe. now that i  remember it it's both funny and painful: how could i have thought that i had  returned to my apartment and that everything had\n",
            "gone back to normal?  incidentally, later, when i went back to the apartment again those things were gone too. and the door was gone. after my supervisor left, in the afternoon,  the neighbor said\n",
            "that we should leave, find another refuge. \"i'm afraid,\" he  said, \"that someone saw you come to my apartment, and that they could kill you and us too. my god, where could i go it was daytime and\n",
            "those . . . i don't  even know what to call them, the bandits, those marauders, those jackals, i  don't know what to call them, i can't find the words, they were everywhere.  where should i go with\n",
            "two girls? when i opened the door i had tears in my  eyes, and i was terrified . . . and he said, \"go to alik's, he's an azerbaijani, too.\" and i say, \"you should have said that earlier, when my\n",
            "supervisor was here with the car, he could have taken us with him.\" everyone  feared for their own lives. what could i do? i went out into the entryway and  stood. and he says, \"any other time i would\n",
            "keep you here a year, or two. but  \u001b[44m\u001b[37mright\u001b[0m now, i'm sorry . . . \" then another door opened, also on the third  floor. i ask the neighbor, \"tayara, can we hide at your place?\" she's an\n",
            "azerbaijani too. she says, \"what kind \u001b[44m\u001b[37mof\u001b[0m question is that? come in!\" she hid  us. there were many people in the courtyard, and gaya and i hid in the  wardrobe, and they put diana under a\n",
            "mattress, leaving a small opening so the  child could breathe. tayara said that when the bandits left she would let us  out, and when they came back she would hide us again.  we sat in the wardrobe\n",
            "for about a half hour. gaya became ill, and i allowed  her to get out. my legs fell asleep and felt like cannons. we hadn't eaten or  drunk anything for so long, since the 27th, when we saw that\n",
            "horror--and all  \u001b[44m\u001b[37mof\u001b[0m it just snapped in me. tayara's husband went outside, even though i begged  him to stay, saying there should be a man in the house. he said that he'd be  in the\n",
            "courtyard, and if anything happened his wife would signal him. she put  her passport and all \u001b[44m\u001b[37mof\u001b[0m their documents on the table so if they suddenly came  in she could show them that they\n",
            "were an azerbaijani family. my girls went to  the window--and what was going on out there! i feared for my children, that  someone would recognize them from the street. gaya let her hair down and put\n",
            "on a scarf so she would resemble an azerbaijani, but directly across there was a 9-story building, their windows were \u001b[44m\u001b[37mright\u001b[0m across from us, and i shouted  that someone would see her and\n",
            "give us away on the spot. but she kept on  looking.  -diana: i watched too.  -zinaida: downstairs the bandits were fighting with the soldiers. the soldiers didn't shoot, they didn't have orders to. i\n",
            "saw them throwing rocks at the soldiers, they were young boys, 18- and 19-year olds, and they defended themselves . . . i'm a mother after all, and they were no different from my children. when one\n",
            "\u001b[44m\u001b[37mof\u001b[0m the soldiers fell and his head started bleeding i had to stop looking, l couldn't watch anymore . . . i imagined my children in their shoes . . .  -gayane: the troops had assumed\n",
            "their defense that morning and had cordoned  \u001b[44m\u001b[37mof\u001b[0mf the buildings, and some \u001b[44m\u001b[37mof\u001b[0m the soldiers surrounded the bus station, block  36, and our microdistrict 3. but they only\n",
            "cordoned them \u001b[44m\u001b[37mof\u001b[0mf from the outside. the mob fell upon the soldiers, who started to protect themselves, and the mob surged into the courtyard with the soldiers after it. they caught\n",
            "several  azerbaijanis and started beating them with their clubs. one fell down and they cracked open another's head . . .  -zinaida: they show lebanon on television, and the war in afghanistan--that's\n",
            "just what it was like. like in america, how they attack demonstrations with shields and clubs--that's just how it was in our courtyard.  -gayane: don't compare it with america, those were peaceful\n",
            "demonstrations,  but these?!  -zinaida: but how could it happen here and not \u001b[44m\u001b[37mof\u001b[0mf somewhere in america! they  attacked the soldiers, hurled stones at them . . . then i thought, where's\n",
            "the tear gas that the americans use to disperse demonstrators? if they had used  gas on those jackals they all would have scattered.  -gayane: they would not have scattered. the soldiers had been\n",
            "there since  morning, they didn't bring in fresh troops. they hadn't eaten, they were fine  standing there for about three hours, but then they got tired. they weren't  even allowed to sit down . . .\n",
            "at noon they, the soldiers, attacked them, and  then the tables were turned. the mob went after the soldiers, the guys were  bunched into a group in the center street and covered themselves with their\n",
            "shields, and the azerbaijanis surrounded them and threw paving stones at them. and those guys sat there covering themselves with their shields. and meanwhile tanks with machine guns were cruising the\n",
            "streets . . . they always say, \"our  children have never seen war.\" i never even dreamed about it, there was no  need to. but then i thought about those people who had lived through a war. it was\n",
            "truly horrible . . . the guys were tired, exhausted, some had had their  clubs taken away, others, their shields, they had been beaten, they were  covered in blood . . . so many died! they beat the\n",
            "soldiers with their own  clubs and shields. and those guys stood there and couldn't defend themselves,  they couldn't open fire. they couldn't even defend themselves, let alone us.  it's comical . . .\n",
            "-zinaida: what are you saying? how can it be funny?  -gayane: no, i didn't mean that: how could something like that happen during  our soviet period? it's painfully embarrassing! and they burned the\n",
            "armored  personnel carriers, too. someone shouted, \"get away, it's going to blow!\"  everyone scattered away, and the armored personnel carrier exploded. the  soldiers lost their senses. and when they\n",
            "drove the personnel carrier and the  bus at the mob out \u001b[44m\u001b[37mof\u001b[0m rage and fury, they drove \u001b[44m\u001b[37mright\u001b[0m up on the sidewalk.  -zinaida: the bus that had brought the troops. only the\n",
            "driver was in it. the  bus ran over three people straight \u001b[44m\u001b[37mof\u001b[0mf, i saw it. and two armored personnel  carriers ran over four more. all in one or two minutes. the bus ran over  three, one\n",
            "\u001b[44m\u001b[37mof\u001b[0m the carriers ran over two, and the second, two more. \u001b[44m\u001b[37mright\u001b[0m on  our street there's a dry cleaners and appliance and watch repair places; one  \u001b[44m\u001b[37mof\u001b[0m the armored\n",
            "personnel carriers went that way, and they say it ran over several over there, too. but they ran over seven before our eyes. then the bus ploughed into a book kiosk.  -gayane: no, that was a flower\n",
            "place. it was a new booth. he drove straight  into it.  -zinaida: the driver jumped out and they dragged the vehicle out to the middle \u001b[44m\u001b[37mof\u001b[0m the road and set it on fire.  -gayane: and i\n",
            "also saw the troops put a bunch \u001b[44m\u001b[37mof\u001b[0m azerbaijanis in a bus and  take them in a convoy to baku. there were many arrests.  -zinaida: our neighbor, the one who hid us, couldn't take it, and\n",
            "he told his  wife that we should leave. they were running around in the courtyard looking  for the armenians. they knew that they were hiding with azerbaijanis, and they were saying that they were\n",
            "going to check the azerbaijani families. poor  tayara got scared too, and started to cry; i pleaded with her, i said that i  would remember forever how she saved my children and me, but where could we\n",
            "go?  -gayane: she didn't make us leave, she said that she would do anything, but  she was afraid.  -zinaida: i told tayara that we would just stay a little longer and that at night we would return to\n",
            "our apartment. then her husband came back and said  that a curfew had been imposed. he says, \"zina, you owe us a drink. gorbachev  announced a curfew.\" and bagirov [first secretary \u001b[44m\u001b[37mof\u001b[0m\n",
            "the communist party \u001b[44m\u001b[37mof\u001b[0m  azerbaijan ssr] was on television, he said that two people had been killed in  karabagh, but nothing was wrong, automobile windows had been broken, but there\n",
            "hadn't been any killings. he kept making statements, and there were  azerbaijani songs and dances. tayara turned the tv all the way up. when we  learned \u001b[44m\u001b[37mof\u001b[0m the curfew we calmed down, but\n",
            "then a crowd ran into the courtyard  again, a large one. our neighbor told them that there had been only one  armenian family here, but they had already killed them all, there was no one  left. we hid\n",
            "in the wardrobe again. and they stuck diana back under the bed.  -gayane: tayara went down to our apartment to see what was happened there, and found two bandits. they asked her, \"what are you doing\n",
            "here\" tayara answered,  \"i came to take something for myself.\" \"take all you want, they're gone now.\"   -zinaida: yes, she had wanted to get something for us, at least some bedding.  she said, \"what\n",
            "are you going to do, empty handed, naked, with three children, nothing remains \u001b[44m\u001b[37mof\u001b[0m your entire apartment.\" in short, we calmed down, and the  crowd raced \u001b[44m\u001b[37mof\u001b[0mf to the other\n",
            "building, the one across from us. i don't know  what went on there.  -gayane: the curfew had its effect on the gangs, many started to disperse: they were warned that they would open fire on them. the\n",
            "soldiers didn't know  the city, they couldn't get oriented, they drove up and down the main streets, but didn't go into the courtyards. when we were at the city party committee  they asked people from\n",
            "sumgait to go with them and show them the way.  -zinaida: the tanks entered the city on the night \u001b[44m\u001b[37mof\u001b[0m the 29th.  -gayane: no, mamma, the tanks had been there earlier, but were near the\n",
            "city  party committee, where the armenians were . . . after midnight, on march 1,  when i had finally gotten to sleep after two sleepless nights, mamma said,  \"get your things together, they have sent\n",
            "buses for us.\" as it was we had been dressed the entire time. mamma went to check it out . . .and came back for us.  -zinaida: when i came back for the children tayara said that vika was alive  and\n",
            "well, some guys had come and told her that they had hidden her in a safe  place. i both believed it and didn't believe it. we ran out to the tanks. the  gambarians were there, roman and sasha; their\n",
            "father, shurik, the clarinetist, was killed, and their mother was there. sasha came over and asked about the  girls. i was surprised, how did he know my girls? he said that he knew me and  the girls.\n",
            "our neighbor himself went for gaya and diana and it seemed like he  was taking forever so i went after him. another neighbor came out, anna  vasilyevna, a russian: \"zinochka, my dear, goodbye and good\n",
            "luck.\" she kissed  diana. they put us in the bus and the captain gave the order for us to be  taken to the city party committee. the bus wouldn't start, so they put us on  another one. it was pouring\n",
            "rain.  -diana: when they imposed the curfew there were many soldiers on the streets,  and they all had clubs and shields. and when the azerbaijanis attacked them,  many \u001b[44m\u001b[37mof\u001b[0m the soldiers\n",
            "died. they threw paving stones--huge rocks--at the  soldiers. i saw this myself. the soldiers ran over those azerbaijanis with the tanks. the soldiers saw that the azerbaijanis were doing violence to\n",
            "people  and they ran over them out \u001b[44m\u001b[37mof\u001b[0m rage. we got scared and they hid me under a  mattress and a blanket, and gaya and mamma crawled into the wardrobe. and they were fighting\n",
            "\u001b[44m\u001b[37mright\u001b[0m down there on the street . . . near the building they were blowing up buses and tanks, and cars were burning, and there were many dead in the courtyard. they drove without looking\n",
            "to see if it was a sidewalk or a  street, they just drove, and the ones who didn't manage to get out \u001b[44m\u001b[37mof\u001b[0m the way  were run over by the tanks. and when we left--it was evening, it was\n",
            "already  dark--there were three buses, and one \u001b[44m\u001b[37mof\u001b[0m them had soldiers in it. mamma ran up and said, \"get your clothes on, let's go.\" gaya was wearing slippers, and i  had on my blue dress,\n",
            "but it was an old one. i was wearing my old jacket, my  old dress, and slippers. and nothing else. gaya had on a skirt, her angora  sweater, and slippers. it was raining hard, and there were puddles\n",
            "on the  street. they gave mamma an old coat because she was wearing a short-sleeved  dress; she put it on and we ran out. we got onto the bus and i was hungry, one \u001b[44m\u001b[37mof\u001b[0m the soldiers from\n",
            "yerevan gave me rations and carried me from one bus to the other in his arms. i gave him the little glass that remained from vika's trousseau, and he gave me his telephone number.  -gayane: in the bus\n",
            "there was a soldier with a shield sitting at every window. we had to be ready for anything. they took us to the city party committee, let us out, and then took us into the city party committee\n",
            "building under armed  guard. it was jammed with people and you couldn't breathe. we asked, \"are  these all us? armenians?\" they answered yes. we were surprised that there were so many armenians in\n",
            "sumgait. all those years we lived there and didn't know  there were so many armenians, 18,000. we were struck by that, we had never  noticed. going downstairs the next day i ran into the secretary\n",
            "\u001b[44m\u001b[37mof\u001b[0m the  komsomol from vika's plant, the khimprom. he said that vika was alive and  well. when i told mamma she \u001b[44m\u001b[37mof\u001b[0m course calmed down some more. but you know,  after all\n",
            "that it was hard to believe anything, our faith in everything was  just gone. she didn't believe it completely.  -zinaida: i didn't believe it because i had heard all kinds \u001b[44m\u001b[37mof\u001b[0m things.\n",
            "when we arrived at the city party committee we heard everything imaginable! it was the fear \u001b[44m\u001b[37mof\u001b[0m god. i saw many \u001b[44m\u001b[37mof\u001b[0m our acquaintances, they were kissing each  other and\n",
            "asking how their children and homes were. many people already knew  that there had been a pogrom \u001b[44m\u001b[37mof\u001b[0m our apartment. they had seen the broken  windows. i cried, saying that i didn't know\n",
            "where vika was. one woman said  that they had taken two \u001b[44m\u001b[37mof\u001b[0m her daughters and that she couldn't find one \u001b[44m\u001b[37mof\u001b[0m  them; the other had been slashed all over. a second said that\n",
            "her husband and her son had been murdered. that was nelli aramian. she lived in building 6 in  our microdistrict. they killed her husband, armo, and her son artur. i heard  so many things like that\n",
            "that i was already starting to lose touch; my  patience had run dry waiting for my daughter. later an azerbaijani fellow came to me and said, aunt zina, vika sent me, she's alive and well and hidden\n",
            "in a  safe place; if you want i'll call her there and you can speak with her. we  went downstairs to the first floor and he called vika. i spoke with her, heard the voice \u001b[44m\u001b[37mof\u001b[0m my child.\n",
            "she had managed to survive in that hell. then i started begging that azerbaijani to bring her to the city party committee. he tried to talk me out \u001b[44m\u001b[37mof\u001b[0m it: \"i'll bring her wherever you go,\n",
            "don't worry, i've looked  after her better than a brother does a sister.\" all the same i asked him to  get her. he brought her and i calmed down. on the second day there was a  meeting with demichev\n",
            "[member \u001b[44m\u001b[37mof\u001b[0m the politburo \u001b[44m\u001b[37mof\u001b[0m the central committee \u001b[44m\u001b[37mof\u001b[0m the communist party \u001b[44m\u001b[37mof\u001b[0m the ussr,] and people started shouting. one shouted, \"give  me my\n",
            "son back!\", another yelled, \"where is my daughter?!\", a third wanted her husband . . . bagirov  was there too, and he stood there blinking, not saying  anything.  -gayane: when demichev asked where we\n",
            "wanted to go, everyone shouted, \"to russia!\" to be honest we were all f\u001b[44m\u001b[37mright\u001b[0mened \u001b[44m\u001b[37mof\u001b[0m armenia, there were such wild  rumors it was as though we were in a terrible dream, and\n",
            "no one wanted to go  to armenia. but he said that he couldn't evacuate 18,000 people to russia and  that he would meet with everyone individually the next day and speak with  them. and he also said\n",
            "that today he was going to go look at all \u001b[44m\u001b[37mof\u001b[0m our  apartments. on march 3 we went to the military barracks in the village \u001b[44m\u001b[37mof\u001b[0m  nasosny. we were taken care \u001b[44m\u001b[37mof\u001b[0m\n",
            "marvelously by the military. they sent special  flights \u001b[44m\u001b[37mof\u001b[0m children \u001b[44m\u001b[37mright\u001b[0m from there to minvody, yerevan, and moscow. one  woman left for moscow with a letter for gorbachev\n",
            "and gromyko.  -zinaida: the worst was truly behind us by then. everything had passed, but  the pain will remain for our whole lives. it cannot be forgotten. under no  circumstances should we, our\n",
            "children, or our grandchildren forget. who will answer for those who died? for our mothers, sisters, brother, sons and daughters? who will bear the responsibility? who will wash away their blood?\n",
            "someone should be made to answer, and severely, so it has an effect on the  people that did with us as they pleased . . . it isn't over yet, now we live  here, in armenia, protected, but the issue\n",
            "isn't resolved. we would like to stay in armenia, in our homeland, so that all the armenian people will be united. then we will be invincible. armenians won't be scattered throughout  the soviet\n",
            "union, about the world, and if we're all together this won't happen again. as a mother \u001b[44m\u001b[37mof\u001b[0m three children, as a woman, as a sister, i ask armenians to be united so that what happened in\n",
            "sumgait will never happen again. our  homeland . . . the only request we have is that we be helped in obtaining an  apartment and getting jobs. so that our children can work for the good\n",
            "\u001b[44m\u001b[37mof\u001b[0m  armenia. if we aren't able to, then let our children do it. and if it's  possible, we'll work for the good \u001b[44m\u001b[37mof\u001b[0m armenia too. this is the land \u001b[44m\u001b[37mof\u001b[0m our\n",
            "forefathers. our grandfathers and great-grandfathers lived here too, it was  only later that people dispersed all over. like a mother, the land here bore  and reared us. it is our wife, and will\n",
            "protect us, too. i want but one thing: that our people never see the hardship that our children saw, that your  children here, in armenia, never see anything like it.    may 28, 1988   yerevan\n",
            "- - - reference - - -  [1] _the sumgait tragedy; pogroms against armenians in soviet azerbaijan,     volume i, eyewitness \u001b[44m\u001b[37maccounts\u001b[0m_, edited by samuel shahmuradian, forward by     yelena\n",
            "bonner, 1990, published by aristide d. caratzas, ny, pages 187-203   --  david davidian dbd@urartu.sdpa.org   | \"armenia has not learned a lesson in s.d.p.a. center for regional studies |  anatolia\n",
            "and has forgotten the  p.o. box 382761                      |  punishment inflicted on it.\"  4/14/93 cambridge, ma 02238                  |   -- late turkish president turgut ozal\n",
            "\n",
            "================================================================================DOCUMENT 2================================================================================\n",
            "\n",
            "from: dbd@urartu.sdpa.org (david davidian) subject: \u001b[44m\u001b[37maccounts\u001b[0m \u001b[44m\u001b[37mof\u001b[0m \u001b[44m\u001b[37manti-armenian\u001b[0m \u001b[44m\u001b[37mhuman\u001b[0m \u001b[44m\u001b[37mright\u001b[0m violations in azerbaijan #008 b\n",
            "\u001b[44m\u001b[37maccounts\u001b[0m \u001b[44m\u001b[37mof\u001b[0m \u001b[44m\u001b[37manti-armenian\u001b[0m \u001b[44m\u001b[37mhuman\u001b[0m \u001b[44m\u001b[37mright\u001b[0m violations in azerbaijan #008 part b                  prelude to current events in nagorno-\n",
            "karabakh                           (part b \u001b[44m\u001b[37mof\u001b[0m #008)        +------------------------------------------------------------------+       |\n",
            "|       | \"oh, yes, i just remembered. while they were raping me they      |       |  repeated quite frequently, \"let the armenian women have babies  |       |  for us, muslim babies, let them bear\n",
            "azerbaijanis for the       |       |  struggle against the armenians.\" then they said, \"those         |       |  muslims can carry on our holy cause. heroes!\" they repeated     |       |  it very\n",
            "\u001b[44m\u001b[37mof\u001b[0mten.\"                                                 |       |                                                                  |\n",
            "+------------------------------------------------------------------+  ...continued from part a:  the six \u001b[44m\u001b[37mof\u001b[0m them left. they left and i had an attack. i realized that the dan- ger was\n",
            "past, and stopped controlling myself. i relaxed for a moment and the  physical pain immediately made itself felt. my heart and kidneys hurt. i had  an awful kidney attack. i rolled back and forth on\n",
            "top \u001b[44m\u001b[37mof\u001b[0m those christmas ornaments, howling and howling. i didn't know where i was or how long this  went on. when we figured out the time, later it turned out that i howled and  was in\n",
            "pain for around an hour. then all my strength was gone and i burst into tears, i started feeling sorry for myself, and so on and so forth . . .  then someone came into the room. i think i hear someone\n",
            "calling my name. i  want to respond and restrain myself, i think that i'm hallucinating. i am  silent, and then it continues: it seems that first a man's voice is calling me, then a woman's. later i\n",
            "found out that mamma had sent our neighbor, the one whose apartment she was hiding in, uncle sabir kasumov, to our place,  telling him, \"i know that they've killed lyuda. go there and at least bring\n",
            "her corpse to me so they don't violate her corpse.\" he went and returned empty handed, but mamma thought he just didn't want to carry the corpse into his  apartment. she sent him another time, and\n",
            "then sent his wife, and they were  walking through the rooms looking for me, but i didn't answer their calls.  there was no light, they had smashed the chandeliers and lamps.  they started the pogrom\n",
            "in our apartment around five o'clock, and at 9:30 i  went down to the kasumovs'. i went down the stairs myself. i walked out \u001b[44m\u001b[37mof\u001b[0m the apartment: how long can you wait for your own death,\n",
            "how long can you be  cowardly, afraid? come what will. i walked out and started knocking on the  doors one after the next. no one, not on the fifth floor, not on the fourth,  opened the door. on the\n",
            "third floor, on the landing \u001b[44m\u001b[37mof\u001b[0m the stairway, uncle  sabir's son started to shout, \"aunt roza, don't cry, lyuda's alive!\" he  knocked on his own door and out came aunt tanya, igor, and\n",
            "after them, mamma.  aunt tanya, uncle sabir's wife, is an urdmurt. all \u001b[44m\u001b[37mof\u001b[0m us were in their  apartment. i didn't see karina, but she was in their home, too, lying delirious, she had a\n",
            "fever. marina was there too, and my father and mother. all \u001b[44m\u001b[37mof\u001b[0m my family had gathered there.     at the door i lost consciousness. igor and aunt tanya carried me into the apartment.\n",
            "later i found out what they had done to our karina. mamma said, \"lyuda,  karina's in really serious condition, she's probably dying. if she recognizes  you, don't cry, don't tell her that her face\n",
            "looks so awful.\" it was as though her whole face was paralyzed, you know, everything was pushed over to one  side, her eye was all swollen, and everything flowed together, her lips, her  cheeks . . .\n",
            "it was as though they had dragged her \u001b[44m\u001b[37mright\u001b[0m side around the whole microdistrict, that's how disfigured her face was. i said, \"fine.\" mamma was  afraid to go into the room, because she\n",
            "went in and hugged karina and started  to cry. i went in. as soon as i saw her my legs gave way. i fell down near the bed, hugged her legs and started kissing them and crying. she opened the eye  that\n",
            "was intact, looked at me, and said, \"who is it?\" but i could barely talk,  my whole face was so badly beaten. i didn't say, but rather muttered something tender, something incomprehensible, but\n",
            "tender, \"my karochka, my karina, my  little golden one . . . \" she understood me.  then igor brought me some water, i drank it down and moistened karina's lips.  she started to groan. she was saying\n",
            "something to me, but i couldn't  understand it. then i made out, \"it hurts, i hurt all over.\" her hair was  glued down with blood. i stroked her forehead, her head, she had grit on her  forehead, and\n",
            "on her lips . . . she was groaning again, and i don't know how  to help her. she calls me over with her hand, come closer. i go to her. she's saying something to me, but i can't understand her. igor\n",
            "brings her a pencil  and paper and says, \"write it down.\" she shakes her head as if to say, no, i  can't write. i can't understand what she's saying. she wanted to tell me  something, but she\n",
            "couldn't. i say, \"karina, just lie there a little while, then maybe you'll feel better and you can tell me then.\" and then she says, \"maybe it'll be too late.\" and i completely . . . just broke down,\n",
            "i couldn't control myself.  then i moistened my hand in the water and wiped her forehead and eye. i dipped a handkerchief into the water and squeezed a little water onto her lips. she  says, \"lyuda,\n",
            "we're not saved yet, we have to go somewhere else. out \u001b[44m\u001b[37mof\u001b[0m this  damned house. they want to kill us, i know. they'll find us here, too. we need to call urshan.\" she repeated this to me\n",
            "for almost a whole hour, until i  understood her every word. i ask, \"what's his number?\" urshan feyruzovich,  that's the head \u001b[44m\u001b[37mof\u001b[0m the administration where she works. \"we have to call\n",
            "him.\"  but i didn't know his home number. i say, \"karina, what's his number?\" she  says, \"i can't remember.\" i say, \"who knows his number? who can i call?\" she  says, \"i don't know anything, leave me\n",
            "alone.\"  i went out \u001b[44m\u001b[37mof\u001b[0m the room. igor stayed to watch over her and sat there, he was  crying, too. i say, \"mamma, karina says that we have to call urshan. how can  we call him? who knows\n",
            "his telephone number?\" i tell marina, \"think, think,  who can we call to find out?\" she started calling; several people didn't  answer. she called a girlfriend, her girlfriend called another\n",
            "girlfriend and  found out the number and called us back. the boss's wife answered and said he  was at the dacha. my voice keeps cracking, i can't talk normally. she says,  \"lyuda, don't panic, get a\n",
            "hold \u001b[44m\u001b[37mof\u001b[0m yourself, go out to those hooligans and  tell them that they just can't do that.\" she still didn't know what was really going on. i said, \"it's easy for you to say that, you\n",
            "don't understand what's  happening. they are killing people here. i don't think there is a single  armenian left in the building, they've cut them all up. i'm even surprised  that we managed to save\n",
            "ourselves. \"she says, \"well, ok, if it's that serious  . . . \" and all the same she's thinking that my emotions are all churned up  and that i'm fearing for my life, that in fact it's not all that\n",
            "bad. \"ok,  fine, fine,\" she says, \"if you're afraid, ok, as soon as urshan comes back  i'll send him over.\"  we called again because they had just started robbing the apartment directly  under aunt\n",
            "tanya's, on the second floor, asya dallakian's apartment. she  wasn't home, she was staying with her daughter in karabagh. they destroyed  everything there . . . we realized that they still might come\n",
            "back. we kept on trying to get through to aunt tanya--urshan's wife is named tanya too and  finally we get through. she says, \"yes, he's come home, he's leaving for your  place now.\" he came.\n",
            "\u001b[44m\u001b[37mof\u001b[0m course he didn't know what was happening, either,  because he brought two \u001b[44m\u001b[37mof\u001b[0m his daughters with him. he came over in his jeep  with his two daughters, like he was going\n",
            "on an outing. he came and saw what  shape we were in and what was going on in town and got f\u001b[44m\u001b[37mright\u001b[0mened. he has  grown up daughters, they're almost my age.  the three \u001b[44m\u001b[37mof\u001b[0m us\n",
            "carried out karina, tossed a coat on her and a warm scarf, and went down to his car. he took karina and me to the maternity home. . . no,  first they took us to the po]ice precinct. they had\n",
            "stretchers ready. as soon as we got out \u001b[44m\u001b[37mof\u001b[0m the car they put karina and me on stretchers and said that we were in serious condition and that we mustn't move, we might have fractures. from\n",
            "the stretcher i saw about 30 soldiers sitting and lying on the first floor, bandaged, on the concrete floor, groaning . . . this was around eleven o'clock at night. we had left the house somewhere\n",
            "around 1:30. when i  saw those soldiers i realized that a war was going on: soldiers, enemies . . . everything just like a war.  they carried me into some \u001b[44m\u001b[37mof\u001b[0mfice on the stretcher. the\n",
            "emergency medical people from baku were there. the medical attendant there was an older  armenian. urshan told him what they had done to karina because she's so proud  she would never have told. and\n",
            "this aging armenian . . . his name was uncle  arkady, i think, because someone said \"arkady, get an injection ready,\" he  started to fill a syringe, and turned around so as to give karina a shot. but\n",
            "when he looked at her face he became ill. and he was an old man, in his  sixties, his hair was all grey, and his moustache, too. he hugged karina and  started to cry: \"what have they done to you?!\" he\n",
            "was speaking armenian. \"what have they done to you?!\" karina didn't say anything. mamma came in then, and  she started to cry, too. the man tried to calm her. \"i'll give you a shot.\"  mamma tells him,\n",
            "\"i don't need any shot. where is the government? just what  are they doing? look what they've done to my children! they're killing people, and you're just sitting here!\" some teacups were standing on\n",
            "the table in  there. \"you're sitting here drinking tea! look what they've done to my  daughters! look what they've turned them into!\" they gave her something to  drink, some heart medicine, i think.\n",
            "they gave karina an injection and the doctor said that she had to be taken to the maternity home immediately. papa  and urshan, i think, even though papa was in bad shape, helped carry karina  out.\n",
            "when they put her on the stretcher, none \u001b[44m\u001b[37mof\u001b[0m the medics got near her. i  don't know, maybe there weren't any orderlies. then they came to me: \"what's  the matter with you?\" their tone was\n",
            "so \u001b[44m\u001b[37mof\u001b[0mficial that i wrapped myself tighter in the half-length coat. i had a blanket on, too, an orange one, aunt tanya's. i said, \"i'm fine.\" uncle arkady came over and was soothing me,\n",
            "and then told  the doctor, \"you leave, let a woman examine her.\" a woman came, an  azerbaijani, i believe, and said, \"what's wrong with you?\" i was wearing my  sister lyuda's nightshirt, the sister\n",
            "who at this time was in yerevan. when  she was nursing her infant she had cut out a big hole in it so that it would  be easier to breast feed the baby. i tore the night shirt some more and showed her.\n",
            "i took it \u001b[44m\u001b[37mof\u001b[0mf my shoulders and turned my back to her. there was a huge  wound, about the size \u001b[44m\u001b[37mof\u001b[0m a hand, on my back, from the indian vase. she said  something to them and\n",
            "they gave me two shots. she said that it should be  dressed with something, but that they'd do that in the hospital.  they put me on a stretcher, too. they started looking for people to carry me.  i\n",
            "raised up my head a little and wanted to sit up, and this woman, i don't  know if she was a doctor or a nurse, said, \"lie still, you mustn't move.\" when i was lying back down i saw two policemen\n",
            "leading a man. his pr\u001b[44m\u001b[37mof\u001b[0mile seemed  very familiar to me. i shouted, \"stop!\" one \u001b[44m\u001b[37mof\u001b[0m the policemen turned and says,  \"what do you want?\" i say, \"bring him to me, i want to\n",
            "look at him.\" they  brought him over and i said, \"that person was just in our apartment and he  just raped me and my sister. i recognize him, note it down.\" they said,  \"fine,\" but didn't write it\n",
            "down and led him on. i don't know where they were  taking him.  then they put my stretcher near where the injured and beaten soldiers were  sitting. they went to look for the ambulance driver so he\n",
            "would bring the car  up closer. one \u001b[44m\u001b[37mof\u001b[0m the soldiers started talking to me, \"sister . . . \" i don't  remember the conversation exactly, but he asked me were we lived and what they did to\n",
            "us. i asked him, \"where are you from?\" he said that he was from ufa.  apparently they were the first that were brought in. the ufa police. later i  learned that they suffered most \u001b[44m\u001b[37mof\u001b[0m\n",
            "all. he says, \"ok, you're armenians, they  didn't get along with you, but i'm a russian,\" he says, \"what are they trying  to kill me for?\" oh, i remembered something else. when i went out onto the\n",
            "balcony with kuliyev for a hammer and nails i looked out the window and saw  two azerbaijanis beating a soldier near the kindergarten. he was pressed  against the fence and he covered his head with\n",
            "his arms, they were beating him with his own club. the way he cried \"mamma\" made my skin crawl. i don't know  what they did to him, if he's still alive or not. and something else. before  he attack on\n",
            "our house we saw sheets, clothes, and some dishes flying from the third or fourth floor \u001b[44m\u001b[37mof\u001b[0m the neighboring building, but i didn't think it was  azerbaijanis attacking armenians. i\n",
            "thought that something was on fire or they were throwing something they didn't need out, or someone was fighting with  someone. it was only later, when they were burning a passenger car in the  yard,\n",
            "when the neighbors said that they were doing that to the armenians, that i realized that this was serious, that it was \u001b[44m\u001b[37manti-armenian\u001b[0m.  they took karina and me to the sumgait maternity\n",
            "home. mamma went to them too  and said, \"i've been beaten too, help me.\" but they just ignored her. my  father went to them and said in a guilty voice, as though it was his fault  that he'd been\n",
            "beaten, and says, \"my ribs hurt so much, those creeps have  probably broken my ribs. please look at them.\" the doctor says, \"that's not my job.\" urshan said, \"fine, i'll take you to my place and if we\n",
            "need a doctor,  i'll find you one. i'll bring one and have him look at you. and he drove them  to his apartment.  marina and i stayed there. they examined us. i was more struck by what the  doctor\n",
            "said than by what those azerbaijanis in our apartment did to us. i  wasn't surprised when they beat us they wanted to beat us, but i was very surprised that in a soviet medical facility a woman who\n",
            "had taken the hippocratic oath could talk to victims like that. by happy--or unhappy-- coincidence we were seen by the doctor that had delivered our karina. and she, having examined karina, said, \"no\n",
            "problem, you got \u001b[44m\u001b[37mof\u001b[0mf pretty good. not like  they did in kafan, when you armenians were killing and raping our women. \"karina was in such terrible condition that she couldn't say anything\n",
            "--she would certainly have had something to say! then they examined me. the same  story. they put us in a separate ward. no shots, no medicinal powders, no  drugs. absolutely none! they didn't even\n",
            "give us tea. all the women there soon found out that in ward such and such were armenians who had been raped. and they started coming and peering through the keyhole, the way people look at  zoo\n",
            "animals. karina didn't see this, she was lying there, and i kept her from  seeing it.  they put ira b. in our ward. she had also been raped. true, she didn't have  any serious bodily injuries, but\n",
            "when she told me what had happened at their  place, i felt worse for them than i did for us. because when they raped ira  her daughter was in the room, she was under the bed on which it happened. and\n",
            "ira was holding her daughter's hand, the one who was hiding under the bed. when they were beating ira or taking her earrings \u001b[44m\u001b[37mof\u001b[0mf, gold, when she  involuntarily let go \u001b[44m\u001b[37mof\u001b[0m\n",
            "her daughter's hand, her daughter took her hand again. her daughter is in the fourth grade, she's 11 years old. i felt really awful  when i heard that. ira asked them not to harm her daughter, she\n",
            "said, \"do what you want with me, just leave my daughter alone.\" well, they did what they  wanted. they threatened to kill her daughter if she got in their way. now i  would be surprised if the\n",
            "criminals had behaved any other way that night. it  was simply bartholomew's night, i say, they did what they would love to do  every day: steal, kill, rape . . .  many are surprised that those\n",
            "animals didn't harm the children. the beasts  explained it like this: this would be repeated in 15 to 20 years, and those  children would be grown, and then, as they put it, \"we'll come take the\n",
            "pleasure out \u001b[44m\u001b[37mof\u001b[0m their lives, those children.\" this was about the girls that would be young women in 15 years. they were thinking about their tomorrow  because they were sure that there\n",
            "would be no trial and no investigation, just as there was no trial or investigation in 1915, and that those girls could be  \u001b[44m\u001b[37mof\u001b[0m some use in 15 years. this i heard from the investigators;\n",
            "one \u001b[44m\u001b[37mof\u001b[0m the  victims testified to it. that's how they described their own natures, that they would still be bloodthirsty in 15 to 20 years, and in 100 years--they themselves said that.\n",
            "and this, too. everyone is surprised that they didn't harm our marina. many  people say that they either were drunk or had smoked too much. i don't know  why their eyes were red. maybe because they\n",
            "hadn't slept the night before,  maybe for some other reason, i don't know. but they hadn't been smoking and  they weren't drunk, i'm positive, because someone who has smoked will stop at  nothing he\n",
            "has the urge to do. and they spoke in a cultured fashion with  marina: \"little sister, don't be afraid, we won't harm you, don't look over  there [where i was], you might be f\u001b[44m\u001b[37mright\u001b[0mened.\n",
            "you're a muslim, a muslim woman  shouldn't see such things.\" so they were really quite sober . . .  so we came out \u001b[44m\u001b[37mof\u001b[0m that story alive. each every day we have lived since it all\n",
            "happened bears the mark \u001b[44m\u001b[37mof\u001b[0m that day. it wasn't even a day, \u001b[44m\u001b[37mof\u001b[0m those several  hours. father still can't look us in the eyes. he still feels guilty for what happened to\n",
            "karina, mother, and me. because \u001b[44m\u001b[37mof\u001b[0m his nerves he's started talk- ing to himself, i've heard him argue with himself several times when he thought no one is listening: \"listen,\" he'll say,\n",
            "\"what could i do? what could i do alone, how could i protect them?\" i don't know where to find the words, it's not that i'm happy, but i am glad that he didn't see it all happen.  that's the only\n",
            "thing they spared us . . . or maybe it happened by chance. \u001b[44m\u001b[37mof\u001b[0m  course he knows it all, but there's no way you could imagine every last detail \u001b[44m\u001b[37mof\u001b[0m what happened. and there\n",
            "were so many conversations: karina and i spoke together in private, and we talked with mamma, too. but father was never present at those conversations. we spare him that, if you can say that. and when\n",
            "the investigator comes to the house, we don't speak with father present.  on february 29, the next clay, karina and i were discharged from the hospital. first they released me, but since martial law\n",
            "had been declared in the city,  the soldiers took me to the police precinct in an armored personnel carrier.  there were many people there, armenian victims. i met the tovmasian family  there. from\n",
            "them i learned that rafik and their uncle grant had died. they  were sure that both had died. they were talking to me and raya, rafik's wife  and grant's daughter, and her mother, were both crying.\n",
            "then they took us all out \u001b[44m\u001b[37mof\u001b[0m the \u001b[44m\u001b[37mof\u001b[0mfice on the first floor into the yard. there's a little one-room house outside there, a recreation and reading area. they took us in\n",
            "there. the women were afraid to go because they thought that they were shooing us out \u001b[44m\u001b[37mof\u001b[0m the police precinct because it had become so dangerous that even the people working at the\n",
            "precinct wanted to hide. the women were shouting. they explained to them: \"we want to hide you better because it's possible there will be an attack on the police precinct.\"  we went into the little\n",
            "house. there were no chairs or tables in there. we had children with us and they were hungry; we even had infants who needed to  have their diapers changed. no one had anything with them. it was just\n",
            "awful.  they kept us there for 24 hours. from the window \u001b[44m\u001b[37mof\u001b[0m the one room house you  could see that there were azerbaijanis standing on the fences around the  police precinct, as though\n",
            "they were spying on us. the police precinct is  surrounded by a wall, like a fence, and it's electrified, but if they were  standing on the wall, it means the electricity was shut \u001b[44m\u001b[37mof\u001b[0mf.\n",
            "this brought  great psychological pressure to bear on us, particularly on those who hadn't  just walked out \u001b[44m\u001b[37mof\u001b[0m their apartments, but who hadn't slept for 24 hours, or 48, or those who\n",
            "had suffered physically and spiritually, the ones who had lost  family members. for us it was another ordeal. we were especially f\u001b[44m\u001b[37mright\u001b[0mened  when all the precinct employees suddenly\n",
            "disappeared. we couldn't see a single person, not in the courtyard and not in the windows. we thought that they must have already been hiding under the building, that they must have some secret  room\n",
            "down there. people were panicking: they started throwing themselves at one another . . . that's the way it is on a sinking ship. we heard those  people, mainly young people, whistling and whopping on\n",
            "the walls. we felt that the end was approaching. i was completely terrified: i had left karina in the  hospital and didn't know where my parents were. i was sort \u001b[44m\u001b[37mof\u001b[0m calm about my\n",
            "parents, i was thinking only about karina, if, heaven forbid, they should  attack the hospital, they would immediately tell them that there was an  armenian in there, and something terrible would\n",
            "happen to karina again, and  she wouldn't be able to take it.  then soldiers with dogs appeared. when they saw the dogs some \u001b[44m\u001b[37mof\u001b[0m the people  climbed down \u001b[44m\u001b[37mof\u001b[0mf the fence. then\n",
            "they brought in about another 30 soldiers. they all had machine guns in readiness, their fingers on the triggers. we  calmed down a little. they brought us chairs and brought the children some  little\n",
            "cots and showed us where we could wash our hands, and took the children to the toilet. but we all sat there hungry, but to be honest, it would never  have occurred to any \u001b[44m\u001b[37mof\u001b[0m us that we\n",
            "hadn't eaten for two days and that people  do eat.  then, closer to nightfall, they brought a group \u001b[44m\u001b[37mof\u001b[0m detained criminals. they  were being watched by soldiers with guard dogs. one\n",
            "\u001b[44m\u001b[37mof\u001b[0m the men came back from  the courtyard and told us about it. raya tovmasian . . . it was like a  different woman had been substituted. earlier she had been crying, wailing,  and\n",
            "calling out: \"oh, rafik!,\" but when she heard about this such a rage came  over her! she jumped up, she had a coat on, and she started to roll up her  sleeves like she was getting ready to beat\n",
            "someone. and suddenly there were  soldiers, and dogs, and lots \u001b[44m\u001b[37mof\u001b[0m people. she ran over to them. the bandits were standing there with their hands above their heads facing the wall. she\n",
            "went up to one \u001b[44m\u001b[37mof\u001b[0m them and grabbed him by the collar and started to shake and thrash  him! then, on to a second, and a third. everyone was rooted to the spot. not  one \u001b[44m\u001b[37mof\u001b[0m\n",
            "the soldiers moved, no one went up to help or made her stop her from  doing it. and the bandits fell down and covered their heads with their hands,  muttering something. she came back and sat down,\n",
            "and something akin to a smile appeared on her face. she became so quiet: no tears, no cries. then that round was over and she went back to beat them again. she was walking and cursing  terribly: take\n",
            "that, and that, they killed my husband, the bastards, the  creeps, and so on. then she came back again and sat down. she probably did  this the whole night through, well, it wasn't really night, no\n",
            "one slept. she  went five or six times and beat them and returned. and she told the women,  \"what are you sitting there for? they killed your husbands and children, they  raped, and you're just\n",
            "sitting there. you're sitting and talking as though  nothing had happened. aren't you armenians?\" she appealed to everyone, but no  one got up. i was just numb, i didn't have the strength to beat\n",
            "anyone, i  could barely hold myself up, all the more so since i had been standing for so  many hours--i was released at eleven o'clock in the morning and it was already after ten at night because\n",
            "there weren't enough chairs, really it was the  elderly and women with children who sat. i was on my feet the whole time.  there was nothing to breathe, the door was closed, and the men were smoking.\n",
            "the situation was deplorable.  at eleven o'clock at night policemen came for us, local policemen,  azerbaijanis. they said, \"get up. they've brought mattresses, you can wash up and put the children to\n",
            "bed.\" now the women didn't want to leave this place,  either. the place had become like home, it was safe, there were soldiers with  dogs. if anyone went outside, the soldiers would say, \"oh, it's our\n",
            "little  family,\" and things like that. the soldiers felt this love, and probably, for  the first time in their lives perceived themselves as defenders. everyone spoke from the heart, cried, and hugged\n",
            "them and they, with their loaded machine guns in their hands, said, \"grandmother, you mustn't approach me, i'm on guard.\" our people would say, \"oh, that's all \u001b[44m\u001b[37mright\u001b[0m.\" they hugged them,\n",
            "one woman even kissed one \u001b[44m\u001b[37mof\u001b[0m the machine guns. this was all terribly moving for me. and the small children kept wanting to pet the dogs.  they took us up to the second floor and said,\n",
            "\"you can undress and sleep in  here. don't be afraid, the precinct is on guard, and it's quiet in the city.\" this was the 29th, when the killing was going on in block 41a and in other places. then we\n",
            "were told that all the armenians were being gathered at the sk club and at the city party committee. they took us there. on the way i  asked them to stop at the maternity home: i wanted to take karina\n",
            "with me. i didn't know what was happening there. they told me, \"don't worry, the maternity home is full \u001b[44m\u001b[37mof\u001b[0m soldiers, more than mothers-to-be. so you can rest assured. i say, \"well, i\n",
            "won't rest assured regardless, because the staff in there is capable \u001b[44m\u001b[37mof\u001b[0m anything.\"  when i arrived at the city party committee it turned out that karina had already been brought there.\n",
            "they had seen fit to release her from the hospi- tal, deciding that she felt fine and was no longer in need \u001b[44m\u001b[37mof\u001b[0m any care. once we were in the city party committee we gave free reign to\n",
            "our tears. we met  acquaintances, but everyone was somehow divided into two groups, those who  hadn't been injured, who were clothed, who had brought a pot \u001b[44m\u001b[37mof\u001b[0m food with  them, and so on,\n",
            "and those, like me, like raya, who were wearing whatever had  come their way. there were even people who were all made up, dolled up like  they had come from a wedding. there were people without\n",
            "shoes, naked people,  hungry people, those who were crying, and those who had lost someone. and \u001b[44m\u001b[37mof\u001b[0m  course the stories and the talk were flying: \"oh, i heard that they killed  him!\"\n",
            "\"what do you mean they killed him!\" \"he stayed at work!\" \"do you know  what's happening at this and such a plant? talk like that.  and then i met aleksandr mikhailovich gukasian, the teacher. i know\n",
            "him very  well and respect him highly. i've known him for a long time. they had a small  room, well really it was more like a study-room. we spent a whole night  talking in that study once. on march 1\n",
            "we heard that bagirov [first secretary  \u001b[44m\u001b[37mof\u001b[0m the communist party \u001b[44m\u001b[37mof\u001b[0m azerbaijan ssr] had arrived. everyone ran to see  bagirov, what news he had brought with him and how this\n",
            "was all being viewed  from outside. he arrived and everyone went up to him to talk to him and ask  him things. everyone was in a tremendous rage. but he was protected by  soldiers, and he went up to\n",
            "the second floor and didn't deign to speak with  the people. apparently he had more important things to do.  several hours passed. gukasian called me and says, \"lyudochka, find another  two or three.\n",
            "we're going to make up lists, they asked for them upstairs,  lists \u001b[44m\u001b[37mof\u001b[0m the dead, those whose whereabouts are unknown, and lists \u001b[44m\u001b[37mof\u001b[0m people  who had pogroms \u001b[44m\u001b[37mof\u001b[0m\n",
            "their apartments and \u001b[44m\u001b[37mof\u001b[0m those whose cars were burned.\" i  had about 50 people in my list when they called me and said, \"lyuda, your  mamma has arrived, she's looking for you, she doesn't\n",
            "believe that you are  alive and well and that you're here.\" i gave the lists to someone and asked  them to continue what i was doing and went \u001b[44m\u001b[37mof\u001b[0mf.  the list was imprecise,\n",
            "\u001b[44m\u001b[37mof\u001b[0m course. it included grant adamian, raya tovmasian's father, who was alive, but at the time they thought him dead. there was engels grigorian's father and aunt, cherkez and maria. the\n",
            "list also included the  name \u001b[44m\u001b[37mof\u001b[0m my girlfriend and neighbor, zhanna agabekian. one \u001b[44m\u001b[37mof\u001b[0m the guys said  that he had been told that they chopped her head \u001b[44m\u001b[37mof\u001b[0mf in\n",
            "the courtyard in front \u001b[44m\u001b[37mof\u001b[0m the kosmos movie theater. we put her on the list too, and cried, but later  it turned out that that was just a rumor, that in fact an hour earlier she had\n",
            "somehow left sumgait for the marina and from there had set sail for  krasnovodsk, where, thank god, she was alive and well. i should also say that  in addition to those who died that list contained\n",
            "people who were rumored  missing or who were so badly wounded that they were given up for dead.                                                                 3  all the lists were taken to bagirov.\n",
            "i don't remember how many dead were  contained in the list, but it's a fact that when gukasian came in a couple  \u001b[44m\u001b[37mof\u001b[0m minutes later he was cursing and was terribly irate. i asked, \"what's\n",
            "going on?\" he said, \"lyuda, can you imagine what animals, what scoundrels they are! they say that they lost the list \u001b[44m\u001b[37mof\u001b[0m the dead. piotr demichev [member \u001b[44m\u001b[37mof\u001b[0m the politburo\n",
            "\u001b[44m\u001b[37mof\u001b[0m the central committee \u001b[44m\u001b[37mof\u001b[0m the communist party \u001b[44m\u001b[37mof\u001b[0m the ussr] has just arrived, and we were supposed to submit the list to him, so that he'd see the scope\n",
            "\u001b[44m\u001b[37mof\u001b[0m the slaughter, \u001b[44m\u001b[37mof\u001b[0m the tragedy, whether it was one or fifty.\" they told him that the list had disappeared and they should ask everyone who hadn't left for the khimik\n",
            "boarding house all over again. there were 26 people on our second list. i think that the number 26 was the one that got into the press and onto television and the radio, because that's the list that\n",
            "demichev got. i remember exactly that there were 26  people on the list, i had even told aleksandr mikhailovich that that was only  a half \u001b[44m\u001b[37mof\u001b[0m those that were on the first list. he said,\n",
            "\"lyuda, please, try to remember at least one more.\" but i couldn't remember anyone else. but there were more than 30 dead. \u001b[44m\u001b[37mof\u001b[0m that i am certain. the government and the procuracy don't\n",
            "count the people who died \u001b[44m\u001b[37mof\u001b[0m f\u001b[44m\u001b[37mright\u001b[0m, like sick people and old people  whose lives are threatened by any shock. they weren't registered as victims \u001b[44m\u001b[37mof\u001b[0m the\n",
            "sumgait tragedy. and then there may be people we didn't know. so many  people left sumgait between march 1 and 8! most \u001b[44m\u001b[37mof\u001b[0m them left for smaller towns in russia, and especially to the\n",
            "northern caucasus, to stavropol, and the  krasnodarsk territory. we don't have any information on them. i know that  there are people who set out for parts around moscow. in the periodical  krestyanka\n",
            "[woman farmer] there was a call for people who know how to milk  cows, and for mechanics, and drivers, and i know a whole group \u001b[44m\u001b[37mof\u001b[0m people went  to help out. also clearly not on our list\n",
            "are those people who died entering the city, who were burned in their cars. no one knows about them, except the  azerbaijanis, who are hardly likely to say anything about it. and there's more. a great\n",
            "many \u001b[44m\u001b[37mof\u001b[0m the people who were raped were not included in the list  drawn up at the procuracy. i know \u001b[44m\u001b[37mof\u001b[0m three instances for sure, and i \u001b[44m\u001b[37mof\u001b[0m course don't know\n",
            "them all. i'm thinking \u001b[44m\u001b[37mof\u001b[0m three women whose parents chose not to  publicize what had happened, that is, they didn't take the matter to court,  they simply left. but in so doing they\n",
            "didn't cease being victims. one \u001b[44m\u001b[37mof\u001b[0m them is the first cousin \u001b[44m\u001b[37mof\u001b[0m my classmate kocharian. she lived in microdistrict no.  8, on the fifth floor. i can't tell you the building\n",
            "number and i don't know  her name. then comes the neighbor \u001b[44m\u001b[37mof\u001b[0m one \u001b[44m\u001b[37mof\u001b[0m my relatives, she lived in  microdistrict 1 near the gift shop. i don't know her name, she lives on the\n",
            "same landing as the sumgait procurator. they beat her father, he was holding  the door while his daughter hid, but he couldn't hold the door forever, and  when she climbed over the balcony to the\n",
            "neighbors' they seized her by her  braid. like the azerbaijanis were saying, it was a very cultured mob, because  they didn't kill anyone, they only raped them and left. and the third one  . . . i\n",
            "don't remember who the third one was anymore.  they transferred us on march 1. karina still wasn't herself. yes, we lived for days in the sk, in the cultural facility, and at the khimik. they lived\n",
            "there  and i lived at the city party committee because i couldn't stay with karina;  it was too difficult for me, but i was at peace: she had survived. i could  already walk, but really it was honest\n",
            "words that held me up. thanks to the  social work i did there, i managed to persevere. aleksandr mikhailovich said,  \"if it weren't for the work i would go insane.\" he and i put ourselves in gear and\n",
            "took everything upon ourselves: someone had an infant and needed diapers  and free food, and we went to get them. the first days we bought everything,  although we should have received it for free.\n",
            "they were supposed to have been  dispensed free \u001b[44m\u001b[37mof\u001b[0m charge, and they sold it to us. then, when we found out it  was free, we went to krayev. at the time, fortunately, you could still drop\n",
            "by to see him like a neighbor, all the more so since everything was still clearly visible on our faces. krayev sent a captain down and he resolved the issue.  on march 2 they sent two investigators to\n",
            "see us: andrei shirokov and vladimir fedorovich bibishev. the way it worked out, in our family they had considered  only karina and me victims, maybe because she and i wound up in the hospital. mother\n",
            "and father are considered witnesses, but not victims.  shirokov was involved with karina's case, and bibishev, with mine. after i  told him everything, he and i planned to sit down with the identikit\n",
            "and record everyone i could remember while everything was still fresh in my mind.  we didn't work with the identikit until the very last day because the conditions weren't there. the investigative\n",
            "group worked slowly and did poor  quality work solely because the situation wasn't conducive to working: there  weren't enough automobiles, especially during the time when there was a  curfew, and\n",
            "there were no typewriters for typing transcripts, and no still or  video cameras. i think that this was done on purpose. we're not so poor that  we can't supply our investigators with all that stuff.\n",
            "it was done especially  to draw out the investigation, all the more so since the local authorities saw that the armenians were leaving at the speed \u001b[44m\u001b[37mof\u001b[0m light, never to return to  sumgait.\n",
            "and the armenians had a lot to say i came to an agreement with  bibishev, i told him myself, \"don't you worry, if it takes us a month or two  months, i'll be here. i'm not afraid, i looked death in\n",
            "the eyes five times in those two days, i'll help you conduct the investigation.\"  he and i worked together a great deal, and i used this to shelter karina, i gave them so much to do that for a while\n",
            "they didn't have the time to get to her, so that she would at least have a week or two to get back to being her- self. she was having difficulty breathing so we looked for a doctor to take x- rays.\n",
            "she couldn't eat or drink for nine days, she was nauseous. i didn't eat and drank virtually nothing for five days. then, on the fifth day, when we were in baku already, the investigator told me, \"how\n",
            "long can you go on like  this? well fine, so you don't want to eat, you don't love yourself, you're not taking care \u001b[44m\u001b[37mof\u001b[0m yourself, but you gave your word that you would see this\n",
            "investigation through. we need you.\" then i started eating, because in fact i was exhausted. it wasn't enough that i kept seeing those faces in our apart- ment in my mind, every day i went to the\n",
            "investigative solitary confinement cells and prisons. i don't know . . . we were just everywhere! probably in every prison in the city \u001b[44m\u001b[37mof\u001b[0m baku and in all the solitary confinement cells\n",
            "\u001b[44m\u001b[37mof\u001b[0m sumgait. at that time they had even turned the drunk tank into solitary  confinement.  thus far i have identified 31 \u001b[44m\u001b[37mof\u001b[0m the people who were in our apartment. mamma\n",
            "identified three, and karina, two. the total is 36. marina didn't identify  anyone, she remembers the faces \u001b[44m\u001b[37mof\u001b[0m two or three, but they weren't among the  photographs \u001b[44m\u001b[37mof\u001b[0m\n",
            "those detained. i told \u001b[44m\u001b[37mof\u001b[0m the neighbor i recognized. the one  who went after the axe. he still hasn't been detained, he's still on the  loose. he's gone, and it's not clear if he will be\n",
            "found or not. i don't know  his first or last name. i know which building he lived in and i know his  sisters' faces. but he's not in the city. the investigators informed me that  even if the\n",
            "investigation is closed and even if the trial is over they will  continue looking for him.  the 31 people i identified are largely blue-collar workers from various  plants, without education, and\n",
            "\u001b[44m\u001b[37mof\u001b[0m the very lowest level in every respect. mostly their ages range from 20 to 30 years; there was one who was 48. only one \u001b[44m\u001b[37mof\u001b[0m them was a student. he was attending the\n",
            "azerbaijan petroleum and chemical institute in sumgait, his mother kept trying to bribe the investiga- tor. once, thinking that i was an employee and not a victim, she said in front \u001b[44m\u001b[37mof\u001b[0m\n",
            "me \"i'll set you up a restaurant worth 500 rubles and give you 600 in cash simply for keeping him out \u001b[44m\u001b[37mof\u001b[0m armenia,\" that is, to keep him from landing in a prison on armenian soil. they're\n",
            "all terribly afraid \u001b[44m\u001b[37mof\u001b[0m that, because if the investigator is talking with a criminal and the criminal doesn't confess even though we identified him, they tell him--in order to apply\n",
            "psychological pressure--they say, \"fine, don't confess, just keep silent. when you're in an armenian prison, when they find out who you are, they'll take care \u001b[44m\u001b[37mof\u001b[0m you in short order.\"\n",
            "that somehow gets to them. many give in and start to talk.  the investigators and i were in our apartment and videotaped the entire pogrom \u001b[44m\u001b[37mof\u001b[0m our apartment, as an investigative\n",
            "experiment. it was only then that i saw the way they had left our apartment. even without knowing who was  in our apartment, you could guess. they stole, for example, all the money and  all the\n",
            "valuables, but didn't take a single book. they tore them up, burned  them, poured water on them, and hacked them with axes. only the materials from the 27th congress \u001b[44m\u001b[37mof\u001b[0m the communist\n",
            "party \u001b[44m\u001b[37mof\u001b[0m the soviet union and james  fenimore cooper's last \u001b[44m\u001b[37mof\u001b[0m the mohigans. oh yes, lunch was ready, we were  boiling a chicken, and there were lemons for tea on the\n",
            "table. after they had  been in our apartment, both the chicken and the lemons were gone. that's  enough to tell you what kind \u001b[44m\u001b[37mof\u001b[0m people were in our apartment, people who don't even know\n",
            "anything about books. they didn't take a single book, but they did  take worn clothing, food, and even the cheapest \u001b[44m\u001b[37mof\u001b[0m the cheap, worn-out  slippers.  \u001b[44m\u001b[37mof\u001b[0m those whom i\n",
            "identified, four were kafan azerbaijanis living in sumgait.  basically, the group that went seeking \"revenge\"--let's use their word for  it--was joined by people seeking easy gain and thrill-seekers.\n",
            "i talked with  one \u001b[44m\u001b[37mof\u001b[0m them. he had gray eyes, and somehow against the back-drop \u001b[44m\u001b[37mof\u001b[0m all that  black i remembered him specifically because \u001b[44m\u001b[37mof\u001b[0m his\n",
            "\u001b[44m\u001b[37mof\u001b[0m his eyes. besides taking part in the pogrom \u001b[44m\u001b[37mof\u001b[0m our apartment, he was also involved in the murder \u001b[44m\u001b[37mof\u001b[0m  tamara mekhtiyeva from building 16. she was an older\n",
            "armenian who had recently arrived from georgia, she lived alone and did not have anyone in sumgait. i  don't know why she had a last name like that, maybe she was married to an  azerbaijani. i had\n",
            "laid eyes on this woman only once or twice, and know  nothing about her. i do know that they murdered her in her apartment with an  axe. murdering her wasn't enough for them. they hacked her into\n",
            "pieces and  threw them into the tub with water.  i remember another guy really well too, he was also rather fair-skinned. you  know, all the people who were in our apartment were darker than dark,\n",
            "both  their hair and their skin. and in contrast with them, in addition to the grey- eyed one, i remember this one fellow, the one l took to be a lezgin. i  identified him. as it turned out he was\n",
            "eduard robertovich grigorian, born in the city \u001b[44m\u001b[37mof\u001b[0m sumgait, and he had been convicted twice. one \u001b[44m\u001b[37mof\u001b[0m our own. how  did i remember him? the name rita was tattooed on his left\n",
            "or \u001b[44m\u001b[37mright\u001b[0m hand. i  kept thinking, is that rita or \"puma,\" which it would be if you read the word  as latin characters instead \u001b[44m\u001b[37mof\u001b[0m cyrillic, because the cyrillic \"t\" was the\n",
            "one  that looks like a latin \"m.\" when they led him in he sat with his hands behind his back. this was at the confrontation. he swore on every holy book, tried to put in an armenian word here and\n",
            "there to try and spark my compassion, and  told me that i was making a mistake, and called me \"dear sister.\" he said,  \"you're wrong, how could i, an armenian, raise my hand against my own, an\n",
            "armenian,\" and so on. he spoke so convincingly that even the investigator  asked me, \"lyuda, are you sure it was he?\" i told him, \"i'll tell you one more identifying mark. if i'm wrong i shall\n",
            "apologize and say i was mistaken. the  name rita is tattooed on his left or \u001b[44m\u001b[37mright\u001b[0m hand.\" he went rigid and became  pale. they told him, \"put your hands on the table.\" he put his hands on\n",
            "the table with the palms up. i said, \"now turn your hands over,\" but he didn't  turn his hands over. now this infuriated me. if he had from the very start acknowledged his guilt and said that he\n",
            "hadn't wanted to do it, that they  forced him or something else, i would have treated him somewhat differently. but he insolently stuck to his story, \"no, i did not do anything, it wasn't  me.\" when\n",
            "they turned his hands over the name rita was in fact tattooed on his hand. his face distorted and he whispered something wicked. i immediately flew into a rage. there was an ashtray on the table, a\n",
            "really heavy one, made out  \u001b[44m\u001b[37mof\u001b[0m granite or something, very large, and it had ashes and butts in it.  catching myself quite by surprise, i hurled that ashtray at him. but he ducked and the\n",
            "ashtray hit the wall, and ashes and butts rained down on his head and  back. and he smiled. when he smiled it provoked me further. i don't know how,  but i jumped over the table between us and started\n",
            "either pounding him or  strangling him; i no longer remember which. when i jumped i caught the  microphone cord. the investigator was there, tolya . . .i no longer recall his last name, and he says,\n",
            "\"lyudochka, it's a japanese microphone! please . . . \" and shut \u001b[44m\u001b[37mof\u001b[0mf all the equipment on the spot, it was all being video taped.  they took him away. i stayed, and they talked to me a\n",
            "little to calm me down,  because we needed to go on working, i only remember tolya telling me, \"you're  some actress! what a performance!\" i said, \"tolya, honestly . . . \" beforehand they would always\n",
            "tell me, \"lyuda, more emotion. you speak as calmly as if  nothing had happened to you.\" i say, \"i don't have any more strength or  emotion. all my emotions are behind me now, i no longer have the\n",
            "strength  . . . i don't have the strength to do anything.\" and he says, \"lyuda, how were you able to do that?\" and when i returned to normal, drinking tea and watching the tape, i said, \"can i really\n",
            "have jumped over that table? i never jumped  that high in gym class.\"  so you could say the gang that took over our apartment was international. \u001b[44m\u001b[37mof\u001b[0m  the 36 we identified there was an\n",
            "armenian, a russian, vadim vorobyev, who  beat mamma, and 34 azerbaijanis.  at the second meeting with grigorian, when he had completely confessed his  guilt, he told \u001b[44m\u001b[37mof\u001b[0m how on february\n",
            "27 the azerbaijanis had come knocking. among them were guys--if you can call them guys--he knew from prison. they said,  \"tomorrow we're going after the armenians. meet us at the bus station at three\n",
            "o'clock.\" he said, \"no, i'm not coming.\" they told him, \"if you don't come  we'll kill you.\" he said, \"al\u001b[44m\u001b[37mright\u001b[0m, i'll come.\" and he went.  they also went to visit my classmate from our\n",
            "microdistrict, kamo pogosian. he had also been in prison; i think that together they had either stolen a  motorcycle or dismantled one to get some parts they needed. they called him  out\n",
            "\u001b[44m\u001b[37mof\u001b[0m his apartment and told him the same thing: \"tomorrow we're going to get the armenians. be there.\" he said, \"no.\" they pulled a knife on him. he said,  \"i'm not going all the same.\"\n",
            "and in the courtyard on the 27th they stabbed  him several times, in the stomach. he was taken to the hospital. i know he was in the hospital in baku, in the republic hospital. if we had known about\n",
            "that  we would have had some idea \u001b[44m\u001b[37mof\u001b[0m what was to come on the 28th.  i'll return to grigorian, what he did in our apartment. i remember that he beat me along with all the rest. he spoke\n",
            "azerbaijani extremely well. but he was very fair-skinned, maybe that led me to think that they had it out for him, too. but later it was proved that he took part in the beating and burning\n",
            "\u001b[44m\u001b[37mof\u001b[0m shagen sargisian. i don't know if he participated in the rapes in our  apartment; i didn't see, i don't remember. but the people who were in our  apartment who didn't yet know that he\n",
            "was an armenian said that he did. i  don't know if he confessed or not, and i myself don't recall because i blacked out very \u001b[44m\u001b[37mof\u001b[0mten. but i think that he didn't participate in the rape\n",
            "\u001b[44m\u001b[37mof\u001b[0m karina because he was in the apartment the whole time. when they carried her into the courtyard, he remained in the apartment.  at one point i was talking with an acquaintance about\n",
            "edik grigorian. from her i learned that his wife was a dressmaker, his mother is russian, he doesn't  have a father, and that he's been convicted twice. well this will be his third and, i hope, last\n",
            "sentence. he beat his wife, she was eternally coming to work with bruises. his wife was an armenian by the name \u001b[44m\u001b[37mof\u001b[0m rita.  the others who were detained . . . well they're little beasts.\n",
            "you really can't call them beasts, they're just little beasts. they were robots carrying out someone else's will, because at the investigation they all said, \"i don't  understand how i could have done\n",
            "that, i was out \u001b[44m\u001b[37mof\u001b[0m my head.\" but we know that they were won around to it and prepared for it, that's why they did it. in the name \u001b[44m\u001b[37mof\u001b[0m allah, in the name \u001b[44m\u001b[37mof\u001b[0m the\n",
            "koran, in the name \u001b[44m\u001b[37mof\u001b[0m propagating islam-- that's holy to them--that's why they did everything they were commanded to do. because i saw they didn't have minds \u001b[44m\u001b[37mof\u001b[0m their own,\n",
            "i'm not talking about their level \u001b[44m\u001b[37mof\u001b[0m cultural sophistication or any higher values. no education, they work, have a slew \u001b[44m\u001b[37mof\u001b[0m children without the means to raise them\n",
            "properly, they  crowd them in, like at the temporary housing, and apparently, they were  promised that if they slaughtered the armenians they would receive apartments. so \u001b[44m\u001b[37mof\u001b[0mf they went.\n",
            "many \u001b[44m\u001b[37mof\u001b[0m them explained their participation saying, \"they  promised us apartments.\"  among them was one who genuinely repented. i am sure that he repented from the heart and that he just\n",
            "despised himself after the incident. he worked at a  children's home, an azerbaijani, he has two children, and his wife works at  the children's home too. everything that they acquired, everything\n",
            "that they  have they earned by their own labor, and wasn't inherited from parents or  grandparents. and he said, \"i didn't need anything i just don't know . . . how i ended up in that; it was like\n",
            "some hand was guiding me. i had no will \u001b[44m\u001b[37mof\u001b[0m my  own, i had no strength, no masculine dignity, nothing.\" and the whole time i kept repeating, \"now you imagine that someone did the same to\n",
            "your young wife  \u001b[44m\u001b[37mright\u001b[0m before your own eyes.\" he sat there and just wailed.  but that leader in the eskimo dogskin coat was not detained. he performed a  marvelous disappearing act, but\n",
            "i think that they'll get onto him, they just  have to work a little, because that vadim, that boy, according to his grandfather, is in touch with the young person who taught him what to do, how  to\n",
            "cover his tracks. he was constantly exchanging jackets with other boys he  knew and those he didn't, either, and other things as well, and changed  himself like a chameleon so they wouldn't get onto\n",
            "him, but he was detained.  that one in the eskimo dogskin coat was at the gambarians' after aleksandr  gambarian was murdered. he came in and said, \"let's go, enough, you've spilled enough blood\n",
            "here.\"  maybe karina doesn't know this but the reason they didn't finish her \u001b[44m\u001b[37mof\u001b[0mf was  that they were hoping to take her home with them. i heard this from aunt tanya and her sons, the\n",
            "kasumovs, who were in the courtyard near the entryway. they  liked her very much, and they had decided to take her to home with them. when  karina came to at one point--she doesn't remember this yet,\n",
            "this the neighbors  old me--and she saw that there was no one around her, she started crawling to  the entryway. they saw that she was still alive and came back, they were  already at the third\n",
            "entryway, on their way to the gambarians'. they came back and started beating her to finish her. if she had not come to she would have  sustained lesser bodily injuries, they would have beat her less.\n",
            "an older  woman from our building, aunt nazan, an azerbaijani, all but lay on top \u001b[44m\u001b[37mof\u001b[0m  karina, crying and pleading that they leave her alone, but they flung her \u001b[44m\u001b[37mof\u001b[0mf. the\n",
            "woman's grown sons were \u001b[44m\u001b[37mright\u001b[0m nearby; they picked her up in their hands  and led her home. she howled and cried out loudly and swore: god is on earth,  he sees everything, and he won't\n",
            "forgive this.  there was another woman, too, aunt fatima, a sick, aging woman from the first  floor, she's already retired. mountain dwellers, and azerbaijanis, too, have a custom: if men are\n",
            "fighting, they throw a scarf under their feet to stop them. but they trampled her scarf and sent her home. to trample a scarf is  tantamount to trampling a woman's honor.  now that the investigation\n",
            "is going on, now that a lot is behind us and we  have gotten back to being ourselves a little, i think about how could these  events that are now called the sumgait tragedy happen? how did they come\n",
            "about? how did it start? could it have been avoided? well, it's clear that  without a signal, without permission from the top leadership, it would not  have happened. all the same, i'm not afraid to\n",
            "say this, the azerbaijanis, let other worthy people take no \u001b[44m\u001b[37mof\u001b[0mfense, the better representatives \u001b[44m\u001b[37mof\u001b[0m their  nations, let them take no \u001b[44m\u001b[37mof\u001b[0mfense, but the\n",
            "azerbaijanis in their majority are  a people who are kept in line only by fear \u001b[44m\u001b[37mof\u001b[0m the law, fear \u001b[44m\u001b[37mof\u001b[0m retribution for what they have done. and when the law said that they\n",
            "could do all that, like unleashed dogs who were afraid they wouldn't have time to do everything, they  threw themselves from one thing to the next so as to be able to get more done, to snatch a bit\n",
            "more. the smell \u001b[44m\u001b[37mof\u001b[0m the danger was already in the air on february 27. you could tell that something was going to happen. and everyone  who had figured it out took steps to avoid running\n",
            "into those gangs. many left for their dachas, got plane tickets for the other end \u001b[44m\u001b[37mof\u001b[0m the country, just got as far away as their legs would carry them.  february 27 was a saturday. i was\n",
            "teaching my third class. the director came  into my classroom and said that i should let the children out, that there had  been a call from the city party committee asking that all teachers gather for\n",
            "a meeting at lenin square. well, i excused the children, and there were few  teachers left at school, altogether three women, the director, and six or  seven men. the rest had already gone home. we\n",
            "got to lenin square and there  were a great many people there. this was around five-thirty or six in the  evening, no later. they were saying all kinds \u001b[44m\u001b[37mof\u001b[0m rubbish up on the podium and\n",
            "the crowd below was supporting them stormily, roaring. they spoke over the  microphone about what had happened in kafan a few days earlier and that the  driver \u001b[44m\u001b[37mof\u001b[0m a bus going to some\n",
            "district had recently thrown a small azerbaijani child \u001b[44m\u001b[37mof\u001b[0mf the bus. the speaker affirmed that he was an eyewitness, that he had seen it himself..the crowd started to rage: \"death to the\n",
            "armenians! they must be killed!\" then a woman went up on stage. i didn't see the woman because  people were clinging to the podium like flies. i could only hear her. the  woman introduced herself as\n",
            "coming from kafan, and said that the armenians  cut her daughters' breasts \u001b[44m\u001b[37mof\u001b[0mf, and called, \"sons, avenge my daughters!\" that  was enough. a portion \u001b[44m\u001b[37mof\u001b[0m the people on the\n",
            "square took \u001b[44m\u001b[37mof\u001b[0mf running in the  direction \u001b[44m\u001b[37mof\u001b[0m the factories, toward the beginning \u001b[44m\u001b[37mof\u001b[0m lenin street.  we stood there about an hour. then the director\n",
            "\u001b[44m\u001b[37mof\u001b[0m school 25 spoke, he gave a  very nationalist speech. he said, \"brother muslims, kill the armenians!\" this  he repeated every other sentence. when he said this the crowd supported him\n",
            "stormily, whistling and shouting \"karabagh!\" he said, \"karabagh has been our  territory my whole life long, karabagh is my soul. how can you tear out my  heart?\" as though an azerbaijani would die\n",
            "without karabagh. \"it's our  territory, the armenians will never see it. the armenians must be eliminated.  from time immemorial muslims have cleansed the land \u001b[44m\u001b[37mof\u001b[0m infidel armenians, from\n",
            "time immemorial, that's the way nature created it, that every 20 to 30 years  the azerbaijanis should cleanse the land \u001b[44m\u001b[37mof\u001b[0m filth.\" by filth he meant  armenians.  i heard this. before that\n",
            "i hadn't been listening to the speeches closely. many people spoke and i stood with my back to the podium, talking shop with  the other teachers, and somehow it all went \u001b[44m\u001b[37mright\u001b[0m by, it\n",
            "didn't penetrate, that in fact something serious was taking place. then, when one \u001b[44m\u001b[37mof\u001b[0m our teachers said, \"listen to what he's saying, listen to what idiocy he's  spouting,\" we listened.\n",
            "that was the speech \u001b[44m\u001b[37mof\u001b[0m that director. before that we  listened to the woman's speech.  \u001b[44m\u001b[37mright\u001b[0m then in our group--there were nine \u001b[44m\u001b[37mof\u001b[0m us--the mood changed, and\n",
            "the  subject \u001b[44m\u001b[37mof\u001b[0m conversation and all school matters were forgotten. our director \u001b[44m\u001b[37mof\u001b[0m studies, for whom i had great respect, he's an azerbaijani . . . before that i had\n",
            "considered him an upstanding and worthy person, if there was a need to  obtain leave we had asked him, he seemed like a good person. so he tells me, \"lyuda, you know that besides you there are no\n",
            "armenians on the square? if  they find out that you're an armenian they'll tear you to pieces. should i  tell them you're an armenian? should i tell them you're an armenian?\" when he  said it the\n",
            "first time i pretended not to hear it, and then he asked me a  second time. i turned to the director, khudurova, and said that it was already after eight, i was expected at home, and i should be\n",
            "leaving. she answered,  \"no, they said that women should stay here until ten o'clock,.and men, until  twelve. stay here.\" there was a young teacher with us, her children were in  kindergarten and her\n",
            "husband worked shifts. she asked to leave: \"i left my  children at the kindergarten.\" the director excused her. when she let her go i turned around, said, \"good-bye,\" and left with the young teacher,\n",
            "the  azerbaijani. i didn't see them after that.  when we were walking the buses weren't running, and a crowd from the rally ran nearby us. they had apparently gotten all fired up. it must have become\n",
            "too  much for them, and they wanted to seek vengeance immediately, so they rushed  \u001b[44m\u001b[37mof\u001b[0mf. i wasn't afraid this time because i was sure that the other teacher  wouldn't say that i was an\n",
            "armenian.  to make it short, we reached home. then karina told \u001b[44m\u001b[37mof\u001b[0m how they had been at  the movies and what had happened there. i started telling \u001b[44m\u001b[37mof\u001b[0m my experience and again\n",
            "my parents didn't understand that we were in danger. we watched  television as usual, and didn't even imagine that tomorrow would be our last  day. that's how it all was.  at the city party committee\n",
            "i met an acquaintance, we went to school together, zhanna, i don't remember her last name, she lives above the housewares store  on narimanov street. she was there with her father, for some reason she\n",
            "doesn't have a mother. the two \u001b[44m\u001b[37mof\u001b[0m them were at home alone. while her father  held the door she jumped from the third floor, and she was lucky that the  ground was wet and that there\n",
            "wasn't anyone behind the building when she went  out on the balcony, there was no one there, they were all standing near the  entryway. that building was also a lucky one in that there were no murders\n",
            "there. she jumped. she jumped and didn't feel any pain in the heat \u001b[44m\u001b[37mof\u001b[0m the  moment. a few days later i found out that she couldn't stand up, she had been  injured somehow. that's how\n",
            "people in sumgait saved their lives, their honor,  and their children: any way they could.   where it was possible, the armenians fought back. my father's first cousin,  armen m., lives in block 30.\n",
            "they found out by phone from one \u001b[44m\u001b[37mof\u001b[0m the victims  what was going on in town. the armenians in that building all called one  another immediately and all \u001b[44m\u001b[37mof\u001b[0m them armed\n",
            "themselves with axes, knives, even  with muskets and went up to the ro\u001b[44m\u001b[37mof\u001b[0m. they took their infants with them, and  their old women who had been in bed for god knows how many months, they\n",
            "got  them \u001b[44m\u001b[37mright\u001b[0m out \u001b[44m\u001b[37mof\u001b[0m their beds and took everyone upstairs. they hooked  electricity up to the trap door to the ro\u001b[44m\u001b[37mof\u001b[0m and waited, ready to fight. then  they\n",
            "took the daughter \u001b[44m\u001b[37mof\u001b[0m the school board director hostage, she's an  azerbaijani who lived in their building. they called the school board director and told her that if she didn't help\n",
            "them, the 17 armenians on the ro\u001b[44m\u001b[37mof\u001b[0m, to  escape alive and unharmed, she'd never see her daughter again. i'm sure, \u001b[44m\u001b[37mof\u001b[0m  course, that armenians would never lay a hand on a\n",
            "woman, it was just the only thing that could have saved them at the time. she called the police. the  armenians made a deal with the local police to go into town. two armored  personnel carriers and\n",
            "soldiers were summoned they surrounded the entryway and led everyone down from the ro\u001b[44m\u001b[37mof\u001b[0m, and \u001b[44m\u001b[37mof\u001b[0mf to the side from the armored  personnel carriers was a crowd that was on\n",
            "its way to the building at that  very moment, into block 30. that's how they defended themselves.  i heard that our neighbors, roman and sasha gambarian, resisted. they're big,  strong guys. their\n",
            "father was killed. and i heard that the brothers put up a  strong defense and lost their father, but were able to save their mother.  one \u001b[44m\u001b[37mof\u001b[0m the neighbors told me that after it happened,\n",
            "when they were looking  for the criminals on march 1 to 2 and detaining everyone they suspected,  people hid people in our entryway, maybe people who were injured or perhaps  dead. the neighbors\n",
            "themselves were afraid to go there, and when they went  with the soldiers into our basement they are supposed to have found  azerbaijani corpses. i don't know how many. even if they had been wounded\n",
            "and  put down there, after two days they would have died from loss \u001b[44m\u001b[37mof\u001b[0m blood or  infection--that basement was filled with water. i heard this from the  neighbors. and later when i was\n",
            "talking with the investigators the subject  came up and they confirmed it. i know, too, that for several hours the  basement was used to store objects stolen from our apartment. and our neighbor\n",
            "carried out our carpet, along with the rest: he stole it for himself, posing  as one \u001b[44m\u001b[37mof\u001b[0m the criminals. everyone was taking his own share, and the neighbor  took his, too, and carried it\n",
            "home. and when we came back, when everything  seemed to have calmed down, he returned it, saying that it was the only thing  \u001b[44m\u001b[37mof\u001b[0m ours he had managed to \"save.\"  raya's husband and father\n",
            "defended themselves. the trdatovs defended  themselves, and so did other armenian families. to be sure there were azerbaijani victims, although we'll never hear anything about them. for some  reason\n",
            "our government doesn't want to say that the armenians were not just  victims, but that they defended the honor \u001b[44m\u001b[37mof\u001b[0m their sisters and mothers, too.  in the tv show \"pozitsiya\" [viewpoint]\n",
            "a military man, an \u001b[44m\u001b[37mof\u001b[0mficer, said that  the armenians did virtually nothing to defend themselves. but that's not  important, the truth will come out regardless.  so that's the price we\n",
            "paid those three days. for three days our courage, our  bravery, and our \u001b[44m\u001b[37mhuman\u001b[0mity was tested. it was those three days, and not the  years and dozens \u001b[44m\u001b[37mof\u001b[0m years we had lived\n",
            "before them, that showed what we've  become, what we grew up to be. those three days showed who was who.  on that i will conclude my narrative on the sumgait tragedy. it should be said that it's not\n",
            "over yet, the trials are still ahead \u001b[44m\u001b[37mof\u001b[0m us, and the punishments received by those who so violated us, who wanted to make us into non\u001b[44m\u001b[37mhuman\u001b[0ms  will depend on our position and\n",
            "on the work \u001b[44m\u001b[37mof\u001b[0m the investigators, the  procuracy, and literally \u001b[44m\u001b[37mof\u001b[0m every person who lent his hand to the investiga- tion. that's the price we paid to live in armenia, to\n",
            "not fear going out on  the street at night, to not be afraid to say we're armenians, and to not fear speaking our native tongue.     october 15,1988    yerevan                     - - - reference for\n",
            "#008 - - -  [1] _the sumgait tragedy; pogroms against armenians in soviet azerbaijan,     volume i, eyewitness \u001b[44m\u001b[37maccounts\u001b[0m_, edited by samuel shahmuradian, forward by     yelena bonner,\n",
            "1990, published by aristide d. caratzas, ny, pages 118-145   --  david davidian dbd@urartu.sdpa.org   | \"how do we explain turkish troops on s.d.p.a. center for regional studies |  the armenian\n",
            "border, when we can't  p.o. box 382761                      |  even explain 1915?\"  cambridge, ma 02238                  |              turkish mp, march 1992\n",
            "\n",
            "================================================================================DOCUMENT 3================================================================================\n",
            "\n",
            "from: pts@seas.smu.edu (paul thompson schreiber) subject: the enemy within                              the enemy within                            ~~~~~~~~~~~~~~~~                         by robert\n",
            "i. friedman          the village voice, may 11, 1993, vol. xxxviii no. 19          | how the  anti-defamation league  turned the notion |         | \u001b[44m\u001b[37mof\u001b[0m \u001b[44m\u001b[37mhuman\u001b[0m\n",
            "\u001b[44m\u001b[37mright\u001b[0ms on its head, spying  on  progress- |         | ives and  funneling information to law enforcement |   roy bullock wanted to be a spy since he was a teenager in indiana and read \"i\n",
            "led three lives,\" herbert philbrick's cold war saga \u001b[44m\u001b[37mof\u001b[0m penetrating the communist party for the fbi.  philbrick had become an american folk hero in the 1950s for building dossiers on\n",
            "unsuspecting colleagues.  it was a time when hollywood produced more than 30 films portraying the informer as the quintessential american patriot.  in boston, where philbrick led three lives as an fbi\n",
            "informant, communist party member, and private citizen, the mayor even proclaimed a herbert philbrick day and presented the spy with a plaque.  for bullock, a shy young man who was coming to terms\n",
            "with his homosexuality in the straight-arrow '50s, the life \u001b[44m\u001b[37mof\u001b[0m a double agent was the perfect way to hide his lifestyle while fighting the communist menace.  \"i was fascinated with\n",
            "herbert philbrick,\" bullock recently told federal investigators, \"and so i thought i would try to infiltrate the communist part.  in 1957, i went to the sixth world youth and student festival in\n",
            "moscow with the american delegation.  i gave them [the fbi a full report on it when i returned, along with some photos i took \u001b[44m\u001b[37mof\u001b[0m some soviet military vehicles.\"  bullock was hooked.  for\n",
            "the next two years, he worked as an unpaid informant for the fbi.  but he found his true calling when he became a paid spy for the anti-defamation league in 1960.  now his activities are at the center\n",
            "\u001b[44m\u001b[37mof\u001b[0m the biggest domestic spy scandal in recent american history -- a scandal that may end with the adl's criminal indictment in san francisco.  over a 30-year period, he compiled computer\n",
            "files for the adl on 9876 individuals and more than 950 groups \u001b[44m\u001b[37mof\u001b[0m all political stripes, including the naacp, the rainbow coalition, aclu, the american indian movement, the center for\n",
            "investigative reporting, pacifica, act up, palestinian and arab groups, sandinista solidarity groups, americans for peace now, and anti-apartheid organizations.  bullock, who even spied on the\n",
            "recently slain south african nationalist chris hani when he visited the bay area in april 1991, sold many \u001b[44m\u001b[37mof\u001b[0m his adl files on anti-apartheid activists to south african intelligence.\n",
            "meanwhile, between 1985 and 1993, the adl paid him nearly $170,000, using a prominent beverly hills attorney as a conduit in order to conceal its financial relationship with bullock.  last month,\n",
            "police raided adl \u001b[44m\u001b[37mof\u001b[0mfices in los angeles and san francisco, as well as bullock's home, confiscating computer files and boxes \u001b[44m\u001b[37mof\u001b[0m documents.  according to court records,\n",
            "bullock's files contained the driver's license and vehicle registration information, in addition to criminal histories on individuals -- much \u001b[44m\u001b[37mof\u001b[0m which was allegedly stolen from the fbi\n",
            "and police computers.  bullock, 58, told the fbi that copies \u001b[44m\u001b[37mof\u001b[0m virtually everything in his computer data base had been given to the san francisco adl \u001b[44m\u001b[37mof\u001b[0mfice.  \"based on\n",
            "the evidence,\" says inspector ron roth, in a police affidavit, \"i believe that roy bullock and adl had numerous peace \u001b[44m\u001b[37mof\u001b[0mficers supplying them with confidential criminal and dmv\n",
            "information.\"  what's more, the san francisco d.a. is investigating bullock for tapping phones, accessing answering machines, and assuming false identities to infiltrate organizations.  documents\n",
            "seized from bullock's home also contained evidence \u001b[44m\u001b[37mof\u001b[0m his forays into bay area trash cans: he had the names and phone numbers \u001b[44m\u001b[37mof\u001b[0m employees at the christic institute in san\n",
            "francisco, as well as telephone message slips to staff members (including names and phone numbers \u001b[44m\u001b[37mof\u001b[0m callers), \u001b[44m\u001b[37mof\u001b[0mfice correspondence listing the names and return addresses\n",
            "\u001b[44m\u001b[37mof\u001b[0m the senders, and inter-\u001b[44m\u001b[37mof\u001b[0mfice memos.  he also had receipts from christic institute's bank \u001b[44m\u001b[37maccounts\u001b[0m at wells fargo and eureka federal savings, as well as\n",
            "itemized canceled checks with the names \u001b[44m\u001b[37mof\u001b[0m the payees, the dates, and amounts.  bullock even knew the balance in the christic institute's checking account.  investigations by the fbi and\n",
            "police in san francisco have revealed that the adl has shared at least some \u001b[44m\u001b[37mof\u001b[0m its spy gathering material with israeli government \u001b[44m\u001b[37mof\u001b[0mficials.  what's more, israel apparently\n",
            "used tips from the adl to detain palestinian americans who travelled there.                              *     *     *  the adl was established in new york city in 1913 to defend jews, and later other\n",
            "minority groups, from discrimination.  it led the fight against racist and fascist groups like the ku klux klan and the american nazi party, and in the 1960s championed the civil \u001b[44m\u001b[37mright\u001b[0ms\n",
            "movement.  but there was also a darker side.  in the late 1940s, the adl spied on leftists and communists, and shared investigative files with the house committee on un-american activities and the\n",
            "fbi.  the adl swung sharply to the \u001b[44m\u001b[37mright\u001b[0m during the reagan administration, becoming a bastion \u001b[44m\u001b[37mof\u001b[0m neoconservatism.  to irwin suall, a repentant trotskyite who heads the\n",
            "adl's powerful fact finding department, the real danger to jews is posed not by the \u001b[44m\u001b[37mright\u001b[0m -- but by a coalition \u001b[44m\u001b[37mof\u001b[0m leftists, blacks, and arabs, who in his view threaten the\n",
            "fabric \u001b[44m\u001b[37mof\u001b[0m democracy in america, as well as the state \u001b[44m\u001b[37mof\u001b[0m israel.  in the tradition \u001b[44m\u001b[37mof\u001b[0m his ideological soulmate william casey, suall directed the adl's vast\n",
            "network \u001b[44m\u001b[37mof\u001b[0m informants, who were given code names like \"scumbag,\" \"ironside,\" and -- for a spy reportedly posing as a priest in atlanta -- \"flipper.\"  for years, journalists and liberal\n",
            "members \u001b[44m\u001b[37mof\u001b[0m the jewish community knew the adl spied on \u001b[44m\u001b[37mright\u001b[0m-wing hate groups.  as long as the targets were anti-semitic organizations like the liberty lobby and lyndon\n",
            "larouche, no one seemed to be particularly troubled.  but the bullock case reveals that the adl also spied on groups that have a nonviolent, and progressive orientation.  this apparent massive\n",
            "violation \u001b[44m\u001b[37mof\u001b[0m civil liberties may end with the adl's criminal indictment in san francisco, where the investigation began.  the \u001b[44m\u001b[37mhuman\u001b[0m \u001b[44m\u001b[37mright\u001b[0ms group faces\n",
            "possible criminal prosecution on as many as 48 felony counts, including an indictment for gaining illegal access to police computers.  says one source close to the west coast investigation, \"it is 99\n",
            "per cent certain that the adl will be indicted.\"  in the wake \u001b[44m\u001b[37mof\u001b[0m the san francisco investigation, police probes \u001b[44m\u001b[37mof\u001b[0m adl spying are spreading to other parts \u001b[44m\u001b[37mof\u001b[0m\n",
            "the country.  \"we have received numerous complaints about adl [spying],\" says sam adams, a spokesperson for the mayor's \u001b[44m\u001b[37mof\u001b[0mfice in portland, oregon.  on april 16, the harlem-based black\n",
            "united fund \u001b[44m\u001b[37mof\u001b[0m new york, and african american self-help group that bullock allegedly spied on, wrote district attorney robert morgenthau, requesting \"an immediate investigation\"\n",
            "\u001b[44m\u001b[37mof\u001b[0m the adl.  \"the adl's actions cause great concern, as it is a direct and flagrant violation -- at minimum -- \u001b[44m\u001b[37mof\u001b[0m our civil \u001b[44m\u001b[37mright\u001b[0ms....we call upon you to join\n",
            "with the district attorney \u001b[44m\u001b[37mof\u001b[0m san francisco to...bring and end to this latest form \u001b[44m\u001b[37mof\u001b[0m mccarthyism.\"  gerald mckelvey, a spokesperson for morgenthau's \u001b[44m\u001b[37mof\u001b[0mfice,\n",
            "says, \"we have no evidence before us that warrants any sort \u001b[44m\u001b[37mof\u001b[0m investigation.\" mckelvey adds that morgenthau \u001b[44m\u001b[37mof\u001b[0mfered to assist the fbi and the san francisco d.a.'s\n",
            "\u001b[44m\u001b[37mof\u001b[0mfice on their pending investigation.  \"they have not, so far, asked for our assistance.\"  the adl acknowledges sharing information on violence-prone groups with law enforcement\n",
            "\u001b[44m\u001b[37mof\u001b[0mficials.  it also admits to maintaining extensive files on a wide variety \u001b[44m\u001b[37mof\u001b[0m organizations, but says, in a two-page press release, \"the vast majority \u001b[44m\u001b[37mof\u001b[0m\n",
            "adl's files are composed \u001b[44m\u001b[37mof\u001b[0m news clips, magazine articles, books, journals, and other documents....\"  \"adl has made it clear that it does not and will not countenance violations\n",
            "\u001b[44m\u001b[37mof\u001b[0m the law on the part \u001b[44m\u001b[37mof\u001b[0m anyone connected with the agency, and the process by which the league gathers information is presently under review to insure that no laws are\n",
            "being violated.\"  that's what the adl says for public consumption.  but morale is so low that its employees complain \u001b[44m\u001b[37mof\u001b[0m sleepless nights and crying fits.  and even as other jewish groups\n",
            "circle the wagons around the adl in a show \u001b[44m\u001b[37mof\u001b[0m solidarity, many do so holding their noses.  more than a few jewish \u001b[44m\u001b[37mof\u001b[0mficials privately say the adl has to decide whether it\n",
            "is a \u001b[44m\u001b[37mhuman\u001b[0m \u001b[44m\u001b[37mright\u001b[0ms group or a secret police agency.  \"the adl is regarded both inside the jewish community and outside the jewish community as the definitive source\n",
            "\u001b[44m\u001b[37mof\u001b[0m information on anti- semitism and extremist groups,\" says daniel levitas, the former executive director \u001b[44m\u001b[37mof\u001b[0m the center for democratic renewal, an atlanta- based group\n",
            "that monitors anti-semitism, racism, and hate groups. \"one \u001b[44m\u001b[37mof\u001b[0m the things this scandal has done is that it has completely tainted the adl's credibility and reputation with regard to its\n",
            "objectivity.  this scandal is going to be a devastating blow to the jewish community at large because people regard the adl as synonymous with american jewry.\"                              *     *\n",
            "*  bullock's talents as a snoop and his extreme conservatism meshed well with the adl's cold war worldview.  in 1960, he moved to southern california where he became an adl spy for $75.00 a week.\n",
            "bullock almost always used his real name when snooping, although he once called himself elmer fink when corresponding with supporters \u001b[44m\u001b[37mof\u001b[0m alabama governor george wallace.  bullock\n",
            "provided the adl's \u001b[44m\u001b[37mof\u001b[0mfice in los angeles with written reports, which were transmitted to fact finding department head irwin suall, according to court records. under suall's stewardship,\n",
            "fact finding department had become the adl's heart and soul.  located at adl national headquarters across from the united nations, the department had assembled a vast library on \"hate groups,\" culling\n",
            "material from publications, speeches, and informants reports.  bullock was more than adept at leading a double life.  not long after moving to california, he ingratiated himself with a woman in the\n",
            "john birch society who helped him gain access to the group's boston \u001b[44m\u001b[37mof\u001b[0mfice. there, he found a file the \u001b[44m\u001b[37mright\u001b[0m-wingers were keeping on the adl.  the discovery gave rise to\n",
            "speculation in the adl new york \u001b[44m\u001b[37mof\u001b[0mfice that they had somehow been penetrated by the birchers.  bullock focused almost exclusively on \u001b[44m\u001b[37mright\u001b[0m-wing extremist groups until the\n",
            "early 1970s when adl l.a. head milton sinn was replaced by harvey schechter, who encouraged him to target the left as well.  a few years later, bullock moved to the castro district in san francisco\n",
            "where he posed as an art dealer.  and adl fact finder who had infiltrated the local arab community had just been exposed.  when the ensuing scandal died down, bullock was ordered by the adl to\n",
            "penetrate the arabs.  the adl was especially concerned about the american-arab anti- discrimination committee, founded by the former south dakota senator james abourezk to combat arab-bashing.  in a\n",
            "page out \u001b[44m\u001b[37mof\u001b[0m the cia's dirty tricks handbook on penetration and destabilization, bullock joined the adc, and then recruited nazis into the group, apparently trying to discredit it,\n",
            "according to published reports.  in 1987, the adl sent bullock to attend the national association \u001b[44m\u001b[37mof\u001b[0m arab americans annual congress in washington.  according to court documents, bullock\n",
            "was told to find the source \u001b[44m\u001b[37mof\u001b[0m the group's funds. bullock was unable to \"follow the money.\"  but he did such a good job at ingratiating himself that he was appointed to head a naaa\n",
            "delegation that visited congress member nancy pelosi.  it's not surprising that the adl penetrated arab organizations.  but only acute paranoia explains their interest in groups like act up.  as far\n",
            "as bullock was concerned, gay groups in san francisco were heavily infiltrated by what he called \"gay left revolutionaries,\" prompting him to write about their activities for the adl.  bullock soon\n",
            "expanded his horizons, moving into the shadowy realm \u001b[44m\u001b[37mof\u001b[0m foreign espionage after richard hirschhaut, the head \u001b[44m\u001b[37mof\u001b[0m adl's san francisco \u001b[44m\u001b[37mof\u001b[0mfice, introduced him to\n",
            "thomas gerard in 1986.  gerard was then a detective with the san francisco police department's intelligence unit.  gerard had worked as a demolitions expert for the cia in el salvador in the early\n",
            "1980s, where he apparently had more than a passing interest in \u001b[44m\u001b[37mright\u001b[0m-wing death squads.  (police searching gerard's briefcase found extensive cia literature about torture and\n",
            "interrogation, photos \u001b[44m\u001b[37mof\u001b[0m blindfolded and chained men, as well as passports made out to gerard in 10 different names, including thomas clouseau.  from a remote jungle island redoubt in\n",
            "the philippines where he fled last november, gerard told the los angeles times that he will blow the lid \u001b[44m\u001b[37mof\u001b[0mf the cia's involvement with latin american death squads if he is indicted in\n",
            "the adl spy case.)  after their very first encounter in the adl \u001b[44m\u001b[37mof\u001b[0mfice, gerard and bullock had lunch at mcdonald's, \"i liked tom \u001b[44m\u001b[37mright\u001b[0m \u001b[44m\u001b[37mof\u001b[0mf,\" bullock later\n",
            "told a san francisco police investigator whose report \u001b[44m\u001b[37mof\u001b[0m the interrogation was obtained by the _voice_.  \"tom is a very charming, roguish character, with a great deal \u001b[44m\u001b[37mof\u001b[0m\n",
            "integrity.  let me say here, i consider tom gerard one \u001b[44m\u001b[37mof\u001b[0m the finest policemen i've ever worked with, absolutely.  honest, capable, intelligent and 100 percent american.\"  before long,\n",
            "bullock was providing gerard with confidential adl reports on various groups and individuals.  in turn, gerard gave bullock classified police intelligence files on local arab americans, skinheads, and\n",
            "others.  bullock told the fbi that gerard's material ended up in his adl reports.  \"i would say 99 percent \u001b[44m\u001b[37mof\u001b[0m the data that i got was name, address, and sometimes physical description.\n",
            "criminal history, very rarely,\" bullock told investigators.  gerard also gave bullock a chart that outlined a vast network \u001b[44m\u001b[37mof\u001b[0m bay area arab american businessmen and organizations that\n",
            "allegedly has ties to middle east terror groups, as well as surveillance photos \u001b[44m\u001b[37mof\u001b[0m arab americans receiving weapons training overseas.  bullock claims that u.s. customs in new york gave\n",
            "gerard the photos.  \"it was understood that bullock would be very careful with what he did with the information gerard gave him, and that bullock would not release it except to the adl or other law\n",
            "enforcement \u001b[44m\u001b[37mof\u001b[0mficers,\" says an fbi report.  there was nothing unusual about bullock's cozy relationship with law enforcement.  by the mid-1980s, the adl was swapping files with hundreds\n",
            "\u001b[44m\u001b[37mof\u001b[0m \"\u001b[44m\u001b[37mof\u001b[0mficial friends,\" the organization's euphemism for u.s. law enforcement and intelligence sources.  the adl's relationship with the fbi's counterterrorism\n",
            "\u001b[44m\u001b[37mof\u001b[0mfice was so close that adl's reports on arab american group's covert ties to middle east terrorists were \"must reading.\"  it's no accident that police found a 1986 classified fbi\n",
            "report entitled \"popular front for the liberation \u001b[44m\u001b[37mof\u001b[0m palestine (pflp)--new york area\" while searching the adl's san francisco \u001b[44m\u001b[37mof\u001b[0mfice.  in 1987, adl spooks investigated\n",
            "seven palestinians and a kenyan studying in california universities on student visas.  when the adl discovered they were disseminating pflp literature, it informed the fbi, which in turn took the case\n",
            "to the immigration and naturalization service. after the ins ordered the students deported as subversives, adl regional director david lehrer gloated in the _los angeles times_ about his\n",
            "\u001b[44m\u001b[37mof\u001b[0mfice's cooperation with law enforcement, although he's backpedaling now.  the \"los angeles 8\" deportation is still under appeal.                              *     *     *  while the\n",
            "adl worked quietly with america's top cops, it enjoyed similar ties with israel's spy agencies -- a charge that adl leaders vehemently deny.  but as early as july 7, 1961, adl director benjamin\n",
            "epstein wrote to b'nai b'rith executive secretary saul j\u001b[44m\u001b[37mof\u001b[0mtes, requesting $25,000 for his investigators.  \"our information,\" he boasted to j\u001b[44m\u001b[37mof\u001b[0mtes, \"in addition to being\n",
            "essential for our own operations, has been \u001b[44m\u001b[37mof\u001b[0m great value and service to both the united states department and the israeli government.  all data have been made available to both\n",
            "countries with full knowledge to each that we are the source.\"  in 1987, the adl came under fbi scrutiny in the wake \u001b[44m\u001b[37mof\u001b[0m the pollard spy scandal.  while assigned to the navy's anti-\n",
            "terrorist alert center, where he had access to the most closely guarded u.s. secrets, jonathan pollard stole thousands \u001b[44m\u001b[37mof\u001b[0m pages \u001b[44m\u001b[37mof\u001b[0m classified documents for israel, which,\n",
            "according to federal prosecutors, \"could fill a room the size \u001b[44m\u001b[37mof\u001b[0m a large closet...ten feet by six feet by six feet.\" pollard's handler was avi sella, an israeli air force colonel whose\n",
            "wife worked for the new york adl as a lawyer.  pollard later wrote to friends that a prominent adl leader was deeply involved in the israeli spy operation.  while there is no pro\u001b[44m\u001b[37mof\u001b[0m that\n",
            "anyone connected with the adl was involved with pollard, there is evidence that the adl freely passes information to israeli intelligence.  in march 1993, the fbi interrogated david gurvitz, an adl\n",
            "fact finder in los angeles until 1992 when he was fired by suall for illegally obtaining police information to use against a rival at the simon wiesenthal center. the fbi pointedly asked gurvitz if he\n",
            "had ever transmitted information to israel.  gurvitz admitted that in 1992 he had learned from a law enforcement contact that michael elias, allegedly a member \u001b[44m\u001b[37mof\u001b[0m a radical plo faction,\n",
            "was scheduled to travel from san francisco international airport en route to haifa.  gurvitz phoned the deputy israeli consul general in l.a. with the information.  \"later the same day,\" according to\n",
            "a 15-page fbi interview \u001b[44m\u001b[37mof\u001b[0m gurvitz obtained by the _voice_, \"gurvitz was called back by another man, who said he was from the israeli consulate, and who asked gurvitz to repeat the\n",
            "information about elias.  gurvitz did not get this man's name, but their conversation was in hebrew so gurvitz felt confident the man was actually an israeli consulate \u001b[44m\u001b[37mof\u001b[0mficial.\"  among\n",
            "the 12,000 names \u001b[44m\u001b[37mof\u001b[0m private citizens that police found in adl files in san francisco was mohammed jarad, a 36-year-old chicago resident who was arrested in israel on january 25, for\n",
            "allegedly distributing hundreds \u001b[44m\u001b[37mof\u001b[0m thousands \u001b[44m\u001b[37mof\u001b[0m dollars to hamas, the large islamic fundamentalist movement in the occupied territories.  the chicago adl\n",
            "\u001b[44m\u001b[37mof\u001b[0mfice runs at least three undercover informants who work with \"\u001b[44m\u001b[37mof\u001b[0mficial friends\" in local law enforcement, according to documents released by the san francisco d.a. and\n",
            "sources close to the adl.  given these facts, arab american groups surmise that the adl has passed information on jarad to israeli intelligence.  one technique used by the adl to monitor the large\n",
            "arab american community in the midwest was to scan the local arab press for funeral notices.  according to sources familiar with the practice, adl investigators in unmarked vans videotaped the\n",
            "palestinian funerals, which sometimes turned into plo rallies.  palestinians have been detained at ben-gurion airport simply on the basis \u001b[44m\u001b[37mof\u001b[0m having been filmed attending a funeral in\n",
            "chicago, according to suhail miari, the executive director \u001b[44m\u001b[37mof\u001b[0m the united holy land fund, whose cousin was an arab member \u001b[44m\u001b[37mof\u001b[0m israel's knesset.  shortly after jarad was\n",
            "arrested, the israeli government announced that hamas was being run from america with money and operational instructions relayed by courier or fax.  israel's charges were played up on the front page\n",
            "\u001b[44m\u001b[37mof\u001b[0m _the new york times_.  according to well- placed sources, yehudit barsky, an adl fact finder in new york, worked closely with israeli \u001b[44m\u001b[37mof\u001b[0mficials on this campaign\n",
            "\u001b[44m\u001b[37mof\u001b[0m vilification, introducing \"friendly\" reporters to \"\u001b[44m\u001b[37mof\u001b[0mficial friends\" in chicago law enforcement.  barsky, who is fluent in arabic, prepared an adl report about how hamas\n",
            "is funded in america.  she identified the dallas-based islamic association for palestine in north america as the front organization for hamas in the u.s.a.  \"its infrastructure functions as an\n",
            "interlocking network \u001b[44m\u001b[37mof\u001b[0m organizations, small businesses, and individual activists,\" says the february 1993 adl report, which outlines the organization's development, its activities on\n",
            "u.s. college campuses, and its \"metamorphosis\" during the gulf war. it also traces hamas fundraising through a plethora \u001b[44m\u001b[37mof\u001b[0m alleged front- groups from plainfield, indiana, to culver city,\n",
            "california.  it is doubtful that barsky could have compiled such sophisticated data without the help \u001b[44m\u001b[37mof\u001b[0m \"\u001b[44m\u001b[37mof\u001b[0mficial friends\" and adl spies.  barsky refused to comment.  but\n",
            "she used to talk to greg slabodkin as many as three times a week when he was an opposition researcher for aipac, whose spy operation was disclosed last summer in the _voice_. \"the level\n",
            "\u001b[44m\u001b[37mof\u001b[0m cooperation was very close,\" slabodkin said during a recent phone conservation from israel where he is in graduate school. \"if we felt our files were lacking, we contacted the adl.\"\n",
            "when sha'wan jabarin, a 30-year-old palestinian \u001b[44m\u001b[37mhuman\u001b[0m \u001b[44m\u001b[37mright\u001b[0ms worker in the occupied territories won a $25,000 reebok \u001b[44m\u001b[37mhuman\u001b[0m \u001b[44m\u001b[37mright\u001b[0ms award in 1990,\n",
            "slabodkin recalls that barsky faxed aipac the man's entire police file, which she had obtained from the israeli embassy.  jabarin had been arrested numerous times in israel, and once confessed to\n",
            "being a member \u001b[44m\u001b[37mof\u001b[0m the plo after having been severely tortured. jabarin, who received a short jail term, became an amnesty international prisoner \u001b[44m\u001b[37mof\u001b[0m conscience.\n",
            "\u001b[44m\u001b[37mof\u001b[0m course, to aipac and the adl, jabarin was a terrorist.  slabodkin, who was ordered to keep tabs on him when he was in the u.s. to receive his award, called a representative\n",
            "\u001b[44m\u001b[37mof\u001b[0m al haq, the palestinian \u001b[44m\u001b[37mhuman\u001b[0m \u001b[44m\u001b[37mright\u001b[0ms group that employed jabarin, to obtain his itinerary.  aipac even opened a file on musician jackson browne, who\n",
            "presented jabarin with the reebok award.  while the adl may be able to rationalize its close monitoring \u001b[44m\u001b[37mof\u001b[0m arabs, and even left-wing gay revolutionaries, it has a far harder time\n",
            "explaining its obsession with spying on anti-apartheid activists. david gurvitz told the fbi that when he started working as a fact finder for the adl in l.a. in march 1989, adl files already bulged\n",
            "with information about the israel-south african connection and anti- apartheid groups.  \"gurvitz confirmed that the adl did routinely collect information on persons engaged in anti-apartheid\n",
            "activities in the united states,\" says the fbi report.  while gurvitz said there were files in the l.a. adl \u001b[44m\u001b[37mof\u001b[0mfice dating to the 1930s, he estimated the oldest material on anti-apartheid\n",
            "activities dates back to the late 1970s, paralleling begin's rise to power in israel and a deepening \u001b[44m\u001b[37mof\u001b[0m ties between the jewish state and south africa. \"in about august, 1992,\" says the\n",
            "report \u001b[44m\u001b[37mof\u001b[0m the fbi's march 3, 1993, interview with gurvitz, \"an anti-apartheid demonstration was held at the south african consulate in los angeles.  participating in the demonstration\n",
            "were the los angeles student coalition and the socialist workers party.  gurvitz went to two demonstration planning sessions, and a subsequent demonstration.  he wrote a report for the adl on each\n",
            "\u001b[44m\u001b[37mof\u001b[0m the planning sessions and on the demonstration.  copies \u001b[44m\u001b[37mof\u001b[0m the reports were disseminated to bullock, among others, in care \u001b[44m\u001b[37mof\u001b[0m the san francisco adl\n",
            "\u001b[44m\u001b[37mof\u001b[0mfice.\"  in 1986 bullock learned that the consul general \u001b[44m\u001b[37mof\u001b[0m the south african consulate in los angeles would be speaking in las vegas at a meeting organized by willis\n",
            "carto, the head \u001b[44m\u001b[37mof\u001b[0m the anti-semitic liberty lobby. \"suspecting that the consul general did not know who willis carto is,\" says the fbi report, \"bullock suggested to gerard that they\n",
            "might want to warn the south africans.  gerard agreed and informed the consul general, who canceled his appearance.\"  a few months later, gerard phoned bullock and told him a south african\n",
            "intelligence \u001b[44m\u001b[37mof\u001b[0mficer wanted to meet them.  during a rendezvous in a hotel near fisherman's wharf, the south african said he was interested in acquiring information on american anti-\n",
            "apartheid activists.  the south african, who called himself mr. humphries, also asked for information about groups that were advocating divestments.  \"gerard, who was present throughout the meeting,\"\n",
            "says the fbi report, \"told humphries that he [gerard] had been employed by the cia....humphries \u001b[44m\u001b[37mof\u001b[0mfered to pay bullock $150.00 per month in exchange for information. bullock noted that\n",
            "much \u001b[44m\u001b[37mof\u001b[0m the information humphries said he wanted was already in the possession \u001b[44m\u001b[37mof\u001b[0m bullock and the adl.\"  between 1987 and 1991, bullock sold information to south african\n",
            "intelligence, receiving steady raises, which he split evenly with gerard.  \"bullock said it was his impression, though gerard never explicitly told him so, (and bullock never asked) that gerard may\n",
            "have been telling the cia about his and bullock's contacts with the south africans,\" says the fbi report.  \"gerard had said he knew the cia 'resident agent' in san francisco....once, after gerard\n",
            "dropped bullock \u001b[44m\u001b[37mof\u001b[0mf at bullock's residence following a meeting with louie [who replaced humphries as their handler], gerard said he was going to go to the san francisco cia\n",
            "\u001b[44m\u001b[37mof\u001b[0mfice.\"  al the while, gerard may have been \"tasking\" bullock for the cia. \"bullock recalled that once, after he had met gerard, bullock went to chicago, illinois to conduct an\n",
            "investigation on behalf \u001b[44m\u001b[37mof\u001b[0m the adl,\" says the fbi report.  \"the target \u001b[44m\u001b[37mof\u001b[0m the investigation was a group called the palestine \u001b[44m\u001b[37mhuman\u001b[0m \u001b[44m\u001b[37mright\u001b[0ms\n",
            "campaign.  bullock learned that a woman [name deleted] was transporting money between the plo or the pflp, and the united states.  bullock told this to gerard.  gerard later told bullock that gerard's\n",
            "'guy at the cia' would like to know more.  gerard asked bullock if bullock would go back to chicago to gather more information on the palestine \u001b[44m\u001b[37mhuman\u001b[0m \u001b[44m\u001b[37mright\u001b[0ms campaign.\n",
            "bullock, however, never did go back.\"  gerard also seems to have had a close relationship with mossad, which may have started in 1991 when he went on an adl junket to israel.  the adl frequently\n",
            "sponsors trips for american law enforcement \u001b[44m\u001b[37mof\u001b[0mficials to israel, where they are wined and dined and meet their counterparts in various intelligence agencies.  according to an affidavit\n",
            "by san francisco police inspector roth, the \"all-expense paid trip [to israel] was more or less a thank-you gift and a liaison gesture by the adl to continue the close relationships it has with\n",
            "specific law enforcement \u001b[44m\u001b[37mof\u001b[0mficers from the united states.\"  gerard may have liked what he saw in israel.  a short time after travelling there, he went to addis ababa where he helped with\n",
            "mossad's rescue \u001b[44m\u001b[37mof\u001b[0m ethiopian jews.  as gerard's relationship with south africa deepened, he talked more openly about his exploits in the cia.  \"bullock recalled gerard mentioning that he\n",
            "had been in algeria on cia business, and that gerard discussed the plo and 'safehouses,'\" says the fbi report, \"to this louie once responded that israeli intelligence had determined that the plo and\n",
            "the african national congress were cooperating. gerard also spoke \u001b[44m\u001b[37mof\u001b[0m having travelled with the cia to afghanistan.... louie also [told gerard and bullock] about his adventures inside\n",
            "south africa as an intelligence \u001b[44m\u001b[37mof\u001b[0mficer.  both gerard and louie traded 'war stories' and regaled each other and bullock with tales \u001b[44m\u001b[37mof\u001b[0m 'narrow scrapes.'\"  although there is\n",
            "still much mystery about what triggered law enforcement's investigation \u001b[44m\u001b[37mof\u001b[0m the adl, it was probably the theft \u001b[44m\u001b[37mof\u001b[0m a classified fbi report on the nation \u001b[44m\u001b[37mof\u001b[0m\n",
            "islam from the fbi's san francisco \u001b[44m\u001b[37mof\u001b[0mfice.  police armed with search warrants recovered the report in the adl san francisco \u001b[44m\u001b[37mof\u001b[0mfice.  gurvitz says he had sent a copy\n",
            "\u001b[44m\u001b[37mof\u001b[0m it to mira boland, the director \u001b[44m\u001b[37mof\u001b[0m the adl's fact finding division in washington, d.c.  boland was preparing an op-ed piece for _the washington times_, in which she\n",
            "argued that the nation \u001b[44m\u001b[37mof\u001b[0m islam should not receive federal funds for the reconstruction \u001b[44m\u001b[37mof\u001b[0m l.a. because the group is anti-semitic and violence-prone.  (boland, who had\n",
            "arranged the adl police junket to israel attended by gerard, testified in a 1990 criminal trial in roanoke, virginia, that she had worked for the cia for 14 months and later was a subcontractor for\n",
            "the defense department before joining the adl.  during the trial, boland admitted to sharing information with a cia \u001b[44m\u001b[37mof\u001b[0mficial at an invitation- only adl conference.)  after he was\n",
            "questioned by the fbi last fall, gerard fled to the philippines, which has no extradition treaty with america.  gerard is believed to have supplied information from police computers not only to the\n",
            "adl, but to israel and south africa as well.  the _san francisco examiner_ reported that gerard may be charged with violating federal espionage laws.  although bullock worked for the adl for 30 years,\n",
            "and irwin suall praised him in a july 1992 memo as \"our number one investigator,\" the adl now argues that he was a rogue agent.  in its own defense, the adl also asserts that its fact finders operate\n",
            "no differently than journalists.  after all, ask adl \u001b[44m\u001b[37mof\u001b[0mficials, don't journalists keep files?  but the difference between the practice \u001b[44m\u001b[37mof\u001b[0m journalism and the adl's method\n",
            "\u001b[44m\u001b[37mof\u001b[0m gathering information couldn't be more striking. journalists place information in the public domain where they are held accountable for falsehoods, distortions, and libel.  and for\n",
            "the most part, journalists don't share their investigative files with foreign and domestic police agencies.  the adl has no such inhibition. because many \u001b[44m\u001b[37mof\u001b[0m its files are not open to\n",
            "public scrutiny, false information collected by ideologically biased researchers cannot be corrected.  once a proud \u001b[44m\u001b[37mhuman\u001b[0m \u001b[44m\u001b[37mright\u001b[0ms group, the adl has become the jewish\n",
            "thought police.  \"the adl says it's a \u001b[44m\u001b[37mhuman\u001b[0m \u001b[44m\u001b[37mright\u001b[0ms group not just for jews but for everyone,\" says chip berlet, a highly respected researcher at the massachusetts-based\n",
            "political research associates, which monitors \u001b[44m\u001b[37mright\u001b[0m-wing extremist groups.  \"that's fine but it can't do that and spy on palestinians.  it's blatantly unethical and frankly immoral.\"\n",
            "\"my argument to people is that the adl wears four hats.  each \u001b[44m\u001b[37mof\u001b[0m the hats independently is appropriate.  it is a broad-based \u001b[44m\u001b[37mhuman\u001b[0m \u001b[44m\u001b[37mright\u001b[0ms group that looks at\n",
            "the broad issues \u001b[44m\u001b[37mof\u001b[0m prejudice and discrimination. it is a group that defends jews against defamation.  entirely noble. nothing wrong with that hat.  it is a group, whose leaders, at\n",
            "least, consistently defend the actions \u001b[44m\u001b[37mof\u001b[0m israel against its critics, which again is entirely appropriate.  and it is a group that maintains an information-sharing arrangement with law\n",
            "enforcement.  again, there is nothing wrong for a group to do that.\"  \"but you can't do all four.  it is impossible to do all four and not violate the bounds \u001b[44m\u001b[37mof\u001b[0m ethics.  there's a built-\n",
            "in conflict \u001b[44m\u001b[37mof\u001b[0m interest if you wear all four hats.\"  adl national director abraham foxman apparently sees no such conflict. in a september 1, 1992, letter to the _voice_, foxman\n",
            "complained: \"adl has a proud 80-year record \u001b[44m\u001b[37mof\u001b[0m fighting bigotry and promoting civil \u001b[44m\u001b[37mright\u001b[0ms and constitutional freedoms.  any imputation \u001b[44m\u001b[37mof\u001b[0m an effort or motive\n",
            "on our part to smear or stifle the free speech \u001b[44m\u001b[37mof\u001b[0m anyone is false and baseless\"  \"throughout his pieces [on aipac's spying], friedman describes the dissemination \u001b[44m\u001b[37mof\u001b[0m\n",
            "information as if it were slander, and the existence \u001b[44m\u001b[37mof\u001b[0m files as a token \u001b[44m\u001b[37mof\u001b[0m mccarthyite inclination.  the depiction is misleading in several ways.  virtually every\n",
            "journalist, academic, politician and organization keeps files on subjects they deem relevant; tracing the logic \u001b[44m\u001b[37mof\u001b[0m friedman's reckless charges, the library \u001b[44m\u001b[37mof\u001b[0m congress is\n",
            "tantamount to the kgb.  moreover, disseminating the public record \u001b[44m\u001b[37mof\u001b[0m a public figure is neither defamation nor mccarthyism.\"  but many believe the adl is increasingly in the defamation\n",
            "business. ask jesse jackson, james abourezk, or the leaders \u001b[44m\u001b[37mof\u001b[0m the new jewish agenda -- all past targets \u001b[44m\u001b[37mof\u001b[0m adl smears.  (at the same time, the adl exonerated the fascist\n",
            "world anti-communist league, which assisted ronald reagan's covert war against nicaragua, a policy endorsed by adl leaders.)  in the early 1980s, researchers russ bellant and berlet asked to meet fact\n",
            "finding head irwin suall, to discuss their work on anti-semite lyndon larouche.  \"our view then \u001b[44m\u001b[37mof\u001b[0m irwin suall was that he was this really terrific investigator,\" says berlet.  \"so we\n",
            "introduce ourselves, say what we are up to and suall leans back in his chair and basically runs down a dossier on each \u001b[44m\u001b[37mof\u001b[0m us: about what our political activities are, who we work with,\n",
            "what organizations we belong to. obviously, he was just trying to blow us away and he succeeds admirably.  we were just sitting there with our mouths open feeling very uncomfortable.\"  \"and then he\n",
            "leans forward and says, 'the \u001b[44m\u001b[37mright\u001b[0m-wing isn't the problem.  the left-wing is the problem.  the soviet union is the biggest problem in the world for jews.  it's the american left that is\n",
            "the biggest threat to american jews.  you're on the wrong track. you're part \u001b[44m\u001b[37mof\u001b[0m the problem.'  we were stunned.  i was virtually in tears.  this is not how i perceived myself.  we\n",
            "basically stumbled out \u001b[44m\u001b[37mof\u001b[0m there in a daze.\"  ----------------------------------------------------------------------                 letters (response to friedman's article)           the\n",
            "village voice, may 18, 1993, vol. xxxviii no. 20  a league \u001b[44m\u001b[37mof\u001b[0m his own  robert i. friedman's assault on the anti-defamation league [the anti- defamation league is spying on you.\" may 11]\n",
            "demonstrates that he has an axe to grind and his own prejudiced and biased agenda to promote. it also demonstrates that concern for accurate reporting is far down on his list.  the story is replete\n",
            "with inaccuracies, innuendos, and out\u001b[44m\u001b[37mright\u001b[0m falsehoods, and conveys a picture \u001b[44m\u001b[37mof\u001b[0m adl so divorced from reality as to be farcical.  friedman is even wrong on such basic,\n",
            "easily determined facts as where adl was founded (chicago, not new york) and the building in which adl's san francisco \u001b[44m\u001b[37mof\u001b[0mfice is located (not the jewish community federation building\n",
            "pictured).  adl has done the work \u001b[44m\u001b[37mof\u001b[0m fighting haters for 80 years, without \"spying\" on organizations or individuals and with pr\u001b[44m\u001b[37mof\u001b[0mound respect for the law.  our mission is\n",
            "to monitor and expose those who are anti- jewish, racist, anti-democratic, and violence-prone, and we monitor them primarily by reading publications and attending public meetings. through the years,\n",
            "we have published scores \u001b[44m\u001b[37mof\u001b[0m reports on anti- semitism emanating from both the left and the \u001b[44m\u001b[37mright\u001b[0m.  in fact, although friedman's bias leads him to assume the contrary, adl's\n",
            "primary concern is still the far \u001b[44m\u001b[37mright\u001b[0m.  because extremist organizations are highly secretive, sometimes adl can learn \u001b[44m\u001b[37mof\u001b[0m their activities only by using undercover sources.\n",
            "friedman's hyperbole notwithstanding, these sources function in a manner directly analogous to investigative journalists.  some have performed great service to the american people -- for example, by\n",
            "uncovering the existence \u001b[44m\u001b[37mof\u001b[0m \u001b[44m\u001b[37mright\u001b[0m-wing extremist paramilitary training camps -- with no recognition and at considerable personal risk.  the information adl obtains is\n",
            "placed in the public domain, and through the years adl has established a reputation for accurate reporting.  friedman's article, by contrast, contains so much misinformation that it would take an\n",
            "article equally as long to set the record straight. a few examples:  he states that an \"adl leader was deeply involved in the [jonathan pollard] israeli spy operation,\" and that pollard's handler's\n",
            "wife \"worked for the new york adl as a lawyer.\"  not true. friedman also states:  \"adl investigators in unmarked vans videotaped palestinian funerals.\"  not true.  elsewhere, he asserts that adl was\n",
            "obsessed \"with spying on anti-apartheid activists.\"  again, not true. we could go on and on -- and, \u001b[44m\u001b[37mof\u001b[0m course, friedman does not reveal *his* sources.  the distortion games friedman\n",
            "plays when he mentions numbers further reveal his lack \u001b[44m\u001b[37mof\u001b[0m objectivity.  when it comes to how much adl paid roy bullock a week -- as an independent contractor, not an employee (an\n",
            "important distinction friedman also fails to make) -- he includes the zeros ($75.00, $150.00), inviting the reader to see a large number.  by contrast, when he observes that adl paid bullock \"nearly\n",
            "$170,000\" between 1985 and 1993, he chooses not to point out that amounts to little more than $20,000 a year -- hardly an excessive sum.  what is accurate about friedman's story is chip berlet's\n",
            "description \u001b[44m\u001b[37mof\u001b[0m adl's four hats.  yes, adl looks at broad issues \u001b[44m\u001b[37mof\u001b[0m prejudice and discrimination.  yes, adl defends israel against critics.  and yes, adl maintains an\n",
            "information-sharing relationship with law enforcement regarding extremist activities and hate crimes.  we see no conflict in these four activities, and we believe most _voice_ readers won't either.\n",
            "abraham foxman national director anti-defamation league manhattan  ----------------------------------------------------------------------  robert i. friedman replies:  for the adl to compare itself to\n",
            "investigative journalists is absurd. journalists don't spy on arabs and anti-apartheid activists and then freely pass their files to south african and israeli intelligence. but according to police the\n",
            "confessions \u001b[44m\u001b[37mof\u001b[0m two paid adl investigators, buttressed by 700 pages \u001b[44m\u001b[37mof\u001b[0m court documents and interviews, the adl does.  indeed, the adl spies on groups that are neither anti-\n",
            "semitic nor violent.  police confiscated adl files on hundreds \u001b[44m\u001b[37mof\u001b[0m mainstream groups ranging from act up to peace now.  respected intellectuals and middle east scholars who disagree with\n",
            "the adl's political views have ended up on adl blacklists, their reputations smeared.  \"private organizations have no business paying operatives inside police departments or having spies,\" says an\n",
            "april 17 editorial in the _st. louis post-dispatch_, condemning adl spying.  on april 10, police armed with search warrants raided adl \u001b[44m\u001b[37mof\u001b[0mfices in san francisco and l.a. after concluding\n",
            "that \"adl employees were apparently less than truthful\" in voluntarily turning over documents during an earlier search, according to san francisco police inspector ron roth's sworn affidavit.  roth\n",
            "also asserts that bullock was a \"paid employee for the adl.\"  if so, by failing to pay taxes on $170,000 \u001b[44m\u001b[37mof\u001b[0m income paid to bullock, the adl could face a total \u001b[44m\u001b[37mof\u001b[0m 48 felony\n",
            "counts, according to court papers.  the adl may also face felony charges for illegally obtaining confidential information from police computers.  as for errors:  the adl was founded in chicago, and\n",
            "moved to new york in 1947.  but it was an original tenant in the san francisco building shown in the _voice_ photo, moving out a few months ago.  i never wrote that an \"adl leader was deeply involved\n",
            "in the [pollard] israeli spy operation.\"  i reported that pollard himself made the charge.  and in court papers, pollard's own lawyer said that the wife \u001b[44m\u001b[37mof\u001b[0m pollard's handler worked for\n",
            "the adl.  if i have a bias, it is on the side \u001b[44m\u001b[37mof\u001b[0m the first and fourth amendments.\n"
          ],
          "name": "stdout"
        }
      ]
    },
    {
      "cell_type": "code",
      "metadata": {
        "id": "gPYgxX4ttq5P"
      },
      "source": [
        ""
      ],
      "execution_count": 34,
      "outputs": []
    }
  ]
}