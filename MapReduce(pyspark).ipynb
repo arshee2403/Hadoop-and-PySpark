{
  "nbformat": 4,
  "nbformat_minor": 0,
  "metadata": {
    "colab": {
      "name": "pyspark(with all the preprocessing steps).ipynb",
      "provenance": [],
      "collapsed_sections": []
    },
    "kernelspec": {
      "name": "python3",
      "display_name": "Python 3"
    }
  },
  "cells": [
    {
      "cell_type": "code",
      "metadata": {
        "id": "Aaj0Leo0xZk_",
        "outputId": "74850114-8a12-459b-8888-3970e241af40",
        "colab": {
          "base_uri": "https://localhost:8080/",
          "height": 420
        }
      },
      "source": [
        "#get Java\n",
        "!apt-get install openjdk-8-jdk-headless -qq "
      ],
      "execution_count": null,
      "outputs": [
        {
          "output_type": "stream",
          "text": [
            "Selecting previously unselected package openjdk-8-jre-headless:amd64.\n",
            "(Reading database ... 144611 files and directories currently installed.)\n",
            "Preparing to unpack .../openjdk-8-jre-headless_8u265-b01-0ubuntu2~18.04_amd64.deb ...\n",
            "Unpacking openjdk-8-jre-headless:amd64 (8u265-b01-0ubuntu2~18.04) ...\n",
            "Selecting previously unselected package openjdk-8-jdk-headless:amd64.\n",
            "Preparing to unpack .../openjdk-8-jdk-headless_8u265-b01-0ubuntu2~18.04_amd64.deb ...\n",
            "Unpacking openjdk-8-jdk-headless:amd64 (8u265-b01-0ubuntu2~18.04) ...\n",
            "Setting up openjdk-8-jre-headless:amd64 (8u265-b01-0ubuntu2~18.04) ...\n",
            "update-alternatives: using /usr/lib/jvm/java-8-openjdk-amd64/jre/bin/orbd to provide /usr/bin/orbd (orbd) in auto mode\n",
            "update-alternatives: using /usr/lib/jvm/java-8-openjdk-amd64/jre/bin/servertool to provide /usr/bin/servertool (servertool) in auto mode\n",
            "update-alternatives: using /usr/lib/jvm/java-8-openjdk-amd64/jre/bin/tnameserv to provide /usr/bin/tnameserv (tnameserv) in auto mode\n",
            "Setting up openjdk-8-jdk-headless:amd64 (8u265-b01-0ubuntu2~18.04) ...\n",
            "update-alternatives: using /usr/lib/jvm/java-8-openjdk-amd64/bin/idlj to provide /usr/bin/idlj (idlj) in auto mode\n",
            "update-alternatives: using /usr/lib/jvm/java-8-openjdk-amd64/bin/wsimport to provide /usr/bin/wsimport (wsimport) in auto mode\n",
            "update-alternatives: using /usr/lib/jvm/java-8-openjdk-amd64/bin/jsadebugd to provide /usr/bin/jsadebugd (jsadebugd) in auto mode\n",
            "update-alternatives: using /usr/lib/jvm/java-8-openjdk-amd64/bin/native2ascii to provide /usr/bin/native2ascii (native2ascii) in auto mode\n",
            "update-alternatives: using /usr/lib/jvm/java-8-openjdk-amd64/bin/javah to provide /usr/bin/javah (javah) in auto mode\n",
            "update-alternatives: using /usr/lib/jvm/java-8-openjdk-amd64/bin/clhsdb to provide /usr/bin/clhsdb (clhsdb) in auto mode\n",
            "update-alternatives: using /usr/lib/jvm/java-8-openjdk-amd64/bin/jhat to provide /usr/bin/jhat (jhat) in auto mode\n",
            "update-alternatives: using /usr/lib/jvm/java-8-openjdk-amd64/bin/extcheck to provide /usr/bin/extcheck (extcheck) in auto mode\n",
            "update-alternatives: using /usr/lib/jvm/java-8-openjdk-amd64/bin/hsdb to provide /usr/bin/hsdb (hsdb) in auto mode\n",
            "update-alternatives: using /usr/lib/jvm/java-8-openjdk-amd64/bin/schemagen to provide /usr/bin/schemagen (schemagen) in auto mode\n",
            "update-alternatives: using /usr/lib/jvm/java-8-openjdk-amd64/bin/xjc to provide /usr/bin/xjc (xjc) in auto mode\n",
            "update-alternatives: using /usr/lib/jvm/java-8-openjdk-amd64/bin/wsgen to provide /usr/bin/wsgen (wsgen) in auto mode\n"
          ],
          "name": "stdout"
        }
      ]
    },
    {
      "cell_type": "code",
      "metadata": {
        "id": "hXxVOzTjxsFr",
        "outputId": "c29499d5-d971-4b47-ea1a-3a332b0d90d8",
        "colab": {
          "base_uri": "https://localhost:8080/",
          "height": 202
        }
      },
      "source": [
        "#get Spark\n",
        "!wget https://mirrors.estointernet.in/apache/spark/spark-3.0.1/spark-3.0.1-bin-hadoop2.7.tgz "
      ],
      "execution_count": null,
      "outputs": [
        {
          "output_type": "stream",
          "text": [
            "--2020-10-17 08:57:31--  https://mirrors.estointernet.in/apache/spark/spark-3.0.1/spark-3.0.1-bin-hadoop2.7.tgz\n",
            "Resolving mirrors.estointernet.in (mirrors.estointernet.in)... 43.255.166.254, 2403:8940:3:1::f\n",
            "Connecting to mirrors.estointernet.in (mirrors.estointernet.in)|43.255.166.254|:443... connected.\n",
            "HTTP request sent, awaiting response... 200 OK\n",
            "Length: 219929956 (210M) [application/octet-stream]\n",
            "Saving to: ‘spark-3.0.1-bin-hadoop2.7.tgz’\n",
            "\n",
            "spark-3.0.1-bin-had 100%[===================>] 209.74M  6.00MB/s    in 55s     \n",
            "\n",
            "2020-10-17 08:58:27 (3.84 MB/s) - ‘spark-3.0.1-bin-hadoop2.7.tgz’ saved [219929956/219929956]\n",
            "\n"
          ],
          "name": "stdout"
        }
      ]
    },
    {
      "cell_type": "code",
      "metadata": {
        "id": "ZbD6zYtsxtzQ"
      },
      "source": [
        "#extract Spark\n",
        "!tar xf spark-3.0.1-bin-hadoop2.7.tgz"
      ],
      "execution_count": null,
      "outputs": []
    },
    {
      "cell_type": "code",
      "metadata": {
        "id": "J80eQJjrxvLG"
      },
      "source": [
        "#get FindSpark for notebook\n",
        "!pip install -q findspark"
      ],
      "execution_count": null,
      "outputs": []
    },
    {
      "cell_type": "code",
      "metadata": {
        "id": "UqAYZB1gxw6B"
      },
      "source": [
        "#set env for Java and Spark\n",
        "import os\n",
        "os.environ[\"JAVA_HOME\"] = \"/usr/lib/jvm/java-8-openjdk-amd64\"\n",
        "os.environ[\"SPARK_HOME\"] = \"/content/spark-3.0.1-bin-hadoop2.7\""
      ],
      "execution_count": null,
      "outputs": []
    },
    {
      "cell_type": "code",
      "metadata": {
        "id": "ubJE_KVBxyp8"
      },
      "source": [
        "#run findspark\n",
        "#initialize pyspark\n",
        "import findspark\n",
        "findspark.init()"
      ],
      "execution_count": null,
      "outputs": []
    },
    {
      "cell_type": "code",
      "metadata": {
        "id": "raH-yEdCx0AH"
      },
      "source": [
        "# import pyspark\n",
        "from pyspark import SparkContext, SparkConf\n",
        "from pyspark.sql import SparkSession"
      ],
      "execution_count": null,
      "outputs": []
    },
    {
      "cell_type": "code",
      "metadata": {
        "id": "ZkeF_WRfx1Vw"
      },
      "source": [
        "# create the session\n",
        "conf = SparkConf()\n",
        "\n",
        "# create the context\n",
        "sc = SparkContext(conf=conf)\n",
        "spark = SparkSession.builder.getOrCreate()"
      ],
      "execution_count": null,
      "outputs": []
    },
    {
      "cell_type": "code",
      "metadata": {
        "id": "IcaAWqAXx20q",
        "outputId": "8ea61838-627c-4cf3-99f5-cfb3c8107616",
        "colab": {
          "base_uri": "https://localhost:8080/",
          "height": 202
        }
      },
      "source": [
        "#get 20newbytes\n",
        "!wget http://qwone.com/~jason/20Newsgroups/20news-18828.tar.gz"
      ],
      "execution_count": null,
      "outputs": [
        {
          "output_type": "stream",
          "text": [
            "--2020-10-17 08:58:40--  http://qwone.com/~jason/20Newsgroups/20news-18828.tar.gz\n",
            "Resolving qwone.com (qwone.com)... 108.20.215.207\n",
            "Connecting to qwone.com (qwone.com)|108.20.215.207|:80... connected.\n",
            "HTTP request sent, awaiting response... 200 OK\n",
            "Length: 14666916 (14M) [application/x-gzip]\n",
            "Saving to: ‘20news-18828.tar.gz’\n",
            "\n",
            "20news-18828.tar.gz 100%[===================>]  13.99M  5.58MB/s    in 2.5s    \n",
            "\n",
            "2020-10-17 08:58:43 (5.58 MB/s) - ‘20news-18828.tar.gz’ saved [14666916/14666916]\n",
            "\n"
          ],
          "name": "stdout"
        }
      ]
    },
    {
      "cell_type": "code",
      "metadata": {
        "id": "DgvnVHRIx4tp"
      },
      "source": [
        "#extract 20newsbytes\n",
        "!tar xzf 20news-18828.tar.gz"
      ],
      "execution_count": null,
      "outputs": []
    },
    {
      "cell_type": "code",
      "metadata": {
        "id": "jemp8lfwx6ZQ"
      },
      "source": [
        "#consolidate\n",
        "!cat 20news-18828/*/* > DataFile.txt"
      ],
      "execution_count": null,
      "outputs": []
    },
    {
      "cell_type": "code",
      "metadata": {
        "id": "T0JvAY4Dx7mv"
      },
      "source": [
        "#create an RDD\n",
        "data_rdd = sc.textFile('DataFile.txt')"
      ],
      "execution_count": null,
      "outputs": []
    },
    {
      "cell_type": "code",
      "metadata": {
        "id": "brfi3e-EzAQJ"
      },
      "source": [
        "import fileinput,re\n",
        "from contextlib import redirect_stdout\n",
        "import os\n",
        "import nltk\n",
        "from nltk.corpus import stopwords\n",
        "with redirect_stdout(open(os.devnull, \"w\")): #suppress the output\n",
        "    nltk.download('stopwords')\n",
        "sw = stopwords.words('english') \n",
        "from nltk.stem import SnowballStemmer\n",
        "snowball = SnowballStemmer('english')"
      ],
      "execution_count": null,
      "outputs": []
    },
    {
      "cell_type": "code",
      "metadata": {
        "id": "vnxws2w7zMTb"
      },
      "source": [
        "def remove_stopwords(text):\n",
        "  filtered_words = [w for w in text.split()  if ((not w in sw) and (len(w)>1))]\n",
        "  return \" \".join(filtered_words)"
      ],
      "execution_count": null,
      "outputs": []
    },
    {
      "cell_type": "code",
      "metadata": {
        "id": "yhkIlL4O3Kii"
      },
      "source": [
        "stem = lambda x:snowball.stem(x)"
      ],
      "execution_count": null,
      "outputs": []
    },
    {
      "cell_type": "code",
      "metadata": {
        "id": "zFDjg23w2ERz",
        "outputId": "5a78917f-a7a2-4e82-a31e-75f7aed23b7b",
        "colab": {
          "base_uri": "https://localhost:8080/",
          "height": 437
        }
      },
      "source": [
        "data_rdd.take(25)"
      ],
      "execution_count": null,
      "outputs": [
        {
          "output_type": "execute_result",
          "data": {
            "text/plain": [
              "['From: mathew <mathew@mantis.co.uk>',\n",
              " 'Subject: Alt.Atheism FAQ: Atheist Resources',\n",
              " '',\n",
              " 'Archive-name: atheism/resources',\n",
              " 'Alt-atheism-archive-name: resources',\n",
              " 'Last-modified: 11 December 1992',\n",
              " 'Version: 1.0',\n",
              " '',\n",
              " '                              Atheist Resources',\n",
              " '',\n",
              " '                      Addresses of Atheist Organizations',\n",
              " '',\n",
              " '                                     USA',\n",
              " '',\n",
              " 'FREEDOM FROM RELIGION FOUNDATION',\n",
              " '',\n",
              " 'Darwin fish bumper stickers and assorted other atheist paraphernalia are',\n",
              " 'available from the Freedom From Religion Foundation in the US.',\n",
              " '',\n",
              " 'Write to:  FFRF, P.O. Box 750, Madison, WI 53701.',\n",
              " 'Telephone: (608) 256-8900',\n",
              " '',\n",
              " 'EVOLUTION DESIGNS',\n",
              " '',\n",
              " 'Evolution Designs sell the \"Darwin fish\".  It\\'s a fish symbol, like the ones']"
            ]
          },
          "metadata": {
            "tags": []
          },
          "execution_count": 57
        }
      ]
    },
    {
      "cell_type": "code",
      "metadata": {
        "id": "F_NUkiu-x9CF",
        "outputId": "ec23cffb-e24e-481a-8501-1f736f51014f",
        "colab": {
          "base_uri": "https://localhost:8080/",
          "height": 269
        }
      },
      "source": [
        "data_rdd.map(lambda x:x.lower()).map(lambda x:x.strip()).map(lambda x :x.replace(\"\\n\", \" \")).map(lambda x: re.sub(\"[^a-z]\", \" \",x)).map(remove_stopwords).map(stem).flatMap(lambda word:word.split(\" \")).filter(lambda x : x!='').map(lambda word:(word,1)).reduceByKey(lambda x, y: (x+y)).take(15)"
      ],
      "execution_count": null,
      "outputs": [
        {
          "output_type": "execute_result",
          "data": {
            "text/plain": [
              "[('mathew', 252),\n",
              " ('co', 1253),\n",
              " ('subject', 20434),\n",
              " ('atheism', 407),\n",
              " ('atheist', 581),\n",
              " ('resourc', 189),\n",
              " ('archive', 408),\n",
              " ('name', 1666),\n",
              " ('last', 3022),\n",
              " ('modified', 167),\n",
              " ('decemb', 61),\n",
              " ('version', 1310),\n",
              " ('addresses', 153),\n",
              " ('usa', 830),\n",
              " ('religion', 1245)]"
            ]
          },
          "metadata": {
            "tags": []
          },
          "execution_count": 55
        }
      ]
    },
    {
      "cell_type": "code",
      "metadata": {
        "id": "IANSG4222d9d"
      },
      "source": [
        "import string\n",
        "def preprocess(x):\n",
        "  x = x.lower()\n",
        "  x = x.strip()\n",
        "  x = x.replace(\"\\n\", \" \")\n",
        "  x = re.sub(\"[^a-z]\", \" \",x)\n",
        "  x = remove_stopwords(x)\n",
        "  x = ' '.join(list(map(stem,x.split())))\n",
        "  return x"
      ],
      "execution_count": null,
      "outputs": []
    },
    {
      "cell_type": "code",
      "metadata": {
        "id": "dhudWUFB5cep",
        "outputId": "f1f050b5-9c15-4658-8cc7-d018ad3f38e3",
        "colab": {
          "base_uri": "https://localhost:8080/",
          "height": 50
        }
      },
      "source": [
        "import time\n",
        "start =time.time()\n",
        "print(data_rdd.map(preprocess).flatMap(lambda word:word.split(\" \")).filter(lambda x : x!='').map(lambda word:(word,1)).reduceByKey(lambda x, y: (x+y)).take(10))\n",
        "print(time.time()-start)"
      ],
      "execution_count": null,
      "outputs": [
        {
          "output_type": "stream",
          "text": [
            "[('mathew', 258), ('manti', 135), ('co', 1226), ('subject', 20657), ('atheism', 537), ('atheist', 982), ('resourc', 765), ('archiv', 764), ('name', 2940), ('last', 3132)]\n",
            "56.14174199104309\n"
          ],
          "name": "stdout"
        }
      ]
    },
    {
      "cell_type": "code",
      "metadata": {
        "id": "dKxRvwwV9Lhb",
        "outputId": "58b45ad3-a0cd-49b4-9c0f-0aaaf32d4f52",
        "colab": {
          "base_uri": "https://localhost:8080/",
          "height": 70
        }
      },
      "source": [
        "import time\n",
        "start =time.time()\n",
        "print(data_rdd.map(lambda x:x.lower()).map(lambda x:x.strip()).map(lambda x :x.replace(\"\\n\", \" \")).map(lambda x: re.sub(\"[^a-z]\", \" \",x)).flatMap(lambda word:word.split(\" \")).map(remove_stopwords).map(stem).filter(lambda x : x!='').map(lambda word:(word,1)).reduceByKey(lambda x, y: (x+y)).take(15))\n",
        "print(time.time()-start)"
      ],
      "execution_count": null,
      "outputs": [
        {
          "output_type": "stream",
          "text": [
            "[('mathew', 258), ('manti', 135), ('co', 1226), ('subject', 20657), ('atheism', 537), ('atheist', 982), ('resourc', 765), ('archiv', 764), ('name', 2940), ('last', 3132), ('decemb', 193), ('version', 2076), ('usa', 831), ('religion', 1411), ('darwin', 44)]\n",
            "67.58837246894836\n"
          ],
          "name": "stdout"
        }
      ]
    },
    {
      "cell_type": "code",
      "metadata": {
        "id": "4GtSjlwW5igK",
        "outputId": "d1b8bf36-c6b5-4ec3-c2f3-6fddc27bde4b",
        "colab": {
          "base_uri": "https://localhost:8080/",
          "height": 269
        }
      },
      "source": [
        "data_rdd.map(lambda x:x.lower()).map(lambda x:x.strip()).map(lambda x :x.replace(\"\\n\", \" \")).map(lambda x: re.sub(\"[^a-z]\", \" \",x)).flatMap(lambda word:word.split(\" \")).map(remove_stopwords).map(stem).filter(lambda x : x!='').map(lambda word:(word,1)).reduceByKey(lambda x, y: (x+y)).take(15)"
      ],
      "execution_count": null,
      "outputs": [
        {
          "output_type": "execute_result",
          "data": {
            "text/plain": [
              "[('mathew', 258),\n",
              " ('manti', 135),\n",
              " ('co', 1226),\n",
              " ('subject', 20657),\n",
              " ('atheism', 537),\n",
              " ('atheist', 982),\n",
              " ('resourc', 765),\n",
              " ('archiv', 764),\n",
              " ('name', 2940),\n",
              " ('last', 3132),\n",
              " ('decemb', 193),\n",
              " ('version', 2076),\n",
              " ('usa', 831),\n",
              " ('religion', 1411),\n",
              " ('darwin', 44)]"
            ]
          },
          "metadata": {
            "tags": []
          },
          "execution_count": 72
        }
      ]
    },
    {
      "cell_type": "code",
      "metadata": {
        "id": "9rsnnanW6T3y",
        "outputId": "e289c143-048f-4266-b01f-1262abfc8208",
        "colab": {
          "base_uri": "https://localhost:8080/",
          "height": 34
        }
      },
      "source": [
        "data_rdd"
      ],
      "execution_count": null,
      "outputs": [
        {
          "output_type": "execute_result",
          "data": {
            "text/plain": [
              "DataFile.txt MapPartitionsRDD[1] at textFile at NativeMethodAccessorImpl.java:0"
            ]
          },
          "metadata": {
            "tags": []
          },
          "execution_count": 77
        }
      ]
    },
    {
      "cell_type": "code",
      "metadata": {
        "id": "k5xDQlGZ9fAJ"
      },
      "source": [
        ""
      ],
      "execution_count": null,
      "outputs": []
    }
  ]
}